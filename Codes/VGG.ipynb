{
  "nbformat": 4,
  "nbformat_minor": 0,
  "metadata": {
    "colab": {
      "provenance": [],
      "gpuType": "T4"
    },
    "kernelspec": {
      "name": "python3",
      "display_name": "Python 3"
    },
    "language_info": {
      "name": "python"
    },
    "accelerator": "GPU"
  },
  "cells": [
    {
      "cell_type": "code",
      "source": [
        "!pip install rasterio"
      ],
      "metadata": {
        "colab": {
          "base_uri": "https://localhost:8080/"
        },
        "id": "ATTwKu0bfeDt",
        "outputId": "b0bb551b-bdcb-469b-cfc5-b74cf02ab370"
      },
      "execution_count": 3,
      "outputs": [
        {
          "output_type": "stream",
          "name": "stdout",
          "text": [
            "Collecting rasterio\n",
            "  Downloading rasterio-1.3.10-cp310-cp310-manylinux2014_x86_64.whl (21.5 MB)\n",
            "\u001b[2K     \u001b[90m━━━━━━━━━━━━━━━━━━━━━━━━━━━━━━━━━━━━━━━━\u001b[0m \u001b[32m21.5/21.5 MB\u001b[0m \u001b[31m59.7 MB/s\u001b[0m eta \u001b[36m0:00:00\u001b[0m\n",
            "\u001b[?25hCollecting affine (from rasterio)\n",
            "  Downloading affine-2.4.0-py3-none-any.whl (15 kB)\n",
            "Requirement already satisfied: attrs in /usr/local/lib/python3.10/dist-packages (from rasterio) (23.2.0)\n",
            "Requirement already satisfied: certifi in /usr/local/lib/python3.10/dist-packages (from rasterio) (2024.2.2)\n",
            "Requirement already satisfied: click>=4.0 in /usr/local/lib/python3.10/dist-packages (from rasterio) (8.1.7)\n",
            "Requirement already satisfied: cligj>=0.5 in /usr/local/lib/python3.10/dist-packages (from rasterio) (0.7.2)\n",
            "Requirement already satisfied: numpy in /usr/local/lib/python3.10/dist-packages (from rasterio) (1.25.2)\n",
            "Collecting snuggs>=1.4.1 (from rasterio)\n",
            "  Downloading snuggs-1.4.7-py3-none-any.whl (5.4 kB)\n",
            "Requirement already satisfied: click-plugins in /usr/local/lib/python3.10/dist-packages (from rasterio) (1.1.1)\n",
            "Requirement already satisfied: setuptools in /usr/local/lib/python3.10/dist-packages (from rasterio) (67.7.2)\n",
            "Requirement already satisfied: pyparsing>=2.1.6 in /usr/local/lib/python3.10/dist-packages (from snuggs>=1.4.1->rasterio) (3.1.2)\n",
            "Installing collected packages: snuggs, affine, rasterio\n",
            "Successfully installed affine-2.4.0 rasterio-1.3.10 snuggs-1.4.7\n"
          ]
        }
      ]
    },
    {
      "cell_type": "code",
      "execution_count": 1,
      "metadata": {
        "colab": {
          "base_uri": "https://localhost:8080/"
        },
        "id": "5fUhhPAIfBcQ",
        "outputId": "aae24498-26a3-4bec-b117-882896e1e4fa"
      },
      "outputs": [
        {
          "output_type": "stream",
          "name": "stdout",
          "text": [
            "Mounted at /content/drive\n"
          ]
        }
      ],
      "source": [
        "from google.colab import drive\n",
        "drive.mount('/content/drive')"
      ]
    },
    {
      "cell_type": "code",
      "source": [
        "# Step 2: Import necessary libraries\n",
        "import os\n",
        "import numpy as np\n",
        "import matplotlib.pyplot as plt\n",
        "import rasterio\n",
        "from sklearn.cluster import KMeans\n",
        "from sklearn.metrics import silhouette_score\n",
        "from tensorflow.keras.applications import VGG16\n",
        "from tensorflow.keras.preprocessing.image import img_to_array\n",
        "from tensorflow.keras.applications.vgg16 import preprocess_input\n",
        "import tensorflow as tf"
      ],
      "metadata": {
        "id": "98VYemgKfbO8"
      },
      "execution_count": 4,
      "outputs": []
    },
    {
      "cell_type": "code",
      "source": [
        "# Step 3: Define the path to your images on Google Drive\n",
        "image_dir = '/content/drive/MyDrive/CV_Dataset/Landsat_Coimbatore_2020_to_2021'  # Replace 'your-folder-name' with the name of your folder containing the images"
      ],
      "metadata": {
        "id": "o6ONe72Pfo72"
      },
      "execution_count": 5,
      "outputs": []
    },
    {
      "cell_type": "code",
      "source": [
        "# Step 4: Function to read NDVI data from a GeoTIFF file\n",
        "def read_ndvi(file_path):\n",
        "    with rasterio.open(file_path) as src:\n",
        "        ndvi = src.read(1)  # Read the first band\n",
        "    return ndvi\n"
      ],
      "metadata": {
        "id": "a8jpohrdf4EA"
      },
      "execution_count": 6,
      "outputs": []
    },
    {
      "cell_type": "code",
      "source": [
        "# Step 5: Load images from Google Drive\n",
        "image_files = [os.path.join(image_dir, f) for f in os.listdir(image_dir) if f.endswith('.tif')]\n",
        "ndvi_images = [read_ndvi(f) for f in image_files]"
      ],
      "metadata": {
        "id": "fgpiAWZef7kZ"
      },
      "execution_count": 7,
      "outputs": []
    },
    {
      "cell_type": "code",
      "source": [
        "image_files"
      ],
      "metadata": {
        "colab": {
          "base_uri": "https://localhost:8080/"
        },
        "id": "-8ufvGK1f-yX",
        "outputId": "69697e3b-5534-45d2-c34e-388cf40a20b0"
      },
      "execution_count": 9,
      "outputs": [
        {
          "output_type": "execute_result",
          "data": {
            "text/plain": [
              "['/content/drive/MyDrive/CV_Dataset/Landsat_Coimbatore_2020_to_2021/NDVI_Coimbatore_20201027_20201226.tif',\n",
              " '/content/drive/MyDrive/CV_Dataset/Landsat_Coimbatore_2020_to_2021/NDVI_Coimbatore_20200101_20200301.tif',\n",
              " '/content/drive/MyDrive/CV_Dataset/Landsat_Coimbatore_2020_to_2021/NDVI_Coimbatore_20200301_20200430.tif',\n",
              " '/content/drive/MyDrive/CV_Dataset/Landsat_Coimbatore_2020_to_2021/NDVI_Coimbatore_20200430_20200629.tif',\n",
              " '/content/drive/MyDrive/CV_Dataset/Landsat_Coimbatore_2020_to_2021/NDVI_Coimbatore_20200629_20200828.tif',\n",
              " '/content/drive/MyDrive/CV_Dataset/Landsat_Coimbatore_2020_to_2021/NDVI_Coimbatore_20200828_20201027.tif',\n",
              " '/content/drive/MyDrive/CV_Dataset/Landsat_Coimbatore_2020_to_2021/NDVI_Coimbatore_20201226_20210224.tif',\n",
              " '/content/drive/MyDrive/CV_Dataset/Landsat_Coimbatore_2020_to_2021/NDVI_Coimbatore_Composite_Image_for_whole_year.tif']"
            ]
          },
          "metadata": {},
          "execution_count": 9
        }
      ]
    },
    {
      "cell_type": "code",
      "source": [
        "# Step 6: Load VGG16 model pre-trained on ImageNet\n",
        "vgg_model = VGG16(weights='imagenet', include_top=False)\n"
      ],
      "metadata": {
        "colab": {
          "base_uri": "https://localhost:8080/"
        },
        "id": "ghjc6HqBgEGz",
        "outputId": "08a2fc94-64e8-4698-e201-6884cf8185ed"
      },
      "execution_count": 10,
      "outputs": [
        {
          "output_type": "stream",
          "name": "stdout",
          "text": [
            "Downloading data from https://storage.googleapis.com/tensorflow/keras-applications/vgg16/vgg16_weights_tf_dim_ordering_tf_kernels_notop.h5\n",
            "58889256/58889256 [==============================] - 0s 0us/step\n"
          ]
        }
      ]
    },
    {
      "cell_type": "code",
      "source": [
        "def extract_features(image):\n",
        "    image_expanded = np.expand_dims(image, axis=-1)  # Add channel dimension\n",
        "    image_3channel = np.repeat(image_expanded, 3, axis=-1)  # Repeat the single channel to get a 3-channel image\n",
        "    image_resized = tf.image.resize(image_3channel, (224, 224))  # Resize image to VGG16 input size\n",
        "    image_array = img_to_array(image_resized.numpy().copy())  # Convert tensor to numpy array and make a copy\n",
        "    image_array = preprocess_input(image_array)\n",
        "    image_array = np.expand_dims(image_array, axis=0)  # Add batch dimension\n",
        "    features = vgg_model.predict(image_array)\n",
        "    return features.flatten()"
      ],
      "metadata": {
        "id": "CpmZW4VsgH_5"
      },
      "execution_count": 17,
      "outputs": []
    },
    {
      "cell_type": "code",
      "source": [
        "# Step 8: Extract features from all images\n",
        "features = np.array([extract_features(img) for img in ndvi_images])"
      ],
      "metadata": {
        "colab": {
          "base_uri": "https://localhost:8080/"
        },
        "id": "prf_72TLgK7T",
        "outputId": "1d528a74-bc19-4fba-c391-78e17b9a77d2"
      },
      "execution_count": 18,
      "outputs": [
        {
          "output_type": "stream",
          "name": "stdout",
          "text": [
            "1/1 [==============================] - 2s 2s/step\n",
            "1/1 [==============================] - 0s 17ms/step\n",
            "1/1 [==============================] - 0s 17ms/step\n",
            "1/1 [==============================] - 0s 18ms/step\n",
            "1/1 [==============================] - 0s 18ms/step\n",
            "1/1 [==============================] - 0s 18ms/step\n",
            "1/1 [==============================] - 0s 17ms/step\n",
            "1/1 [==============================] - 0s 17ms/step\n"
          ]
        }
      ]
    },
    {
      "cell_type": "code",
      "source": [
        "# Step 9: Apply K-Means clustering on extracted features\n",
        "n_clusters = 5  # Number of clusters\n",
        "kmeans = KMeans(n_clusters=n_clusters, random_state=0).fit(features)\n",
        "labels = kmeans.labels_\n",
        "silhouette_avg = silhouette_score(features, labels)\n",
        "\n",
        "print(\"Silhouette Score:\", silhouette_avg)\n"
      ],
      "metadata": {
        "colab": {
          "base_uri": "https://localhost:8080/"
        },
        "id": "XXvybf5ejRIS",
        "outputId": "c6ebef3e-65e3-479a-c37d-fbee75f0782e"
      },
      "execution_count": 19,
      "outputs": [
        {
          "output_type": "stream",
          "name": "stderr",
          "text": [
            "/usr/local/lib/python3.10/dist-packages/sklearn/cluster/_kmeans.py:870: FutureWarning: The default value of `n_init` will change from 10 to 'auto' in 1.4. Set the value of `n_init` explicitly to suppress the warning\n",
            "  warnings.warn(\n"
          ]
        },
        {
          "output_type": "stream",
          "name": "stdout",
          "text": [
            "Silhouette Score: 0.15664394\n"
          ]
        }
      ]
    },
    {
      "cell_type": "code",
      "source": [],
      "metadata": {
        "id": "p6xJ6qELjobF"
      },
      "execution_count": null,
      "outputs": []
    }
  ]
}