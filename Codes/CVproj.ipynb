{
  "nbformat": 4,
  "nbformat_minor": 0,
  "metadata": {
    "colab": {
      "provenance": []
    },
    "kernelspec": {
      "name": "python3",
      "display_name": "Python 3"
    },
    "language_info": {
      "name": "python"
    }
  },
  "cells": [
    {
      "cell_type": "code",
      "source": [
        "from google.colab import auth\n",
        "\n",
        "\n",
        "auth.authenticate_user()\n",
        "\n",
        "\n",
        "project_id = 'ee-nssurya21'\n",
        "!gcloud config set project {project_id}\n"
      ],
      "metadata": {
        "colab": {
          "base_uri": "https://localhost:8080/"
        },
        "id": "HkLF8qmoQpel",
        "outputId": "3249fd34-eecb-449e-dbf9-2d74be772d4e"
      },
      "execution_count": null,
      "outputs": [
        {
          "output_type": "stream",
          "name": "stdout",
          "text": [
            "Updated property [core/project].\n"
          ]
        }
      ]
    },
    {
      "cell_type": "code",
      "source": [
        "# Install geemap library\n",
        "!pip install geemap\n",
        "\n",
        "# Import necessary libraries\n",
        "import ee\n",
        "import geemap\n",
        "import matplotlib.pyplot as plt"
      ],
      "metadata": {
        "colab": {
          "base_uri": "https://localhost:8080/",
          "height": 1000
        },
        "id": "3g2nALUhSlPw",
        "outputId": "5755c5e8-d84e-4bfb-f2b2-7a88e6c8e887"
      },
      "execution_count": null,
      "outputs": [
        {
          "output_type": "stream",
          "name": "stdout",
          "text": [
            "Requirement already satisfied: geemap in /usr/local/lib/python3.10/dist-packages (0.31.0)\n",
            "Requirement already satisfied: bqplot in /usr/local/lib/python3.10/dist-packages (from geemap) (0.12.42)\n",
            "Requirement already satisfied: colour in /usr/local/lib/python3.10/dist-packages (from geemap) (0.1.5)\n",
            "Requirement already satisfied: earthengine-api>=0.1.347 in /usr/local/lib/python3.10/dist-packages (from geemap) (0.1.390)\n",
            "Requirement already satisfied: eerepr>=0.0.4 in /usr/local/lib/python3.10/dist-packages (from geemap) (0.0.4)\n",
            "Requirement already satisfied: folium>=0.13.0 in /usr/local/lib/python3.10/dist-packages (from geemap) (0.14.0)\n",
            "Requirement already satisfied: geocoder in /usr/local/lib/python3.10/dist-packages (from geemap) (1.38.1)\n",
            "Requirement already satisfied: ipyevents in /usr/local/lib/python3.10/dist-packages (from geemap) (2.0.2)\n",
            "Requirement already satisfied: ipyfilechooser>=0.6.0 in /usr/local/lib/python3.10/dist-packages (from geemap) (0.6.0)\n",
            "Requirement already satisfied: ipyleaflet>=0.17.0 in /usr/local/lib/python3.10/dist-packages (from geemap) (0.18.2)\n",
            "Requirement already satisfied: ipytree in /usr/local/lib/python3.10/dist-packages (from geemap) (0.2.2)\n",
            "Requirement already satisfied: matplotlib in /usr/local/lib/python3.10/dist-packages (from geemap) (3.7.1)\n",
            "Requirement already satisfied: numpy in /usr/local/lib/python3.10/dist-packages (from geemap) (1.25.2)\n",
            "Requirement already satisfied: pandas in /usr/local/lib/python3.10/dist-packages (from geemap) (1.5.3)\n",
            "Requirement already satisfied: plotly in /usr/local/lib/python3.10/dist-packages (from geemap) (5.15.0)\n",
            "Requirement already satisfied: pyperclip in /usr/local/lib/python3.10/dist-packages (from geemap) (1.8.2)\n",
            "Requirement already satisfied: pyshp>=2.1.3 in /usr/local/lib/python3.10/dist-packages (from geemap) (2.3.1)\n",
            "Requirement already satisfied: python-box in /usr/local/lib/python3.10/dist-packages (from geemap) (7.1.1)\n",
            "Requirement already satisfied: scooby in /usr/local/lib/python3.10/dist-packages (from geemap) (0.9.2)\n",
            "Requirement already satisfied: google-cloud-storage in /usr/local/lib/python3.10/dist-packages (from earthengine-api>=0.1.347->geemap) (2.8.0)\n",
            "Requirement already satisfied: google-api-python-client>=1.12.1 in /usr/local/lib/python3.10/dist-packages (from earthengine-api>=0.1.347->geemap) (2.84.0)\n",
            "Requirement already satisfied: google-auth>=1.4.1 in /usr/local/lib/python3.10/dist-packages (from earthengine-api>=0.1.347->geemap) (2.27.0)\n",
            "Requirement already satisfied: google-auth-httplib2>=0.0.3 in /usr/local/lib/python3.10/dist-packages (from earthengine-api>=0.1.347->geemap) (0.1.1)\n",
            "Requirement already satisfied: httplib2<1dev,>=0.9.2 in /usr/local/lib/python3.10/dist-packages (from earthengine-api>=0.1.347->geemap) (0.22.0)\n",
            "Requirement already satisfied: requests in /usr/local/lib/python3.10/dist-packages (from earthengine-api>=0.1.347->geemap) (2.31.0)\n",
            "Requirement already satisfied: branca>=0.6.0 in /usr/local/lib/python3.10/dist-packages (from folium>=0.13.0->geemap) (0.7.1)\n",
            "Requirement already satisfied: jinja2>=2.9 in /usr/local/lib/python3.10/dist-packages (from folium>=0.13.0->geemap) (3.1.3)\n",
            "Requirement already satisfied: ipywidgets in /usr/local/lib/python3.10/dist-packages (from ipyfilechooser>=0.6.0->geemap) (7.7.1)\n",
            "Requirement already satisfied: traittypes<3,>=0.2.1 in /usr/local/lib/python3.10/dist-packages (from ipyleaflet>=0.17.0->geemap) (0.2.1)\n",
            "Requirement already satisfied: xyzservices>=2021.8.1 in /usr/local/lib/python3.10/dist-packages (from ipyleaflet>=0.17.0->geemap) (2023.10.1)\n",
            "Requirement already satisfied: traitlets>=4.3.0 in /usr/local/lib/python3.10/dist-packages (from bqplot->geemap) (5.7.1)\n",
            "Requirement already satisfied: python-dateutil>=2.8.1 in /usr/local/lib/python3.10/dist-packages (from pandas->geemap) (2.8.2)\n",
            "Requirement already satisfied: pytz>=2020.1 in /usr/local/lib/python3.10/dist-packages (from pandas->geemap) (2023.4)\n",
            "Requirement already satisfied: click in /usr/local/lib/python3.10/dist-packages (from geocoder->geemap) (8.1.7)\n",
            "Requirement already satisfied: future in /usr/local/lib/python3.10/dist-packages (from geocoder->geemap) (0.18.3)\n",
            "Requirement already satisfied: ratelim in /usr/local/lib/python3.10/dist-packages (from geocoder->geemap) (0.1.6)\n",
            "Requirement already satisfied: six in /usr/local/lib/python3.10/dist-packages (from geocoder->geemap) (1.16.0)\n",
            "Requirement already satisfied: contourpy>=1.0.1 in /usr/local/lib/python3.10/dist-packages (from matplotlib->geemap) (1.2.0)\n",
            "Requirement already satisfied: cycler>=0.10 in /usr/local/lib/python3.10/dist-packages (from matplotlib->geemap) (0.12.1)\n",
            "Requirement already satisfied: fonttools>=4.22.0 in /usr/local/lib/python3.10/dist-packages (from matplotlib->geemap) (4.49.0)\n",
            "Requirement already satisfied: kiwisolver>=1.0.1 in /usr/local/lib/python3.10/dist-packages (from matplotlib->geemap) (1.4.5)\n",
            "Requirement already satisfied: packaging>=20.0 in /usr/local/lib/python3.10/dist-packages (from matplotlib->geemap) (23.2)\n",
            "Requirement already satisfied: pillow>=6.2.0 in /usr/local/lib/python3.10/dist-packages (from matplotlib->geemap) (9.4.0)\n",
            "Requirement already satisfied: pyparsing>=2.3.1 in /usr/local/lib/python3.10/dist-packages (from matplotlib->geemap) (3.1.1)\n",
            "Requirement already satisfied: tenacity>=6.2.0 in /usr/local/lib/python3.10/dist-packages (from plotly->geemap) (8.2.3)\n",
            "Requirement already satisfied: google-api-core!=2.0.*,!=2.1.*,!=2.2.*,!=2.3.0,<3.0.0dev,>=1.31.5 in /usr/local/lib/python3.10/dist-packages (from google-api-python-client>=1.12.1->earthengine-api>=0.1.347->geemap) (2.11.1)\n",
            "Requirement already satisfied: uritemplate<5,>=3.0.1 in /usr/local/lib/python3.10/dist-packages (from google-api-python-client>=1.12.1->earthengine-api>=0.1.347->geemap) (4.1.1)\n",
            "Requirement already satisfied: cachetools<6.0,>=2.0.0 in /usr/local/lib/python3.10/dist-packages (from google-auth>=1.4.1->earthengine-api>=0.1.347->geemap) (5.3.2)\n",
            "Requirement already satisfied: pyasn1-modules>=0.2.1 in /usr/local/lib/python3.10/dist-packages (from google-auth>=1.4.1->earthengine-api>=0.1.347->geemap) (0.3.0)\n",
            "Requirement already satisfied: rsa<5,>=3.1.4 in /usr/local/lib/python3.10/dist-packages (from google-auth>=1.4.1->earthengine-api>=0.1.347->geemap) (4.9)\n",
            "Requirement already satisfied: ipykernel>=4.5.1 in /usr/local/lib/python3.10/dist-packages (from ipywidgets->ipyfilechooser>=0.6.0->geemap) (5.5.6)\n",
            "Requirement already satisfied: ipython-genutils~=0.2.0 in /usr/local/lib/python3.10/dist-packages (from ipywidgets->ipyfilechooser>=0.6.0->geemap) (0.2.0)\n",
            "Requirement already satisfied: widgetsnbextension~=3.6.0 in /usr/local/lib/python3.10/dist-packages (from ipywidgets->ipyfilechooser>=0.6.0->geemap) (3.6.6)\n",
            "Requirement already satisfied: ipython>=4.0.0 in /usr/local/lib/python3.10/dist-packages (from ipywidgets->ipyfilechooser>=0.6.0->geemap) (7.34.0)\n",
            "Requirement already satisfied: jupyterlab-widgets>=1.0.0 in /usr/local/lib/python3.10/dist-packages (from ipywidgets->ipyfilechooser>=0.6.0->geemap) (3.0.10)\n",
            "Requirement already satisfied: MarkupSafe>=2.0 in /usr/local/lib/python3.10/dist-packages (from jinja2>=2.9->folium>=0.13.0->geemap) (2.1.5)\n",
            "Requirement already satisfied: google-cloud-core<3.0dev,>=2.3.0 in /usr/local/lib/python3.10/dist-packages (from google-cloud-storage->earthengine-api>=0.1.347->geemap) (2.3.3)\n",
            "Requirement already satisfied: google-resumable-media>=2.3.2 in /usr/local/lib/python3.10/dist-packages (from google-cloud-storage->earthengine-api>=0.1.347->geemap) (2.7.0)\n",
            "Requirement already satisfied: charset-normalizer<4,>=2 in /usr/local/lib/python3.10/dist-packages (from requests->earthengine-api>=0.1.347->geemap) (3.3.2)\n",
            "Requirement already satisfied: idna<4,>=2.5 in /usr/local/lib/python3.10/dist-packages (from requests->earthengine-api>=0.1.347->geemap) (3.6)\n",
            "Requirement already satisfied: urllib3<3,>=1.21.1 in /usr/local/lib/python3.10/dist-packages (from requests->earthengine-api>=0.1.347->geemap) (2.0.7)\n",
            "Requirement already satisfied: certifi>=2017.4.17 in /usr/local/lib/python3.10/dist-packages (from requests->earthengine-api>=0.1.347->geemap) (2024.2.2)\n",
            "Requirement already satisfied: decorator in /usr/local/lib/python3.10/dist-packages (from ratelim->geocoder->geemap) (4.4.2)\n",
            "Requirement already satisfied: googleapis-common-protos<2.0.dev0,>=1.56.2 in /usr/local/lib/python3.10/dist-packages (from google-api-core!=2.0.*,!=2.1.*,!=2.2.*,!=2.3.0,<3.0.0dev,>=1.31.5->google-api-python-client>=1.12.1->earthengine-api>=0.1.347->geemap) (1.62.0)\n",
            "Requirement already satisfied: protobuf!=3.20.0,!=3.20.1,!=4.21.0,!=4.21.1,!=4.21.2,!=4.21.3,!=4.21.4,!=4.21.5,<5.0.0.dev0,>=3.19.5 in /usr/local/lib/python3.10/dist-packages (from google-api-core!=2.0.*,!=2.1.*,!=2.2.*,!=2.3.0,<3.0.0dev,>=1.31.5->google-api-python-client>=1.12.1->earthengine-api>=0.1.347->geemap) (3.20.3)\n",
            "Requirement already satisfied: google-crc32c<2.0dev,>=1.0 in /usr/local/lib/python3.10/dist-packages (from google-resumable-media>=2.3.2->google-cloud-storage->earthengine-api>=0.1.347->geemap) (1.5.0)\n",
            "Requirement already satisfied: jupyter-client in /usr/local/lib/python3.10/dist-packages (from ipykernel>=4.5.1->ipywidgets->ipyfilechooser>=0.6.0->geemap) (6.1.12)\n",
            "Requirement already satisfied: tornado>=4.2 in /usr/local/lib/python3.10/dist-packages (from ipykernel>=4.5.1->ipywidgets->ipyfilechooser>=0.6.0->geemap) (6.3.2)\n",
            "Requirement already satisfied: setuptools>=18.5 in /usr/local/lib/python3.10/dist-packages (from ipython>=4.0.0->ipywidgets->ipyfilechooser>=0.6.0->geemap) (67.7.2)\n",
            "Collecting jedi>=0.16 (from ipython>=4.0.0->ipywidgets->ipyfilechooser>=0.6.0->geemap)\n",
            "  Downloading jedi-0.19.1-py2.py3-none-any.whl (1.6 MB)\n",
            "\u001b[2K     \u001b[90m━━━━━━━━━━━━━━━━━━━━━━━━━━━━━━━━━━━━━━━━\u001b[0m \u001b[32m1.6/1.6 MB\u001b[0m \u001b[31m8.9 MB/s\u001b[0m eta \u001b[36m0:00:00\u001b[0m\n",
            "\u001b[?25hRequirement already satisfied: pickleshare in /usr/local/lib/python3.10/dist-packages (from ipython>=4.0.0->ipywidgets->ipyfilechooser>=0.6.0->geemap) (0.7.5)\n",
            "Requirement already satisfied: prompt-toolkit!=3.0.0,!=3.0.1,<3.1.0,>=2.0.0 in /usr/local/lib/python3.10/dist-packages (from ipython>=4.0.0->ipywidgets->ipyfilechooser>=0.6.0->geemap) (3.0.43)\n",
            "Requirement already satisfied: pygments in /usr/local/lib/python3.10/dist-packages (from ipython>=4.0.0->ipywidgets->ipyfilechooser>=0.6.0->geemap) (2.16.1)\n",
            "Requirement already satisfied: backcall in /usr/local/lib/python3.10/dist-packages (from ipython>=4.0.0->ipywidgets->ipyfilechooser>=0.6.0->geemap) (0.2.0)\n",
            "Requirement already satisfied: matplotlib-inline in /usr/local/lib/python3.10/dist-packages (from ipython>=4.0.0->ipywidgets->ipyfilechooser>=0.6.0->geemap) (0.1.6)\n",
            "Requirement already satisfied: pexpect>4.3 in /usr/local/lib/python3.10/dist-packages (from ipython>=4.0.0->ipywidgets->ipyfilechooser>=0.6.0->geemap) (4.9.0)\n",
            "Requirement already satisfied: pyasn1<0.6.0,>=0.4.6 in /usr/local/lib/python3.10/dist-packages (from pyasn1-modules>=0.2.1->google-auth>=1.4.1->earthengine-api>=0.1.347->geemap) (0.5.1)\n",
            "Requirement already satisfied: notebook>=4.4.1 in /usr/local/lib/python3.10/dist-packages (from widgetsnbextension~=3.6.0->ipywidgets->ipyfilechooser>=0.6.0->geemap) (6.5.5)\n",
            "Requirement already satisfied: parso<0.9.0,>=0.8.3 in /usr/local/lib/python3.10/dist-packages (from jedi>=0.16->ipython>=4.0.0->ipywidgets->ipyfilechooser>=0.6.0->geemap) (0.8.3)\n",
            "Requirement already satisfied: pyzmq<25,>=17 in /usr/local/lib/python3.10/dist-packages (from notebook>=4.4.1->widgetsnbextension~=3.6.0->ipywidgets->ipyfilechooser>=0.6.0->geemap) (23.2.1)\n",
            "Requirement already satisfied: argon2-cffi in /usr/local/lib/python3.10/dist-packages (from notebook>=4.4.1->widgetsnbextension~=3.6.0->ipywidgets->ipyfilechooser>=0.6.0->geemap) (23.1.0)\n",
            "Requirement already satisfied: jupyter-core>=4.6.1 in /usr/local/lib/python3.10/dist-packages (from notebook>=4.4.1->widgetsnbextension~=3.6.0->ipywidgets->ipyfilechooser>=0.6.0->geemap) (5.7.1)\n",
            "Requirement already satisfied: nbformat in /usr/local/lib/python3.10/dist-packages (from notebook>=4.4.1->widgetsnbextension~=3.6.0->ipywidgets->ipyfilechooser>=0.6.0->geemap) (5.9.2)\n",
            "Requirement already satisfied: nbconvert>=5 in /usr/local/lib/python3.10/dist-packages (from notebook>=4.4.1->widgetsnbextension~=3.6.0->ipywidgets->ipyfilechooser>=0.6.0->geemap) (6.5.4)\n",
            "Requirement already satisfied: nest-asyncio>=1.5 in /usr/local/lib/python3.10/dist-packages (from notebook>=4.4.1->widgetsnbextension~=3.6.0->ipywidgets->ipyfilechooser>=0.6.0->geemap) (1.6.0)\n",
            "Requirement already satisfied: Send2Trash>=1.8.0 in /usr/local/lib/python3.10/dist-packages (from notebook>=4.4.1->widgetsnbextension~=3.6.0->ipywidgets->ipyfilechooser>=0.6.0->geemap) (1.8.2)\n",
            "Requirement already satisfied: terminado>=0.8.3 in /usr/local/lib/python3.10/dist-packages (from notebook>=4.4.1->widgetsnbextension~=3.6.0->ipywidgets->ipyfilechooser>=0.6.0->geemap) (0.18.0)\n",
            "Requirement already satisfied: prometheus-client in /usr/local/lib/python3.10/dist-packages (from notebook>=4.4.1->widgetsnbextension~=3.6.0->ipywidgets->ipyfilechooser>=0.6.0->geemap) (0.20.0)\n",
            "Requirement already satisfied: nbclassic>=0.4.7 in /usr/local/lib/python3.10/dist-packages (from notebook>=4.4.1->widgetsnbextension~=3.6.0->ipywidgets->ipyfilechooser>=0.6.0->geemap) (1.0.0)\n",
            "Requirement already satisfied: ptyprocess>=0.5 in /usr/local/lib/python3.10/dist-packages (from pexpect>4.3->ipython>=4.0.0->ipywidgets->ipyfilechooser>=0.6.0->geemap) (0.7.0)\n",
            "Requirement already satisfied: wcwidth in /usr/local/lib/python3.10/dist-packages (from prompt-toolkit!=3.0.0,!=3.0.1,<3.1.0,>=2.0.0->ipython>=4.0.0->ipywidgets->ipyfilechooser>=0.6.0->geemap) (0.2.13)\n",
            "Requirement already satisfied: platformdirs>=2.5 in /usr/local/lib/python3.10/dist-packages (from jupyter-core>=4.6.1->notebook>=4.4.1->widgetsnbextension~=3.6.0->ipywidgets->ipyfilechooser>=0.6.0->geemap) (4.2.0)\n",
            "Requirement already satisfied: jupyter-server>=1.8 in /usr/local/lib/python3.10/dist-packages (from nbclassic>=0.4.7->notebook>=4.4.1->widgetsnbextension~=3.6.0->ipywidgets->ipyfilechooser>=0.6.0->geemap) (1.24.0)\n",
            "Requirement already satisfied: notebook-shim>=0.2.3 in /usr/local/lib/python3.10/dist-packages (from nbclassic>=0.4.7->notebook>=4.4.1->widgetsnbextension~=3.6.0->ipywidgets->ipyfilechooser>=0.6.0->geemap) (0.2.4)\n",
            "Requirement already satisfied: lxml in /usr/local/lib/python3.10/dist-packages (from nbconvert>=5->notebook>=4.4.1->widgetsnbextension~=3.6.0->ipywidgets->ipyfilechooser>=0.6.0->geemap) (4.9.4)\n",
            "Requirement already satisfied: beautifulsoup4 in /usr/local/lib/python3.10/dist-packages (from nbconvert>=5->notebook>=4.4.1->widgetsnbextension~=3.6.0->ipywidgets->ipyfilechooser>=0.6.0->geemap) (4.12.3)\n",
            "Requirement already satisfied: bleach in /usr/local/lib/python3.10/dist-packages (from nbconvert>=5->notebook>=4.4.1->widgetsnbextension~=3.6.0->ipywidgets->ipyfilechooser>=0.6.0->geemap) (6.1.0)\n",
            "Requirement already satisfied: defusedxml in /usr/local/lib/python3.10/dist-packages (from nbconvert>=5->notebook>=4.4.1->widgetsnbextension~=3.6.0->ipywidgets->ipyfilechooser>=0.6.0->geemap) (0.7.1)\n",
            "Requirement already satisfied: entrypoints>=0.2.2 in /usr/local/lib/python3.10/dist-packages (from nbconvert>=5->notebook>=4.4.1->widgetsnbextension~=3.6.0->ipywidgets->ipyfilechooser>=0.6.0->geemap) (0.4)\n",
            "Requirement already satisfied: jupyterlab-pygments in /usr/local/lib/python3.10/dist-packages (from nbconvert>=5->notebook>=4.4.1->widgetsnbextension~=3.6.0->ipywidgets->ipyfilechooser>=0.6.0->geemap) (0.3.0)\n",
            "Requirement already satisfied: mistune<2,>=0.8.1 in /usr/local/lib/python3.10/dist-packages (from nbconvert>=5->notebook>=4.4.1->widgetsnbextension~=3.6.0->ipywidgets->ipyfilechooser>=0.6.0->geemap) (0.8.4)\n",
            "Requirement already satisfied: nbclient>=0.5.0 in /usr/local/lib/python3.10/dist-packages (from nbconvert>=5->notebook>=4.4.1->widgetsnbextension~=3.6.0->ipywidgets->ipyfilechooser>=0.6.0->geemap) (0.9.0)\n",
            "Requirement already satisfied: pandocfilters>=1.4.1 in /usr/local/lib/python3.10/dist-packages (from nbconvert>=5->notebook>=4.4.1->widgetsnbextension~=3.6.0->ipywidgets->ipyfilechooser>=0.6.0->geemap) (1.5.1)\n",
            "Requirement already satisfied: tinycss2 in /usr/local/lib/python3.10/dist-packages (from nbconvert>=5->notebook>=4.4.1->widgetsnbextension~=3.6.0->ipywidgets->ipyfilechooser>=0.6.0->geemap) (1.2.1)\n",
            "Requirement already satisfied: fastjsonschema in /usr/local/lib/python3.10/dist-packages (from nbformat->notebook>=4.4.1->widgetsnbextension~=3.6.0->ipywidgets->ipyfilechooser>=0.6.0->geemap) (2.19.1)\n",
            "Requirement already satisfied: jsonschema>=2.6 in /usr/local/lib/python3.10/dist-packages (from nbformat->notebook>=4.4.1->widgetsnbextension~=3.6.0->ipywidgets->ipyfilechooser>=0.6.0->geemap) (4.19.2)\n",
            "Requirement already satisfied: argon2-cffi-bindings in /usr/local/lib/python3.10/dist-packages (from argon2-cffi->notebook>=4.4.1->widgetsnbextension~=3.6.0->ipywidgets->ipyfilechooser>=0.6.0->geemap) (21.2.0)\n",
            "Requirement already satisfied: attrs>=22.2.0 in /usr/local/lib/python3.10/dist-packages (from jsonschema>=2.6->nbformat->notebook>=4.4.1->widgetsnbextension~=3.6.0->ipywidgets->ipyfilechooser>=0.6.0->geemap) (23.2.0)\n",
            "Requirement already satisfied: jsonschema-specifications>=2023.03.6 in /usr/local/lib/python3.10/dist-packages (from jsonschema>=2.6->nbformat->notebook>=4.4.1->widgetsnbextension~=3.6.0->ipywidgets->ipyfilechooser>=0.6.0->geemap) (2023.12.1)\n",
            "Requirement already satisfied: referencing>=0.28.4 in /usr/local/lib/python3.10/dist-packages (from jsonschema>=2.6->nbformat->notebook>=4.4.1->widgetsnbextension~=3.6.0->ipywidgets->ipyfilechooser>=0.6.0->geemap) (0.33.0)\n",
            "Requirement already satisfied: rpds-py>=0.7.1 in /usr/local/lib/python3.10/dist-packages (from jsonschema>=2.6->nbformat->notebook>=4.4.1->widgetsnbextension~=3.6.0->ipywidgets->ipyfilechooser>=0.6.0->geemap) (0.18.0)\n",
            "Requirement already satisfied: anyio<4,>=3.1.0 in /usr/local/lib/python3.10/dist-packages (from jupyter-server>=1.8->nbclassic>=0.4.7->notebook>=4.4.1->widgetsnbextension~=3.6.0->ipywidgets->ipyfilechooser>=0.6.0->geemap) (3.7.1)\n",
            "Requirement already satisfied: websocket-client in /usr/local/lib/python3.10/dist-packages (from jupyter-server>=1.8->nbclassic>=0.4.7->notebook>=4.4.1->widgetsnbextension~=3.6.0->ipywidgets->ipyfilechooser>=0.6.0->geemap) (1.7.0)\n",
            "Requirement already satisfied: cffi>=1.0.1 in /usr/local/lib/python3.10/dist-packages (from argon2-cffi-bindings->argon2-cffi->notebook>=4.4.1->widgetsnbextension~=3.6.0->ipywidgets->ipyfilechooser>=0.6.0->geemap) (1.16.0)\n",
            "Requirement already satisfied: soupsieve>1.2 in /usr/local/lib/python3.10/dist-packages (from beautifulsoup4->nbconvert>=5->notebook>=4.4.1->widgetsnbextension~=3.6.0->ipywidgets->ipyfilechooser>=0.6.0->geemap) (2.5)\n",
            "Requirement already satisfied: webencodings in /usr/local/lib/python3.10/dist-packages (from bleach->nbconvert>=5->notebook>=4.4.1->widgetsnbextension~=3.6.0->ipywidgets->ipyfilechooser>=0.6.0->geemap) (0.5.1)\n",
            "Requirement already satisfied: sniffio>=1.1 in /usr/local/lib/python3.10/dist-packages (from anyio<4,>=3.1.0->jupyter-server>=1.8->nbclassic>=0.4.7->notebook>=4.4.1->widgetsnbextension~=3.6.0->ipywidgets->ipyfilechooser>=0.6.0->geemap) (1.3.0)\n",
            "Requirement already satisfied: exceptiongroup in /usr/local/lib/python3.10/dist-packages (from anyio<4,>=3.1.0->jupyter-server>=1.8->nbclassic>=0.4.7->notebook>=4.4.1->widgetsnbextension~=3.6.0->ipywidgets->ipyfilechooser>=0.6.0->geemap) (1.2.0)\n",
            "Requirement already satisfied: pycparser in /usr/local/lib/python3.10/dist-packages (from cffi>=1.0.1->argon2-cffi-bindings->argon2-cffi->notebook>=4.4.1->widgetsnbextension~=3.6.0->ipywidgets->ipyfilechooser>=0.6.0->geemap) (2.21)\n",
            "Installing collected packages: jedi\n",
            "Successfully installed jedi-0.19.1\n"
          ]
        }
      ]
    },
    {
      "cell_type": "code",
      "source": [
        "# Authenticate to Earth Engine\n",
        "try:\n",
        "    # Attempt to initialize Earth Engine with the specified project ID\n",
        "    ee.Initialize(project= project_id)  # Replace with your actual project ID\n",
        "\n",
        "    # If initialization is successful, no exceptions are raised, and you can proceed with Earth Engine code\n",
        "    print(\"Earth Engine initialized successfully!\")\n",
        "\n",
        "except ee.EEException as e:\n",
        "    # If initialization fails, an exception is raised, and authentication is needed\n",
        "    print(\"Authentication required. Initiating authentication...\")\n",
        "\n",
        "    # Authenticate to Earth Engine\n",
        "    ee.Authenticate()\n",
        "\n",
        "    # Retry initialization after authentication\n",
        "    ee.Initialize(project=project_id)  # Replace with your actual project ID\n",
        "\n",
        "    print(\"Earth Engine initialized successfully after authentication!\")\n"
      ],
      "metadata": {
        "colab": {
          "base_uri": "https://localhost:8080/",
          "height": 34
        },
        "id": "5rOxHqNMTmCS",
        "outputId": "4731e188-edac-4b42-805a-990d28003561"
      },
      "execution_count": null,
      "outputs": [
        {
          "output_type": "display_data",
          "data": {
            "text/plain": [
              "<IPython.core.display.HTML object>"
            ],
            "text/html": [
              "\n",
              "            <style>\n",
              "                .geemap-dark {\n",
              "                    --jp-widgets-color: white;\n",
              "                    --jp-widgets-label-color: white;\n",
              "                    --jp-ui-font-color1: white;\n",
              "                    --jp-layout-color2: #454545;\n",
              "                    background-color: #383838;\n",
              "                }\n",
              "                    \n",
              "                .geemap-dark .jupyter-button {\n",
              "                    --jp-layout-color3: #383838;\n",
              "                }\n",
              "                \n",
              "                .geemap-colab {\n",
              "                    background-color: var(--colab-primary-surface-color, white);\n",
              "                }\n",
              "                    \n",
              "                .geemap-colab .jupyter-button {\n",
              "                    --jp-layout-color3: var(--colab-primary-surface-color, white);\n",
              "                }\n",
              "            </style>\n",
              "            "
            ]
          },
          "metadata": {}
        },
        {
          "output_type": "stream",
          "name": "stdout",
          "text": [
            "Earth Engine initialized successfully!\n"
          ]
        }
      ]
    },
    {
      "cell_type": "code",
      "source": [
        "import folium"
      ],
      "metadata": {
        "colab": {
          "base_uri": "https://localhost:8080/",
          "height": 17
        },
        "id": "wNHw-Yz6WRH7",
        "outputId": "c14f06b4-cb40-4b99-b321-4ec8834d3774"
      },
      "execution_count": null,
      "outputs": [
        {
          "output_type": "display_data",
          "data": {
            "text/plain": [
              "<IPython.core.display.HTML object>"
            ],
            "text/html": [
              "\n",
              "            <style>\n",
              "                .geemap-dark {\n",
              "                    --jp-widgets-color: white;\n",
              "                    --jp-widgets-label-color: white;\n",
              "                    --jp-ui-font-color1: white;\n",
              "                    --jp-layout-color2: #454545;\n",
              "                    background-color: #383838;\n",
              "                }\n",
              "                    \n",
              "                .geemap-dark .jupyter-button {\n",
              "                    --jp-layout-color3: #383838;\n",
              "                }\n",
              "                \n",
              "                .geemap-colab {\n",
              "                    background-color: var(--colab-primary-surface-color, white);\n",
              "                }\n",
              "                    \n",
              "                .geemap-colab .jupyter-button {\n",
              "                    --jp-layout-color3: var(--colab-primary-surface-color, white);\n",
              "                }\n",
              "            </style>\n",
              "            "
            ]
          },
          "metadata": {}
        }
      ]
    },
    {
      "cell_type": "code",
      "source": [
        "# Define the region of interest (ROI) for Ranthambore\n",
        "roi_ranthambore = ee.Geometry.Point([76.5000, 26.0167])\n",
        "\n",
        "# Load a Landsat image collection for a specific time and location (using Ranthambore ROI)\n",
        "landsat_collection_ranthambore = (ee.ImageCollection('LANDSAT/LC08/C01/T1_SR')\n",
        "                                   .filterBounds(roi_ranthambore)\n",
        "                                   .filterDate('2021-01-01', '2021-12-31')\n",
        "                                   .sort('system:time_start'))\n",
        "\n",
        "# Function to calculate NDVI\n",
        "def calculate_ndvi(image):\n",
        "    return image.normalizedDifference(['B5', 'B4']).rename('NDVI')\n",
        "\n",
        "\n",
        "# Create a folium map centered around the Ranthambore ROI\n",
        "map_center_ranthambore = [roi_ranthambore.getInfo()['coordinates'][1], roi_ranthambore.getInfo()['coordinates'][0]]\n",
        "m_ranthambore = folium.Map(location=map_center_ranthambore, zoom_start=10)\n",
        "\n",
        "# Add a marker for the Ranthambore ROI\n",
        "folium.Marker(map_center_ranthambore, popup='Ranthambore ROI').add_to(m_ranthambore)\n",
        "\n",
        "# Display the folium map for Ranthambore\n",
        "display(m_ranthambore)\n"
      ],
      "metadata": {
        "colab": {
          "base_uri": "https://localhost:8080/",
          "height": 807
        },
        "id": "Nf1gjgYubu7Q",
        "outputId": "71c91ba8-9656-4e6c-efa2-0acabdf4422a"
      },
      "execution_count": null,
      "outputs": [
        {
          "output_type": "display_data",
          "data": {
            "text/plain": [
              "<IPython.core.display.HTML object>"
            ],
            "text/html": [
              "\n",
              "            <style>\n",
              "                .geemap-dark {\n",
              "                    --jp-widgets-color: white;\n",
              "                    --jp-widgets-label-color: white;\n",
              "                    --jp-ui-font-color1: white;\n",
              "                    --jp-layout-color2: #454545;\n",
              "                    background-color: #383838;\n",
              "                }\n",
              "                    \n",
              "                .geemap-dark .jupyter-button {\n",
              "                    --jp-layout-color3: #383838;\n",
              "                }\n",
              "                \n",
              "                .geemap-colab {\n",
              "                    background-color: var(--colab-primary-surface-color, white);\n",
              "                }\n",
              "                    \n",
              "                .geemap-colab .jupyter-button {\n",
              "                    --jp-layout-color3: var(--colab-primary-surface-color, white);\n",
              "                }\n",
              "            </style>\n",
              "            "
            ]
          },
          "metadata": {}
        },
        {
          "output_type": "display_data",
          "data": {
            "text/plain": [
              "<folium.folium.Map at 0x7f37a213cc40>"
            ],
            "text/html": [
              "<div style=\"width:100%;\"><div style=\"position:relative;width:100%;height:0;padding-bottom:60%;\"><span style=\"color:#565656\">Make this Notebook Trusted to load map: File -> Trust Notebook</span><iframe srcdoc=\"&lt;!DOCTYPE html&gt;\n",
              "&lt;html&gt;\n",
              "&lt;head&gt;\n",
              "    \n",
              "    &lt;meta http-equiv=&quot;content-type&quot; content=&quot;text/html; charset=UTF-8&quot; /&gt;\n",
              "    \n",
              "        &lt;script&gt;\n",
              "            L_NO_TOUCH = false;\n",
              "            L_DISABLE_3D = false;\n",
              "        &lt;/script&gt;\n",
              "    \n",
              "    &lt;style&gt;html, body {width: 100%;height: 100%;margin: 0;padding: 0;}&lt;/style&gt;\n",
              "    &lt;style&gt;#map {position:absolute;top:0;bottom:0;right:0;left:0;}&lt;/style&gt;\n",
              "    &lt;script src=&quot;https://cdn.jsdelivr.net/npm/leaflet@1.9.3/dist/leaflet.js&quot;&gt;&lt;/script&gt;\n",
              "    &lt;script src=&quot;https://code.jquery.com/jquery-1.12.4.min.js&quot;&gt;&lt;/script&gt;\n",
              "    &lt;script src=&quot;https://cdn.jsdelivr.net/npm/bootstrap@5.2.2/dist/js/bootstrap.bundle.min.js&quot;&gt;&lt;/script&gt;\n",
              "    &lt;script src=&quot;https://cdnjs.cloudflare.com/ajax/libs/Leaflet.awesome-markers/2.0.2/leaflet.awesome-markers.js&quot;&gt;&lt;/script&gt;\n",
              "    &lt;link rel=&quot;stylesheet&quot; href=&quot;https://cdn.jsdelivr.net/npm/leaflet@1.9.3/dist/leaflet.css&quot;/&gt;\n",
              "    &lt;link rel=&quot;stylesheet&quot; href=&quot;https://cdn.jsdelivr.net/npm/bootstrap@5.2.2/dist/css/bootstrap.min.css&quot;/&gt;\n",
              "    &lt;link rel=&quot;stylesheet&quot; href=&quot;https://netdna.bootstrapcdn.com/bootstrap/3.0.0/css/bootstrap.min.css&quot;/&gt;\n",
              "    &lt;link rel=&quot;stylesheet&quot; href=&quot;https://cdn.jsdelivr.net/npm/@fortawesome/fontawesome-free@6.2.0/css/all.min.css&quot;/&gt;\n",
              "    &lt;link rel=&quot;stylesheet&quot; href=&quot;https://cdnjs.cloudflare.com/ajax/libs/Leaflet.awesome-markers/2.0.2/leaflet.awesome-markers.css&quot;/&gt;\n",
              "    &lt;link rel=&quot;stylesheet&quot; href=&quot;https://cdn.jsdelivr.net/gh/python-visualization/folium/folium/templates/leaflet.awesome.rotate.min.css&quot;/&gt;\n",
              "    \n",
              "            &lt;meta name=&quot;viewport&quot; content=&quot;width=device-width,\n",
              "                initial-scale=1.0, maximum-scale=1.0, user-scalable=no&quot; /&gt;\n",
              "            &lt;style&gt;\n",
              "                #map_0e46a9c051aa91750f8f0ade57ba4444 {\n",
              "                    position: relative;\n",
              "                    width: 100.0%;\n",
              "                    height: 100.0%;\n",
              "                    left: 0.0%;\n",
              "                    top: 0.0%;\n",
              "                }\n",
              "                .leaflet-container { font-size: 1rem; }\n",
              "            &lt;/style&gt;\n",
              "        \n",
              "&lt;/head&gt;\n",
              "&lt;body&gt;\n",
              "    \n",
              "    \n",
              "            &lt;div class=&quot;folium-map&quot; id=&quot;map_0e46a9c051aa91750f8f0ade57ba4444&quot; &gt;&lt;/div&gt;\n",
              "        \n",
              "&lt;/body&gt;\n",
              "&lt;script&gt;\n",
              "    \n",
              "    \n",
              "            var map_0e46a9c051aa91750f8f0ade57ba4444 = L.map(\n",
              "                &quot;map_0e46a9c051aa91750f8f0ade57ba4444&quot;,\n",
              "                {\n",
              "                    center: [26.0167, 76.5],\n",
              "                    crs: L.CRS.EPSG3857,\n",
              "                    zoom: 10,\n",
              "                    zoomControl: true,\n",
              "                    preferCanvas: false,\n",
              "                }\n",
              "            );\n",
              "\n",
              "            \n",
              "\n",
              "        \n",
              "    \n",
              "            var tile_layer_c1737a9c7ef51c2a0117c8367b6713da = L.tileLayer(\n",
              "                &quot;https://{s}.tile.openstreetmap.org/{z}/{x}/{y}.png&quot;,\n",
              "                {&quot;attribution&quot;: &quot;Data by \\u0026copy; \\u003ca target=\\&quot;_blank\\&quot; href=\\&quot;http://openstreetmap.org\\&quot;\\u003eOpenStreetMap\\u003c/a\\u003e, under \\u003ca target=\\&quot;_blank\\&quot; href=\\&quot;http://www.openstreetmap.org/copyright\\&quot;\\u003eODbL\\u003c/a\\u003e.&quot;, &quot;detectRetina&quot;: false, &quot;maxNativeZoom&quot;: 18, &quot;maxZoom&quot;: 18, &quot;minZoom&quot;: 0, &quot;noWrap&quot;: false, &quot;opacity&quot;: 1, &quot;subdomains&quot;: &quot;abc&quot;, &quot;tms&quot;: false}\n",
              "            ).addTo(map_0e46a9c051aa91750f8f0ade57ba4444);\n",
              "        \n",
              "    \n",
              "            var marker_6c6963714f2f2c2985e68232cda11a35 = L.marker(\n",
              "                [26.0167, 76.5],\n",
              "                {}\n",
              "            ).addTo(map_0e46a9c051aa91750f8f0ade57ba4444);\n",
              "        \n",
              "    \n",
              "        var popup_5ae27e31fe416d8529ce904fff540687 = L.popup({&quot;maxWidth&quot;: &quot;100%&quot;});\n",
              "\n",
              "        \n",
              "            \n",
              "                var html_33d54959fe5af1a7eace9616a32427ff = $(`&lt;div id=&quot;html_33d54959fe5af1a7eace9616a32427ff&quot; style=&quot;width: 100.0%; height: 100.0%;&quot;&gt;Ranthambore ROI&lt;/div&gt;`)[0];\n",
              "                popup_5ae27e31fe416d8529ce904fff540687.setContent(html_33d54959fe5af1a7eace9616a32427ff);\n",
              "            \n",
              "        \n",
              "\n",
              "        marker_6c6963714f2f2c2985e68232cda11a35.bindPopup(popup_5ae27e31fe416d8529ce904fff540687)\n",
              "        ;\n",
              "\n",
              "        \n",
              "    \n",
              "&lt;/script&gt;\n",
              "&lt;/html&gt;\" style=\"position:absolute;width:100%;height:100%;left:0;top:0;border:none !important;\" allowfullscreen webkitallowfullscreen mozallowfullscreen></iframe></div></div>"
            ]
          },
          "metadata": {}
        }
      ]
    },
    {
      "cell_type": "code",
      "source": [
        "# Define the region of interest\n",
        "import pandas as pd\n",
        "roi = ee.Geometry.Point([76.5000, 26.0167])\n",
        "\n",
        "# Load the image collection\n",
        "image_collection = ee.ImageCollection('LANDSAT/LC08/C01/T1_SR').filterDate('2014-01-01', '2014-12-31').filterBounds(roi)\n",
        "\n",
        "# Initialize an empty DataFrame to store the NDVI values\n",
        "ndvi_df = pd.DataFrame(columns=['image_id', 'ndvi'])\n",
        "\n",
        "# Iterate over the image collection\n",
        "for i in range(image_collection.size().getInfo()):\n",
        "    # Get the image\n",
        "    image = ee.Image(image_collection.toList(image_collection.size()).get(i))\n",
        "\n",
        "    # Select the red and near-infrared bands\n",
        "    red = image.select('B4')\n",
        "    nir = image.select('B5')\n",
        "\n",
        "    # Calculate NDVI\n",
        "    ndvi = nir.subtract(red).divide(nir.add(red)).rename('NDVI')\n",
        "\n",
        "    # Get the mean NDVI value for the region of interest\n",
        "    ndvi_value = ndvi.reduceRegion(reducer=ee.Reducer.mean(), geometry=roi, scale=30).getInfo()['NDVI']\n",
        "\n",
        "    # Get the image ID\n",
        "    image_id = image.get('system:index').getInfo()\n",
        "\n",
        "    # Store the NDVI value in the DataFrame\n",
        "    ndvi_df = ndvi_df.append({'image_id': image_id, 'ndvi': ndvi_value}, ignore_index=True)\n",
        "\n",
        "# Print the DataFrame\n",
        "\n",
        "print(ndvi_df)"
      ],
      "metadata": {
        "colab": {
          "base_uri": "https://localhost:8080/",
          "height": 1000
        },
        "id": "TRxYDn4oa1p5",
        "outputId": "53c06bb3-a9c8-4578-d316-11faa958e650"
      },
      "execution_count": null,
      "outputs": [
        {
          "output_type": "display_data",
          "data": {
            "text/plain": [
              "<IPython.core.display.HTML object>"
            ],
            "text/html": [
              "\n",
              "            <style>\n",
              "                .geemap-dark {\n",
              "                    --jp-widgets-color: white;\n",
              "                    --jp-widgets-label-color: white;\n",
              "                    --jp-ui-font-color1: white;\n",
              "                    --jp-layout-color2: #454545;\n",
              "                    background-color: #383838;\n",
              "                }\n",
              "                    \n",
              "                .geemap-dark .jupyter-button {\n",
              "                    --jp-layout-color3: #383838;\n",
              "                }\n",
              "                \n",
              "                .geemap-colab {\n",
              "                    background-color: var(--colab-primary-surface-color, white);\n",
              "                }\n",
              "                    \n",
              "                .geemap-colab .jupyter-button {\n",
              "                    --jp-layout-color3: var(--colab-primary-surface-color, white);\n",
              "                }\n",
              "            </style>\n",
              "            "
            ]
          },
          "metadata": {}
        },
        {
          "output_type": "stream",
          "name": "stderr",
          "text": [
            "<ipython-input-6-ea292aa5833b>:30: FutureWarning: The frame.append method is deprecated and will be removed from pandas in a future version. Use pandas.concat instead.\n",
            "  ndvi_df = ndvi_df.append({'image_id': image_id, 'ndvi': ndvi_value}, ignore_index=True)\n",
            "<ipython-input-6-ea292aa5833b>:30: FutureWarning: The frame.append method is deprecated and will be removed from pandas in a future version. Use pandas.concat instead.\n",
            "  ndvi_df = ndvi_df.append({'image_id': image_id, 'ndvi': ndvi_value}, ignore_index=True)\n",
            "<ipython-input-6-ea292aa5833b>:30: FutureWarning: The frame.append method is deprecated and will be removed from pandas in a future version. Use pandas.concat instead.\n",
            "  ndvi_df = ndvi_df.append({'image_id': image_id, 'ndvi': ndvi_value}, ignore_index=True)\n",
            "<ipython-input-6-ea292aa5833b>:30: FutureWarning: The frame.append method is deprecated and will be removed from pandas in a future version. Use pandas.concat instead.\n",
            "  ndvi_df = ndvi_df.append({'image_id': image_id, 'ndvi': ndvi_value}, ignore_index=True)\n",
            "<ipython-input-6-ea292aa5833b>:30: FutureWarning: The frame.append method is deprecated and will be removed from pandas in a future version. Use pandas.concat instead.\n",
            "  ndvi_df = ndvi_df.append({'image_id': image_id, 'ndvi': ndvi_value}, ignore_index=True)\n",
            "<ipython-input-6-ea292aa5833b>:30: FutureWarning: The frame.append method is deprecated and will be removed from pandas in a future version. Use pandas.concat instead.\n",
            "  ndvi_df = ndvi_df.append({'image_id': image_id, 'ndvi': ndvi_value}, ignore_index=True)\n",
            "<ipython-input-6-ea292aa5833b>:30: FutureWarning: The frame.append method is deprecated and will be removed from pandas in a future version. Use pandas.concat instead.\n",
            "  ndvi_df = ndvi_df.append({'image_id': image_id, 'ndvi': ndvi_value}, ignore_index=True)\n",
            "<ipython-input-6-ea292aa5833b>:30: FutureWarning: The frame.append method is deprecated and will be removed from pandas in a future version. Use pandas.concat instead.\n",
            "  ndvi_df = ndvi_df.append({'image_id': image_id, 'ndvi': ndvi_value}, ignore_index=True)\n",
            "<ipython-input-6-ea292aa5833b>:30: FutureWarning: The frame.append method is deprecated and will be removed from pandas in a future version. Use pandas.concat instead.\n",
            "  ndvi_df = ndvi_df.append({'image_id': image_id, 'ndvi': ndvi_value}, ignore_index=True)\n",
            "<ipython-input-6-ea292aa5833b>:30: FutureWarning: The frame.append method is deprecated and will be removed from pandas in a future version. Use pandas.concat instead.\n",
            "  ndvi_df = ndvi_df.append({'image_id': image_id, 'ndvi': ndvi_value}, ignore_index=True)\n",
            "<ipython-input-6-ea292aa5833b>:30: FutureWarning: The frame.append method is deprecated and will be removed from pandas in a future version. Use pandas.concat instead.\n",
            "  ndvi_df = ndvi_df.append({'image_id': image_id, 'ndvi': ndvi_value}, ignore_index=True)\n",
            "<ipython-input-6-ea292aa5833b>:30: FutureWarning: The frame.append method is deprecated and will be removed from pandas in a future version. Use pandas.concat instead.\n",
            "  ndvi_df = ndvi_df.append({'image_id': image_id, 'ndvi': ndvi_value}, ignore_index=True)\n",
            "<ipython-input-6-ea292aa5833b>:30: FutureWarning: The frame.append method is deprecated and will be removed from pandas in a future version. Use pandas.concat instead.\n",
            "  ndvi_df = ndvi_df.append({'image_id': image_id, 'ndvi': ndvi_value}, ignore_index=True)\n",
            "<ipython-input-6-ea292aa5833b>:30: FutureWarning: The frame.append method is deprecated and will be removed from pandas in a future version. Use pandas.concat instead.\n",
            "  ndvi_df = ndvi_df.append({'image_id': image_id, 'ndvi': ndvi_value}, ignore_index=True)\n",
            "<ipython-input-6-ea292aa5833b>:30: FutureWarning: The frame.append method is deprecated and will be removed from pandas in a future version. Use pandas.concat instead.\n",
            "  ndvi_df = ndvi_df.append({'image_id': image_id, 'ndvi': ndvi_value}, ignore_index=True)\n",
            "<ipython-input-6-ea292aa5833b>:30: FutureWarning: The frame.append method is deprecated and will be removed from pandas in a future version. Use pandas.concat instead.\n",
            "  ndvi_df = ndvi_df.append({'image_id': image_id, 'ndvi': ndvi_value}, ignore_index=True)\n",
            "<ipython-input-6-ea292aa5833b>:30: FutureWarning: The frame.append method is deprecated and will be removed from pandas in a future version. Use pandas.concat instead.\n",
            "  ndvi_df = ndvi_df.append({'image_id': image_id, 'ndvi': ndvi_value}, ignore_index=True)\n",
            "<ipython-input-6-ea292aa5833b>:30: FutureWarning: The frame.append method is deprecated and will be removed from pandas in a future version. Use pandas.concat instead.\n",
            "  ndvi_df = ndvi_df.append({'image_id': image_id, 'ndvi': ndvi_value}, ignore_index=True)\n",
            "<ipython-input-6-ea292aa5833b>:30: FutureWarning: The frame.append method is deprecated and will be removed from pandas in a future version. Use pandas.concat instead.\n",
            "  ndvi_df = ndvi_df.append({'image_id': image_id, 'ndvi': ndvi_value}, ignore_index=True)\n",
            "<ipython-input-6-ea292aa5833b>:30: FutureWarning: The frame.append method is deprecated and will be removed from pandas in a future version. Use pandas.concat instead.\n",
            "  ndvi_df = ndvi_df.append({'image_id': image_id, 'ndvi': ndvi_value}, ignore_index=True)\n",
            "<ipython-input-6-ea292aa5833b>:30: FutureWarning: The frame.append method is deprecated and will be removed from pandas in a future version. Use pandas.concat instead.\n",
            "  ndvi_df = ndvi_df.append({'image_id': image_id, 'ndvi': ndvi_value}, ignore_index=True)\n",
            "<ipython-input-6-ea292aa5833b>:30: FutureWarning: The frame.append method is deprecated and will be removed from pandas in a future version. Use pandas.concat instead.\n",
            "  ndvi_df = ndvi_df.append({'image_id': image_id, 'ndvi': ndvi_value}, ignore_index=True)\n",
            "<ipython-input-6-ea292aa5833b>:30: FutureWarning: The frame.append method is deprecated and will be removed from pandas in a future version. Use pandas.concat instead.\n",
            "  ndvi_df = ndvi_df.append({'image_id': image_id, 'ndvi': ndvi_value}, ignore_index=True)\n",
            "<ipython-input-6-ea292aa5833b>:30: FutureWarning: The frame.append method is deprecated and will be removed from pandas in a future version. Use pandas.concat instead.\n",
            "  ndvi_df = ndvi_df.append({'image_id': image_id, 'ndvi': ndvi_value}, ignore_index=True)\n",
            "<ipython-input-6-ea292aa5833b>:30: FutureWarning: The frame.append method is deprecated and will be removed from pandas in a future version. Use pandas.concat instead.\n",
            "  ndvi_df = ndvi_df.append({'image_id': image_id, 'ndvi': ndvi_value}, ignore_index=True)\n",
            "<ipython-input-6-ea292aa5833b>:30: FutureWarning: The frame.append method is deprecated and will be removed from pandas in a future version. Use pandas.concat instead.\n",
            "  ndvi_df = ndvi_df.append({'image_id': image_id, 'ndvi': ndvi_value}, ignore_index=True)\n",
            "<ipython-input-6-ea292aa5833b>:30: FutureWarning: The frame.append method is deprecated and will be removed from pandas in a future version. Use pandas.concat instead.\n",
            "  ndvi_df = ndvi_df.append({'image_id': image_id, 'ndvi': ndvi_value}, ignore_index=True)\n",
            "<ipython-input-6-ea292aa5833b>:30: FutureWarning: The frame.append method is deprecated and will be removed from pandas in a future version. Use pandas.concat instead.\n",
            "  ndvi_df = ndvi_df.append({'image_id': image_id, 'ndvi': ndvi_value}, ignore_index=True)\n",
            "<ipython-input-6-ea292aa5833b>:30: FutureWarning: The frame.append method is deprecated and will be removed from pandas in a future version. Use pandas.concat instead.\n",
            "  ndvi_df = ndvi_df.append({'image_id': image_id, 'ndvi': ndvi_value}, ignore_index=True)\n",
            "<ipython-input-6-ea292aa5833b>:30: FutureWarning: The frame.append method is deprecated and will be removed from pandas in a future version. Use pandas.concat instead.\n",
            "  ndvi_df = ndvi_df.append({'image_id': image_id, 'ndvi': ndvi_value}, ignore_index=True)\n",
            "<ipython-input-6-ea292aa5833b>:30: FutureWarning: The frame.append method is deprecated and will be removed from pandas in a future version. Use pandas.concat instead.\n",
            "  ndvi_df = ndvi_df.append({'image_id': image_id, 'ndvi': ndvi_value}, ignore_index=True)\n",
            "<ipython-input-6-ea292aa5833b>:30: FutureWarning: The frame.append method is deprecated and will be removed from pandas in a future version. Use pandas.concat instead.\n",
            "  ndvi_df = ndvi_df.append({'image_id': image_id, 'ndvi': ndvi_value}, ignore_index=True)\n",
            "<ipython-input-6-ea292aa5833b>:30: FutureWarning: The frame.append method is deprecated and will be removed from pandas in a future version. Use pandas.concat instead.\n",
            "  ndvi_df = ndvi_df.append({'image_id': image_id, 'ndvi': ndvi_value}, ignore_index=True)\n",
            "<ipython-input-6-ea292aa5833b>:30: FutureWarning: The frame.append method is deprecated and will be removed from pandas in a future version. Use pandas.concat instead.\n",
            "  ndvi_df = ndvi_df.append({'image_id': image_id, 'ndvi': ndvi_value}, ignore_index=True)\n",
            "<ipython-input-6-ea292aa5833b>:30: FutureWarning: The frame.append method is deprecated and will be removed from pandas in a future version. Use pandas.concat instead.\n",
            "  ndvi_df = ndvi_df.append({'image_id': image_id, 'ndvi': ndvi_value}, ignore_index=True)\n",
            "<ipython-input-6-ea292aa5833b>:30: FutureWarning: The frame.append method is deprecated and will be removed from pandas in a future version. Use pandas.concat instead.\n",
            "  ndvi_df = ndvi_df.append({'image_id': image_id, 'ndvi': ndvi_value}, ignore_index=True)\n",
            "<ipython-input-6-ea292aa5833b>:30: FutureWarning: The frame.append method is deprecated and will be removed from pandas in a future version. Use pandas.concat instead.\n",
            "  ndvi_df = ndvi_df.append({'image_id': image_id, 'ndvi': ndvi_value}, ignore_index=True)\n",
            "<ipython-input-6-ea292aa5833b>:30: FutureWarning: The frame.append method is deprecated and will be removed from pandas in a future version. Use pandas.concat instead.\n",
            "  ndvi_df = ndvi_df.append({'image_id': image_id, 'ndvi': ndvi_value}, ignore_index=True)\n"
          ]
        },
        {
          "output_type": "stream",
          "name": "stdout",
          "text": [
            "                image_id      ndvi\n",
            "0   LC08_146042_20140108  0.563304\n",
            "1   LC08_146042_20140124  0.514580\n",
            "2   LC08_146042_20140209  0.481315\n",
            "3   LC08_146042_20140225  0.219496\n",
            "4   LC08_146042_20140313  0.396445\n",
            "5   LC08_146042_20140329  0.398972\n",
            "6   LC08_146042_20140414  0.312276\n",
            "7   LC08_146042_20140516  0.390635\n",
            "8   LC08_146042_20140601  0.368625\n",
            "9   LC08_146042_20140617  0.409004\n",
            "10  LC08_146042_20140703  0.119014\n",
            "11  LC08_146042_20140719  0.063383\n",
            "12  LC08_146042_20140820  0.752882\n",
            "13  LC08_146042_20140905  0.036300\n",
            "14  LC08_146042_20140921  0.780409\n",
            "15  LC08_146042_20141007  0.731495\n",
            "16  LC08_146042_20141023  0.687741\n",
            "17  LC08_146042_20141108  0.671216\n",
            "18  LC08_146042_20141124  0.635845\n",
            "19  LC08_146042_20141210  0.616260\n",
            "20  LC08_146042_20141226  0.555707\n",
            "21  LC08_147042_20140115  0.490588\n",
            "22  LC08_147042_20140131  0.496276\n",
            "23  LC08_147042_20140216  0.002908\n",
            "24  LC08_147042_20140320  0.406082\n",
            "25  LC08_147042_20140405  0.359671\n",
            "26  LC08_147042_20140421  0.398539\n",
            "27  LC08_147042_20140507  0.384615\n",
            "28  LC08_147042_20140523  0.372656\n",
            "29  LC08_147042_20140608  0.371217\n",
            "30  LC08_147042_20140624  0.535938\n",
            "31  LC08_147042_20140710  0.541246\n",
            "32  LC08_147042_20140726  0.007617\n",
            "33  LC08_147042_20140827  0.781217\n",
            "34  LC08_147042_20140912  0.462946\n",
            "35  LC08_147042_20140928  0.780881\n",
            "36  LC08_147042_20141030  0.667956\n",
            "37  LC08_147042_20141201  0.619048\n",
            "38  LC08_147042_20141217  0.582634\n"
          ]
        },
        {
          "output_type": "stream",
          "name": "stderr",
          "text": [
            "<ipython-input-6-ea292aa5833b>:30: FutureWarning: The frame.append method is deprecated and will be removed from pandas in a future version. Use pandas.concat instead.\n",
            "  ndvi_df = ndvi_df.append({'image_id': image_id, 'ndvi': ndvi_value}, ignore_index=True)\n"
          ]
        }
      ]
    },
    {
      "cell_type": "code",
      "source": [
        "\n",
        "# Define the region of interest\n",
        "roi = ee.Geometry.Point([-122.0818, 37.4203])\n",
        "\n",
        "# Load a Landsat 8 image\n",
        "image = ee.ImageCollection('LANDSAT/LC08/C01/T1_SR').filterBounds(roi).first()\n",
        "image_collection = ee.ImageCollection('LANDSAT/LC08/C01/T1_SR').filterDate('2014-01-01', '2014-12-31').filterBounds(roi)\n",
        "# Select the red and near-infrared bands\n",
        "red = image.select('B4')\n",
        "nir = image.select('B5')\n",
        "\n",
        "# Calculate NDVI\n",
        "ndvi = nir.subtract(red).divide(nir.add(red)).rename('NDVI')\n",
        "\n",
        "# Print the NDVI value\n",
        "ndvi_info = ndvi.reduceRegion(reducer=ee.Reducer.mean(), geometry=roi, scale=30).getInfo()\n",
        "print('NDVI:', ndvi_info['NDVI'])\n",
        "print(type(ndvi))\n",
        "print(type(ndvi_info))"
      ],
      "metadata": {
        "colab": {
          "base_uri": "https://localhost:8080/",
          "height": 68
        },
        "id": "cDNfm0NRWx68",
        "outputId": "d47aae96-7c19-4fd5-de49-de885a9238c2"
      },
      "execution_count": null,
      "outputs": [
        {
          "output_type": "display_data",
          "data": {
            "text/plain": [
              "<IPython.core.display.HTML object>"
            ],
            "text/html": [
              "\n",
              "            <style>\n",
              "                .geemap-dark {\n",
              "                    --jp-widgets-color: white;\n",
              "                    --jp-widgets-label-color: white;\n",
              "                    --jp-ui-font-color1: white;\n",
              "                    --jp-layout-color2: #454545;\n",
              "                    background-color: #383838;\n",
              "                }\n",
              "                    \n",
              "                .geemap-dark .jupyter-button {\n",
              "                    --jp-layout-color3: #383838;\n",
              "                }\n",
              "                \n",
              "                .geemap-colab {\n",
              "                    background-color: var(--colab-primary-surface-color, white);\n",
              "                }\n",
              "                    \n",
              "                .geemap-colab .jupyter-button {\n",
              "                    --jp-layout-color3: var(--colab-primary-surface-color, white);\n",
              "                }\n",
              "            </style>\n",
              "            "
            ]
          },
          "metadata": {}
        },
        {
          "output_type": "stream",
          "name": "stdout",
          "text": [
            "NDVI: 0.6493473253135398\n",
            "<class 'ee.image.Image'>\n",
            "<class 'dict'>\n"
          ]
        }
      ]
    },
    {
      "cell_type": "code",
      "source": [
        "# Sort the collection by 'system:time_start'\n",
        "image_collection = image_collection.sort('system:time_start')\n",
        "\n",
        "# Get the ID of the second image\n",
        "second_image_id = ee.Image(image_collection.toList(image_collection.size()).get(1)).get('system:index').getInfo()\n",
        "\n",
        "# Filter the collection to get the second image\n",
        "second_image = image_collection.filter(ee.Filter.eq('system:index', second_image_id))\n",
        "\n",
        "# Get information about the second image\n",
        "second_image_info = second_image.first().getInfo()\n",
        "\n",
        "# Print the information\n",
        "print(second_image_info)"
      ],
      "metadata": {
        "colab": {
          "base_uri": "https://localhost:8080/",
          "height": 54
        },
        "id": "Ld5kh3aZZRD6",
        "outputId": "0712743f-e572-4ec8-e030-ba3e3c7bb8b1"
      },
      "execution_count": null,
      "outputs": [
        {
          "output_type": "display_data",
          "data": {
            "text/plain": [
              "<IPython.core.display.HTML object>"
            ],
            "text/html": [
              "\n",
              "            <style>\n",
              "                .geemap-dark {\n",
              "                    --jp-widgets-color: white;\n",
              "                    --jp-widgets-label-color: white;\n",
              "                    --jp-ui-font-color1: white;\n",
              "                    --jp-layout-color2: #454545;\n",
              "                    background-color: #383838;\n",
              "                }\n",
              "                    \n",
              "                .geemap-dark .jupyter-button {\n",
              "                    --jp-layout-color3: #383838;\n",
              "                }\n",
              "                \n",
              "                .geemap-colab {\n",
              "                    background-color: var(--colab-primary-surface-color, white);\n",
              "                }\n",
              "                    \n",
              "                .geemap-colab .jupyter-button {\n",
              "                    --jp-layout-color3: var(--colab-primary-surface-color, white);\n",
              "                }\n",
              "            </style>\n",
              "            "
            ]
          },
          "metadata": {}
        },
        {
          "output_type": "stream",
          "name": "stdout",
          "text": [
            "{'type': 'Image', 'bands': [{'id': 'B1', 'data_type': {'type': 'PixelType', 'precision': 'int', 'min': -32768, 'max': 32767}, 'dimensions': [7661, 7801], 'crs': 'EPSG:32610', 'crs_transform': [30, 0, 461085, 0, -30, 4264215]}, {'id': 'B2', 'data_type': {'type': 'PixelType', 'precision': 'int', 'min': -32768, 'max': 32767}, 'dimensions': [7661, 7801], 'crs': 'EPSG:32610', 'crs_transform': [30, 0, 461085, 0, -30, 4264215]}, {'id': 'B3', 'data_type': {'type': 'PixelType', 'precision': 'int', 'min': -32768, 'max': 32767}, 'dimensions': [7661, 7801], 'crs': 'EPSG:32610', 'crs_transform': [30, 0, 461085, 0, -30, 4264215]}, {'id': 'B4', 'data_type': {'type': 'PixelType', 'precision': 'int', 'min': -32768, 'max': 32767}, 'dimensions': [7661, 7801], 'crs': 'EPSG:32610', 'crs_transform': [30, 0, 461085, 0, -30, 4264215]}, {'id': 'B5', 'data_type': {'type': 'PixelType', 'precision': 'int', 'min': -32768, 'max': 32767}, 'dimensions': [7661, 7801], 'crs': 'EPSG:32610', 'crs_transform': [30, 0, 461085, 0, -30, 4264215]}, {'id': 'B6', 'data_type': {'type': 'PixelType', 'precision': 'int', 'min': -32768, 'max': 32767}, 'dimensions': [7661, 7801], 'crs': 'EPSG:32610', 'crs_transform': [30, 0, 461085, 0, -30, 4264215]}, {'id': 'B7', 'data_type': {'type': 'PixelType', 'precision': 'int', 'min': -32768, 'max': 32767}, 'dimensions': [7661, 7801], 'crs': 'EPSG:32610', 'crs_transform': [30, 0, 461085, 0, -30, 4264215]}, {'id': 'B10', 'data_type': {'type': 'PixelType', 'precision': 'int', 'min': -32768, 'max': 32767}, 'dimensions': [7661, 7801], 'crs': 'EPSG:32610', 'crs_transform': [30, 0, 461085, 0, -30, 4264215]}, {'id': 'B11', 'data_type': {'type': 'PixelType', 'precision': 'int', 'min': -32768, 'max': 32767}, 'dimensions': [7661, 7801], 'crs': 'EPSG:32610', 'crs_transform': [30, 0, 461085, 0, -30, 4264215]}, {'id': 'sr_aerosol', 'data_type': {'type': 'PixelType', 'precision': 'int', 'min': 0, 'max': 255}, 'dimensions': [7661, 7801], 'crs': 'EPSG:32610', 'crs_transform': [30, 0, 461085, 0, -30, 4264215]}, {'id': 'pixel_qa', 'data_type': {'type': 'PixelType', 'precision': 'int', 'min': 0, 'max': 65535}, 'dimensions': [7661, 7801], 'crs': 'EPSG:32610', 'crs_transform': [30, 0, 461085, 0, -30, 4264215]}, {'id': 'radsat_qa', 'data_type': {'type': 'PixelType', 'precision': 'int', 'min': 0, 'max': 65535}, 'dimensions': [7661, 7801], 'crs': 'EPSG:32610', 'crs_transform': [30, 0, 461085, 0, -30, 4264215]}], 'id': 'LANDSAT/LC08/C01/T1_SR/LC08_044034_20140129', 'version': 1522720281487930.0, 'properties': {'IMAGE_QUALITY_TIRS': 9, 'CLOUD_COVER': 90.09, 'EARTH_SUN_DISTANCE': 0.985054, 'LANDSAT_ID': 'LC08_L1TP_044034_20140129_20170307_01_T1', 'system:footprint': {'type': 'LinearRing', 'coordinates': [[-120.86311761292416, 38.13264282811984], [-120.86254323301745, 38.13502513518381], [-121.40693863526604, 38.24108459381297], [-122.7997479443463, 38.499655705902626], [-122.93606268584409, 38.52397611512045], [-122.93681493088198, 38.52338601877858], [-122.93913929708563, 38.51610274297369], [-122.94328053150767, 38.50204322995968], [-123.4253049772719, 36.803671087948466], [-122.4854089008023, 36.62859554209492], [-121.55868037816113, 36.44791383022206], [-121.39974117704611, 36.41613448502454], [-121.39814053772547, 36.41611303343184], [-121.39123124773667, 36.438594441017685], [-121.11916589939044, 37.3191851659083], [-121.06908381770839, 37.479147832906406], [-121.04620838554686, 37.55212751488998], [-121.02729963555984, 37.61237483237536], [-120.98416720945285, 37.74957423970132], [-120.9403245079735, 37.888573887442405], [-120.8766950979978, 38.08951337260734], [-120.86311761292416, 38.13264282811984]]}, 'CLOUD_COVER_LAND': 91.42, 'GEOMETRIC_RMSE_MODEL': 6.945, 'SR_APP_VERSION': 'LaSRC_1.3.0', 'SATELLITE': 'LANDSAT_8', 'SOLAR_AZIMUTH_ANGLE': 153.727997, 'IMAGE_QUALITY_OLI': 9, 'WRS_PATH': 44, 'system:time_start': 1391021230120, 'SENSING_TIME': '2014-01-29T18:47:10.1218740Z', 'ESPA_VERSION': '2_23_0_1a', 'SOLAR_ZENITH_ANGLE': 59.582321, 'WRS_ROW': 34, 'GEOMETRIC_RMSE_MODEL_Y': 5.06, 'LEVEL1_PRODUCTION_DATE': 1488881213000, 'GEOMETRIC_RMSE_MODEL_X': 4.758, 'system:asset_size': 682909232, 'PIXEL_QA_VERSION': 'generate_pixel_qa_1.6.0', 'system:index': 'LC08_044034_20140129'}}\n"
          ]
        }
      ]
    },
    {
      "cell_type": "code",
      "source": [
        "# Define the region of interest\n",
        "import pandas as pd\n",
        "roi = ee.Geometry.Point([-122.0818, 37.4203])\n",
        "\n",
        "# Load the image collection\n",
        "image_collection = ee.ImageCollection('LANDSAT/LC08/C01/T1_SR').filterDate('2013-01-01', '2014-12-31').filterBounds(roi)\n",
        "\n",
        "# Initialize an empty DataFrame to store the NDVI values\n",
        "ndvi_df = pd.DataFrame(columns=['image_id', 'ndvi'])\n",
        "\n",
        "# Iterate over the image collection\n",
        "for i in range(image_collection.size().getInfo()):\n",
        "    # Get the image\n",
        "    image = ee.Image(image_collection.toList(image_collection.size()).get(i))\n",
        "\n",
        "    # Select the red and near-infrared bands\n",
        "    red = image.select('B4')\n",
        "    nir = image.select('B5')\n",
        "\n",
        "    # Calculate NDVI\n",
        "    ndvi = nir.subtract(red).divide(nir.add(red)).rename('NDVI')\n",
        "\n",
        "    # Get the mean NDVI value for the region of interest\n",
        "    ndvi_value = ndvi.reduceRegion(reducer=ee.Reducer.mean(), geometry=roi, scale=30).getInfo()['NDVI']\n",
        "\n",
        "    # Get the image ID\n",
        "    image_id = image.get('system:index').getInfo()\n",
        "\n",
        "    # Store the NDVI value in the DataFrame\n",
        "    ndvi_df = ndvi_df.append({'image_id': image_id, 'ndvi': ndvi_value}, ignore_index=True)\n",
        "\n",
        "# Print the DataFrame\n",
        "print(ndvi_df)"
      ],
      "metadata": {
        "colab": {
          "base_uri": "https://localhost:8080/",
          "height": 1000
        },
        "id": "f47xnw7vZs5U",
        "outputId": "cebd7eab-2fe3-4e6e-a1ea-a15b05445fdb"
      },
      "execution_count": null,
      "outputs": [
        {
          "output_type": "display_data",
          "data": {
            "text/plain": [
              "<IPython.core.display.HTML object>"
            ],
            "text/html": [
              "\n",
              "            <style>\n",
              "                .geemap-dark {\n",
              "                    --jp-widgets-color: white;\n",
              "                    --jp-widgets-label-color: white;\n",
              "                    --jp-ui-font-color1: white;\n",
              "                    --jp-layout-color2: #454545;\n",
              "                    background-color: #383838;\n",
              "                }\n",
              "                    \n",
              "                .geemap-dark .jupyter-button {\n",
              "                    --jp-layout-color3: #383838;\n",
              "                }\n",
              "                \n",
              "                .geemap-colab {\n",
              "                    background-color: var(--colab-primary-surface-color, white);\n",
              "                }\n",
              "                    \n",
              "                .geemap-colab .jupyter-button {\n",
              "                    --jp-layout-color3: var(--colab-primary-surface-color, white);\n",
              "                }\n",
              "            </style>\n",
              "            "
            ]
          },
          "metadata": {}
        },
        {
          "output_type": "stream",
          "name": "stderr",
          "text": [
            "<ipython-input-9-555d4ea9d758>:30: FutureWarning: The frame.append method is deprecated and will be removed from pandas in a future version. Use pandas.concat instead.\n",
            "  ndvi_df = ndvi_df.append({'image_id': image_id, 'ndvi': ndvi_value}, ignore_index=True)\n",
            "<ipython-input-9-555d4ea9d758>:30: FutureWarning: The frame.append method is deprecated and will be removed from pandas in a future version. Use pandas.concat instead.\n",
            "  ndvi_df = ndvi_df.append({'image_id': image_id, 'ndvi': ndvi_value}, ignore_index=True)\n",
            "<ipython-input-9-555d4ea9d758>:30: FutureWarning: The frame.append method is deprecated and will be removed from pandas in a future version. Use pandas.concat instead.\n",
            "  ndvi_df = ndvi_df.append({'image_id': image_id, 'ndvi': ndvi_value}, ignore_index=True)\n",
            "<ipython-input-9-555d4ea9d758>:30: FutureWarning: The frame.append method is deprecated and will be removed from pandas in a future version. Use pandas.concat instead.\n",
            "  ndvi_df = ndvi_df.append({'image_id': image_id, 'ndvi': ndvi_value}, ignore_index=True)\n",
            "<ipython-input-9-555d4ea9d758>:30: FutureWarning: The frame.append method is deprecated and will be removed from pandas in a future version. Use pandas.concat instead.\n",
            "  ndvi_df = ndvi_df.append({'image_id': image_id, 'ndvi': ndvi_value}, ignore_index=True)\n",
            "<ipython-input-9-555d4ea9d758>:30: FutureWarning: The frame.append method is deprecated and will be removed from pandas in a future version. Use pandas.concat instead.\n",
            "  ndvi_df = ndvi_df.append({'image_id': image_id, 'ndvi': ndvi_value}, ignore_index=True)\n",
            "<ipython-input-9-555d4ea9d758>:30: FutureWarning: The frame.append method is deprecated and will be removed from pandas in a future version. Use pandas.concat instead.\n",
            "  ndvi_df = ndvi_df.append({'image_id': image_id, 'ndvi': ndvi_value}, ignore_index=True)\n",
            "<ipython-input-9-555d4ea9d758>:30: FutureWarning: The frame.append method is deprecated and will be removed from pandas in a future version. Use pandas.concat instead.\n",
            "  ndvi_df = ndvi_df.append({'image_id': image_id, 'ndvi': ndvi_value}, ignore_index=True)\n",
            "<ipython-input-9-555d4ea9d758>:30: FutureWarning: The frame.append method is deprecated and will be removed from pandas in a future version. Use pandas.concat instead.\n",
            "  ndvi_df = ndvi_df.append({'image_id': image_id, 'ndvi': ndvi_value}, ignore_index=True)\n",
            "<ipython-input-9-555d4ea9d758>:30: FutureWarning: The frame.append method is deprecated and will be removed from pandas in a future version. Use pandas.concat instead.\n",
            "  ndvi_df = ndvi_df.append({'image_id': image_id, 'ndvi': ndvi_value}, ignore_index=True)\n",
            "<ipython-input-9-555d4ea9d758>:30: FutureWarning: The frame.append method is deprecated and will be removed from pandas in a future version. Use pandas.concat instead.\n",
            "  ndvi_df = ndvi_df.append({'image_id': image_id, 'ndvi': ndvi_value}, ignore_index=True)\n",
            "<ipython-input-9-555d4ea9d758>:30: FutureWarning: The frame.append method is deprecated and will be removed from pandas in a future version. Use pandas.concat instead.\n",
            "  ndvi_df = ndvi_df.append({'image_id': image_id, 'ndvi': ndvi_value}, ignore_index=True)\n",
            "<ipython-input-9-555d4ea9d758>:30: FutureWarning: The frame.append method is deprecated and will be removed from pandas in a future version. Use pandas.concat instead.\n",
            "  ndvi_df = ndvi_df.append({'image_id': image_id, 'ndvi': ndvi_value}, ignore_index=True)\n",
            "<ipython-input-9-555d4ea9d758>:30: FutureWarning: The frame.append method is deprecated and will be removed from pandas in a future version. Use pandas.concat instead.\n",
            "  ndvi_df = ndvi_df.append({'image_id': image_id, 'ndvi': ndvi_value}, ignore_index=True)\n",
            "<ipython-input-9-555d4ea9d758>:30: FutureWarning: The frame.append method is deprecated and will be removed from pandas in a future version. Use pandas.concat instead.\n",
            "  ndvi_df = ndvi_df.append({'image_id': image_id, 'ndvi': ndvi_value}, ignore_index=True)\n",
            "<ipython-input-9-555d4ea9d758>:30: FutureWarning: The frame.append method is deprecated and will be removed from pandas in a future version. Use pandas.concat instead.\n",
            "  ndvi_df = ndvi_df.append({'image_id': image_id, 'ndvi': ndvi_value}, ignore_index=True)\n",
            "<ipython-input-9-555d4ea9d758>:30: FutureWarning: The frame.append method is deprecated and will be removed from pandas in a future version. Use pandas.concat instead.\n",
            "  ndvi_df = ndvi_df.append({'image_id': image_id, 'ndvi': ndvi_value}, ignore_index=True)\n",
            "<ipython-input-9-555d4ea9d758>:30: FutureWarning: The frame.append method is deprecated and will be removed from pandas in a future version. Use pandas.concat instead.\n",
            "  ndvi_df = ndvi_df.append({'image_id': image_id, 'ndvi': ndvi_value}, ignore_index=True)\n",
            "<ipython-input-9-555d4ea9d758>:30: FutureWarning: The frame.append method is deprecated and will be removed from pandas in a future version. Use pandas.concat instead.\n",
            "  ndvi_df = ndvi_df.append({'image_id': image_id, 'ndvi': ndvi_value}, ignore_index=True)\n",
            "<ipython-input-9-555d4ea9d758>:30: FutureWarning: The frame.append method is deprecated and will be removed from pandas in a future version. Use pandas.concat instead.\n",
            "  ndvi_df = ndvi_df.append({'image_id': image_id, 'ndvi': ndvi_value}, ignore_index=True)\n",
            "<ipython-input-9-555d4ea9d758>:30: FutureWarning: The frame.append method is deprecated and will be removed from pandas in a future version. Use pandas.concat instead.\n",
            "  ndvi_df = ndvi_df.append({'image_id': image_id, 'ndvi': ndvi_value}, ignore_index=True)\n",
            "<ipython-input-9-555d4ea9d758>:30: FutureWarning: The frame.append method is deprecated and will be removed from pandas in a future version. Use pandas.concat instead.\n",
            "  ndvi_df = ndvi_df.append({'image_id': image_id, 'ndvi': ndvi_value}, ignore_index=True)\n",
            "<ipython-input-9-555d4ea9d758>:30: FutureWarning: The frame.append method is deprecated and will be removed from pandas in a future version. Use pandas.concat instead.\n",
            "  ndvi_df = ndvi_df.append({'image_id': image_id, 'ndvi': ndvi_value}, ignore_index=True)\n",
            "<ipython-input-9-555d4ea9d758>:30: FutureWarning: The frame.append method is deprecated and will be removed from pandas in a future version. Use pandas.concat instead.\n",
            "  ndvi_df = ndvi_df.append({'image_id': image_id, 'ndvi': ndvi_value}, ignore_index=True)\n",
            "<ipython-input-9-555d4ea9d758>:30: FutureWarning: The frame.append method is deprecated and will be removed from pandas in a future version. Use pandas.concat instead.\n",
            "  ndvi_df = ndvi_df.append({'image_id': image_id, 'ndvi': ndvi_value}, ignore_index=True)\n",
            "<ipython-input-9-555d4ea9d758>:30: FutureWarning: The frame.append method is deprecated and will be removed from pandas in a future version. Use pandas.concat instead.\n",
            "  ndvi_df = ndvi_df.append({'image_id': image_id, 'ndvi': ndvi_value}, ignore_index=True)\n",
            "<ipython-input-9-555d4ea9d758>:30: FutureWarning: The frame.append method is deprecated and will be removed from pandas in a future version. Use pandas.concat instead.\n",
            "  ndvi_df = ndvi_df.append({'image_id': image_id, 'ndvi': ndvi_value}, ignore_index=True)\n",
            "<ipython-input-9-555d4ea9d758>:30: FutureWarning: The frame.append method is deprecated and will be removed from pandas in a future version. Use pandas.concat instead.\n",
            "  ndvi_df = ndvi_df.append({'image_id': image_id, 'ndvi': ndvi_value}, ignore_index=True)\n",
            "<ipython-input-9-555d4ea9d758>:30: FutureWarning: The frame.append method is deprecated and will be removed from pandas in a future version. Use pandas.concat instead.\n",
            "  ndvi_df = ndvi_df.append({'image_id': image_id, 'ndvi': ndvi_value}, ignore_index=True)\n",
            "<ipython-input-9-555d4ea9d758>:30: FutureWarning: The frame.append method is deprecated and will be removed from pandas in a future version. Use pandas.concat instead.\n",
            "  ndvi_df = ndvi_df.append({'image_id': image_id, 'ndvi': ndvi_value}, ignore_index=True)\n",
            "<ipython-input-9-555d4ea9d758>:30: FutureWarning: The frame.append method is deprecated and will be removed from pandas in a future version. Use pandas.concat instead.\n",
            "  ndvi_df = ndvi_df.append({'image_id': image_id, 'ndvi': ndvi_value}, ignore_index=True)\n",
            "<ipython-input-9-555d4ea9d758>:30: FutureWarning: The frame.append method is deprecated and will be removed from pandas in a future version. Use pandas.concat instead.\n",
            "  ndvi_df = ndvi_df.append({'image_id': image_id, 'ndvi': ndvi_value}, ignore_index=True)\n",
            "<ipython-input-9-555d4ea9d758>:30: FutureWarning: The frame.append method is deprecated and will be removed from pandas in a future version. Use pandas.concat instead.\n",
            "  ndvi_df = ndvi_df.append({'image_id': image_id, 'ndvi': ndvi_value}, ignore_index=True)\n"
          ]
        },
        {
          "output_type": "stream",
          "name": "stdout",
          "text": [
            "                image_id      ndvi\n",
            "0   LC08_044034_20130409  0.649347\n",
            "1   LC08_044034_20130416  0.611197\n",
            "2   LC08_044034_20130603  0.562339\n",
            "3   LC08_044034_20130619  0.576914\n",
            "4   LC08_044034_20130705  0.622691\n",
            "5   LC08_044034_20130721  0.617317\n",
            "6   LC08_044034_20130806  0.575530\n",
            "7   LC08_044034_20130822  0.599776\n",
            "8   LC08_044034_20130907  0.668696\n",
            "9   LC08_044034_20130923  0.713694\n",
            "10  LC08_044034_20131009  0.670517\n",
            "11  LC08_044034_20131025  0.675733\n",
            "12  LC08_044034_20131110  0.627347\n",
            "13  LC08_044034_20131126  0.645191\n",
            "14  LC08_044034_20131212  0.681148\n",
            "15  LC08_044034_20131228  0.607627\n",
            "16  LC08_044034_20140113  0.606061\n",
            "17  LC08_044034_20140129  0.029374\n",
            "18  LC08_044034_20140214  0.029597\n",
            "19  LC08_044034_20140318  0.645625\n",
            "20  LC08_044034_20140403  0.333333\n",
            "21  LC08_044034_20140419  0.652893\n",
            "22  LC08_044034_20140505  0.063379\n",
            "23  LC08_044034_20140521  0.635908\n",
            "24  LC08_044034_20140606  0.640540\n",
            "25  LC08_044034_20140622  0.612822\n",
            "26  LC08_044034_20140708  0.622019\n",
            "27  LC08_044034_20140724  0.600531\n",
            "28  LC08_044034_20140809  0.611285\n",
            "29  LC08_044034_20140825  0.089442\n",
            "30  LC08_044034_20140910  0.512375\n",
            "31  LC08_044034_20140926  0.475362\n",
            "32  LC08_044034_20141012  0.487757\n",
            "33  LC08_044034_20141028  0.581673\n"
          ]
        },
        {
          "output_type": "stream",
          "name": "stderr",
          "text": [
            "<ipython-input-9-555d4ea9d758>:30: FutureWarning: The frame.append method is deprecated and will be removed from pandas in a future version. Use pandas.concat instead.\n",
            "  ndvi_df = ndvi_df.append({'image_id': image_id, 'ndvi': ndvi_value}, ignore_index=True)\n"
          ]
        }
      ]
    },
    {
      "cell_type": "code",
      "source": [
        "ndvi_df.shape"
      ],
      "metadata": {
        "colab": {
          "base_uri": "https://localhost:8080/",
          "height": 34
        },
        "id": "RlKjpzrZaFsf",
        "outputId": "4ef91d8e-82ce-46e1-8b8e-985bffc774c2"
      },
      "execution_count": null,
      "outputs": [
        {
          "output_type": "display_data",
          "data": {
            "text/plain": [
              "<IPython.core.display.HTML object>"
            ],
            "text/html": [
              "\n",
              "            <style>\n",
              "                .geemap-dark {\n",
              "                    --jp-widgets-color: white;\n",
              "                    --jp-widgets-label-color: white;\n",
              "                    --jp-ui-font-color1: white;\n",
              "                    --jp-layout-color2: #454545;\n",
              "                    background-color: #383838;\n",
              "                }\n",
              "                    \n",
              "                .geemap-dark .jupyter-button {\n",
              "                    --jp-layout-color3: #383838;\n",
              "                }\n",
              "                \n",
              "                .geemap-colab {\n",
              "                    background-color: var(--colab-primary-surface-color, white);\n",
              "                }\n",
              "                    \n",
              "                .geemap-colab .jupyter-button {\n",
              "                    --jp-layout-color3: var(--colab-primary-surface-color, white);\n",
              "                }\n",
              "            </style>\n",
              "            "
            ]
          },
          "metadata": {}
        },
        {
          "output_type": "execute_result",
          "data": {
            "text/plain": [
              "(34, 2)"
            ]
          },
          "metadata": {},
          "execution_count": 10
        }
      ]
    },
    {
      "cell_type": "code",
      "source": [
        "import ee\n",
        "\n",
        "# Initialize the Earth Engine module.\n",
        "ee.Initialize()\n",
        "\n",
        "# Define a region of interest.\n",
        "roi = ee.Geometry.Polygon(\n",
        "  [[[76.842,11.481],\n",
        "    [77.249,11.481],\n",
        "    [77.249,10.935],\n",
        "    [76.842,10.935],\n",
        "    [76.842,11.481]]]\n",
        ")\n",
        "\n",
        "# Filter the L8 collection to a single date.\n",
        "collection = ee.ImageCollection('LANDSAT/LC08/C01/T1') \\\n",
        "    .filterDate('2020-01-01', '2020-12-31') \\\n",
        "    .filterBounds(roi)\n",
        "\n",
        "# Make a cloud-free composite.\n",
        "composite = ee.Algorithms.Landsat.simpleComposite(collection)\n",
        "\n",
        "# Calculate NDVI.\n",
        "ndvi = composite.normalizedDifference(['B5', 'B4']).rename('NDVI')\n",
        "\n",
        "# Clip the NDVI to the ROI.\n",
        "clipped = ndvi.clip(roi)\n",
        "\n",
        "# Calculate the mean NDVI for the entire image.\n",
        "mean_ndvi = clipped.reduceRegion(reducer=ee.Reducer.mean(), geometry=roi, scale=30, maxPixels=1e9)\n",
        "\n",
        "# Print the result to the console.\n",
        "print('Mean NDVI:', mean_ndvi.getInfo()['NDVI'])\n",
        "\n",
        "# Define a sub-region of interest within the clipped image.\n",
        "sub_roi = ee.Geometry.Rectangle([76.9, 11.2, 77.0, 11.1])\n",
        "\n",
        "# Calculate the mean NDVI within the sub-region.\n",
        "mean_ndvi_sub = clipped.reduceRegion(reducer=ee.Reducer.mean(), geometry=sub_roi, scale=30, maxPixels=1e9)\n",
        "\n",
        "# Print the result to the console.\n",
        "print('Mean NDVI in sub-region:', mean_ndvi_sub.getInfo()['NDVI'])"
      ],
      "metadata": {
        "id": "28djWy2ldPA2",
        "colab": {
          "base_uri": "https://localhost:8080/",
          "height": 51
        },
        "outputId": "62407b5c-047c-4eeb-d620-328263fb968c"
      },
      "execution_count": null,
      "outputs": [
        {
          "output_type": "display_data",
          "data": {
            "text/plain": [
              "<IPython.core.display.HTML object>"
            ],
            "text/html": [
              "\n",
              "            <style>\n",
              "                .geemap-dark {\n",
              "                    --jp-widgets-color: white;\n",
              "                    --jp-widgets-label-color: white;\n",
              "                    --jp-ui-font-color1: white;\n",
              "                    --jp-layout-color2: #454545;\n",
              "                    background-color: #383838;\n",
              "                }\n",
              "                    \n",
              "                .geemap-dark .jupyter-button {\n",
              "                    --jp-layout-color3: #383838;\n",
              "                }\n",
              "                \n",
              "                .geemap-colab {\n",
              "                    background-color: var(--colab-primary-surface-color, white);\n",
              "                }\n",
              "                    \n",
              "                .geemap-colab .jupyter-button {\n",
              "                    --jp-layout-color3: var(--colab-primary-surface-color, white);\n",
              "                }\n",
              "            </style>\n",
              "            "
            ]
          },
          "metadata": {}
        },
        {
          "output_type": "stream",
          "name": "stdout",
          "text": [
            "Mean NDVI: 0.41911560093170225\n",
            "Mean NDVI in sub-region: 0.4183791543364513\n"
          ]
        }
      ]
    },
    {
      "cell_type": "code",
      "source": [
        "import ee\n",
        "\n",
        "# Initialize the Earth Engine module.\n",
        "ee.Initialize()\n",
        "\n",
        "# Define a region of interest.\n",
        "roi = ee.Geometry.Rectangle([80.18, 12.80, 80.27, 13.04])\n",
        "\n",
        "# Filter the L8 collection to a single date.\n",
        "collection = ee.ImageCollection('LANDSAT/LC08/C01/T1') \\\n",
        "    .filterDate('2020-01-01', '2020-12-31') \\\n",
        "    .filterBounds(roi)\n",
        "\n",
        "# Make a cloud-free composite.\n",
        "composite = ee.Algorithms.Landsat.simpleComposite(collection)\n",
        "\n",
        "# Calculate NDVI.\n",
        "ndvi = composite.normalizedDifference(['B5', 'B4']).rename('NDVI')\n",
        "\n",
        "# Clip the NDVI to the ROI.\n",
        "clipped = ndvi.clip(roi)\n",
        "\n",
        "# Calculate the mean NDVI for the entire image.\n",
        "mean_ndvi = clipped.reduceRegion(reducer=ee.Reducer.mean(), geometry=roi, scale=30, maxPixels=1e9)\n",
        "\n",
        "# Print the result to the console.\n",
        "print('Mean NDVI:', mean_ndvi.getInfo()['NDVI'])\n",
        "\n",
        "# Define a sub-region of interest within the clipped image.\n",
        "sub_roi = ee.Geometry.Rectangle([76.9, 11.2, 77.0, 11.1])\n",
        "\n",
        "# Calculate the mean NDVI within the sub-region.\n",
        "mean_ndvi_sub = clipped.reduceRegion(reducer=ee.Reducer.mean(), geometry=sub_roi, scale=30, maxPixels=1e9)\n",
        "\n",
        "# Print the result to the console.\n",
        "print('Mean NDVI in sub-region:', mean_ndvi_sub.getInfo()['NDVI'])"
      ],
      "metadata": {
        "colab": {
          "base_uri": "https://localhost:8080/",
          "height": 51
        },
        "id": "LL7tv-WxEq5A",
        "outputId": "2533d504-da0d-4367-8f47-95c1905cadc0"
      },
      "execution_count": null,
      "outputs": [
        {
          "output_type": "display_data",
          "data": {
            "text/plain": [
              "<IPython.core.display.HTML object>"
            ],
            "text/html": [
              "\n",
              "            <style>\n",
              "                .geemap-dark {\n",
              "                    --jp-widgets-color: white;\n",
              "                    --jp-widgets-label-color: white;\n",
              "                    --jp-ui-font-color1: white;\n",
              "                    --jp-layout-color2: #454545;\n",
              "                    background-color: #383838;\n",
              "                }\n",
              "                    \n",
              "                .geemap-dark .jupyter-button {\n",
              "                    --jp-layout-color3: #383838;\n",
              "                }\n",
              "                \n",
              "                .geemap-colab {\n",
              "                    background-color: var(--colab-primary-surface-color, white);\n",
              "                }\n",
              "                    \n",
              "                .geemap-colab .jupyter-button {\n",
              "                    --jp-layout-color3: var(--colab-primary-surface-color, white);\n",
              "                }\n",
              "            </style>\n",
              "            "
            ]
          },
          "metadata": {}
        },
        {
          "output_type": "stream",
          "name": "stdout",
          "text": [
            "Mean NDVI: 0.251802540435411\n",
            "Mean NDVI in sub-region: None\n"
          ]
        }
      ]
    },
    {
      "cell_type": "code",
      "source": [
        "import ee\n",
        "\n",
        "# Initialize the Earth Engine module.\n",
        "ee.Initialize()\n",
        "\n",
        "# Define a region of interest.\n",
        "roi = ee.Geometry.Rectangle([76.842, 11.481, 77.249, 10.935])\n",
        "\n",
        "# Filter the L8 collection to a single date.\n",
        "collection = ee.ImageCollection('LANDSAT/LC08/C01/T1') \\\n",
        "    .filterDate('2020-02-01', '2020-03-31') \\\n",
        "    .filterBounds(roi)"
      ],
      "metadata": {
        "colab": {
          "base_uri": "https://localhost:8080/",
          "height": 17
        },
        "id": "ZKhSPmgRzTSb",
        "outputId": "b2c4033e-c1b8-4aab-d17f-0556da6726aa"
      },
      "execution_count": null,
      "outputs": [
        {
          "output_type": "display_data",
          "data": {
            "text/plain": [
              "<IPython.core.display.HTML object>"
            ],
            "text/html": [
              "\n",
              "            <style>\n",
              "                .geemap-dark {\n",
              "                    --jp-widgets-color: white;\n",
              "                    --jp-widgets-label-color: white;\n",
              "                    --jp-ui-font-color1: white;\n",
              "                    --jp-layout-color2: #454545;\n",
              "                    background-color: #383838;\n",
              "                }\n",
              "                    \n",
              "                .geemap-dark .jupyter-button {\n",
              "                    --jp-layout-color3: #383838;\n",
              "                }\n",
              "                \n",
              "                .geemap-colab {\n",
              "                    background-color: var(--colab-primary-surface-color, white);\n",
              "                }\n",
              "                    \n",
              "                .geemap-colab .jupyter-button {\n",
              "                    --jp-layout-color3: var(--colab-primary-surface-color, white);\n",
              "                }\n",
              "            </style>\n",
              "            "
            ]
          },
          "metadata": {}
        }
      ]
    },
    {
      "cell_type": "code",
      "source": [
        "collection"
      ],
      "metadata": {
        "colab": {
          "base_uri": "https://localhost:8080/",
          "height": 68
        },
        "id": "LiV5Y-72zVEc",
        "outputId": "97014db6-a191-4a6b-805a-e42dbf822f4a"
      },
      "execution_count": null,
      "outputs": [
        {
          "output_type": "display_data",
          "data": {
            "text/plain": [
              "<IPython.core.display.HTML object>"
            ],
            "text/html": [
              "\n",
              "            <style>\n",
              "                .geemap-dark {\n",
              "                    --jp-widgets-color: white;\n",
              "                    --jp-widgets-label-color: white;\n",
              "                    --jp-ui-font-color1: white;\n",
              "                    --jp-layout-color2: #454545;\n",
              "                    background-color: #383838;\n",
              "                }\n",
              "                    \n",
              "                .geemap-dark .jupyter-button {\n",
              "                    --jp-layout-color3: #383838;\n",
              "                }\n",
              "                \n",
              "                .geemap-colab {\n",
              "                    background-color: var(--colab-primary-surface-color, white);\n",
              "                }\n",
              "                    \n",
              "                .geemap-colab .jupyter-button {\n",
              "                    --jp-layout-color3: var(--colab-primary-surface-color, white);\n",
              "                }\n",
              "            </style>\n",
              "            "
            ]
          },
          "metadata": {}
        },
        {
          "output_type": "execute_result",
          "data": {
            "text/plain": [
              "<ee.imagecollection.ImageCollection at 0x7abe6230bfd0>"
            ],
            "text/html": [
              "<div><style>:root {\n",
              "  --font-color-primary: var(--jp-content-font-color0, rgba(0, 0, 0, 1));\n",
              "  --font-color-secondary: var(--jp-content-font-color2, rgba(0, 0, 0, 0.6));\n",
              "  --font-color-accent: rgba(123, 31, 162, 1);\n",
              "  --border-color: var(--jp-border-color2, #e0e0e0);\n",
              "  --background-color: var(--jp-layout-color0, white);\n",
              "  --background-color-row-even: var(--jp-layout-color1, white);\n",
              "  --background-color-row-odd: var(--jp-layout-color2, #eeeeee);\n",
              "}\n",
              "\n",
              "html[theme=\"dark\"],\n",
              "body[data-theme=\"dark\"],\n",
              "body.vscode-dark {\n",
              "  --font-color-primary: rgba(255, 255, 255, 1);\n",
              "  --font-color-secondary: rgba(255, 255, 255, 0.6);\n",
              "  --font-color-accent: rgb(173, 132, 190);\n",
              "  --border-color: #2e2e2e;\n",
              "  --background-color: #111111;\n",
              "  --background-color-row-even: #111111;\n",
              "  --background-color-row-odd: #313131;\n",
              "}\n",
              "\n",
              ".ee {\n",
              "  padding: 1em;\n",
              "  line-height: 1.5em;\n",
              "  min-width: 300px;\n",
              "  max-width: 1200px;\n",
              "  overflow-y: scroll;\n",
              "  max-height: 600px;\n",
              "  border: 1px solid var(--border-color);\n",
              "  font-family: monospace;\n",
              "}\n",
              "\n",
              ".ee li {\n",
              "  list-style-type: none;\n",
              "}\n",
              "\n",
              ".ee ul {\n",
              "  padding-left: 1.5em !important;\n",
              "  margin: 0;\n",
              "}\n",
              "\n",
              ".ee > ul {\n",
              "  padding-left: 0 !important;\n",
              "}\n",
              "\n",
              ".ee-open,\n",
              ".ee-shut {\n",
              "  color: var(--font-color-secondary);\n",
              "  cursor: pointer;\n",
              "  margin: 0;\n",
              "}\n",
              "\n",
              ".ee-open:hover,\n",
              ".ee-shut:hover {\n",
              "  color: var(--font-color-primary);\n",
              "}\n",
              "\n",
              ".ee-k {\n",
              "  color: var(--font-color-accent);\n",
              "  margin-right: 6px;\n",
              "}\n",
              "\n",
              ".ee-v {\n",
              "  color: var(--font-color-primary);\n",
              "}\n",
              "\n",
              ".ee-toggle {\n",
              "  display: none;\n",
              "}\n",
              "\n",
              ".ee-shut + ul {\n",
              "  display: none;\n",
              "}\n",
              "\n",
              ".ee-open + ul {\n",
              "  display: block;\n",
              "}\n",
              "\n",
              ".ee-shut::before {\n",
              "  display: inline-block;\n",
              "  content: \"▼\";\n",
              "  margin-right: 6px;\n",
              "  transform: rotate(-90deg);\n",
              "  transition: transform 0.2s;\n",
              "}\n",
              "\n",
              ".ee-open::before {\n",
              "  transform: rotate(0deg);\n",
              "  display: inline-block;\n",
              "  content: \"▼\";\n",
              "  margin-right: 6px;\n",
              "  transition: transform 0.2s;\n",
              "}\n",
              "</style><div class='ee'><ul><li><label class='ee-shut'>ImageCollection LANDSAT/LC08/C01/T1  (6 elements)<input type='checkbox' class='ee-toggle'></label><ul><li><span class='ee-k'>type:</span><span class='ee-v'>ImageCollection</span></li><li><span class='ee-k'>id:</span><span class='ee-v'>LANDSAT/LC08/C01/T1</span></li><li><span class='ee-k'>version:</span><span class='ee-v'>1648901698996207</span></li><li><label class='ee-shut'>bands: []<input type='checkbox' class='ee-toggle'></label><ul></ul></li><li><label class='ee-shut'>properties: Object (37 properties)<input type='checkbox' class='ee-toggle'></label><ul><li><label class='ee-shut'>date_range: [1365638400000, 1641081600000]<input type='checkbox' class='ee-toggle'></label><ul><li><span class='ee-k'>0:</span><span class='ee-v'>1365638400000</span></li><li><span class='ee-k'>1:</span><span class='ee-v'>1641081600000</span></li></ul></li><li><span class='ee-k'>description:</span><span class='ee-v'><p>empty</p><p><b>Provider: <a href=\"https://landsat.usgs.gov/\">USGS</a></b><br><p><b>Revisit Interval</b><br>\n",
              "  16 days\n",
              "</p><p><b>Bands</b><table class=\"eecat\"><tr><th scope=\"col\">Name</th><th scope=\"col\">Pixel Size</th><th scope=\"col\">Wavelength</th><th scope=\"col\">Description</th></tr><tr><td>B1</td><td>\n",
              "      30 meters\n",
              "</td><td>0.43 - 0.45 µm</td><td><p>Coastal aerosol</p></td></tr><tr><td>B2</td><td>\n",
              "      30 meters\n",
              "</td><td>0.45 - 0.51 µm</td><td><p>Blue</p></td></tr><tr><td>B3</td><td>\n",
              "      30 meters\n",
              "</td><td>0.53 - 0.59 µm</td><td><p>Green</p></td></tr><tr><td>B4</td><td>\n",
              "      30 meters\n",
              "</td><td>0.64 - 0.67 µm</td><td><p>Red</p></td></tr><tr><td>B5</td><td>\n",
              "      30 meters\n",
              "</td><td>0.85 - 0.88 µm</td><td><p>Near infrared</p></td></tr><tr><td>B6</td><td>\n",
              "      30 meters\n",
              "</td><td>1.57 - 1.65 µm</td><td><p>Shortwave infrared 1</p></td></tr><tr><td>B7</td><td>\n",
              "      30 meters\n",
              "</td><td>2.11 - 2.29 µm</td><td><p>Shortwave infrared 2</p></td></tr><tr><td>B8</td><td>\n",
              "      15 meters\n",
              "</td><td>0.52 - 0.90 µm</td><td><p>Band 8 Panchromatic</p></td></tr><tr><td>B9</td><td>\n",
              "      15 meters\n",
              "</td><td>1.36 - 1.38 µm</td><td><p>Cirrus</p></td></tr><tr><td>B10</td><td>\n",
              "      30 meters\n",
              "</td><td>10.60 - 11.19 µm</td><td><p>Thermal infrared 1, resampled from 100m to 30m</p></td></tr><tr><td>B11</td><td>\n",
              "      30 meters\n",
              "</td><td>11.50 - 12.51 µm</td><td><p>Thermal infrared 2, resampled from 100m to 30m</p></td></tr><tr><td>BQA</td><td>\n",
              "      30 meters\n",
              "</td><td></td><td><p>Landsat Collection 1 QA Bitmask (<a href=\"https://www.usgs.gov/land-resources/nli/landsat/landsat-collection-1-level-1-quality-assessment-band\">See Landsat QA page</a>)</p></td></tr><tr><td colspan=100>\n",
              "      Bitmask for BQA\n",
              "<ul><li>\n",
              "          Bit 0: Designated Fill\n",
              "<ul><li>0: No</li><li>1: Yes</li></ul></li><li>\n",
              "          Bit 1: Terrain Occlusion\n",
              "<ul><li>0: No</li><li>1: Yes</li></ul></li><li>\n",
              "          Bits 2-3: Radiometric Saturation\n",
              "<ul><li>0: No bands contain saturation</li><li>1: 1-2 bands contain saturation</li><li>2: 3-4 bands contain saturation</li><li>3: 5 or more bands contain saturation</li></ul></li><li>\n",
              "          Bit 4: Cloud\n",
              "<ul><li>0: No</li><li>1: Yes</li></ul></li><li>\n",
              "          Bits 5-6: Cloud Confidence\n",
              "<ul><li>0: Not Determined / Condition does not exist.</li><li>1: Low, (0-33 percent confidence)</li><li>2: Medium, (34-66 percent confidence)</li><li>3: High, (67-100 percent confidence)</li></ul></li><li>\n",
              "          Bits 7-8: Cloud Shadow Confidence\n",
              "<ul><li>0: Not Determined / Condition does not exist.</li><li>1: Low, (0-33 percent confidence)</li><li>2: Medium, (34-66 percent confidence)</li><li>3: High, (67-100 percent confidence)</li></ul></li><li>\n",
              "          Bits 9-10: Snow / Ice Confidence\n",
              "<ul><li>0: Not Determined / Condition does not exist.</li><li>1: Low, (0-33 percent confidence)</li><li>2: Medium, (34-66 percent confidence)</li><li>3: High, (67-100 percent confidence)</li></ul></li><li>\n",
              "          Bits 11-12: Cirrus Confidence\n",
              "<ul><li>0: Not Determined / Condition does not exist.</li><li>1: Low, (0-33 percent confidence)</li><li>2: Medium, (34-66 percent confidence)</li><li>3: High, (67-100 percent confidence)</li></ul></li></ul></td></tr></table><p><b>Image Properties</b><table class=\"eecat\"><tr><th scope=\"col\">Name</th><th scope=\"col\">Type</th><th scope=\"col\">Description</th></tr><tr><td>BPF_NAME_OLI</td><td>STRING</td><td><p>The file name for the Bias Parameter File (BPF) used to generate the product, if applicable. This only applies to products that contain OLI bands.</p></td></tr><tr><td>BPF_NAME_TIRS</td><td>STRING</td><td><p>The file name for the Bias Parameter File (BPF) used to generate the product, if applicable. This only applies to products that contain TIRS bands.</p></td></tr><tr><td>CLOUD_COVER</td><td>DOUBLE</td><td><p>Percentage cloud cover (0-100), -1 = not calculated.</p></td></tr><tr><td>CLOUD_COVER_LAND</td><td>DOUBLE</td><td><p>Percentage cloud cover over land (0-100), -1 = not calculated.</p></td></tr><tr><td>COLLECTION_CATEGORY</td><td>STRING</td><td><p>Tier of scene. (T1 or T2)</p></td></tr><tr><td>COLLECTION_NUMBER</td><td>DOUBLE</td><td><p>Number of collection.</p></td></tr><tr><td>CPF_NAME</td><td>STRING</td><td><p>Calibration parameter file name.</p></td></tr><tr><td>DATA_TYPE</td><td>STRING</td><td><p>Data type identifier. (L1T or L1G)</p></td></tr><tr><td>DATE_ACQUIRED</td><td>STRING</td><td><p>Image acquisition date. &quot;YYYY-MM-DD&quot;</p></td></tr><tr><td>DATUM</td><td>STRING</td><td><p>Datum used in image creation.</p></td></tr><tr><td>EARTH_SUN_DISTANCE</td><td>DOUBLE</td><td><p>Earth sun distance in astronomical units (AU).</p></td></tr><tr><td>ELEVATION_SOURCE</td><td>STRING</td><td><p>Elevation model source used for standard terrain corrected (L1T) products.</p></td></tr><tr><td>ELLIPSOID</td><td>STRING</td><td><p>Ellipsoid used in image creation.</p></td></tr><tr><td>EPHEMERIS_TYPE</td><td>STRING</td><td><p>Ephemeris data type used to perform geometric correction. (Definitive or Predictive)</p></td></tr><tr><td>FILE_DATE</td><td>DOUBLE</td><td><p>File date in milliseconds since epoch.</p></td></tr><tr><td>GEOMETRIC_RMSE_MODEL</td><td>DOUBLE</td><td><p>Combined Root Mean Square Error (RMSE) of the geometric residuals\n",
              "(metres) in both across-track and along-track directions\n",
              "measured on the GCPs used in geometric precision correction.\n",
              "Not present in L1G products.</p></td></tr><tr><td>GEOMETRIC_RMSE_MODEL_X</td><td>DOUBLE</td><td><p>RMSE of the X direction geometric residuals (in metres) measured\n",
              "on the GCPs used in geometric precision correction. Not present in\n",
              "L1G products.</p></td></tr><tr><td>GEOMETRIC_RMSE_MODEL_Y</td><td>DOUBLE</td><td><p>RMSE of the Y direction geometric residuals (in metres) measured\n",
              "on the GCPs used in geometric precision correction. Not present in\n",
              "L1G products.</p></td></tr><tr><td>GRID_CELL_SIZE_PANCHROMATIC</td><td>DOUBLE</td><td><p>Grid cell size used in creating the image for the panchromatic band.</p></td></tr><tr><td>GRID_CELL_SIZE_REFLECTIVE</td><td>DOUBLE</td><td><p>Grid cell size used in creating the image for the reflective band.</p></td></tr><tr><td>GRID_CELL_SIZE_THERMAL</td><td>DOUBLE</td><td><p>Grid cell size used in creating the image for the thermal band.</p></td></tr><tr><td>GROUND_CONTROL_POINTS_MODEL</td><td>DOUBLE</td><td><p>The number of ground control points used. Not used in L1GT products.\n",
              "Values: 0 - 999 (0 is used for L1T products that have used\n",
              "Multi-scene refinement).</p></td></tr><tr><td>GROUND_CONTROL_POINTS_VERSION</td><td>DOUBLE</td><td><p>The number of ground control points used in the verification of\n",
              "the terrain corrected product. Values: -1 to 1615 (-1 = not available)</p></td></tr><tr><td>IMAGE_QUALITY</td><td>DOUBLE</td><td><p>Image quality, 0 = worst, 9 = best, -1 = quality not calculated</p></td></tr><tr><td>IMAGE_QUALITY_OLI</td><td>DOUBLE</td><td><p>The composite image quality for the OLI bands. Values: 9 = Best. 1 = Worst. 0 = Image quality not calculated. This parameter is only present if OLI bands are present in the product.</p></td></tr><tr><td>IMAGE_QUALITY_TIRS</td><td>DOUBLE</td><td><p>The composite image quality for the TIRS bands. Values: 9 = Best. 1 = Worst. 0 = Image quality not calculated. This parameter is only present if OLI bands are present in the product.</p></td></tr><tr><td>K1_CONSTANT_BAND_10</td><td>DOUBLE</td><td><p>Calibration K1 constant for Band 10 radiance to temperature conversion.</p></td></tr><tr><td>K1_CONSTANT_BAND_11</td><td>DOUBLE</td><td><p>Calibration K1 constant for Band 11 radiance to temperature conversion.</p></td></tr><tr><td>K2_CONSTANT_BAND_10</td><td>DOUBLE</td><td><p>Calibration K2 constant for Band 10 radiance to temperature conversion.</p></td></tr><tr><td>K2_CONSTANT_BAND_11</td><td>DOUBLE</td><td><p>Calibration K2 constant for Band 11 radiance to temperature conversion.</p></td></tr><tr><td>LANDSAT_PRODUCT_ID</td><td>STRING</td><td><p>The naming convention of each Landsat Collection 1 Level-1 image based\n",
              "on acquisition parameters and processing parameters.</p><p>Format: LXSS_LLLL_PPPRRR_YYYYMMDD_yyyymmdd_CC_TX</p><ul><li>L = Landsat</li><li>X = Sensor (O = Operational Land Imager,\n",
              "T = Thermal Infrared Sensor, C = Combined OLI/TIRS)</li><li>SS = Satellite (08 = Landsat 8)</li><li>LLLL = Processing Correction Level (L1TP = precision and terrain,\n",
              "L1GT = systematic terrain, L1GS = systematic)</li><li>PPP = WRS Path</li><li>RRR = WRS Row</li><li>YYYYMMDD = Acquisition Date expressed in Year, Month, Day</li><li>yyyymmdd = Processing Date expressed in Year, Month, Day</li><li>CC = Collection Number (01)</li><li>TX = Collection Category (RT = Real Time, T1 = Tier 1, T2 = Tier 2)</li></ul></td></tr><tr><td>LANDSAT_SCENE_ID</td><td>STRING</td><td><p>The Pre-Collection naming convention of each image is based on acquisition\n",
              "parameters. This was the naming convention used prior to Collection 1.</p><p>Format: LXSPPPRRRYYYYDDDGSIVV</p><ul><li>L = Landsat</li><li>X = Sensor (O = Operational Land Imager, T = Thermal Infrared Sensor, C = Combined OLI/TIRS)</li><li>S = Satellite (08 = Landsat 8)</li><li>PPP = WRS Path</li><li>RRR = WRS Row</li><li>YYYY = Year of Acquisition</li><li>DDD = Julian Day of Acquisition</li><li>GSI = Ground Station Identifier</li><li>VV = Version</li></ul></td></tr><tr><td>MAP_PROJECTION</td><td>STRING</td><td><p>Projection used to represent the 3-dimensional surface of the earth for the Level-1 product.</p></td></tr><tr><td>NADIR_OFFNADIR</td><td>STRING</td><td><p>Nadir or Off-Nadir condition of the scene.</p></td></tr><tr><td>ORIENTATION</td><td>STRING</td><td><p>Orientation used in creating the image. Values: NOMINAL = Nominal Path, NORTH_UP = North Up, TRUE_NORTH = True North, USER = User</p></td></tr><tr><td>PANCHROMATIC_LINES</td><td>DOUBLE</td><td><p>Number of product lines for the panchromatic band.</p></td></tr><tr><td>PANCHROMATIC_SAMPLES</td><td>DOUBLE</td><td><p>Number of product samples for the panchromatic bands.</p></td></tr><tr><td>PROCESSING_SOFTWARE_VERSION</td><td>STRING</td><td><p>Name and version of the processing software used to generate the L1 product.</p></td></tr><tr><td>RADIANCE_ADD_BAND_1</td><td>DOUBLE</td><td><p>Additive rescaling factor used to convert calibrated DN to radiance for Band 1.</p></td></tr><tr><td>RADIANCE_ADD_BAND_10</td><td>DOUBLE</td><td><p>Additive rescaling factor used to convert calibrated DN to radiance for Band 10.</p></td></tr><tr><td>RADIANCE_ADD_BAND_11</td><td>DOUBLE</td><td><p>Additive rescaling factor used to convert calibrated DN to radiance for Band 11.</p></td></tr><tr><td>RADIANCE_ADD_BAND_2</td><td>DOUBLE</td><td><p>Additive rescaling factor used to convert calibrated DN to radiance for Band 2.</p></td></tr><tr><td>RADIANCE_ADD_BAND_3</td><td>DOUBLE</td><td><p>Additive rescaling factor used to convert calibrated DN to radiance for Band 3.</p></td></tr><tr><td>RADIANCE_ADD_BAND_4</td><td>DOUBLE</td><td><p>Additive rescaling factor used to convert calibrated DN to radiance for Band 4.</p></td></tr><tr><td>RADIANCE_ADD_BAND_5</td><td>DOUBLE</td><td><p>Additive rescaling factor used to convert calibrated DN to radiance for Band 5.</p></td></tr><tr><td>RADIANCE_ADD_BAND_6</td><td>DOUBLE</td><td><p>Additive rescaling factor used to convert calibrated DN to radiance for Band 6.</p></td></tr><tr><td>RADIANCE_ADD_BAND_7</td><td>DOUBLE</td><td><p>Additive rescaling factor used to convert calibrated DN to radiance for Band 7.</p></td></tr><tr><td>RADIANCE_ADD_BAND_8</td><td>DOUBLE</td><td><p>Additive rescaling factor used to convert calibrated DN to radiance for Band 8.</p></td></tr><tr><td>RADIANCE_ADD_BAND_9</td><td>DOUBLE</td><td><p>Additive rescaling factor used to convert calibrated DN to radiance for Band 9.</p></td></tr><tr><td>RADIANCE_MULT_BAND_1</td><td>DOUBLE</td><td><p>Multiplicative rescaling factor used to convert calibrated Band 1 DN to radiance.</p></td></tr><tr><td>RADIANCE_MULT_BAND_10</td><td>DOUBLE</td><td><p>Multiplicative rescaling factor used to convert calibrated Band 10 DN to radiance.</p></td></tr><tr><td>RADIANCE_MULT_BAND_11</td><td>DOUBLE</td><td><p>Multiplicative rescaling factor used to convert calibrated Band 11 DN to radiance.</p></td></tr><tr><td>RADIANCE_MULT_BAND_2</td><td>DOUBLE</td><td><p>Multiplicative rescaling factor used to convert calibrated Band 2 DN to radiance.</p></td></tr><tr><td>RADIANCE_MULT_BAND_3</td><td>DOUBLE</td><td><p>Multiplicative rescaling factor used to convert calibrated Band 3 DN to radiance.</p></td></tr><tr><td>RADIANCE_MULT_BAND_4</td><td>DOUBLE</td><td><p>Multiplicative rescaling factor used to convert calibrated Band 4 DN to radiance.</p></td></tr><tr><td>RADIANCE_MULT_BAND_5</td><td>DOUBLE</td><td><p>Multiplicative rescaling factor used to convert calibrated Band 5 DN to radiance.</p></td></tr><tr><td>RADIANCE_MULT_BAND_6</td><td>DOUBLE</td><td><p>Multiplicative rescaling factor used to convert calibrated Band 6 DN to radiance.</p></td></tr><tr><td>RADIANCE_MULT_BAND_7</td><td>DOUBLE</td><td><p>Multiplicative rescaling factor used to convert calibrated Band 7 DN to radiance.</p></td></tr><tr><td>RADIANCE_MULT_BAND_8</td><td>DOUBLE</td><td><p>Multiplicative rescaling factor used to convert calibrated Band 8 DN to radiance.</p></td></tr><tr><td>RADIANCE_MULT_BAND_9</td><td>DOUBLE</td><td><p>Multiplicative rescaling factor used to convert calibrated Band 9 DN to radiance.</p></td></tr><tr><td>REFLECTANCE_ADD_BAND_1</td><td>DOUBLE</td><td><p>Additive rescaling factor used to convert calibrated Band 1 DN to reflectance.</p></td></tr><tr><td>REFLECTANCE_ADD_BAND_2</td><td>DOUBLE</td><td><p>Additive rescaling factor used to convert calibrated Band 2 DN to reflectance.</p></td></tr><tr><td>REFLECTANCE_ADD_BAND_3</td><td>DOUBLE</td><td><p>Additive rescaling factor used to convert calibrated Band 3 DN to reflectance.</p></td></tr><tr><td>REFLECTANCE_ADD_BAND_4</td><td>DOUBLE</td><td><p>Additive rescaling factor used to convert calibrated Band 4 DN to reflectance.</p></td></tr><tr><td>REFLECTANCE_ADD_BAND_5</td><td>DOUBLE</td><td><p>Additive rescaling factor used to convert calibrated Band 5 DN to reflectance.</p></td></tr><tr><td>REFLECTANCE_ADD_BAND_7</td><td>DOUBLE</td><td><p>Multiplicative factor used to convert calibrated Band 7 DN to reflectance.</p></td></tr><tr><td>REFLECTANCE_ADD_BAND_8</td><td>DOUBLE</td><td><p>Multiplicative factor used to convert calibrated Band 8 DN to reflectance.</p></td></tr><tr><td>REFLECTANCE_ADD_BAND_9</td><td>DOUBLE</td><td><p>Minimum achievable spectral reflectance value for Band 8.</p></td></tr><tr><td>REFLECTANCE_MULT_BAND_1</td><td>DOUBLE</td><td><p>Multiplicative factor used to convert calibrated Band 1 DN to reflectance.</p></td></tr><tr><td>REFLECTANCE_MULT_BAND_2</td><td>DOUBLE</td><td><p>Multiplicative factor used to convert calibrated Band 2 DN to reflectance.</p></td></tr><tr><td>REFLECTANCE_MULT_BAND_3</td><td>DOUBLE</td><td><p>Multiplicative factor used to convert calibrated Band 3 DN to reflectance.</p></td></tr><tr><td>REFLECTANCE_MULT_BAND_4</td><td>DOUBLE</td><td><p>Multiplicative factor used to convert calibrated Band 4 DN to reflectance.</p></td></tr><tr><td>REFLECTANCE_MULT_BAND_5</td><td>DOUBLE</td><td><p>Multiplicative factor used to convert calibrated Band 5 DN to reflectance.</p></td></tr><tr><td>REFLECTANCE_MULT_BAND_6</td><td>DOUBLE</td><td><p>Multiplicative factor used to convert calibrated Band 6 DN to reflectance.</p></td></tr><tr><td>REFLECTANCE_MULT_BAND_7</td><td>DOUBLE</td><td><p>Multiplicative factor used to convert calibrated Band 7 DN to reflectance.</p></td></tr><tr><td>REFLECTANCE_MULT_BAND_8</td><td>DOUBLE</td><td><p>Multiplicative factor used to convert calibrated Band 8 DN to reflectance.</p></td></tr><tr><td>REFLECTANCE_MULT_BAND_9</td><td>DOUBLE</td><td><p>Multiplicative factor used to convert calibrated Band 9 DN to reflectance.</p></td></tr><tr><td>REFLECTIVE_LINES</td><td>DOUBLE</td><td><p>Number of product lines for the reflective bands.</p></td></tr><tr><td>REFLECTIVE_SAMPLES</td><td>DOUBLE</td><td><p>Number of product samples for the reflective bands.</p></td></tr><tr><td>REQUEST_ID</td><td>STRING</td><td><p>Request id, nnnyymmdd0000_0000</p><ul><li>nnn = node number</li><li>yy = year</li><li>mm = month</li><li>dd = day</li></ul></td></tr><tr><td>RESAMPLING_OPTION</td><td>STRING</td><td><p>Resampling option used in creating the image.</p></td></tr><tr><td>RLUT_FILE_NAME</td><td>STRING</td><td><p>The file name for the Response Linearization Lookup Table (RLUT) used to generate the product, if applicable.</p></td></tr><tr><td>ROLL_ANGLE</td><td>DOUBLE</td><td><p>The amount of spacecraft roll angle at the scene center.</p></td></tr><tr><td>SATURATION_BAND_1</td><td>STRING</td><td><p>Flag indicating saturated pixels for band 1 (&#39;Y&#39;/&#39;N&#39;)</p></td></tr><tr><td>SATURATION_BAND_10</td><td>STRING</td><td><p>Flag indicating saturated pixels for band 10 (&#39;Y&#39;/&#39;N&#39;)</p></td></tr><tr><td>SATURATION_BAND_11</td><td>STRING</td><td><p>Flag indicating saturated pixels for band 11 (&#39;Y&#39;/&#39;N&#39;)</p></td></tr><tr><td>SATURATION_BAND_2</td><td>STRING</td><td><p>Flag indicating saturated pixels for band 2 (&#39;Y&#39;/&#39;N&#39;)</p></td></tr><tr><td>SATURATION_BAND_3</td><td>STRING</td><td><p>Flag indicating saturated pixels for band 3 (&#39;Y&#39;/&#39;N&#39;)</p></td></tr><tr><td>SATURATION_BAND_4</td><td>STRING</td><td><p>Flag indicating saturated pixels for band 4 (&#39;Y&#39;/&#39;N&#39;)</p></td></tr><tr><td>SATURATION_BAND_5</td><td>STRING</td><td><p>Flag indicating saturated pixels for band 5 (&#39;Y&#39;/&#39;N&#39;)</p></td></tr><tr><td>SATURATION_BAND_6</td><td>STRING</td><td><p>Flag indicating saturated pixels for band 6 (&#39;Y&#39;/&#39;N&#39;)</p></td></tr><tr><td>SATURATION_BAND_7</td><td>STRING</td><td><p>Flag indicating saturated pixels for band 7 (&#39;Y&#39;/&#39;N&#39;)</p></td></tr><tr><td>SATURATION_BAND_8</td><td>STRING</td><td><p>Flag indicating saturated pixels for band 8 (&#39;Y&#39;/&#39;N&#39;)</p></td></tr><tr><td>SATURATION_BAND_9</td><td>STRING</td><td><p>Flag indicating saturated pixels for band 9 (&#39;Y&#39;/&#39;N&#39;)</p></td></tr><tr><td>SCENE_CENTER_TIME</td><td>STRING</td><td><p>Scene center time of acquired image. HH:MM:SS.SSSSSSSZ</p><ul><li>HH = Hour (00-23)</li><li>MM = Minutes</li><li>SS.SSSSSSS = Fractional seconds</li><li>Z = &quot;Zulu&quot; time (same as GMT)</li></ul></td></tr><tr><td>SENSOR_ID</td><td>STRING</td><td><p>Sensor used to capture data.</p></td></tr><tr><td>SPACECRAFT_ID</td><td>STRING</td><td><p>Spacecraft identification.</p></td></tr><tr><td>STATION_ID</td><td>STRING</td><td><p>Ground Station/Organisation that received the data.</p></td></tr><tr><td>SUN_AZIMUTH</td><td>DOUBLE</td><td><p>Sun azimuth angle in degrees for the image center location at the image centre acquisition time.</p></td></tr><tr><td>SUN_ELEVATION</td><td>DOUBLE</td><td><p>Sun elevation angle in degrees for the image center location at the image centre acquisition time.</p></td></tr><tr><td>TARGET_WRS_PATH</td><td>DOUBLE</td><td><p>Nearest WRS-2 path to the line-of-sight scene center of the image.</p></td></tr><tr><td>TARGET_WRS_ROW</td><td>DOUBLE</td><td><p>Nearest WRS-2 row to the line-of-sight scene center of the image. Rows 880-889 and 990-999 are reserved for the polar regions where it is undefined in the WRS-2.</p></td></tr><tr><td>THERMAL_LINES</td><td>DOUBLE</td><td><p>Number of product lines for the thermal band.</p></td></tr><tr><td>THERMAL_SAMPLES</td><td>DOUBLE</td><td><p>Number of product samples for the thermal band.</p></td></tr><tr><td>TIRS_SSM_MODEL</td><td>STRING</td><td><p>Due to an anomalous condition on the Thermal Infrared\n",
              "Sensor (TIRS) Scene Select Mirror (SSM) encoder electronics,\n",
              "this field has been added to indicate which model was used to process the data.\n",
              "(Actual, Preliminary, Final)</p></td></tr><tr><td>TIRS_SSM_POSITION_STATUS</td><td>STRING</td><td><p>TIRS SSM position status.</p></td></tr><tr><td>TIRS_STRAY_LIGHT_CORRECTION_SOURCE</td><td>STRING</td><td><p>TIRS stray light correction source.</p></td></tr><tr><td>TRUNCATION_OLI</td><td>STRING</td><td><p>Region of OLCI truncated.</p></td></tr><tr><td>UTM_ZONE</td><td>DOUBLE</td><td><p>UTM zone number used in product map projection.</p></td></tr><tr><td>WRS_PATH</td><td>DOUBLE</td><td><p>The WRS orbital path number (001 - 251).</p></td></tr><tr><td>WRS_ROW</td><td>DOUBLE</td><td><p>Landsat satellite WRS row (001-248).</p></td></tr></table><p><b>Terms of Use</b><br><p>Landsat datasets are federally created data\n",
              "and therefore reside in the public domain and may be used, transferred, or reproduced without copyright restriction.</p><p>Acknowledgement or credit of the USGS as data source should be provided\n",
              "by including a line of text citation such as the example shown below.</p><p>(Product, Image, Photograph, or Dataset Name) courtesy of\n",
              "the U.S. Geological Survey</p><p>Example: Landsat-7 image courtesy of the U.S. Geological Survey</p><p>See the\n",
              "<a href=\"https://www.usgs.gov/information-policies-and-instructions/usgs-visual-identity-system\">USGS Visual Identity System Guidance</a>\n",
              "for further details on proper citation and acknowledgement of USGS products.</p><style>\n",
              "  table.eecat {\n",
              "  border: 1px solid black;\n",
              "  border-collapse: collapse;\n",
              "  font-size: 13px;\n",
              "  }\n",
              "  table.eecat td, tr, th {\n",
              "  text-align: left; vertical-align: top;\n",
              "  border: 1px solid gray; padding: 3px;\n",
              "  }\n",
              "  td.nobreak { white-space: nowrap; }\n",
              "</style></span></li><li><label class='ee-shut'>keywords: ['global', 'landsat', 'usgs']<input type='checkbox' class='ee-toggle'></label><ul><li><span class='ee-k'>0:</span><span class='ee-v'>global</span></li><li><span class='ee-k'>1:</span><span class='ee-v'>landsat</span></li><li><span class='ee-k'>2:</span><span class='ee-v'>usgs</span></li></ul></li><li><span class='ee-k'>period:</span><span class='ee-v'>0</span></li><li><label class='ee-shut'>product_tags: List (8 elements)<input type='checkbox' class='ee-toggle'></label><ul><li><span class='ee-k'>0:</span><span class='ee-v'>global</span></li><li><span class='ee-k'>1:</span><span class='ee-v'>oli_tirs</span></li><li><span class='ee-k'>2:</span><span class='ee-v'>l8</span></li><li><span class='ee-k'>3:</span><span class='ee-v'>lc8</span></li><li><span class='ee-k'>4:</span><span class='ee-v'>c1</span></li><li><span class='ee-k'>5:</span><span class='ee-v'>tier1</span></li><li><span class='ee-k'>6:</span><span class='ee-v'>t1</span></li><li><span class='ee-k'>7:</span><span class='ee-v'>radiance</span></li></ul></li><li><span class='ee-k'>provider:</span><span class='ee-v'>USGS</span></li><li><span class='ee-k'>provider_url:</span><span class='ee-v'>https://landsat.usgs.gov/</span></li><li><span class='ee-k'>sample:</span><span class='ee-v'>https://mw1.google.com/ges/dd/images/LANDSAT_RAW_sample.png</span></li><li><label class='ee-shut'>source_tags: ['landsat', 'usgs', 'landsat', 'usgs']<input type='checkbox' class='ee-toggle'></label><ul><li><span class='ee-k'>0:</span><span class='ee-v'>landsat</span></li><li><span class='ee-k'>1:</span><span class='ee-v'>usgs</span></li><li><span class='ee-k'>2:</span><span class='ee-v'>landsat</span></li><li><span class='ee-k'>3:</span><span class='ee-v'>usgs</span></li></ul></li><li><span class='ee-k'>system:visualization_0_bands:</span><span class='ee-v'>B4,B3,B2</span></li><li><span class='ee-k'>system:visualization_0_max:</span><span class='ee-v'>30000.0</span></li><li><span class='ee-k'>system:visualization_0_min:</span><span class='ee-v'>0.0</span></li><li><span class='ee-k'>system:visualization_0_name:</span><span class='ee-v'>True Color (432)</span></li><li><span class='ee-k'>system:visualization_1_bands:</span><span class='ee-v'>B5,B4,B3</span></li><li><span class='ee-k'>system:visualization_1_max:</span><span class='ee-v'>30000.0</span></li><li><span class='ee-k'>system:visualization_1_min:</span><span class='ee-v'>0.0</span></li><li><span class='ee-k'>system:visualization_1_name:</span><span class='ee-v'>Near Infrared (543)</span></li><li><span class='ee-k'>system:visualization_2_bands:</span><span class='ee-v'>B7,B5,B3</span></li><li><span class='ee-k'>system:visualization_2_max:</span><span class='ee-v'>30000.0</span></li><li><span class='ee-k'>system:visualization_2_min:</span><span class='ee-v'>0.0</span></li><li><span class='ee-k'>system:visualization_2_name:</span><span class='ee-v'>Shortwave Infrared (753)</span></li><li><label class='ee-shut'>tags: ['global', 'landsat', 'usgs']<input type='checkbox' class='ee-toggle'></label><ul><li><span class='ee-k'>0:</span><span class='ee-v'>global</span></li><li><span class='ee-k'>1:</span><span class='ee-v'>landsat</span></li><li><span class='ee-k'>2:</span><span class='ee-v'>usgs</span></li></ul></li><li><span class='ee-k'>thumb:</span><span class='ee-v'>https://mw1.google.com/ges/dd/images/LANDSAT_RAW_thumb.png</span></li><li><span class='ee-k'>title:</span><span class='ee-v'>USGS Landsat 8 Collection 1 Tier 1 Raw Scenes</span></li><li><span class='ee-k'>type_name:</span><span class='ee-v'>ImageCollection</span></li><li><span class='ee-k'>visualization_0_bands:</span><span class='ee-v'>B4,B3,B2</span></li><li><span class='ee-k'>visualization_0_max:</span><span class='ee-v'>30000.0</span></li><li><span class='ee-k'>visualization_0_min:</span><span class='ee-v'>0.0</span></li><li><span class='ee-k'>visualization_0_name:</span><span class='ee-v'>True Color (432)</span></li><li><span class='ee-k'>visualization_1_bands:</span><span class='ee-v'>B5,B4,B3</span></li><li><span class='ee-k'>visualization_1_max:</span><span class='ee-v'>30000.0</span></li><li><span class='ee-k'>visualization_1_min:</span><span class='ee-v'>0.0</span></li><li><span class='ee-k'>visualization_1_name:</span><span class='ee-v'>Near Infrared (543)</span></li><li><span class='ee-k'>visualization_2_bands:</span><span class='ee-v'>B7,B5,B3</span></li><li><span class='ee-k'>visualization_2_max:</span><span class='ee-v'>30000.0</span></li><li><span class='ee-k'>visualization_2_min:</span><span class='ee-v'>0.0</span></li><li><span class='ee-k'>visualization_2_name:</span><span class='ee-v'>Shortwave Infrared (753)</span></li></ul></li><li><label class='ee-shut'>features: List (6 elements)<input type='checkbox' class='ee-toggle'></label><ul><li><label class='ee-shut'>0: Image LANDSAT/LC08/C01/T1/LC08_144052_20200212 (12 bands)<input type='checkbox' class='ee-toggle'></label><ul><li><span class='ee-k'>type:</span><span class='ee-v'>Image</span></li><li><span class='ee-k'>id:</span><span class='ee-v'>LANDSAT/LC08/C01/T1/LC08_144052_20200212</span></li><li><span class='ee-k'>version:</span><span class='ee-v'>1582837456248590.0</span></li><li><label class='ee-shut'>bands: List (12 elements)<input type='checkbox' class='ee-toggle'></label><ul><li><label class='ee-shut'>0: \"B1\", unsigned int16, EPSG:32643, 7551x7711 px<input type='checkbox' class='ee-toggle'></label><ul><li><span class='ee-k'>id:</span><span class='ee-v'>B1</span></li><li><span class='ee-k'>crs:</span><span class='ee-v'>EPSG:32643</span></li><li><label class='ee-shut'>crs_transform: [30, 0, 602085, 0, -30, 1394715]<input type='checkbox' class='ee-toggle'></label><ul><li><span class='ee-k'>0:</span><span class='ee-v'>30</span></li><li><span class='ee-k'>1:</span><span class='ee-v'>0</span></li><li><span class='ee-k'>2:</span><span class='ee-v'>602085</span></li><li><span class='ee-k'>3:</span><span class='ee-v'>0</span></li><li><span class='ee-k'>4:</span><span class='ee-v'>-30</span></li><li><span class='ee-k'>5:</span><span class='ee-v'>1394715</span></li></ul></li><li><label class='ee-shut'>data_type: unsigned int16<input type='checkbox' class='ee-toggle'></label><ul><li><span class='ee-k'>type:</span><span class='ee-v'>PixelType</span></li><li><span class='ee-k'>max:</span><span class='ee-v'>65535</span></li><li><span class='ee-k'>min:</span><span class='ee-v'>0</span></li><li><span class='ee-k'>precision:</span><span class='ee-v'>int</span></li></ul></li><li><label class='ee-shut'>dimensions: [7551, 7711]<input type='checkbox' class='ee-toggle'></label><ul><li><span class='ee-k'>0:</span><span class='ee-v'>7551</span></li><li><span class='ee-k'>1:</span><span class='ee-v'>7711</span></li></ul></li></ul></li><li><label class='ee-shut'>1: \"B2\", unsigned int16, EPSG:32643, 7551x7711 px<input type='checkbox' class='ee-toggle'></label><ul><li><span class='ee-k'>id:</span><span class='ee-v'>B2</span></li><li><span class='ee-k'>crs:</span><span class='ee-v'>EPSG:32643</span></li><li><label class='ee-shut'>crs_transform: [30, 0, 602085, 0, -30, 1394715]<input type='checkbox' class='ee-toggle'></label><ul><li><span class='ee-k'>0:</span><span class='ee-v'>30</span></li><li><span class='ee-k'>1:</span><span class='ee-v'>0</span></li><li><span class='ee-k'>2:</span><span class='ee-v'>602085</span></li><li><span class='ee-k'>3:</span><span class='ee-v'>0</span></li><li><span class='ee-k'>4:</span><span class='ee-v'>-30</span></li><li><span class='ee-k'>5:</span><span class='ee-v'>1394715</span></li></ul></li><li><label class='ee-shut'>data_type: unsigned int16<input type='checkbox' class='ee-toggle'></label><ul><li><span class='ee-k'>type:</span><span class='ee-v'>PixelType</span></li><li><span class='ee-k'>max:</span><span class='ee-v'>65535</span></li><li><span class='ee-k'>min:</span><span class='ee-v'>0</span></li><li><span class='ee-k'>precision:</span><span class='ee-v'>int</span></li></ul></li><li><label class='ee-shut'>dimensions: [7551, 7711]<input type='checkbox' class='ee-toggle'></label><ul><li><span class='ee-k'>0:</span><span class='ee-v'>7551</span></li><li><span class='ee-k'>1:</span><span class='ee-v'>7711</span></li></ul></li></ul></li><li><label class='ee-shut'>2: \"B3\", unsigned int16, EPSG:32643, 7551x7711 px<input type='checkbox' class='ee-toggle'></label><ul><li><span class='ee-k'>id:</span><span class='ee-v'>B3</span></li><li><span class='ee-k'>crs:</span><span class='ee-v'>EPSG:32643</span></li><li><label class='ee-shut'>crs_transform: [30, 0, 602085, 0, -30, 1394715]<input type='checkbox' class='ee-toggle'></label><ul><li><span class='ee-k'>0:</span><span class='ee-v'>30</span></li><li><span class='ee-k'>1:</span><span class='ee-v'>0</span></li><li><span class='ee-k'>2:</span><span class='ee-v'>602085</span></li><li><span class='ee-k'>3:</span><span class='ee-v'>0</span></li><li><span class='ee-k'>4:</span><span class='ee-v'>-30</span></li><li><span class='ee-k'>5:</span><span class='ee-v'>1394715</span></li></ul></li><li><label class='ee-shut'>data_type: unsigned int16<input type='checkbox' class='ee-toggle'></label><ul><li><span class='ee-k'>type:</span><span class='ee-v'>PixelType</span></li><li><span class='ee-k'>max:</span><span class='ee-v'>65535</span></li><li><span class='ee-k'>min:</span><span class='ee-v'>0</span></li><li><span class='ee-k'>precision:</span><span class='ee-v'>int</span></li></ul></li><li><label class='ee-shut'>dimensions: [7551, 7711]<input type='checkbox' class='ee-toggle'></label><ul><li><span class='ee-k'>0:</span><span class='ee-v'>7551</span></li><li><span class='ee-k'>1:</span><span class='ee-v'>7711</span></li></ul></li></ul></li><li><label class='ee-shut'>3: \"B4\", unsigned int16, EPSG:32643, 7551x7711 px<input type='checkbox' class='ee-toggle'></label><ul><li><span class='ee-k'>id:</span><span class='ee-v'>B4</span></li><li><span class='ee-k'>crs:</span><span class='ee-v'>EPSG:32643</span></li><li><label class='ee-shut'>crs_transform: [30, 0, 602085, 0, -30, 1394715]<input type='checkbox' class='ee-toggle'></label><ul><li><span class='ee-k'>0:</span><span class='ee-v'>30</span></li><li><span class='ee-k'>1:</span><span class='ee-v'>0</span></li><li><span class='ee-k'>2:</span><span class='ee-v'>602085</span></li><li><span class='ee-k'>3:</span><span class='ee-v'>0</span></li><li><span class='ee-k'>4:</span><span class='ee-v'>-30</span></li><li><span class='ee-k'>5:</span><span class='ee-v'>1394715</span></li></ul></li><li><label class='ee-shut'>data_type: unsigned int16<input type='checkbox' class='ee-toggle'></label><ul><li><span class='ee-k'>type:</span><span class='ee-v'>PixelType</span></li><li><span class='ee-k'>max:</span><span class='ee-v'>65535</span></li><li><span class='ee-k'>min:</span><span class='ee-v'>0</span></li><li><span class='ee-k'>precision:</span><span class='ee-v'>int</span></li></ul></li><li><label class='ee-shut'>dimensions: [7551, 7711]<input type='checkbox' class='ee-toggle'></label><ul><li><span class='ee-k'>0:</span><span class='ee-v'>7551</span></li><li><span class='ee-k'>1:</span><span class='ee-v'>7711</span></li></ul></li></ul></li><li><label class='ee-shut'>4: \"B5\", unsigned int16, EPSG:32643, 7551x7711 px<input type='checkbox' class='ee-toggle'></label><ul><li><span class='ee-k'>id:</span><span class='ee-v'>B5</span></li><li><span class='ee-k'>crs:</span><span class='ee-v'>EPSG:32643</span></li><li><label class='ee-shut'>crs_transform: [30, 0, 602085, 0, -30, 1394715]<input type='checkbox' class='ee-toggle'></label><ul><li><span class='ee-k'>0:</span><span class='ee-v'>30</span></li><li><span class='ee-k'>1:</span><span class='ee-v'>0</span></li><li><span class='ee-k'>2:</span><span class='ee-v'>602085</span></li><li><span class='ee-k'>3:</span><span class='ee-v'>0</span></li><li><span class='ee-k'>4:</span><span class='ee-v'>-30</span></li><li><span class='ee-k'>5:</span><span class='ee-v'>1394715</span></li></ul></li><li><label class='ee-shut'>data_type: unsigned int16<input type='checkbox' class='ee-toggle'></label><ul><li><span class='ee-k'>type:</span><span class='ee-v'>PixelType</span></li><li><span class='ee-k'>max:</span><span class='ee-v'>65535</span></li><li><span class='ee-k'>min:</span><span class='ee-v'>0</span></li><li><span class='ee-k'>precision:</span><span class='ee-v'>int</span></li></ul></li><li><label class='ee-shut'>dimensions: [7551, 7711]<input type='checkbox' class='ee-toggle'></label><ul><li><span class='ee-k'>0:</span><span class='ee-v'>7551</span></li><li><span class='ee-k'>1:</span><span class='ee-v'>7711</span></li></ul></li></ul></li><li><label class='ee-shut'>5: \"B6\", unsigned int16, EPSG:32643, 7551x7711 px<input type='checkbox' class='ee-toggle'></label><ul><li><span class='ee-k'>id:</span><span class='ee-v'>B6</span></li><li><span class='ee-k'>crs:</span><span class='ee-v'>EPSG:32643</span></li><li><label class='ee-shut'>crs_transform: [30, 0, 602085, 0, -30, 1394715]<input type='checkbox' class='ee-toggle'></label><ul><li><span class='ee-k'>0:</span><span class='ee-v'>30</span></li><li><span class='ee-k'>1:</span><span class='ee-v'>0</span></li><li><span class='ee-k'>2:</span><span class='ee-v'>602085</span></li><li><span class='ee-k'>3:</span><span class='ee-v'>0</span></li><li><span class='ee-k'>4:</span><span class='ee-v'>-30</span></li><li><span class='ee-k'>5:</span><span class='ee-v'>1394715</span></li></ul></li><li><label class='ee-shut'>data_type: unsigned int16<input type='checkbox' class='ee-toggle'></label><ul><li><span class='ee-k'>type:</span><span class='ee-v'>PixelType</span></li><li><span class='ee-k'>max:</span><span class='ee-v'>65535</span></li><li><span class='ee-k'>min:</span><span class='ee-v'>0</span></li><li><span class='ee-k'>precision:</span><span class='ee-v'>int</span></li></ul></li><li><label class='ee-shut'>dimensions: [7551, 7711]<input type='checkbox' class='ee-toggle'></label><ul><li><span class='ee-k'>0:</span><span class='ee-v'>7551</span></li><li><span class='ee-k'>1:</span><span class='ee-v'>7711</span></li></ul></li></ul></li><li><label class='ee-shut'>6: \"B7\", unsigned int16, EPSG:32643, 7551x7711 px<input type='checkbox' class='ee-toggle'></label><ul><li><span class='ee-k'>id:</span><span class='ee-v'>B7</span></li><li><span class='ee-k'>crs:</span><span class='ee-v'>EPSG:32643</span></li><li><label class='ee-shut'>crs_transform: [30, 0, 602085, 0, -30, 1394715]<input type='checkbox' class='ee-toggle'></label><ul><li><span class='ee-k'>0:</span><span class='ee-v'>30</span></li><li><span class='ee-k'>1:</span><span class='ee-v'>0</span></li><li><span class='ee-k'>2:</span><span class='ee-v'>602085</span></li><li><span class='ee-k'>3:</span><span class='ee-v'>0</span></li><li><span class='ee-k'>4:</span><span class='ee-v'>-30</span></li><li><span class='ee-k'>5:</span><span class='ee-v'>1394715</span></li></ul></li><li><label class='ee-shut'>data_type: unsigned int16<input type='checkbox' class='ee-toggle'></label><ul><li><span class='ee-k'>type:</span><span class='ee-v'>PixelType</span></li><li><span class='ee-k'>max:</span><span class='ee-v'>65535</span></li><li><span class='ee-k'>min:</span><span class='ee-v'>0</span></li><li><span class='ee-k'>precision:</span><span class='ee-v'>int</span></li></ul></li><li><label class='ee-shut'>dimensions: [7551, 7711]<input type='checkbox' class='ee-toggle'></label><ul><li><span class='ee-k'>0:</span><span class='ee-v'>7551</span></li><li><span class='ee-k'>1:</span><span class='ee-v'>7711</span></li></ul></li></ul></li><li><label class='ee-shut'>7: \"B8\", unsigned int16, EPSG:32643, 15101x15421 px<input type='checkbox' class='ee-toggle'></label><ul><li><span class='ee-k'>id:</span><span class='ee-v'>B8</span></li><li><span class='ee-k'>crs:</span><span class='ee-v'>EPSG:32643</span></li><li><label class='ee-shut'>crs_transform: [15, 0, 602092.5, 0, -15, 1394707.5]<input type='checkbox' class='ee-toggle'></label><ul><li><span class='ee-k'>0:</span><span class='ee-v'>15</span></li><li><span class='ee-k'>1:</span><span class='ee-v'>0</span></li><li><span class='ee-k'>2:</span><span class='ee-v'>602092.5</span></li><li><span class='ee-k'>3:</span><span class='ee-v'>0</span></li><li><span class='ee-k'>4:</span><span class='ee-v'>-15</span></li><li><span class='ee-k'>5:</span><span class='ee-v'>1394707.5</span></li></ul></li><li><label class='ee-shut'>data_type: unsigned int16<input type='checkbox' class='ee-toggle'></label><ul><li><span class='ee-k'>type:</span><span class='ee-v'>PixelType</span></li><li><span class='ee-k'>max:</span><span class='ee-v'>65535</span></li><li><span class='ee-k'>min:</span><span class='ee-v'>0</span></li><li><span class='ee-k'>precision:</span><span class='ee-v'>int</span></li></ul></li><li><label class='ee-shut'>dimensions: [15101, 15421]<input type='checkbox' class='ee-toggle'></label><ul><li><span class='ee-k'>0:</span><span class='ee-v'>15101</span></li><li><span class='ee-k'>1:</span><span class='ee-v'>15421</span></li></ul></li></ul></li><li><label class='ee-shut'>8: \"B9\", unsigned int16, EPSG:32643, 7551x7711 px<input type='checkbox' class='ee-toggle'></label><ul><li><span class='ee-k'>id:</span><span class='ee-v'>B9</span></li><li><span class='ee-k'>crs:</span><span class='ee-v'>EPSG:32643</span></li><li><label class='ee-shut'>crs_transform: [30, 0, 602085, 0, -30, 1394715]<input type='checkbox' class='ee-toggle'></label><ul><li><span class='ee-k'>0:</span><span class='ee-v'>30</span></li><li><span class='ee-k'>1:</span><span class='ee-v'>0</span></li><li><span class='ee-k'>2:</span><span class='ee-v'>602085</span></li><li><span class='ee-k'>3:</span><span class='ee-v'>0</span></li><li><span class='ee-k'>4:</span><span class='ee-v'>-30</span></li><li><span class='ee-k'>5:</span><span class='ee-v'>1394715</span></li></ul></li><li><label class='ee-shut'>data_type: unsigned int16<input type='checkbox' class='ee-toggle'></label><ul><li><span class='ee-k'>type:</span><span class='ee-v'>PixelType</span></li><li><span class='ee-k'>max:</span><span class='ee-v'>65535</span></li><li><span class='ee-k'>min:</span><span class='ee-v'>0</span></li><li><span class='ee-k'>precision:</span><span class='ee-v'>int</span></li></ul></li><li><label class='ee-shut'>dimensions: [7551, 7711]<input type='checkbox' class='ee-toggle'></label><ul><li><span class='ee-k'>0:</span><span class='ee-v'>7551</span></li><li><span class='ee-k'>1:</span><span class='ee-v'>7711</span></li></ul></li></ul></li><li><label class='ee-shut'>9: \"B10\", unsigned int16, EPSG:32643, 7551x7711 px<input type='checkbox' class='ee-toggle'></label><ul><li><span class='ee-k'>id:</span><span class='ee-v'>B10</span></li><li><span class='ee-k'>crs:</span><span class='ee-v'>EPSG:32643</span></li><li><label class='ee-shut'>crs_transform: [30, 0, 602085, 0, -30, 1394715]<input type='checkbox' class='ee-toggle'></label><ul><li><span class='ee-k'>0:</span><span class='ee-v'>30</span></li><li><span class='ee-k'>1:</span><span class='ee-v'>0</span></li><li><span class='ee-k'>2:</span><span class='ee-v'>602085</span></li><li><span class='ee-k'>3:</span><span class='ee-v'>0</span></li><li><span class='ee-k'>4:</span><span class='ee-v'>-30</span></li><li><span class='ee-k'>5:</span><span class='ee-v'>1394715</span></li></ul></li><li><label class='ee-shut'>data_type: unsigned int16<input type='checkbox' class='ee-toggle'></label><ul><li><span class='ee-k'>type:</span><span class='ee-v'>PixelType</span></li><li><span class='ee-k'>max:</span><span class='ee-v'>65535</span></li><li><span class='ee-k'>min:</span><span class='ee-v'>0</span></li><li><span class='ee-k'>precision:</span><span class='ee-v'>int</span></li></ul></li><li><label class='ee-shut'>dimensions: [7551, 7711]<input type='checkbox' class='ee-toggle'></label><ul><li><span class='ee-k'>0:</span><span class='ee-v'>7551</span></li><li><span class='ee-k'>1:</span><span class='ee-v'>7711</span></li></ul></li></ul></li><li><label class='ee-shut'>10: \"B11\", unsigned int16, EPSG:32643, 7551x7711 px<input type='checkbox' class='ee-toggle'></label><ul><li><span class='ee-k'>id:</span><span class='ee-v'>B11</span></li><li><span class='ee-k'>crs:</span><span class='ee-v'>EPSG:32643</span></li><li><label class='ee-shut'>crs_transform: [30, 0, 602085, 0, -30, 1394715]<input type='checkbox' class='ee-toggle'></label><ul><li><span class='ee-k'>0:</span><span class='ee-v'>30</span></li><li><span class='ee-k'>1:</span><span class='ee-v'>0</span></li><li><span class='ee-k'>2:</span><span class='ee-v'>602085</span></li><li><span class='ee-k'>3:</span><span class='ee-v'>0</span></li><li><span class='ee-k'>4:</span><span class='ee-v'>-30</span></li><li><span class='ee-k'>5:</span><span class='ee-v'>1394715</span></li></ul></li><li><label class='ee-shut'>data_type: unsigned int16<input type='checkbox' class='ee-toggle'></label><ul><li><span class='ee-k'>type:</span><span class='ee-v'>PixelType</span></li><li><span class='ee-k'>max:</span><span class='ee-v'>65535</span></li><li><span class='ee-k'>min:</span><span class='ee-v'>0</span></li><li><span class='ee-k'>precision:</span><span class='ee-v'>int</span></li></ul></li><li><label class='ee-shut'>dimensions: [7551, 7711]<input type='checkbox' class='ee-toggle'></label><ul><li><span class='ee-k'>0:</span><span class='ee-v'>7551</span></li><li><span class='ee-k'>1:</span><span class='ee-v'>7711</span></li></ul></li></ul></li><li><label class='ee-shut'>11: \"BQA\", unsigned int16, EPSG:32643, 7551x7711 px<input type='checkbox' class='ee-toggle'></label><ul><li><span class='ee-k'>id:</span><span class='ee-v'>BQA</span></li><li><span class='ee-k'>crs:</span><span class='ee-v'>EPSG:32643</span></li><li><label class='ee-shut'>crs_transform: [30, 0, 602085, 0, -30, 1394715]<input type='checkbox' class='ee-toggle'></label><ul><li><span class='ee-k'>0:</span><span class='ee-v'>30</span></li><li><span class='ee-k'>1:</span><span class='ee-v'>0</span></li><li><span class='ee-k'>2:</span><span class='ee-v'>602085</span></li><li><span class='ee-k'>3:</span><span class='ee-v'>0</span></li><li><span class='ee-k'>4:</span><span class='ee-v'>-30</span></li><li><span class='ee-k'>5:</span><span class='ee-v'>1394715</span></li></ul></li><li><label class='ee-shut'>data_type: unsigned int16<input type='checkbox' class='ee-toggle'></label><ul><li><span class='ee-k'>type:</span><span class='ee-v'>PixelType</span></li><li><span class='ee-k'>max:</span><span class='ee-v'>65535</span></li><li><span class='ee-k'>min:</span><span class='ee-v'>0</span></li><li><span class='ee-k'>precision:</span><span class='ee-v'>int</span></li></ul></li><li><label class='ee-shut'>dimensions: [7551, 7711]<input type='checkbox' class='ee-toggle'></label><ul><li><span class='ee-k'>0:</span><span class='ee-v'>7551</span></li><li><span class='ee-k'>1:</span><span class='ee-v'>7711</span></li></ul></li></ul></li></ul></li><li><label class='ee-shut'>properties: Object (119 properties)<input type='checkbox' class='ee-toggle'></label><ul><li><span class='ee-k'>BPF_NAME_OLI:</span><span class='ee-v'>LO8BPF20200212045333_20200212054011.01</span></li><li><span class='ee-k'>BPF_NAME_TIRS:</span><span class='ee-v'>LT8BPF20200209191040_20200223101745.01</span></li><li><span class='ee-k'>CLOUD_COVER:</span><span class='ee-v'>12.479999542236328</span></li><li><span class='ee-k'>CLOUD_COVER_LAND:</span><span class='ee-v'>12.479999542236328</span></li><li><span class='ee-k'>COLLECTION_CATEGORY:</span><span class='ee-v'>T1</span></li><li><span class='ee-k'>COLLECTION_NUMBER:</span><span class='ee-v'>1</span></li><li><span class='ee-k'>CPF_NAME:</span><span class='ee-v'>LC08CPF_20200101_20200331_01.04</span></li><li><span class='ee-k'>DATA_TYPE:</span><span class='ee-v'>L1TP</span></li><li><span class='ee-k'>DATE_ACQUIRED:</span><span class='ee-v'>2020-02-12</span></li><li><span class='ee-k'>DATUM:</span><span class='ee-v'>WGS84</span></li><li><span class='ee-k'>EARTH_SUN_DISTANCE:</span><span class='ee-v'>0.9869745969772339</span></li><li><span class='ee-k'>ELEVATION_SOURCE:</span><span class='ee-v'>GLS2000</span></li><li><span class='ee-k'>ELLIPSOID:</span><span class='ee-v'>WGS84</span></li><li><span class='ee-k'>FILE_DATE:</span><span class='ee-v'>1582596805000</span></li><li><span class='ee-k'>GEOMETRIC_RMSE_MODEL:</span><span class='ee-v'>8.3100004196167</span></li><li><span class='ee-k'>GEOMETRIC_RMSE_MODEL_X:</span><span class='ee-v'>6.22599983215332</span></li><li><span class='ee-k'>GEOMETRIC_RMSE_MODEL_Y:</span><span class='ee-v'>5.504000186920166</span></li><li><span class='ee-k'>GEOMETRIC_RMSE_VERIFY:</span><span class='ee-v'>5.2170000076293945</span></li><li><span class='ee-k'>GRID_CELL_SIZE_PANCHROMATIC:</span><span class='ee-v'>15</span></li><li><span class='ee-k'>GRID_CELL_SIZE_REFLECTIVE:</span><span class='ee-v'>30</span></li><li><span class='ee-k'>GRID_CELL_SIZE_THERMAL:</span><span class='ee-v'>30</span></li><li><span class='ee-k'>GROUND_CONTROL_POINTS_MODEL:</span><span class='ee-v'>222</span></li><li><span class='ee-k'>GROUND_CONTROL_POINTS_VERIFY:</span><span class='ee-v'>83</span></li><li><span class='ee-k'>GROUND_CONTROL_POINTS_VERSION:</span><span class='ee-v'>4</span></li><li><span class='ee-k'>IMAGE_QUALITY_OLI:</span><span class='ee-v'>9</span></li><li><span class='ee-k'>IMAGE_QUALITY_TIRS:</span><span class='ee-v'>9</span></li><li><span class='ee-k'>K1_CONSTANT_BAND_10:</span><span class='ee-v'>774.8853149414062</span></li><li><span class='ee-k'>K1_CONSTANT_BAND_11:</span><span class='ee-v'>480.8883056640625</span></li><li><span class='ee-k'>K2_CONSTANT_BAND_10:</span><span class='ee-v'>1321.078857421875</span></li><li><span class='ee-k'>K2_CONSTANT_BAND_11:</span><span class='ee-v'>1201.1441650390625</span></li><li><span class='ee-k'>LANDSAT_PRODUCT_ID:</span><span class='ee-v'>LC08_L1TP_144052_20200212_20200225_01_T1</span></li><li><span class='ee-k'>LANDSAT_SCENE_ID:</span><span class='ee-v'>LC81440522020043LGN00</span></li><li><span class='ee-k'>MAP_PROJECTION:</span><span class='ee-v'>UTM</span></li><li><span class='ee-k'>NADIR_OFFNADIR:</span><span class='ee-v'>NADIR</span></li><li><span class='ee-k'>ORIENTATION:</span><span class='ee-v'>NORTH_UP</span></li><li><span class='ee-k'>PANCHROMATIC_LINES:</span><span class='ee-v'>15421</span></li><li><span class='ee-k'>PANCHROMATIC_SAMPLES:</span><span class='ee-v'>15101</span></li><li><span class='ee-k'>PROCESSING_SOFTWARE_VERSION:</span><span class='ee-v'>LPGS_13.1.0</span></li><li><span class='ee-k'>RADIANCE_ADD_BAND_1:</span><span class='ee-v'>-64.44673156738281</span></li><li><span class='ee-k'>RADIANCE_ADD_BAND_10:</span><span class='ee-v'>0.10000000149011612</span></li><li><span class='ee-k'>RADIANCE_ADD_BAND_11:</span><span class='ee-v'>0.10000000149011612</span></li><li><span class='ee-k'>RADIANCE_ADD_BAND_2:</span><span class='ee-v'>-65.99423217773438</span></li><li><span class='ee-k'>RADIANCE_ADD_BAND_3:</span><span class='ee-v'>-60.8131217956543</span></li><li><span class='ee-k'>RADIANCE_ADD_BAND_4:</span><span class='ee-v'>-51.28105163574219</span></li><li><span class='ee-k'>RADIANCE_ADD_BAND_5:</span><span class='ee-v'>-31.381450653076172</span></li><li><span class='ee-k'>RADIANCE_ADD_BAND_6:</span><span class='ee-v'>-7.804279804229736</span></li><li><span class='ee-k'>RADIANCE_ADD_BAND_7:</span><span class='ee-v'>-2.630460023880005</span></li><li><span class='ee-k'>RADIANCE_ADD_BAND_8:</span><span class='ee-v'>-58.036041259765625</span></li><li><span class='ee-k'>RADIANCE_ADD_BAND_9:</span><span class='ee-v'>-12.264579772949219</span></li><li><span class='ee-k'>RADIANCE_MULT_BAND_1:</span><span class='ee-v'>0.012888999655842781</span></li><li><span class='ee-k'>RADIANCE_MULT_BAND_10:</span><span class='ee-v'>0.00033420001273043454</span></li><li><span class='ee-k'>RADIANCE_MULT_BAND_11:</span><span class='ee-v'>0.00033420001273043454</span></li><li><span class='ee-k'>RADIANCE_MULT_BAND_2:</span><span class='ee-v'>0.01319899968802929</span></li><li><span class='ee-k'>RADIANCE_MULT_BAND_3:</span><span class='ee-v'>0.01216300018131733</span></li><li><span class='ee-k'>RADIANCE_MULT_BAND_4:</span><span class='ee-v'>0.010255999863147736</span></li><li><span class='ee-k'>RADIANCE_MULT_BAND_5:</span><span class='ee-v'>0.006276300176978111</span></li><li><span class='ee-k'>RADIANCE_MULT_BAND_6:</span><span class='ee-v'>0.001560900011099875</span></li><li><span class='ee-k'>RADIANCE_MULT_BAND_7:</span><span class='ee-v'>0.0005260899779386818</span></li><li><span class='ee-k'>RADIANCE_MULT_BAND_8:</span><span class='ee-v'>0.011606999672949314</span></li><li><span class='ee-k'>RADIANCE_MULT_BAND_9:</span><span class='ee-v'>0.0024528999347239733</span></li><li><span class='ee-k'>REFLECTANCE_ADD_BAND_1:</span><span class='ee-v'>-0.10000000149011612</span></li><li><span class='ee-k'>REFLECTANCE_ADD_BAND_2:</span><span class='ee-v'>-0.10000000149011612</span></li><li><span class='ee-k'>REFLECTANCE_ADD_BAND_3:</span><span class='ee-v'>-0.10000000149011612</span></li><li><span class='ee-k'>REFLECTANCE_ADD_BAND_4:</span><span class='ee-v'>-0.10000000149011612</span></li><li><span class='ee-k'>REFLECTANCE_ADD_BAND_5:</span><span class='ee-v'>-0.10000000149011612</span></li><li><span class='ee-k'>REFLECTANCE_ADD_BAND_6:</span><span class='ee-v'>-0.10000000149011612</span></li><li><span class='ee-k'>REFLECTANCE_ADD_BAND_7:</span><span class='ee-v'>-0.10000000149011612</span></li><li><span class='ee-k'>REFLECTANCE_ADD_BAND_8:</span><span class='ee-v'>-0.10000000149011612</span></li><li><span class='ee-k'>REFLECTANCE_ADD_BAND_9:</span><span class='ee-v'>-0.10000000149011612</span></li><li><span class='ee-k'>REFLECTANCE_MULT_BAND_1:</span><span class='ee-v'>1.9999999494757503e-05</span></li><li><span class='ee-k'>REFLECTANCE_MULT_BAND_2:</span><span class='ee-v'>1.9999999494757503e-05</span></li><li><span class='ee-k'>REFLECTANCE_MULT_BAND_3:</span><span class='ee-v'>1.9999999494757503e-05</span></li><li><span class='ee-k'>REFLECTANCE_MULT_BAND_4:</span><span class='ee-v'>1.9999999494757503e-05</span></li><li><span class='ee-k'>REFLECTANCE_MULT_BAND_5:</span><span class='ee-v'>1.9999999494757503e-05</span></li><li><span class='ee-k'>REFLECTANCE_MULT_BAND_6:</span><span class='ee-v'>1.9999999494757503e-05</span></li><li><span class='ee-k'>REFLECTANCE_MULT_BAND_7:</span><span class='ee-v'>1.9999999494757503e-05</span></li><li><span class='ee-k'>REFLECTANCE_MULT_BAND_8:</span><span class='ee-v'>1.9999999494757503e-05</span></li><li><span class='ee-k'>REFLECTANCE_MULT_BAND_9:</span><span class='ee-v'>1.9999999494757503e-05</span></li><li><span class='ee-k'>REFLECTIVE_LINES:</span><span class='ee-v'>7711</span></li><li><span class='ee-k'>REFLECTIVE_SAMPLES:</span><span class='ee-v'>7551</span></li><li><span class='ee-k'>REQUEST_ID:</span><span class='ee-v'>0702002244434_00027</span></li><li><span class='ee-k'>RESAMPLING_OPTION:</span><span class='ee-v'>CUBIC_CONVOLUTION</span></li><li><span class='ee-k'>RLUT_FILE_NAME:</span><span class='ee-v'>LC08RLUT_20150303_20431231_01_12.h5</span></li><li><span class='ee-k'>ROLL_ANGLE:</span><span class='ee-v'>-0.0010000000474974513</span></li><li><span class='ee-k'>SATURATION_BAND_1:</span><span class='ee-v'>N</span></li><li><span class='ee-k'>SATURATION_BAND_2:</span><span class='ee-v'>N</span></li><li><span class='ee-k'>SATURATION_BAND_3:</span><span class='ee-v'>N</span></li><li><span class='ee-k'>SATURATION_BAND_4:</span><span class='ee-v'>N</span></li><li><span class='ee-k'>SATURATION_BAND_5:</span><span class='ee-v'>N</span></li><li><span class='ee-k'>SATURATION_BAND_6:</span><span class='ee-v'>Y</span></li><li><span class='ee-k'>SATURATION_BAND_7:</span><span class='ee-v'>Y</span></li><li><span class='ee-k'>SATURATION_BAND_8:</span><span class='ee-v'>N</span></li><li><span class='ee-k'>SATURATION_BAND_9:</span><span class='ee-v'>N</span></li><li><span class='ee-k'>SCENE_CENTER_TIME:</span><span class='ee-v'>05:11:18.8656490Z</span></li><li><span class='ee-k'>SENSOR_ID:</span><span class='ee-v'>OLI_TIRS</span></li><li><span class='ee-k'>SPACECRAFT_ID:</span><span class='ee-v'>LANDSAT_8</span></li><li><span class='ee-k'>STATION_ID:</span><span class='ee-v'>LGN</span></li><li><span class='ee-k'>SUN_AZIMUTH:</span><span class='ee-v'>130.9727020263672</span></li><li><span class='ee-k'>SUN_ELEVATION:</span><span class='ee-v'>51.79534912109375</span></li><li><span class='ee-k'>TARGET_WRS_PATH:</span><span class='ee-v'>144</span></li><li><span class='ee-k'>TARGET_WRS_ROW:</span><span class='ee-v'>52</span></li><li><span class='ee-k'>THERMAL_LINES:</span><span class='ee-v'>7711</span></li><li><span class='ee-k'>THERMAL_SAMPLES:</span><span class='ee-v'>7551</span></li><li><span class='ee-k'>TIRS_SSM_MODEL:</span><span class='ee-v'>FINAL</span></li><li><span class='ee-k'>TIRS_SSM_POSITION_STATUS:</span><span class='ee-v'>ESTIMATED</span></li><li><span class='ee-k'>TIRS_STRAY_LIGHT_CORRECTION_SOURCE:</span><span class='ee-v'>TIRS</span></li><li><span class='ee-k'>TRUNCATION_OLI:</span><span class='ee-v'>UPPER</span></li><li><span class='ee-k'>UTM_ZONE:</span><span class='ee-v'>43</span></li><li><span class='ee-k'>WRS_PATH:</span><span class='ee-v'>144</span></li><li><span class='ee-k'>WRS_ROW:</span><span class='ee-v'>52</span></li><li><span class='ee-k'>google:registration_count:</span><span class='ee-v'>16</span></li><li><span class='ee-k'>google:registration_offset_x:</span><span class='ee-v'>28.677034378051758</span></li><li><span class='ee-k'>google:registration_offset_y:</span><span class='ee-v'>383.1756591796875</span></li><li><span class='ee-k'>google:registration_ratio:</span><span class='ee-v'>0.39024388790130615</span></li><li><span class='ee-k'>system:asset_size:</span><span class='ee-v'>1270037475</span></li><li><label class='ee-shut'>system:footprint: LinearRing (21 vertices)<input type='checkbox' class='ee-toggle'></label><ul><li><span class='ee-k'>type:</span><span class='ee-v'>LinearRing</span></li><li><label class='ee-shut'>coordinates: List (21 elements)<input type='checkbox' class='ee-toggle'></label><ul><li><label class='ee-shut'>0: [76.3195510095023, 12.610742269118905]<input type='checkbox' class='ee-toggle'></label><ul><li><span class='ee-k'>0:</span><span class='ee-v'>76.3195510095023</span></li><li><span class='ee-k'>1:</span><span class='ee-v'>12.610742269118905</span></li></ul></li><li><label class='ee-shut'>1: [76.31025791797191, 12.612615316327963]<input type='checkbox' class='ee-toggle'></label><ul><li><span class='ee-k'>0:</span><span class='ee-v'>76.31025791797191</span></li><li><span class='ee-k'>1:</span><span class='ee-v'>12.612615316327963</span></li></ul></li><li><label class='ee-shut'>2: [76.30892220188773, 12.606639160419546]<input type='checkbox' class='ee-toggle'></label><ul><li><span class='ee-k'>0:</span><span class='ee-v'>76.30892220188773</span></li><li><span class='ee-k'>1:</span><span class='ee-v'>12.606639160419546</span></li></ul></li><li><label class='ee-shut'>3: [76.21654035872196, 12.181096078362128]<input type='checkbox' class='ee-toggle'></label><ul><li><span class='ee-k'>0:</span><span class='ee-v'>76.21654035872196</span></li><li><span class='ee-k'>1:</span><span class='ee-v'>12.181096078362128</span></li></ul></li><li><label class='ee-shut'>4: [76.12451608933257, 11.755481815118873]<input type='checkbox' class='ee-toggle'></label><ul><li><span class='ee-k'>0:</span><span class='ee-v'>76.12451608933257</span></li><li><span class='ee-k'>1:</span><span class='ee-v'>11.755481815118873</span></li></ul></li><li><label class='ee-shut'>5: [75.9374166686044, 10.885117968734248]<input type='checkbox' class='ee-toggle'></label><ul><li><span class='ee-k'>0:</span><span class='ee-v'>75.9374166686044</span></li><li><span class='ee-k'>1:</span><span class='ee-v'>10.885117968734248</span></li></ul></li><li><label class='ee-shut'>6: [75.93578296476437, 10.877172012439619]<input type='checkbox' class='ee-toggle'></label><ul><li><span class='ee-k'>0:</span><span class='ee-v'>75.93578296476437</span></li><li><span class='ee-k'>1:</span><span class='ee-v'>10.877172012439619</span></li></ul></li><li><label class='ee-shut'>7: [75.9684658167442, 10.870265139283074]<input type='checkbox' class='ee-toggle'></label><ul><li><span class='ee-k'>0:</span><span class='ee-v'>75.9684658167442</span></li><li><span class='ee-k'>1:</span><span class='ee-v'>10.870265139283074</span></li></ul></li><li><label class='ee-shut'>8: [76.73458677032619, 10.707602780730058]<input type='checkbox' class='ee-toggle'></label><ul><li><span class='ee-k'>0:</span><span class='ee-v'>76.73458677032619</span></li><li><span class='ee-k'>1:</span><span class='ee-v'>10.707602780730058</span></li></ul></li><li><label class='ee-shut'>9: [77.62585578394815, 10.515862111395338]<input type='checkbox' class='ee-toggle'></label><ul><li><span class='ee-k'>0:</span><span class='ee-v'>77.62585578394815</span></li><li><span class='ee-k'>1:</span><span class='ee-v'>10.515862111395338</span></li></ul></li><li><label class='ee-shut'>10: [77.63443630553164, 10.514089705390807]<input type='checkbox' class='ee-toggle'></label><ul><li><span class='ee-k'>0:</span><span class='ee-v'>77.63443630553164</span></li><li><span class='ee-k'>1:</span><span class='ee-v'>10.514089705390807</span></li></ul></li><li><label class='ee-shut'>11: [77.71115132451506, 10.861741580242988]<input type='checkbox' class='ee-toggle'></label><ul><li><span class='ee-k'>0:</span><span class='ee-v'>77.71115132451506</span></li><li><span class='ee-k'>1:</span><span class='ee-v'>10.861741580242988</span></li></ul></li><li><label class='ee-shut'>12: [77.80226679590332, 11.274360024211079]<input type='checkbox' class='ee-toggle'></label><ul><li><span class='ee-k'>0:</span><span class='ee-v'>77.80226679590332</span></li><li><span class='ee-k'>1:</span><span class='ee-v'>11.274360024211079</span></li></ul></li><li><label class='ee-shut'>13: [77.87995590551995, 11.626044116802873]<input type='checkbox' class='ee-toggle'></label><ul><li><span class='ee-k'>0:</span><span class='ee-v'>77.87995590551995</span></li><li><span class='ee-k'>1:</span><span class='ee-v'>11.626044116802873</span></li></ul></li><li><label class='ee-shut'>14: [77.94145872563266, 11.903850951277102]<input type='checkbox' class='ee-toggle'></label><ul><li><span class='ee-k'>0:</span><span class='ee-v'>77.94145872563266</span></li><li><span class='ee-k'>1:</span><span class='ee-v'>11.903850951277102</span></li></ul></li><li><label class='ee-shut'>15: [77.9657694542216, 12.0137446579021]<input type='checkbox' class='ee-toggle'></label><ul><li><span class='ee-k'>0:</span><span class='ee-v'>77.9657694542216</span></li><li><span class='ee-k'>1:</span><span class='ee-v'>12.0137446579021</span></li></ul></li><li><label class='ee-shut'>16: [78.00011931303357, 12.16904356978141]<input type='checkbox' class='ee-toggle'></label><ul><li><span class='ee-k'>0:</span><span class='ee-v'>78.00011931303357</span></li><li><span class='ee-k'>1:</span><span class='ee-v'>12.16904356978141</span></li></ul></li><li><label class='ee-shut'>17: [78.01797791178346, 12.250044611152104]<input type='checkbox' class='ee-toggle'></label><ul><li><span class='ee-k'>0:</span><span class='ee-v'>78.01797791178346</span></li><li><span class='ee-k'>1:</span><span class='ee-v'>12.250044611152104</span></li></ul></li><li><label class='ee-shut'>18: [78.01800447683291, 12.252382240204325]<input type='checkbox' class='ee-toggle'></label><ul><li><span class='ee-k'>0:</span><span class='ee-v'>78.01800447683291</span></li><li><span class='ee-k'>1:</span><span class='ee-v'>12.252382240204325</span></li></ul></li><li><label class='ee-shut'>19: [77.18971871611996, 12.428551893558758]<input type='checkbox' class='ee-toggle'></label><ul><li><span class='ee-k'>0:</span><span class='ee-v'>77.18971871611996</span></li><li><span class='ee-k'>1:</span><span class='ee-v'>12.428551893558758</span></li></ul></li><li><label class='ee-shut'>20: [76.3195510095023, 12.610742269118905]<input type='checkbox' class='ee-toggle'></label><ul><li><span class='ee-k'>0:</span><span class='ee-v'>76.3195510095023</span></li><li><span class='ee-k'>1:</span><span class='ee-v'>12.610742269118905</span></li></ul></li></ul></li></ul></li><li><span class='ee-k'>system:index:</span><span class='ee-v'>LC08_144052_20200212</span></li><li><span class='ee-k'>system:time_end:</span><span class='ee-v'>1581484278865</span></li><li><span class='ee-k'>system:time_start:</span><span class='ee-v'>1581484278865</span></li></ul></li></ul></li><li><label class='ee-shut'>1: Image LANDSAT/LC08/C01/T1/LC08_144052_20200228 (12 bands)<input type='checkbox' class='ee-toggle'></label><ul><li><span class='ee-k'>type:</span><span class='ee-v'>Image</span></li><li><span class='ee-k'>id:</span><span class='ee-v'>LANDSAT/LC08/C01/T1/LC08_144052_20200228</span></li><li><span class='ee-k'>version:</span><span class='ee-v'>1584376299626828</span></li><li><label class='ee-shut'>bands: List (12 elements)<input type='checkbox' class='ee-toggle'></label><ul><li><label class='ee-shut'>0: \"B1\", unsigned int16, EPSG:32643, 7551x7711 px<input type='checkbox' class='ee-toggle'></label><ul><li><span class='ee-k'>id:</span><span class='ee-v'>B1</span></li><li><span class='ee-k'>crs:</span><span class='ee-v'>EPSG:32643</span></li><li><label class='ee-shut'>crs_transform: [30, 0, 601185, 0, -30, 1394715]<input type='checkbox' class='ee-toggle'></label><ul><li><span class='ee-k'>0:</span><span class='ee-v'>30</span></li><li><span class='ee-k'>1:</span><span class='ee-v'>0</span></li><li><span class='ee-k'>2:</span><span class='ee-v'>601185</span></li><li><span class='ee-k'>3:</span><span class='ee-v'>0</span></li><li><span class='ee-k'>4:</span><span class='ee-v'>-30</span></li><li><span class='ee-k'>5:</span><span class='ee-v'>1394715</span></li></ul></li><li><label class='ee-shut'>data_type: unsigned int16<input type='checkbox' class='ee-toggle'></label><ul><li><span class='ee-k'>type:</span><span class='ee-v'>PixelType</span></li><li><span class='ee-k'>max:</span><span class='ee-v'>65535</span></li><li><span class='ee-k'>min:</span><span class='ee-v'>0</span></li><li><span class='ee-k'>precision:</span><span class='ee-v'>int</span></li></ul></li><li><label class='ee-shut'>dimensions: [7551, 7711]<input type='checkbox' class='ee-toggle'></label><ul><li><span class='ee-k'>0:</span><span class='ee-v'>7551</span></li><li><span class='ee-k'>1:</span><span class='ee-v'>7711</span></li></ul></li></ul></li><li><label class='ee-shut'>1: \"B2\", unsigned int16, EPSG:32643, 7551x7711 px<input type='checkbox' class='ee-toggle'></label><ul><li><span class='ee-k'>id:</span><span class='ee-v'>B2</span></li><li><span class='ee-k'>crs:</span><span class='ee-v'>EPSG:32643</span></li><li><label class='ee-shut'>crs_transform: [30, 0, 601185, 0, -30, 1394715]<input type='checkbox' class='ee-toggle'></label><ul><li><span class='ee-k'>0:</span><span class='ee-v'>30</span></li><li><span class='ee-k'>1:</span><span class='ee-v'>0</span></li><li><span class='ee-k'>2:</span><span class='ee-v'>601185</span></li><li><span class='ee-k'>3:</span><span class='ee-v'>0</span></li><li><span class='ee-k'>4:</span><span class='ee-v'>-30</span></li><li><span class='ee-k'>5:</span><span class='ee-v'>1394715</span></li></ul></li><li><label class='ee-shut'>data_type: unsigned int16<input type='checkbox' class='ee-toggle'></label><ul><li><span class='ee-k'>type:</span><span class='ee-v'>PixelType</span></li><li><span class='ee-k'>max:</span><span class='ee-v'>65535</span></li><li><span class='ee-k'>min:</span><span class='ee-v'>0</span></li><li><span class='ee-k'>precision:</span><span class='ee-v'>int</span></li></ul></li><li><label class='ee-shut'>dimensions: [7551, 7711]<input type='checkbox' class='ee-toggle'></label><ul><li><span class='ee-k'>0:</span><span class='ee-v'>7551</span></li><li><span class='ee-k'>1:</span><span class='ee-v'>7711</span></li></ul></li></ul></li><li><label class='ee-shut'>2: \"B3\", unsigned int16, EPSG:32643, 7551x7711 px<input type='checkbox' class='ee-toggle'></label><ul><li><span class='ee-k'>id:</span><span class='ee-v'>B3</span></li><li><span class='ee-k'>crs:</span><span class='ee-v'>EPSG:32643</span></li><li><label class='ee-shut'>crs_transform: [30, 0, 601185, 0, -30, 1394715]<input type='checkbox' class='ee-toggle'></label><ul><li><span class='ee-k'>0:</span><span class='ee-v'>30</span></li><li><span class='ee-k'>1:</span><span class='ee-v'>0</span></li><li><span class='ee-k'>2:</span><span class='ee-v'>601185</span></li><li><span class='ee-k'>3:</span><span class='ee-v'>0</span></li><li><span class='ee-k'>4:</span><span class='ee-v'>-30</span></li><li><span class='ee-k'>5:</span><span class='ee-v'>1394715</span></li></ul></li><li><label class='ee-shut'>data_type: unsigned int16<input type='checkbox' class='ee-toggle'></label><ul><li><span class='ee-k'>type:</span><span class='ee-v'>PixelType</span></li><li><span class='ee-k'>max:</span><span class='ee-v'>65535</span></li><li><span class='ee-k'>min:</span><span class='ee-v'>0</span></li><li><span class='ee-k'>precision:</span><span class='ee-v'>int</span></li></ul></li><li><label class='ee-shut'>dimensions: [7551, 7711]<input type='checkbox' class='ee-toggle'></label><ul><li><span class='ee-k'>0:</span><span class='ee-v'>7551</span></li><li><span class='ee-k'>1:</span><span class='ee-v'>7711</span></li></ul></li></ul></li><li><label class='ee-shut'>3: \"B4\", unsigned int16, EPSG:32643, 7551x7711 px<input type='checkbox' class='ee-toggle'></label><ul><li><span class='ee-k'>id:</span><span class='ee-v'>B4</span></li><li><span class='ee-k'>crs:</span><span class='ee-v'>EPSG:32643</span></li><li><label class='ee-shut'>crs_transform: [30, 0, 601185, 0, -30, 1394715]<input type='checkbox' class='ee-toggle'></label><ul><li><span class='ee-k'>0:</span><span class='ee-v'>30</span></li><li><span class='ee-k'>1:</span><span class='ee-v'>0</span></li><li><span class='ee-k'>2:</span><span class='ee-v'>601185</span></li><li><span class='ee-k'>3:</span><span class='ee-v'>0</span></li><li><span class='ee-k'>4:</span><span class='ee-v'>-30</span></li><li><span class='ee-k'>5:</span><span class='ee-v'>1394715</span></li></ul></li><li><label class='ee-shut'>data_type: unsigned int16<input type='checkbox' class='ee-toggle'></label><ul><li><span class='ee-k'>type:</span><span class='ee-v'>PixelType</span></li><li><span class='ee-k'>max:</span><span class='ee-v'>65535</span></li><li><span class='ee-k'>min:</span><span class='ee-v'>0</span></li><li><span class='ee-k'>precision:</span><span class='ee-v'>int</span></li></ul></li><li><label class='ee-shut'>dimensions: [7551, 7711]<input type='checkbox' class='ee-toggle'></label><ul><li><span class='ee-k'>0:</span><span class='ee-v'>7551</span></li><li><span class='ee-k'>1:</span><span class='ee-v'>7711</span></li></ul></li></ul></li><li><label class='ee-shut'>4: \"B5\", unsigned int16, EPSG:32643, 7551x7711 px<input type='checkbox' class='ee-toggle'></label><ul><li><span class='ee-k'>id:</span><span class='ee-v'>B5</span></li><li><span class='ee-k'>crs:</span><span class='ee-v'>EPSG:32643</span></li><li><label class='ee-shut'>crs_transform: [30, 0, 601185, 0, -30, 1394715]<input type='checkbox' class='ee-toggle'></label><ul><li><span class='ee-k'>0:</span><span class='ee-v'>30</span></li><li><span class='ee-k'>1:</span><span class='ee-v'>0</span></li><li><span class='ee-k'>2:</span><span class='ee-v'>601185</span></li><li><span class='ee-k'>3:</span><span class='ee-v'>0</span></li><li><span class='ee-k'>4:</span><span class='ee-v'>-30</span></li><li><span class='ee-k'>5:</span><span class='ee-v'>1394715</span></li></ul></li><li><label class='ee-shut'>data_type: unsigned int16<input type='checkbox' class='ee-toggle'></label><ul><li><span class='ee-k'>type:</span><span class='ee-v'>PixelType</span></li><li><span class='ee-k'>max:</span><span class='ee-v'>65535</span></li><li><span class='ee-k'>min:</span><span class='ee-v'>0</span></li><li><span class='ee-k'>precision:</span><span class='ee-v'>int</span></li></ul></li><li><label class='ee-shut'>dimensions: [7551, 7711]<input type='checkbox' class='ee-toggle'></label><ul><li><span class='ee-k'>0:</span><span class='ee-v'>7551</span></li><li><span class='ee-k'>1:</span><span class='ee-v'>7711</span></li></ul></li></ul></li><li><label class='ee-shut'>5: \"B6\", unsigned int16, EPSG:32643, 7551x7711 px<input type='checkbox' class='ee-toggle'></label><ul><li><span class='ee-k'>id:</span><span class='ee-v'>B6</span></li><li><span class='ee-k'>crs:</span><span class='ee-v'>EPSG:32643</span></li><li><label class='ee-shut'>crs_transform: [30, 0, 601185, 0, -30, 1394715]<input type='checkbox' class='ee-toggle'></label><ul><li><span class='ee-k'>0:</span><span class='ee-v'>30</span></li><li><span class='ee-k'>1:</span><span class='ee-v'>0</span></li><li><span class='ee-k'>2:</span><span class='ee-v'>601185</span></li><li><span class='ee-k'>3:</span><span class='ee-v'>0</span></li><li><span class='ee-k'>4:</span><span class='ee-v'>-30</span></li><li><span class='ee-k'>5:</span><span class='ee-v'>1394715</span></li></ul></li><li><label class='ee-shut'>data_type: unsigned int16<input type='checkbox' class='ee-toggle'></label><ul><li><span class='ee-k'>type:</span><span class='ee-v'>PixelType</span></li><li><span class='ee-k'>max:</span><span class='ee-v'>65535</span></li><li><span class='ee-k'>min:</span><span class='ee-v'>0</span></li><li><span class='ee-k'>precision:</span><span class='ee-v'>int</span></li></ul></li><li><label class='ee-shut'>dimensions: [7551, 7711]<input type='checkbox' class='ee-toggle'></label><ul><li><span class='ee-k'>0:</span><span class='ee-v'>7551</span></li><li><span class='ee-k'>1:</span><span class='ee-v'>7711</span></li></ul></li></ul></li><li><label class='ee-shut'>6: \"B7\", unsigned int16, EPSG:32643, 7551x7711 px<input type='checkbox' class='ee-toggle'></label><ul><li><span class='ee-k'>id:</span><span class='ee-v'>B7</span></li><li><span class='ee-k'>crs:</span><span class='ee-v'>EPSG:32643</span></li><li><label class='ee-shut'>crs_transform: [30, 0, 601185, 0, -30, 1394715]<input type='checkbox' class='ee-toggle'></label><ul><li><span class='ee-k'>0:</span><span class='ee-v'>30</span></li><li><span class='ee-k'>1:</span><span class='ee-v'>0</span></li><li><span class='ee-k'>2:</span><span class='ee-v'>601185</span></li><li><span class='ee-k'>3:</span><span class='ee-v'>0</span></li><li><span class='ee-k'>4:</span><span class='ee-v'>-30</span></li><li><span class='ee-k'>5:</span><span class='ee-v'>1394715</span></li></ul></li><li><label class='ee-shut'>data_type: unsigned int16<input type='checkbox' class='ee-toggle'></label><ul><li><span class='ee-k'>type:</span><span class='ee-v'>PixelType</span></li><li><span class='ee-k'>max:</span><span class='ee-v'>65535</span></li><li><span class='ee-k'>min:</span><span class='ee-v'>0</span></li><li><span class='ee-k'>precision:</span><span class='ee-v'>int</span></li></ul></li><li><label class='ee-shut'>dimensions: [7551, 7711]<input type='checkbox' class='ee-toggle'></label><ul><li><span class='ee-k'>0:</span><span class='ee-v'>7551</span></li><li><span class='ee-k'>1:</span><span class='ee-v'>7711</span></li></ul></li></ul></li><li><label class='ee-shut'>7: \"B8\", unsigned int16, EPSG:32643, 15101x15421 px<input type='checkbox' class='ee-toggle'></label><ul><li><span class='ee-k'>id:</span><span class='ee-v'>B8</span></li><li><span class='ee-k'>crs:</span><span class='ee-v'>EPSG:32643</span></li><li><label class='ee-shut'>crs_transform: [15, 0, 601192.5, 0, -15, 1394707.5]<input type='checkbox' class='ee-toggle'></label><ul><li><span class='ee-k'>0:</span><span class='ee-v'>15</span></li><li><span class='ee-k'>1:</span><span class='ee-v'>0</span></li><li><span class='ee-k'>2:</span><span class='ee-v'>601192.5</span></li><li><span class='ee-k'>3:</span><span class='ee-v'>0</span></li><li><span class='ee-k'>4:</span><span class='ee-v'>-15</span></li><li><span class='ee-k'>5:</span><span class='ee-v'>1394707.5</span></li></ul></li><li><label class='ee-shut'>data_type: unsigned int16<input type='checkbox' class='ee-toggle'></label><ul><li><span class='ee-k'>type:</span><span class='ee-v'>PixelType</span></li><li><span class='ee-k'>max:</span><span class='ee-v'>65535</span></li><li><span class='ee-k'>min:</span><span class='ee-v'>0</span></li><li><span class='ee-k'>precision:</span><span class='ee-v'>int</span></li></ul></li><li><label class='ee-shut'>dimensions: [15101, 15421]<input type='checkbox' class='ee-toggle'></label><ul><li><span class='ee-k'>0:</span><span class='ee-v'>15101</span></li><li><span class='ee-k'>1:</span><span class='ee-v'>15421</span></li></ul></li></ul></li><li><label class='ee-shut'>8: \"B9\", unsigned int16, EPSG:32643, 7551x7711 px<input type='checkbox' class='ee-toggle'></label><ul><li><span class='ee-k'>id:</span><span class='ee-v'>B9</span></li><li><span class='ee-k'>crs:</span><span class='ee-v'>EPSG:32643</span></li><li><label class='ee-shut'>crs_transform: [30, 0, 601185, 0, -30, 1394715]<input type='checkbox' class='ee-toggle'></label><ul><li><span class='ee-k'>0:</span><span class='ee-v'>30</span></li><li><span class='ee-k'>1:</span><span class='ee-v'>0</span></li><li><span class='ee-k'>2:</span><span class='ee-v'>601185</span></li><li><span class='ee-k'>3:</span><span class='ee-v'>0</span></li><li><span class='ee-k'>4:</span><span class='ee-v'>-30</span></li><li><span class='ee-k'>5:</span><span class='ee-v'>1394715</span></li></ul></li><li><label class='ee-shut'>data_type: unsigned int16<input type='checkbox' class='ee-toggle'></label><ul><li><span class='ee-k'>type:</span><span class='ee-v'>PixelType</span></li><li><span class='ee-k'>max:</span><span class='ee-v'>65535</span></li><li><span class='ee-k'>min:</span><span class='ee-v'>0</span></li><li><span class='ee-k'>precision:</span><span class='ee-v'>int</span></li></ul></li><li><label class='ee-shut'>dimensions: [7551, 7711]<input type='checkbox' class='ee-toggle'></label><ul><li><span class='ee-k'>0:</span><span class='ee-v'>7551</span></li><li><span class='ee-k'>1:</span><span class='ee-v'>7711</span></li></ul></li></ul></li><li><label class='ee-shut'>9: \"B10\", unsigned int16, EPSG:32643, 7551x7711 px<input type='checkbox' class='ee-toggle'></label><ul><li><span class='ee-k'>id:</span><span class='ee-v'>B10</span></li><li><span class='ee-k'>crs:</span><span class='ee-v'>EPSG:32643</span></li><li><label class='ee-shut'>crs_transform: [30, 0, 601185, 0, -30, 1394715]<input type='checkbox' class='ee-toggle'></label><ul><li><span class='ee-k'>0:</span><span class='ee-v'>30</span></li><li><span class='ee-k'>1:</span><span class='ee-v'>0</span></li><li><span class='ee-k'>2:</span><span class='ee-v'>601185</span></li><li><span class='ee-k'>3:</span><span class='ee-v'>0</span></li><li><span class='ee-k'>4:</span><span class='ee-v'>-30</span></li><li><span class='ee-k'>5:</span><span class='ee-v'>1394715</span></li></ul></li><li><label class='ee-shut'>data_type: unsigned int16<input type='checkbox' class='ee-toggle'></label><ul><li><span class='ee-k'>type:</span><span class='ee-v'>PixelType</span></li><li><span class='ee-k'>max:</span><span class='ee-v'>65535</span></li><li><span class='ee-k'>min:</span><span class='ee-v'>0</span></li><li><span class='ee-k'>precision:</span><span class='ee-v'>int</span></li></ul></li><li><label class='ee-shut'>dimensions: [7551, 7711]<input type='checkbox' class='ee-toggle'></label><ul><li><span class='ee-k'>0:</span><span class='ee-v'>7551</span></li><li><span class='ee-k'>1:</span><span class='ee-v'>7711</span></li></ul></li></ul></li><li><label class='ee-shut'>10: \"B11\", unsigned int16, EPSG:32643, 7551x7711 px<input type='checkbox' class='ee-toggle'></label><ul><li><span class='ee-k'>id:</span><span class='ee-v'>B11</span></li><li><span class='ee-k'>crs:</span><span class='ee-v'>EPSG:32643</span></li><li><label class='ee-shut'>crs_transform: [30, 0, 601185, 0, -30, 1394715]<input type='checkbox' class='ee-toggle'></label><ul><li><span class='ee-k'>0:</span><span class='ee-v'>30</span></li><li><span class='ee-k'>1:</span><span class='ee-v'>0</span></li><li><span class='ee-k'>2:</span><span class='ee-v'>601185</span></li><li><span class='ee-k'>3:</span><span class='ee-v'>0</span></li><li><span class='ee-k'>4:</span><span class='ee-v'>-30</span></li><li><span class='ee-k'>5:</span><span class='ee-v'>1394715</span></li></ul></li><li><label class='ee-shut'>data_type: unsigned int16<input type='checkbox' class='ee-toggle'></label><ul><li><span class='ee-k'>type:</span><span class='ee-v'>PixelType</span></li><li><span class='ee-k'>max:</span><span class='ee-v'>65535</span></li><li><span class='ee-k'>min:</span><span class='ee-v'>0</span></li><li><span class='ee-k'>precision:</span><span class='ee-v'>int</span></li></ul></li><li><label class='ee-shut'>dimensions: [7551, 7711]<input type='checkbox' class='ee-toggle'></label><ul><li><span class='ee-k'>0:</span><span class='ee-v'>7551</span></li><li><span class='ee-k'>1:</span><span class='ee-v'>7711</span></li></ul></li></ul></li><li><label class='ee-shut'>11: \"BQA\", unsigned int16, EPSG:32643, 7551x7711 px<input type='checkbox' class='ee-toggle'></label><ul><li><span class='ee-k'>id:</span><span class='ee-v'>BQA</span></li><li><span class='ee-k'>crs:</span><span class='ee-v'>EPSG:32643</span></li><li><label class='ee-shut'>crs_transform: [30, 0, 601185, 0, -30, 1394715]<input type='checkbox' class='ee-toggle'></label><ul><li><span class='ee-k'>0:</span><span class='ee-v'>30</span></li><li><span class='ee-k'>1:</span><span class='ee-v'>0</span></li><li><span class='ee-k'>2:</span><span class='ee-v'>601185</span></li><li><span class='ee-k'>3:</span><span class='ee-v'>0</span></li><li><span class='ee-k'>4:</span><span class='ee-v'>-30</span></li><li><span class='ee-k'>5:</span><span class='ee-v'>1394715</span></li></ul></li><li><label class='ee-shut'>data_type: unsigned int16<input type='checkbox' class='ee-toggle'></label><ul><li><span class='ee-k'>type:</span><span class='ee-v'>PixelType</span></li><li><span class='ee-k'>max:</span><span class='ee-v'>65535</span></li><li><span class='ee-k'>min:</span><span class='ee-v'>0</span></li><li><span class='ee-k'>precision:</span><span class='ee-v'>int</span></li></ul></li><li><label class='ee-shut'>dimensions: [7551, 7711]<input type='checkbox' class='ee-toggle'></label><ul><li><span class='ee-k'>0:</span><span class='ee-v'>7551</span></li><li><span class='ee-k'>1:</span><span class='ee-v'>7711</span></li></ul></li></ul></li></ul></li><li><label class='ee-shut'>properties: Object (119 properties)<input type='checkbox' class='ee-toggle'></label><ul><li><span class='ee-k'>BPF_NAME_OLI:</span><span class='ee-v'>LO8BPF20200228045153_20200228053943.01</span></li><li><span class='ee-k'>BPF_NAME_TIRS:</span><span class='ee-v'>LT8BPF20200223110021_20200310034739.01</span></li><li><span class='ee-k'>CLOUD_COVER:</span><span class='ee-v'>10.979999542236328</span></li><li><span class='ee-k'>CLOUD_COVER_LAND:</span><span class='ee-v'>10.979999542236328</span></li><li><span class='ee-k'>COLLECTION_CATEGORY:</span><span class='ee-v'>T1</span></li><li><span class='ee-k'>COLLECTION_NUMBER:</span><span class='ee-v'>1</span></li><li><span class='ee-k'>CPF_NAME:</span><span class='ee-v'>LC08CPF_20200101_20200331_01.04</span></li><li><span class='ee-k'>DATA_TYPE:</span><span class='ee-v'>L1TP</span></li><li><span class='ee-k'>DATE_ACQUIRED:</span><span class='ee-v'>2020-02-28</span></li><li><span class='ee-k'>DATUM:</span><span class='ee-v'>WGS84</span></li><li><span class='ee-k'>EARTH_SUN_DISTANCE:</span><span class='ee-v'>0.9904206991195679</span></li><li><span class='ee-k'>ELEVATION_SOURCE:</span><span class='ee-v'>GLS2000</span></li><li><span class='ee-k'>ELLIPSOID:</span><span class='ee-v'>WGS84</span></li><li><span class='ee-k'>FILE_DATE:</span><span class='ee-v'>1584127739000</span></li><li><span class='ee-k'>GEOMETRIC_RMSE_MODEL:</span><span class='ee-v'>8.569000244140625</span></li><li><span class='ee-k'>GEOMETRIC_RMSE_MODEL_X:</span><span class='ee-v'>6.2729997634887695</span></li><li><span class='ee-k'>GEOMETRIC_RMSE_MODEL_Y:</span><span class='ee-v'>5.8379998207092285</span></li><li><span class='ee-k'>GEOMETRIC_RMSE_VERIFY:</span><span class='ee-v'>6.328999996185303</span></li><li><span class='ee-k'>GRID_CELL_SIZE_PANCHROMATIC:</span><span class='ee-v'>15</span></li><li><span class='ee-k'>GRID_CELL_SIZE_REFLECTIVE:</span><span class='ee-v'>30</span></li><li><span class='ee-k'>GRID_CELL_SIZE_THERMAL:</span><span class='ee-v'>30</span></li><li><span class='ee-k'>GROUND_CONTROL_POINTS_MODEL:</span><span class='ee-v'>244</span></li><li><span class='ee-k'>GROUND_CONTROL_POINTS_VERIFY:</span><span class='ee-v'>97</span></li><li><span class='ee-k'>GROUND_CONTROL_POINTS_VERSION:</span><span class='ee-v'>4</span></li><li><span class='ee-k'>IMAGE_QUALITY_OLI:</span><span class='ee-v'>9</span></li><li><span class='ee-k'>IMAGE_QUALITY_TIRS:</span><span class='ee-v'>9</span></li><li><span class='ee-k'>K1_CONSTANT_BAND_10:</span><span class='ee-v'>774.8853149414062</span></li><li><span class='ee-k'>K1_CONSTANT_BAND_11:</span><span class='ee-v'>480.8883056640625</span></li><li><span class='ee-k'>K2_CONSTANT_BAND_10:</span><span class='ee-v'>1321.078857421875</span></li><li><span class='ee-k'>K2_CONSTANT_BAND_11:</span><span class='ee-v'>1201.1441650390625</span></li><li><span class='ee-k'>LANDSAT_PRODUCT_ID:</span><span class='ee-v'>LC08_L1TP_144052_20200228_20200313_01_T1</span></li><li><span class='ee-k'>LANDSAT_SCENE_ID:</span><span class='ee-v'>LC81440522020059LGN00</span></li><li><span class='ee-k'>MAP_PROJECTION:</span><span class='ee-v'>UTM</span></li><li><span class='ee-k'>NADIR_OFFNADIR:</span><span class='ee-v'>NADIR</span></li><li><span class='ee-k'>ORIENTATION:</span><span class='ee-v'>NORTH_UP</span></li><li><span class='ee-k'>PANCHROMATIC_LINES:</span><span class='ee-v'>15421</span></li><li><span class='ee-k'>PANCHROMATIC_SAMPLES:</span><span class='ee-v'>15101</span></li><li><span class='ee-k'>PROCESSING_SOFTWARE_VERSION:</span><span class='ee-v'>LPGS_13.1.0</span></li><li><span class='ee-k'>RADIANCE_ADD_BAND_1:</span><span class='ee-v'>-63.99903869628906</span></li><li><span class='ee-k'>RADIANCE_ADD_BAND_10:</span><span class='ee-v'>0.10000000149011612</span></li><li><span class='ee-k'>RADIANCE_ADD_BAND_11:</span><span class='ee-v'>0.10000000149011612</span></li><li><span class='ee-k'>RADIANCE_ADD_BAND_2:</span><span class='ee-v'>-65.53579711914062</span></li><li><span class='ee-k'>RADIANCE_ADD_BAND_3:</span><span class='ee-v'>-60.39067840576172</span></li><li><span class='ee-k'>RADIANCE_ADD_BAND_4:</span><span class='ee-v'>-50.92481994628906</span></li><li><span class='ee-k'>RADIANCE_ADD_BAND_5:</span><span class='ee-v'>-31.163450241088867</span></li><li><span class='ee-k'>RADIANCE_ADD_BAND_6:</span><span class='ee-v'>-7.750070095062256</span></li><li><span class='ee-k'>RADIANCE_ADD_BAND_7:</span><span class='ee-v'>-2.612190008163452</span></li><li><span class='ee-k'>RADIANCE_ADD_BAND_8:</span><span class='ee-v'>-57.63288116455078</span></li><li><span class='ee-k'>RADIANCE_ADD_BAND_9:</span><span class='ee-v'>-12.179380416870117</span></li><li><span class='ee-k'>RADIANCE_MULT_BAND_1:</span><span class='ee-v'>0.012799999676644802</span></li><li><span class='ee-k'>RADIANCE_MULT_BAND_10:</span><span class='ee-v'>0.00033420001273043454</span></li><li><span class='ee-k'>RADIANCE_MULT_BAND_11:</span><span class='ee-v'>0.00033420001273043454</span></li><li><span class='ee-k'>RADIANCE_MULT_BAND_2:</span><span class='ee-v'>0.013106999918818474</span></li><li><span class='ee-k'>RADIANCE_MULT_BAND_3:</span><span class='ee-v'>0.012078000232577324</span></li><li><span class='ee-k'>RADIANCE_MULT_BAND_4:</span><span class='ee-v'>0.01018499955534935</span></li><li><span class='ee-k'>RADIANCE_MULT_BAND_5:</span><span class='ee-v'>0.0062326998449862</span></li><li><span class='ee-k'>RADIANCE_MULT_BAND_6:</span><span class='ee-v'>0.001550000044517219</span></li><li><span class='ee-k'>RADIANCE_MULT_BAND_7:</span><span class='ee-v'>0.000522440008353442</span></li><li><span class='ee-k'>RADIANCE_MULT_BAND_8:</span><span class='ee-v'>0.011526999995112419</span></li><li><span class='ee-k'>RADIANCE_MULT_BAND_9:</span><span class='ee-v'>0.0024359000381082296</span></li><li><span class='ee-k'>REFLECTANCE_ADD_BAND_1:</span><span class='ee-v'>-0.10000000149011612</span></li><li><span class='ee-k'>REFLECTANCE_ADD_BAND_2:</span><span class='ee-v'>-0.10000000149011612</span></li><li><span class='ee-k'>REFLECTANCE_ADD_BAND_3:</span><span class='ee-v'>-0.10000000149011612</span></li><li><span class='ee-k'>REFLECTANCE_ADD_BAND_4:</span><span class='ee-v'>-0.10000000149011612</span></li><li><span class='ee-k'>REFLECTANCE_ADD_BAND_5:</span><span class='ee-v'>-0.10000000149011612</span></li><li><span class='ee-k'>REFLECTANCE_ADD_BAND_6:</span><span class='ee-v'>-0.10000000149011612</span></li><li><span class='ee-k'>REFLECTANCE_ADD_BAND_7:</span><span class='ee-v'>-0.10000000149011612</span></li><li><span class='ee-k'>REFLECTANCE_ADD_BAND_8:</span><span class='ee-v'>-0.10000000149011612</span></li><li><span class='ee-k'>REFLECTANCE_ADD_BAND_9:</span><span class='ee-v'>-0.10000000149011612</span></li><li><span class='ee-k'>REFLECTANCE_MULT_BAND_1:</span><span class='ee-v'>1.9999999494757503e-05</span></li><li><span class='ee-k'>REFLECTANCE_MULT_BAND_2:</span><span class='ee-v'>1.9999999494757503e-05</span></li><li><span class='ee-k'>REFLECTANCE_MULT_BAND_3:</span><span class='ee-v'>1.9999999494757503e-05</span></li><li><span class='ee-k'>REFLECTANCE_MULT_BAND_4:</span><span class='ee-v'>1.9999999494757503e-05</span></li><li><span class='ee-k'>REFLECTANCE_MULT_BAND_5:</span><span class='ee-v'>1.9999999494757503e-05</span></li><li><span class='ee-k'>REFLECTANCE_MULT_BAND_6:</span><span class='ee-v'>1.9999999494757503e-05</span></li><li><span class='ee-k'>REFLECTANCE_MULT_BAND_7:</span><span class='ee-v'>1.9999999494757503e-05</span></li><li><span class='ee-k'>REFLECTANCE_MULT_BAND_8:</span><span class='ee-v'>1.9999999494757503e-05</span></li><li><span class='ee-k'>REFLECTANCE_MULT_BAND_9:</span><span class='ee-v'>1.9999999494757503e-05</span></li><li><span class='ee-k'>REFLECTIVE_LINES:</span><span class='ee-v'>7711</span></li><li><span class='ee-k'>REFLECTIVE_SAMPLES:</span><span class='ee-v'>7551</span></li><li><span class='ee-k'>REQUEST_ID:</span><span class='ee-v'>0702003135570_00002</span></li><li><span class='ee-k'>RESAMPLING_OPTION:</span><span class='ee-v'>CUBIC_CONVOLUTION</span></li><li><span class='ee-k'>RLUT_FILE_NAME:</span><span class='ee-v'>LC08RLUT_20150303_20431231_01_12.h5</span></li><li><span class='ee-k'>ROLL_ANGLE:</span><span class='ee-v'>-0.0010000000474974513</span></li><li><span class='ee-k'>SATURATION_BAND_1:</span><span class='ee-v'>N</span></li><li><span class='ee-k'>SATURATION_BAND_2:</span><span class='ee-v'>N</span></li><li><span class='ee-k'>SATURATION_BAND_3:</span><span class='ee-v'>N</span></li><li><span class='ee-k'>SATURATION_BAND_4:</span><span class='ee-v'>N</span></li><li><span class='ee-k'>SATURATION_BAND_5:</span><span class='ee-v'>N</span></li><li><span class='ee-k'>SATURATION_BAND_6:</span><span class='ee-v'>Y</span></li><li><span class='ee-k'>SATURATION_BAND_7:</span><span class='ee-v'>Y</span></li><li><span class='ee-k'>SATURATION_BAND_8:</span><span class='ee-v'>N</span></li><li><span class='ee-k'>SATURATION_BAND_9:</span><span class='ee-v'>N</span></li><li><span class='ee-k'>SCENE_CENTER_TIME:</span><span class='ee-v'>05:11:14.6175510Z</span></li><li><span class='ee-k'>SENSOR_ID:</span><span class='ee-v'>OLI_TIRS</span></li><li><span class='ee-k'>SPACECRAFT_ID:</span><span class='ee-v'>LANDSAT_8</span></li><li><span class='ee-k'>STATION_ID:</span><span class='ee-v'>LGN</span></li><li><span class='ee-k'>SUN_AZIMUTH:</span><span class='ee-v'>123.6900863647461</span></li><li><span class='ee-k'>SUN_ELEVATION:</span><span class='ee-v'>55.54833984375</span></li><li><span class='ee-k'>TARGET_WRS_PATH:</span><span class='ee-v'>144</span></li><li><span class='ee-k'>TARGET_WRS_ROW:</span><span class='ee-v'>52</span></li><li><span class='ee-k'>THERMAL_LINES:</span><span class='ee-v'>7711</span></li><li><span class='ee-k'>THERMAL_SAMPLES:</span><span class='ee-v'>7551</span></li><li><span class='ee-k'>TIRS_SSM_MODEL:</span><span class='ee-v'>FINAL</span></li><li><span class='ee-k'>TIRS_SSM_POSITION_STATUS:</span><span class='ee-v'>ESTIMATED</span></li><li><span class='ee-k'>TIRS_STRAY_LIGHT_CORRECTION_SOURCE:</span><span class='ee-v'>TIRS</span></li><li><span class='ee-k'>TRUNCATION_OLI:</span><span class='ee-v'>UPPER</span></li><li><span class='ee-k'>UTM_ZONE:</span><span class='ee-v'>43</span></li><li><span class='ee-k'>WRS_PATH:</span><span class='ee-v'>144</span></li><li><span class='ee-k'>WRS_ROW:</span><span class='ee-v'>52</span></li><li><span class='ee-k'>google:registration_count:</span><span class='ee-v'>12</span></li><li><span class='ee-k'>google:registration_offset_x:</span><span class='ee-v'>95.12672424316406</span></li><li><span class='ee-k'>google:registration_offset_y:</span><span class='ee-v'>557.769775390625</span></li><li><span class='ee-k'>google:registration_ratio:</span><span class='ee-v'>0.4285714328289032</span></li><li><span class='ee-k'>system:asset_size:</span><span class='ee-v'>1242142413</span></li><li><label class='ee-shut'>system:footprint: LinearRing (21 vertices)<input type='checkbox' class='ee-toggle'></label><ul><li><span class='ee-k'>type:</span><span class='ee-v'>LinearRing</span></li><li><label class='ee-shut'>coordinates: List (21 elements)<input type='checkbox' class='ee-toggle'></label><ul><li><label class='ee-shut'>0: [76.30086600411731, 12.612074677559873]<input type='checkbox' class='ee-toggle'></label><ul><li><span class='ee-k'>0:</span><span class='ee-v'>76.30086600411731</span></li><li><span class='ee-k'>1:</span><span class='ee-v'>12.612074677559873</span></li></ul></li><li><label class='ee-shut'>1: [76.2987404714084, 12.602562579419423]<input type='checkbox' class='ee-toggle'></label><ul><li><span class='ee-k'>0:</span><span class='ee-v'>76.2987404714084</span></li><li><span class='ee-k'>1:</span><span class='ee-v'>12.602562579419423</span></li></ul></li><li><label class='ee-shut'>2: [76.11690729971332, 11.76303915575567]<input type='checkbox' class='ee-toggle'></label><ul><li><span class='ee-k'>0:</span><span class='ee-v'>76.11690729971332</span></li><li><span class='ee-k'>1:</span><span class='ee-v'>11.76303915575567</span></li></ul></li><li><label class='ee-shut'>3: [75.93743288239264, 10.928074797129936]<input type='checkbox' class='ee-toggle'></label><ul><li><span class='ee-k'>0:</span><span class='ee-v'>75.93743288239264</span></li><li><span class='ee-k'>1:</span><span class='ee-v'>10.928074797129936</span></li></ul></li><li><label class='ee-shut'>4: [75.9264458829796, 10.87674419876514]<input type='checkbox' class='ee-toggle'></label><ul><li><span class='ee-k'>0:</span><span class='ee-v'>75.9264458829796</span></li><li><span class='ee-k'>1:</span><span class='ee-v'>10.87674419876514</span></li></ul></li><li><label class='ee-shut'>5: [75.95999905911235, 10.869654474638198]<input type='checkbox' class='ee-toggle'></label><ul><li><span class='ee-k'>0:</span><span class='ee-v'>75.95999905911235</span></li><li><span class='ee-k'>1:</span><span class='ee-v'>10.869654474638198</span></li></ul></li><li><label class='ee-shut'>6: [76.60390909896537, 10.733119670015238]<input type='checkbox' class='ee-toggle'></label><ul><li><span class='ee-k'>0:</span><span class='ee-v'>76.60390909896537</span></li><li><span class='ee-k'>1:</span><span class='ee-v'>10.733119670015238</span></li></ul></li><li><label class='ee-shut'>7: [77.4911956972382, 10.542669177256682]<input type='checkbox' class='ee-toggle'></label><ul><li><span class='ee-k'>0:</span><span class='ee-v'>77.4911956972382</span></li><li><span class='ee-k'>1:</span><span class='ee-v'>10.542669177256682</span></li></ul></li><li><label class='ee-shut'>8: [77.62492801210195, 10.51373694912492]<input type='checkbox' class='ee-toggle'></label><ul><li><span class='ee-k'>0:</span><span class='ee-v'>77.62492801210195</span></li><li><span class='ee-k'>1:</span><span class='ee-v'>10.51373694912492</span></li></ul></li><li><label class='ee-shut'>9: [77.70169208627314, 10.861824882831346]<input type='checkbox' class='ee-toggle'></label><ul><li><span class='ee-k'>0:</span><span class='ee-v'>77.70169208627314</span></li><li><span class='ee-k'>1:</span><span class='ee-v'>10.861824882831346</span></li></ul></li><li><label class='ee-shut'>10: [77.79494849545513, 11.284185643676576]<input type='checkbox' class='ee-toggle'></label><ul><li><span class='ee-k'>0:</span><span class='ee-v'>77.79494849545513</span></li><li><span class='ee-k'>1:</span><span class='ee-v'>11.284185643676576</span></li></ul></li><li><label class='ee-shut'>11: [77.86096322780107, 11.583144861373604]<input type='checkbox' class='ee-toggle'></label><ul><li><span class='ee-k'>0:</span><span class='ee-v'>77.86096322780107</span></li><li><span class='ee-k'>1:</span><span class='ee-v'>11.583144861373604</span></li></ul></li><li><label class='ee-shut'>12: [77.93109800668941, 11.899894269625811]<input type='checkbox' class='ee-toggle'></label><ul><li><span class='ee-k'>0:</span><span class='ee-v'>77.93109800668941</span></li><li><span class='ee-k'>1:</span><span class='ee-v'>11.899894269625811</span></li></ul></li><li><label class='ee-shut'>13: [77.99932344574135, 12.20847655709538]<input type='checkbox' class='ee-toggle'></label><ul><li><span class='ee-k'>0:</span><span class='ee-v'>77.99932344574135</span></li><li><span class='ee-k'>1:</span><span class='ee-v'>12.20847655709538</span></li></ul></li><li><label class='ee-shut'>14: [78.00847478033927, 12.250167375884189]<input type='checkbox' class='ee-toggle'></label><ul><li><span class='ee-k'>0:</span><span class='ee-v'>78.00847478033927</span></li><li><span class='ee-k'>1:</span><span class='ee-v'>12.250167375884189</span></li></ul></li><li><label class='ee-shut'>15: [78.00849716663909, 12.252145751815894]<input type='checkbox' class='ee-toggle'></label><ul><li><span class='ee-k'>0:</span><span class='ee-v'>78.00849716663909</span></li><li><span class='ee-k'>1:</span><span class='ee-v'>12.252145751815894</span></li></ul></li><li><label class='ee-shut'>16: [78.00132442750366, 12.253739751858932]<input type='checkbox' class='ee-toggle'></label><ul><li><span class='ee-k'>0:</span><span class='ee-v'>78.00132442750366</span></li><li><span class='ee-k'>1:</span><span class='ee-v'>12.253739751858932</span></li></ul></li><li><label class='ee-shut'>17: [77.63926522672868, 12.331037061657963]<input type='checkbox' class='ee-toggle'></label><ul><li><span class='ee-k'>0:</span><span class='ee-v'>77.63926522672868</span></li><li><span class='ee-k'>1:</span><span class='ee-v'>12.331037061657963</span></li></ul></li><li><label class='ee-shut'>18: [76.71156983240402, 12.52677509739318]<input type='checkbox' class='ee-toggle'></label><ul><li><span class='ee-k'>0:</span><span class='ee-v'>76.71156983240402</span></li><li><span class='ee-k'>1:</span><span class='ee-v'>12.52677509739318</span></li></ul></li><li><label class='ee-shut'>19: [76.30221390687733, 12.612068072286004]<input type='checkbox' class='ee-toggle'></label><ul><li><span class='ee-k'>0:</span><span class='ee-v'>76.30221390687733</span></li><li><span class='ee-k'>1:</span><span class='ee-v'>12.612068072286004</span></li></ul></li><li><label class='ee-shut'>20: [76.30086600411731, 12.612074677559873]<input type='checkbox' class='ee-toggle'></label><ul><li><span class='ee-k'>0:</span><span class='ee-v'>76.30086600411731</span></li><li><span class='ee-k'>1:</span><span class='ee-v'>12.612074677559873</span></li></ul></li></ul></li></ul></li><li><span class='ee-k'>system:index:</span><span class='ee-v'>LC08_144052_20200228</span></li><li><span class='ee-k'>system:time_end:</span><span class='ee-v'>1582866674617</span></li><li><span class='ee-k'>system:time_start:</span><span class='ee-v'>1582866674617</span></li></ul></li></ul></li><li><label class='ee-shut'>2: Image LANDSAT/LC08/C01/T1/LC08_144052_20200315 (12 bands)<input type='checkbox' class='ee-toggle'></label><ul><li><span class='ee-k'>type:</span><span class='ee-v'>Image</span></li><li><span class='ee-k'>id:</span><span class='ee-v'>LANDSAT/LC08/C01/T1/LC08_144052_20200315</span></li><li><span class='ee-k'>version:</span><span class='ee-v'>1585678338859372</span></li><li><label class='ee-shut'>bands: List (12 elements)<input type='checkbox' class='ee-toggle'></label><ul><li><label class='ee-shut'>0: \"B1\", unsigned int16, EPSG:32643, 7561x7711 px<input type='checkbox' class='ee-toggle'></label><ul><li><span class='ee-k'>id:</span><span class='ee-v'>B1</span></li><li><span class='ee-k'>crs:</span><span class='ee-v'>EPSG:32643</span></li><li><label class='ee-shut'>crs_transform: [30, 0, 600585, 0, -30, 1394715]<input type='checkbox' class='ee-toggle'></label><ul><li><span class='ee-k'>0:</span><span class='ee-v'>30</span></li><li><span class='ee-k'>1:</span><span class='ee-v'>0</span></li><li><span class='ee-k'>2:</span><span class='ee-v'>600585</span></li><li><span class='ee-k'>3:</span><span class='ee-v'>0</span></li><li><span class='ee-k'>4:</span><span class='ee-v'>-30</span></li><li><span class='ee-k'>5:</span><span class='ee-v'>1394715</span></li></ul></li><li><label class='ee-shut'>data_type: unsigned int16<input type='checkbox' class='ee-toggle'></label><ul><li><span class='ee-k'>type:</span><span class='ee-v'>PixelType</span></li><li><span class='ee-k'>max:</span><span class='ee-v'>65535</span></li><li><span class='ee-k'>min:</span><span class='ee-v'>0</span></li><li><span class='ee-k'>precision:</span><span class='ee-v'>int</span></li></ul></li><li><label class='ee-shut'>dimensions: [7561, 7711]<input type='checkbox' class='ee-toggle'></label><ul><li><span class='ee-k'>0:</span><span class='ee-v'>7561</span></li><li><span class='ee-k'>1:</span><span class='ee-v'>7711</span></li></ul></li></ul></li><li><label class='ee-shut'>1: \"B2\", unsigned int16, EPSG:32643, 7561x7711 px<input type='checkbox' class='ee-toggle'></label><ul><li><span class='ee-k'>id:</span><span class='ee-v'>B2</span></li><li><span class='ee-k'>crs:</span><span class='ee-v'>EPSG:32643</span></li><li><label class='ee-shut'>crs_transform: [30, 0, 600585, 0, -30, 1394715]<input type='checkbox' class='ee-toggle'></label><ul><li><span class='ee-k'>0:</span><span class='ee-v'>30</span></li><li><span class='ee-k'>1:</span><span class='ee-v'>0</span></li><li><span class='ee-k'>2:</span><span class='ee-v'>600585</span></li><li><span class='ee-k'>3:</span><span class='ee-v'>0</span></li><li><span class='ee-k'>4:</span><span class='ee-v'>-30</span></li><li><span class='ee-k'>5:</span><span class='ee-v'>1394715</span></li></ul></li><li><label class='ee-shut'>data_type: unsigned int16<input type='checkbox' class='ee-toggle'></label><ul><li><span class='ee-k'>type:</span><span class='ee-v'>PixelType</span></li><li><span class='ee-k'>max:</span><span class='ee-v'>65535</span></li><li><span class='ee-k'>min:</span><span class='ee-v'>0</span></li><li><span class='ee-k'>precision:</span><span class='ee-v'>int</span></li></ul></li><li><label class='ee-shut'>dimensions: [7561, 7711]<input type='checkbox' class='ee-toggle'></label><ul><li><span class='ee-k'>0:</span><span class='ee-v'>7561</span></li><li><span class='ee-k'>1:</span><span class='ee-v'>7711</span></li></ul></li></ul></li><li><label class='ee-shut'>2: \"B3\", unsigned int16, EPSG:32643, 7561x7711 px<input type='checkbox' class='ee-toggle'></label><ul><li><span class='ee-k'>id:</span><span class='ee-v'>B3</span></li><li><span class='ee-k'>crs:</span><span class='ee-v'>EPSG:32643</span></li><li><label class='ee-shut'>crs_transform: [30, 0, 600585, 0, -30, 1394715]<input type='checkbox' class='ee-toggle'></label><ul><li><span class='ee-k'>0:</span><span class='ee-v'>30</span></li><li><span class='ee-k'>1:</span><span class='ee-v'>0</span></li><li><span class='ee-k'>2:</span><span class='ee-v'>600585</span></li><li><span class='ee-k'>3:</span><span class='ee-v'>0</span></li><li><span class='ee-k'>4:</span><span class='ee-v'>-30</span></li><li><span class='ee-k'>5:</span><span class='ee-v'>1394715</span></li></ul></li><li><label class='ee-shut'>data_type: unsigned int16<input type='checkbox' class='ee-toggle'></label><ul><li><span class='ee-k'>type:</span><span class='ee-v'>PixelType</span></li><li><span class='ee-k'>max:</span><span class='ee-v'>65535</span></li><li><span class='ee-k'>min:</span><span class='ee-v'>0</span></li><li><span class='ee-k'>precision:</span><span class='ee-v'>int</span></li></ul></li><li><label class='ee-shut'>dimensions: [7561, 7711]<input type='checkbox' class='ee-toggle'></label><ul><li><span class='ee-k'>0:</span><span class='ee-v'>7561</span></li><li><span class='ee-k'>1:</span><span class='ee-v'>7711</span></li></ul></li></ul></li><li><label class='ee-shut'>3: \"B4\", unsigned int16, EPSG:32643, 7561x7711 px<input type='checkbox' class='ee-toggle'></label><ul><li><span class='ee-k'>id:</span><span class='ee-v'>B4</span></li><li><span class='ee-k'>crs:</span><span class='ee-v'>EPSG:32643</span></li><li><label class='ee-shut'>crs_transform: [30, 0, 600585, 0, -30, 1394715]<input type='checkbox' class='ee-toggle'></label><ul><li><span class='ee-k'>0:</span><span class='ee-v'>30</span></li><li><span class='ee-k'>1:</span><span class='ee-v'>0</span></li><li><span class='ee-k'>2:</span><span class='ee-v'>600585</span></li><li><span class='ee-k'>3:</span><span class='ee-v'>0</span></li><li><span class='ee-k'>4:</span><span class='ee-v'>-30</span></li><li><span class='ee-k'>5:</span><span class='ee-v'>1394715</span></li></ul></li><li><label class='ee-shut'>data_type: unsigned int16<input type='checkbox' class='ee-toggle'></label><ul><li><span class='ee-k'>type:</span><span class='ee-v'>PixelType</span></li><li><span class='ee-k'>max:</span><span class='ee-v'>65535</span></li><li><span class='ee-k'>min:</span><span class='ee-v'>0</span></li><li><span class='ee-k'>precision:</span><span class='ee-v'>int</span></li></ul></li><li><label class='ee-shut'>dimensions: [7561, 7711]<input type='checkbox' class='ee-toggle'></label><ul><li><span class='ee-k'>0:</span><span class='ee-v'>7561</span></li><li><span class='ee-k'>1:</span><span class='ee-v'>7711</span></li></ul></li></ul></li><li><label class='ee-shut'>4: \"B5\", unsigned int16, EPSG:32643, 7561x7711 px<input type='checkbox' class='ee-toggle'></label><ul><li><span class='ee-k'>id:</span><span class='ee-v'>B5</span></li><li><span class='ee-k'>crs:</span><span class='ee-v'>EPSG:32643</span></li><li><label class='ee-shut'>crs_transform: [30, 0, 600585, 0, -30, 1394715]<input type='checkbox' class='ee-toggle'></label><ul><li><span class='ee-k'>0:</span><span class='ee-v'>30</span></li><li><span class='ee-k'>1:</span><span class='ee-v'>0</span></li><li><span class='ee-k'>2:</span><span class='ee-v'>600585</span></li><li><span class='ee-k'>3:</span><span class='ee-v'>0</span></li><li><span class='ee-k'>4:</span><span class='ee-v'>-30</span></li><li><span class='ee-k'>5:</span><span class='ee-v'>1394715</span></li></ul></li><li><label class='ee-shut'>data_type: unsigned int16<input type='checkbox' class='ee-toggle'></label><ul><li><span class='ee-k'>type:</span><span class='ee-v'>PixelType</span></li><li><span class='ee-k'>max:</span><span class='ee-v'>65535</span></li><li><span class='ee-k'>min:</span><span class='ee-v'>0</span></li><li><span class='ee-k'>precision:</span><span class='ee-v'>int</span></li></ul></li><li><label class='ee-shut'>dimensions: [7561, 7711]<input type='checkbox' class='ee-toggle'></label><ul><li><span class='ee-k'>0:</span><span class='ee-v'>7561</span></li><li><span class='ee-k'>1:</span><span class='ee-v'>7711</span></li></ul></li></ul></li><li><label class='ee-shut'>5: \"B6\", unsigned int16, EPSG:32643, 7561x7711 px<input type='checkbox' class='ee-toggle'></label><ul><li><span class='ee-k'>id:</span><span class='ee-v'>B6</span></li><li><span class='ee-k'>crs:</span><span class='ee-v'>EPSG:32643</span></li><li><label class='ee-shut'>crs_transform: [30, 0, 600585, 0, -30, 1394715]<input type='checkbox' class='ee-toggle'></label><ul><li><span class='ee-k'>0:</span><span class='ee-v'>30</span></li><li><span class='ee-k'>1:</span><span class='ee-v'>0</span></li><li><span class='ee-k'>2:</span><span class='ee-v'>600585</span></li><li><span class='ee-k'>3:</span><span class='ee-v'>0</span></li><li><span class='ee-k'>4:</span><span class='ee-v'>-30</span></li><li><span class='ee-k'>5:</span><span class='ee-v'>1394715</span></li></ul></li><li><label class='ee-shut'>data_type: unsigned int16<input type='checkbox' class='ee-toggle'></label><ul><li><span class='ee-k'>type:</span><span class='ee-v'>PixelType</span></li><li><span class='ee-k'>max:</span><span class='ee-v'>65535</span></li><li><span class='ee-k'>min:</span><span class='ee-v'>0</span></li><li><span class='ee-k'>precision:</span><span class='ee-v'>int</span></li></ul></li><li><label class='ee-shut'>dimensions: [7561, 7711]<input type='checkbox' class='ee-toggle'></label><ul><li><span class='ee-k'>0:</span><span class='ee-v'>7561</span></li><li><span class='ee-k'>1:</span><span class='ee-v'>7711</span></li></ul></li></ul></li><li><label class='ee-shut'>6: \"B7\", unsigned int16, EPSG:32643, 7561x7711 px<input type='checkbox' class='ee-toggle'></label><ul><li><span class='ee-k'>id:</span><span class='ee-v'>B7</span></li><li><span class='ee-k'>crs:</span><span class='ee-v'>EPSG:32643</span></li><li><label class='ee-shut'>crs_transform: [30, 0, 600585, 0, -30, 1394715]<input type='checkbox' class='ee-toggle'></label><ul><li><span class='ee-k'>0:</span><span class='ee-v'>30</span></li><li><span class='ee-k'>1:</span><span class='ee-v'>0</span></li><li><span class='ee-k'>2:</span><span class='ee-v'>600585</span></li><li><span class='ee-k'>3:</span><span class='ee-v'>0</span></li><li><span class='ee-k'>4:</span><span class='ee-v'>-30</span></li><li><span class='ee-k'>5:</span><span class='ee-v'>1394715</span></li></ul></li><li><label class='ee-shut'>data_type: unsigned int16<input type='checkbox' class='ee-toggle'></label><ul><li><span class='ee-k'>type:</span><span class='ee-v'>PixelType</span></li><li><span class='ee-k'>max:</span><span class='ee-v'>65535</span></li><li><span class='ee-k'>min:</span><span class='ee-v'>0</span></li><li><span class='ee-k'>precision:</span><span class='ee-v'>int</span></li></ul></li><li><label class='ee-shut'>dimensions: [7561, 7711]<input type='checkbox' class='ee-toggle'></label><ul><li><span class='ee-k'>0:</span><span class='ee-v'>7561</span></li><li><span class='ee-k'>1:</span><span class='ee-v'>7711</span></li></ul></li></ul></li><li><label class='ee-shut'>7: \"B8\", unsigned int16, EPSG:32643, 15121x15421 px<input type='checkbox' class='ee-toggle'></label><ul><li><span class='ee-k'>id:</span><span class='ee-v'>B8</span></li><li><span class='ee-k'>crs:</span><span class='ee-v'>EPSG:32643</span></li><li><label class='ee-shut'>crs_transform: [15, 0, 600592.5, 0, -15, 1394707.5]<input type='checkbox' class='ee-toggle'></label><ul><li><span class='ee-k'>0:</span><span class='ee-v'>15</span></li><li><span class='ee-k'>1:</span><span class='ee-v'>0</span></li><li><span class='ee-k'>2:</span><span class='ee-v'>600592.5</span></li><li><span class='ee-k'>3:</span><span class='ee-v'>0</span></li><li><span class='ee-k'>4:</span><span class='ee-v'>-15</span></li><li><span class='ee-k'>5:</span><span class='ee-v'>1394707.5</span></li></ul></li><li><label class='ee-shut'>data_type: unsigned int16<input type='checkbox' class='ee-toggle'></label><ul><li><span class='ee-k'>type:</span><span class='ee-v'>PixelType</span></li><li><span class='ee-k'>max:</span><span class='ee-v'>65535</span></li><li><span class='ee-k'>min:</span><span class='ee-v'>0</span></li><li><span class='ee-k'>precision:</span><span class='ee-v'>int</span></li></ul></li><li><label class='ee-shut'>dimensions: [15121, 15421]<input type='checkbox' class='ee-toggle'></label><ul><li><span class='ee-k'>0:</span><span class='ee-v'>15121</span></li><li><span class='ee-k'>1:</span><span class='ee-v'>15421</span></li></ul></li></ul></li><li><label class='ee-shut'>8: \"B9\", unsigned int16, EPSG:32643, 7561x7711 px<input type='checkbox' class='ee-toggle'></label><ul><li><span class='ee-k'>id:</span><span class='ee-v'>B9</span></li><li><span class='ee-k'>crs:</span><span class='ee-v'>EPSG:32643</span></li><li><label class='ee-shut'>crs_transform: [30, 0, 600585, 0, -30, 1394715]<input type='checkbox' class='ee-toggle'></label><ul><li><span class='ee-k'>0:</span><span class='ee-v'>30</span></li><li><span class='ee-k'>1:</span><span class='ee-v'>0</span></li><li><span class='ee-k'>2:</span><span class='ee-v'>600585</span></li><li><span class='ee-k'>3:</span><span class='ee-v'>0</span></li><li><span class='ee-k'>4:</span><span class='ee-v'>-30</span></li><li><span class='ee-k'>5:</span><span class='ee-v'>1394715</span></li></ul></li><li><label class='ee-shut'>data_type: unsigned int16<input type='checkbox' class='ee-toggle'></label><ul><li><span class='ee-k'>type:</span><span class='ee-v'>PixelType</span></li><li><span class='ee-k'>max:</span><span class='ee-v'>65535</span></li><li><span class='ee-k'>min:</span><span class='ee-v'>0</span></li><li><span class='ee-k'>precision:</span><span class='ee-v'>int</span></li></ul></li><li><label class='ee-shut'>dimensions: [7561, 7711]<input type='checkbox' class='ee-toggle'></label><ul><li><span class='ee-k'>0:</span><span class='ee-v'>7561</span></li><li><span class='ee-k'>1:</span><span class='ee-v'>7711</span></li></ul></li></ul></li><li><label class='ee-shut'>9: \"B10\", unsigned int16, EPSG:32643, 7561x7711 px<input type='checkbox' class='ee-toggle'></label><ul><li><span class='ee-k'>id:</span><span class='ee-v'>B10</span></li><li><span class='ee-k'>crs:</span><span class='ee-v'>EPSG:32643</span></li><li><label class='ee-shut'>crs_transform: [30, 0, 600585, 0, -30, 1394715]<input type='checkbox' class='ee-toggle'></label><ul><li><span class='ee-k'>0:</span><span class='ee-v'>30</span></li><li><span class='ee-k'>1:</span><span class='ee-v'>0</span></li><li><span class='ee-k'>2:</span><span class='ee-v'>600585</span></li><li><span class='ee-k'>3:</span><span class='ee-v'>0</span></li><li><span class='ee-k'>4:</span><span class='ee-v'>-30</span></li><li><span class='ee-k'>5:</span><span class='ee-v'>1394715</span></li></ul></li><li><label class='ee-shut'>data_type: unsigned int16<input type='checkbox' class='ee-toggle'></label><ul><li><span class='ee-k'>type:</span><span class='ee-v'>PixelType</span></li><li><span class='ee-k'>max:</span><span class='ee-v'>65535</span></li><li><span class='ee-k'>min:</span><span class='ee-v'>0</span></li><li><span class='ee-k'>precision:</span><span class='ee-v'>int</span></li></ul></li><li><label class='ee-shut'>dimensions: [7561, 7711]<input type='checkbox' class='ee-toggle'></label><ul><li><span class='ee-k'>0:</span><span class='ee-v'>7561</span></li><li><span class='ee-k'>1:</span><span class='ee-v'>7711</span></li></ul></li></ul></li><li><label class='ee-shut'>10: \"B11\", unsigned int16, EPSG:32643, 7561x7711 px<input type='checkbox' class='ee-toggle'></label><ul><li><span class='ee-k'>id:</span><span class='ee-v'>B11</span></li><li><span class='ee-k'>crs:</span><span class='ee-v'>EPSG:32643</span></li><li><label class='ee-shut'>crs_transform: [30, 0, 600585, 0, -30, 1394715]<input type='checkbox' class='ee-toggle'></label><ul><li><span class='ee-k'>0:</span><span class='ee-v'>30</span></li><li><span class='ee-k'>1:</span><span class='ee-v'>0</span></li><li><span class='ee-k'>2:</span><span class='ee-v'>600585</span></li><li><span class='ee-k'>3:</span><span class='ee-v'>0</span></li><li><span class='ee-k'>4:</span><span class='ee-v'>-30</span></li><li><span class='ee-k'>5:</span><span class='ee-v'>1394715</span></li></ul></li><li><label class='ee-shut'>data_type: unsigned int16<input type='checkbox' class='ee-toggle'></label><ul><li><span class='ee-k'>type:</span><span class='ee-v'>PixelType</span></li><li><span class='ee-k'>max:</span><span class='ee-v'>65535</span></li><li><span class='ee-k'>min:</span><span class='ee-v'>0</span></li><li><span class='ee-k'>precision:</span><span class='ee-v'>int</span></li></ul></li><li><label class='ee-shut'>dimensions: [7561, 7711]<input type='checkbox' class='ee-toggle'></label><ul><li><span class='ee-k'>0:</span><span class='ee-v'>7561</span></li><li><span class='ee-k'>1:</span><span class='ee-v'>7711</span></li></ul></li></ul></li><li><label class='ee-shut'>11: \"BQA\", unsigned int16, EPSG:32643, 7561x7711 px<input type='checkbox' class='ee-toggle'></label><ul><li><span class='ee-k'>id:</span><span class='ee-v'>BQA</span></li><li><span class='ee-k'>crs:</span><span class='ee-v'>EPSG:32643</span></li><li><label class='ee-shut'>crs_transform: [30, 0, 600585, 0, -30, 1394715]<input type='checkbox' class='ee-toggle'></label><ul><li><span class='ee-k'>0:</span><span class='ee-v'>30</span></li><li><span class='ee-k'>1:</span><span class='ee-v'>0</span></li><li><span class='ee-k'>2:</span><span class='ee-v'>600585</span></li><li><span class='ee-k'>3:</span><span class='ee-v'>0</span></li><li><span class='ee-k'>4:</span><span class='ee-v'>-30</span></li><li><span class='ee-k'>5:</span><span class='ee-v'>1394715</span></li></ul></li><li><label class='ee-shut'>data_type: unsigned int16<input type='checkbox' class='ee-toggle'></label><ul><li><span class='ee-k'>type:</span><span class='ee-v'>PixelType</span></li><li><span class='ee-k'>max:</span><span class='ee-v'>65535</span></li><li><span class='ee-k'>min:</span><span class='ee-v'>0</span></li><li><span class='ee-k'>precision:</span><span class='ee-v'>int</span></li></ul></li><li><label class='ee-shut'>dimensions: [7561, 7711]<input type='checkbox' class='ee-toggle'></label><ul><li><span class='ee-k'>0:</span><span class='ee-v'>7561</span></li><li><span class='ee-k'>1:</span><span class='ee-v'>7711</span></li></ul></li></ul></li></ul></li><li><label class='ee-shut'>properties: Object (119 properties)<input type='checkbox' class='ee-toggle'></label><ul><li><span class='ee-k'>BPF_NAME_OLI:</span><span class='ee-v'>LO8BPF20200315045146_20200315053512.02</span></li><li><span class='ee-k'>BPF_NAME_TIRS:</span><span class='ee-v'>LT8BPF20200310060739_20200324104153.01</span></li><li><span class='ee-k'>CLOUD_COVER:</span><span class='ee-v'>14.1899995803833</span></li><li><span class='ee-k'>CLOUD_COVER_LAND:</span><span class='ee-v'>14.1899995803833</span></li><li><span class='ee-k'>COLLECTION_CATEGORY:</span><span class='ee-v'>T1</span></li><li><span class='ee-k'>COLLECTION_NUMBER:</span><span class='ee-v'>1</span></li><li><span class='ee-k'>CPF_NAME:</span><span class='ee-v'>LC08CPF_20200101_20200331_01.04</span></li><li><span class='ee-k'>DATA_TYPE:</span><span class='ee-v'>L1TP</span></li><li><span class='ee-k'>DATE_ACQUIRED:</span><span class='ee-v'>2020-03-15</span></li><li><span class='ee-k'>DATUM:</span><span class='ee-v'>WGS84</span></li><li><span class='ee-k'>EARTH_SUN_DISTANCE:</span><span class='ee-v'>0.9945167899131775</span></li><li><span class='ee-k'>ELEVATION_SOURCE:</span><span class='ee-v'>GLS2000</span></li><li><span class='ee-k'>ELLIPSOID:</span><span class='ee-v'>WGS84</span></li><li><span class='ee-k'>FILE_DATE:</span><span class='ee-v'>1585175701000</span></li><li><span class='ee-k'>GEOMETRIC_RMSE_MODEL:</span><span class='ee-v'>8.230999946594238</span></li><li><span class='ee-k'>GEOMETRIC_RMSE_MODEL_X:</span><span class='ee-v'>5.882999897003174</span></li><li><span class='ee-k'>GEOMETRIC_RMSE_MODEL_Y:</span><span class='ee-v'>5.756999969482422</span></li><li><span class='ee-k'>GEOMETRIC_RMSE_VERIFY:</span><span class='ee-v'>6.636000156402588</span></li><li><span class='ee-k'>GRID_CELL_SIZE_PANCHROMATIC:</span><span class='ee-v'>15</span></li><li><span class='ee-k'>GRID_CELL_SIZE_REFLECTIVE:</span><span class='ee-v'>30</span></li><li><span class='ee-k'>GRID_CELL_SIZE_THERMAL:</span><span class='ee-v'>30</span></li><li><span class='ee-k'>GROUND_CONTROL_POINTS_MODEL:</span><span class='ee-v'>234</span></li><li><span class='ee-k'>GROUND_CONTROL_POINTS_VERIFY:</span><span class='ee-v'>87</span></li><li><span class='ee-k'>GROUND_CONTROL_POINTS_VERSION:</span><span class='ee-v'>4</span></li><li><span class='ee-k'>IMAGE_QUALITY_OLI:</span><span class='ee-v'>9</span></li><li><span class='ee-k'>IMAGE_QUALITY_TIRS:</span><span class='ee-v'>9</span></li><li><span class='ee-k'>K1_CONSTANT_BAND_10:</span><span class='ee-v'>774.8853149414062</span></li><li><span class='ee-k'>K1_CONSTANT_BAND_11:</span><span class='ee-v'>480.8883056640625</span></li><li><span class='ee-k'>K2_CONSTANT_BAND_10:</span><span class='ee-v'>1321.078857421875</span></li><li><span class='ee-k'>K2_CONSTANT_BAND_11:</span><span class='ee-v'>1201.1441650390625</span></li><li><span class='ee-k'>LANDSAT_PRODUCT_ID:</span><span class='ee-v'>LC08_L1TP_144052_20200315_20200325_01_T1</span></li><li><span class='ee-k'>LANDSAT_SCENE_ID:</span><span class='ee-v'>LC81440522020075LGN00</span></li><li><span class='ee-k'>MAP_PROJECTION:</span><span class='ee-v'>UTM</span></li><li><span class='ee-k'>NADIR_OFFNADIR:</span><span class='ee-v'>NADIR</span></li><li><span class='ee-k'>ORIENTATION:</span><span class='ee-v'>NORTH_UP</span></li><li><span class='ee-k'>PANCHROMATIC_LINES:</span><span class='ee-v'>15421</span></li><li><span class='ee-k'>PANCHROMATIC_SAMPLES:</span><span class='ee-v'>15121</span></li><li><span class='ee-k'>PROCESSING_SOFTWARE_VERSION:</span><span class='ee-v'>LPGS_13.1.0</span></li><li><span class='ee-k'>RADIANCE_ADD_BAND_1:</span><span class='ee-v'>-63.472930908203125</span></li><li><span class='ee-k'>RADIANCE_ADD_BAND_10:</span><span class='ee-v'>0.10000000149011612</span></li><li><span class='ee-k'>RADIANCE_ADD_BAND_11:</span><span class='ee-v'>0.10000000149011612</span></li><li><span class='ee-k'>RADIANCE_ADD_BAND_2:</span><span class='ee-v'>-64.99706268310547</span></li><li><span class='ee-k'>RADIANCE_ADD_BAND_3:</span><span class='ee-v'>-59.894229888916016</span></li><li><span class='ee-k'>RADIANCE_ADD_BAND_4:</span><span class='ee-v'>-50.50619125366211</span></li><li><span class='ee-k'>RADIANCE_ADD_BAND_5:</span><span class='ee-v'>-30.907270431518555</span></li><li><span class='ee-k'>RADIANCE_ADD_BAND_6:</span><span class='ee-v'>-7.686359882354736</span></li><li><span class='ee-k'>RADIANCE_ADD_BAND_7:</span><span class='ee-v'>-2.590709924697876</span></li><li><span class='ee-k'>RADIANCE_ADD_BAND_8:</span><span class='ee-v'>-57.15911102294922</span></li><li><span class='ee-k'>RADIANCE_ADD_BAND_9:</span><span class='ee-v'>-12.079259872436523</span></li><li><span class='ee-k'>RADIANCE_MULT_BAND_1:</span><span class='ee-v'>0.01269499957561493</span></li><li><span class='ee-k'>RADIANCE_MULT_BAND_10:</span><span class='ee-v'>0.00033420001273043454</span></li><li><span class='ee-k'>RADIANCE_MULT_BAND_11:</span><span class='ee-v'>0.00033420001273043454</span></li><li><span class='ee-k'>RADIANCE_MULT_BAND_2:</span><span class='ee-v'>0.012999000027775764</span></li><li><span class='ee-k'>RADIANCE_MULT_BAND_3:</span><span class='ee-v'>0.011978999711573124</span></li><li><span class='ee-k'>RADIANCE_MULT_BAND_4:</span><span class='ee-v'>0.010100999847054482</span></li><li><span class='ee-k'>RADIANCE_MULT_BAND_5:</span><span class='ee-v'>0.006181499920785427</span></li><li><span class='ee-k'>RADIANCE_MULT_BAND_6:</span><span class='ee-v'>0.0015372999478131533</span></li><li><span class='ee-k'>RADIANCE_MULT_BAND_7:</span><span class='ee-v'>0.0005181399756111205</span></li><li><span class='ee-k'>RADIANCE_MULT_BAND_8:</span><span class='ee-v'>0.011432000435888767</span></li><li><span class='ee-k'>RADIANCE_MULT_BAND_9:</span><span class='ee-v'>0.0024158998858183622</span></li><li><span class='ee-k'>REFLECTANCE_ADD_BAND_1:</span><span class='ee-v'>-0.10000000149011612</span></li><li><span class='ee-k'>REFLECTANCE_ADD_BAND_2:</span><span class='ee-v'>-0.10000000149011612</span></li><li><span class='ee-k'>REFLECTANCE_ADD_BAND_3:</span><span class='ee-v'>-0.10000000149011612</span></li><li><span class='ee-k'>REFLECTANCE_ADD_BAND_4:</span><span class='ee-v'>-0.10000000149011612</span></li><li><span class='ee-k'>REFLECTANCE_ADD_BAND_5:</span><span class='ee-v'>-0.10000000149011612</span></li><li><span class='ee-k'>REFLECTANCE_ADD_BAND_6:</span><span class='ee-v'>-0.10000000149011612</span></li><li><span class='ee-k'>REFLECTANCE_ADD_BAND_7:</span><span class='ee-v'>-0.10000000149011612</span></li><li><span class='ee-k'>REFLECTANCE_ADD_BAND_8:</span><span class='ee-v'>-0.10000000149011612</span></li><li><span class='ee-k'>REFLECTANCE_ADD_BAND_9:</span><span class='ee-v'>-0.10000000149011612</span></li><li><span class='ee-k'>REFLECTANCE_MULT_BAND_1:</span><span class='ee-v'>1.9999999494757503e-05</span></li><li><span class='ee-k'>REFLECTANCE_MULT_BAND_2:</span><span class='ee-v'>1.9999999494757503e-05</span></li><li><span class='ee-k'>REFLECTANCE_MULT_BAND_3:</span><span class='ee-v'>1.9999999494757503e-05</span></li><li><span class='ee-k'>REFLECTANCE_MULT_BAND_4:</span><span class='ee-v'>1.9999999494757503e-05</span></li><li><span class='ee-k'>REFLECTANCE_MULT_BAND_5:</span><span class='ee-v'>1.9999999494757503e-05</span></li><li><span class='ee-k'>REFLECTANCE_MULT_BAND_6:</span><span class='ee-v'>1.9999999494757503e-05</span></li><li><span class='ee-k'>REFLECTANCE_MULT_BAND_7:</span><span class='ee-v'>1.9999999494757503e-05</span></li><li><span class='ee-k'>REFLECTANCE_MULT_BAND_8:</span><span class='ee-v'>1.9999999494757503e-05</span></li><li><span class='ee-k'>REFLECTANCE_MULT_BAND_9:</span><span class='ee-v'>1.9999999494757503e-05</span></li><li><span class='ee-k'>REFLECTIVE_LINES:</span><span class='ee-v'>7711</span></li><li><span class='ee-k'>REFLECTIVE_SAMPLES:</span><span class='ee-v'>7561</span></li><li><span class='ee-k'>REQUEST_ID:</span><span class='ee-v'>0702003256689_00026</span></li><li><span class='ee-k'>RESAMPLING_OPTION:</span><span class='ee-v'>CUBIC_CONVOLUTION</span></li><li><span class='ee-k'>RLUT_FILE_NAME:</span><span class='ee-v'>LC08RLUT_20150303_20431231_01_12.h5</span></li><li><span class='ee-k'>ROLL_ANGLE:</span><span class='ee-v'>-0.0010000000474974513</span></li><li><span class='ee-k'>SATURATION_BAND_1:</span><span class='ee-v'>N</span></li><li><span class='ee-k'>SATURATION_BAND_2:</span><span class='ee-v'>N</span></li><li><span class='ee-k'>SATURATION_BAND_3:</span><span class='ee-v'>N</span></li><li><span class='ee-k'>SATURATION_BAND_4:</span><span class='ee-v'>N</span></li><li><span class='ee-k'>SATURATION_BAND_5:</span><span class='ee-v'>N</span></li><li><span class='ee-k'>SATURATION_BAND_6:</span><span class='ee-v'>Y</span></li><li><span class='ee-k'>SATURATION_BAND_7:</span><span class='ee-v'>Y</span></li><li><span class='ee-k'>SATURATION_BAND_8:</span><span class='ee-v'>N</span></li><li><span class='ee-k'>SATURATION_BAND_9:</span><span class='ee-v'>N</span></li><li><span class='ee-k'>SCENE_CENTER_TIME:</span><span class='ee-v'>05:11:07.7980779Z</span></li><li><span class='ee-k'>SENSOR_ID:</span><span class='ee-v'>OLI_TIRS</span></li><li><span class='ee-k'>SPACECRAFT_ID:</span><span class='ee-v'>LANDSAT_8</span></li><li><span class='ee-k'>STATION_ID:</span><span class='ee-v'>LGN</span></li><li><span class='ee-k'>SUN_AZIMUTH:</span><span class='ee-v'>114.6150894165039</span></li><li><span class='ee-k'>SUN_ELEVATION:</span><span class='ee-v'>59.5263786315918</span></li><li><span class='ee-k'>TARGET_WRS_PATH:</span><span class='ee-v'>144</span></li><li><span class='ee-k'>TARGET_WRS_ROW:</span><span class='ee-v'>52</span></li><li><span class='ee-k'>THERMAL_LINES:</span><span class='ee-v'>7711</span></li><li><span class='ee-k'>THERMAL_SAMPLES:</span><span class='ee-v'>7561</span></li><li><span class='ee-k'>TIRS_SSM_MODEL:</span><span class='ee-v'>FINAL</span></li><li><span class='ee-k'>TIRS_SSM_POSITION_STATUS:</span><span class='ee-v'>ESTIMATED</span></li><li><span class='ee-k'>TIRS_STRAY_LIGHT_CORRECTION_SOURCE:</span><span class='ee-v'>TIRS</span></li><li><span class='ee-k'>TRUNCATION_OLI:</span><span class='ee-v'>UPPER</span></li><li><span class='ee-k'>UTM_ZONE:</span><span class='ee-v'>43</span></li><li><span class='ee-k'>WRS_PATH:</span><span class='ee-v'>144</span></li><li><span class='ee-k'>WRS_ROW:</span><span class='ee-v'>52</span></li><li><span class='ee-k'>google:registration_count:</span><span class='ee-v'>8</span></li><li><span class='ee-k'>google:registration_offset_x:</span><span class='ee-v'>-39.3266487121582</span></li><li><span class='ee-k'>google:registration_offset_y:</span><span class='ee-v'>596.3818359375</span></li><li><span class='ee-k'>google:registration_ratio:</span><span class='ee-v'>0.5</span></li><li><span class='ee-k'>system:asset_size:</span><span class='ee-v'>1265819784</span></li><li><label class='ee-shut'>system:footprint: LinearRing (20 vertices)<input type='checkbox' class='ee-toggle'></label><ul><li><span class='ee-k'>type:</span><span class='ee-v'>LinearRing</span></li><li><label class='ee-shut'>coordinates: List (20 elements)<input type='checkbox' class='ee-toggle'></label><ul><li><label class='ee-shut'>0: [77.98804808537155, 12.173238990620476]<input type='checkbox' class='ee-toggle'></label><ul><li><span class='ee-k'>0:</span><span class='ee-v'>77.98804808537155</span></li><li><span class='ee-k'>1:</span><span class='ee-v'>12.173238990620476</span></li></ul></li><li><label class='ee-shut'>1: [77.99501332493004, 12.20486569865219]<input type='checkbox' class='ee-toggle'></label><ul><li><span class='ee-k'>0:</span><span class='ee-v'>77.99501332493004</span></li><li><span class='ee-k'>1:</span><span class='ee-v'>12.20486569865219</span></li></ul></li><li><label class='ee-shut'>2: [78.00503516148348, 12.250526441334648]<input type='checkbox' class='ee-toggle'></label><ul><li><span class='ee-k'>0:</span><span class='ee-v'>78.00503516148348</span></li><li><span class='ee-k'>1:</span><span class='ee-v'>12.250526441334648</span></li></ul></li><li><label class='ee-shut'>3: [78.00505711295408, 12.252466525395587]<input type='checkbox' class='ee-toggle'></label><ul><li><span class='ee-k'>0:</span><span class='ee-v'>78.00505711295408</span></li><li><span class='ee-k'>1:</span><span class='ee-v'>12.252466525395587</span></li></ul></li><li><label class='ee-shut'>4: [76.92761906640588, 12.480979312603928]<input type='checkbox' class='ee-toggle'></label><ul><li><span class='ee-k'>0:</span><span class='ee-v'>76.92761906640588</span></li><li><span class='ee-k'>1:</span><span class='ee-v'>12.480979312603928</span></li></ul></li><li><label class='ee-shut'>5: [76.29958383142534, 12.612080923295625]<input type='checkbox' class='ee-toggle'></label><ul><li><span class='ee-k'>0:</span><span class='ee-v'>76.29958383142534</span></li><li><span class='ee-k'>1:</span><span class='ee-v'>12.612080923295625</span></li></ul></li><li><label class='ee-shut'>6: [76.2974323868341, 12.612091392339325]<input type='checkbox' class='ee-toggle'></label><ul><li><span class='ee-k'>0:</span><span class='ee-v'>76.2974323868341</span></li><li><span class='ee-k'>1:</span><span class='ee-v'>12.612091392339325</span></li></ul></li><li><label class='ee-shut'>7: [76.2933926457891, 12.593695616692058]<input type='checkbox' class='ee-toggle'></label><ul><li><span class='ee-k'>0:</span><span class='ee-v'>76.2933926457891</span></li><li><span class='ee-k'>1:</span><span class='ee-v'>12.593695616692058</span></li></ul></li><li><label class='ee-shut'>8: [76.11072975704305, 11.750042815702344]<input type='checkbox' class='ee-toggle'></label><ul><li><span class='ee-k'>0:</span><span class='ee-v'>76.11072975704305</span></li><li><span class='ee-k'>1:</span><span class='ee-v'>11.750042815702344</span></li></ul></li><li><label class='ee-shut'>9: [75.92531321669071, 10.887029078577545]<input type='checkbox' class='ee-toggle'></label><ul><li><span class='ee-k'>0:</span><span class='ee-v'>75.92531321669071</span></li><li><span class='ee-k'>1:</span><span class='ee-v'>10.887029078577545</span></li></ul></li><li><label class='ee-shut'>10: [75.9233051770441, 10.877260307756757]<input type='checkbox' class='ee-toggle'></label><ul><li><span class='ee-k'>0:</span><span class='ee-v'>75.9233051770441</span></li><li><span class='ee-k'>1:</span><span class='ee-v'>10.877260307756757</span></li></ul></li><li><label class='ee-shut'>11: [75.92473044334038, 10.876550551847318]<input type='checkbox' class='ee-toggle'></label><ul><li><span class='ee-k'>0:</span><span class='ee-v'>75.92473044334038</span></li><li><span class='ee-k'>1:</span><span class='ee-v'>10.876550551847318</span></li></ul></li><li><label class='ee-shut'>12: [77.61966323838378, 10.514386496134142]<input type='checkbox' class='ee-toggle'></label><ul><li><span class='ee-k'>0:</span><span class='ee-v'>77.61966323838378</span></li><li><span class='ee-k'>1:</span><span class='ee-v'>10.514386496134142</span></li></ul></li><li><label class='ee-shut'>13: [77.62165749850719, 10.514369993976374]<input type='checkbox' class='ee-toggle'></label><ul><li><span class='ee-k'>0:</span><span class='ee-v'>77.62165749850719</span></li><li><span class='ee-k'>1:</span><span class='ee-v'>10.514369993976374</span></li></ul></li><li><label class='ee-shut'>14: [77.62849002338622, 10.54532184203705]<input type='checkbox' class='ee-toggle'></label><ul><li><span class='ee-k'>0:</span><span class='ee-v'>77.62849002338622</span></li><li><span class='ee-k'>1:</span><span class='ee-v'>10.54532184203705</span></li></ul></li><li><label class='ee-shut'>15: [77.6978353132222, 10.859825916800956]<input type='checkbox' class='ee-toggle'></label><ul><li><span class='ee-k'>0:</span><span class='ee-v'>77.6978353132222</span></li><li><span class='ee-k'>1:</span><span class='ee-v'>10.859825916800956</span></li></ul></li><li><label class='ee-shut'>16: [77.79367013870919, 11.293954239573859]<input type='checkbox' class='ee-toggle'></label><ul><li><span class='ee-k'>0:</span><span class='ee-v'>77.79367013870919</span></li><li><span class='ee-k'>1:</span><span class='ee-v'>11.293954239573859</span></li></ul></li><li><label class='ee-shut'>17: [77.86401003380627, 11.612382264018486]<input type='checkbox' class='ee-toggle'></label><ul><li><span class='ee-k'>0:</span><span class='ee-v'>77.86401003380627</span></li><li><span class='ee-k'>1:</span><span class='ee-v'>11.612382264018486</span></li></ul></li><li><label class='ee-shut'>18: [77.92809343626587, 11.901957786170632]<input type='checkbox' class='ee-toggle'></label><ul><li><span class='ee-k'>0:</span><span class='ee-v'>77.92809343626587</span></li><li><span class='ee-k'>1:</span><span class='ee-v'>11.901957786170632</span></li></ul></li><li><label class='ee-shut'>19: [77.98804808537155, 12.173238990620476]<input type='checkbox' class='ee-toggle'></label><ul><li><span class='ee-k'>0:</span><span class='ee-v'>77.98804808537155</span></li><li><span class='ee-k'>1:</span><span class='ee-v'>12.173238990620476</span></li></ul></li></ul></li></ul></li><li><span class='ee-k'>system:index:</span><span class='ee-v'>LC08_144052_20200315</span></li><li><span class='ee-k'>system:time_end:</span><span class='ee-v'>1584249067798</span></li><li><span class='ee-k'>system:time_start:</span><span class='ee-v'>1584249067798</span></li></ul></li></ul></li><li><label class='ee-shut'>3: Image LANDSAT/LC08/C01/T1/LC08_144053_20200212 (12 bands)<input type='checkbox' class='ee-toggle'></label><ul><li><span class='ee-k'>type:</span><span class='ee-v'>Image</span></li><li><span class='ee-k'>id:</span><span class='ee-v'>LANDSAT/LC08/C01/T1/LC08_144053_20200212</span></li><li><span class='ee-k'>version:</span><span class='ee-v'>1582838374859409</span></li><li><label class='ee-shut'>bands: List (12 elements)<input type='checkbox' class='ee-toggle'></label><ul><li><label class='ee-shut'>0: \"B1\", unsigned int16, EPSG:32643, 7561x7721 px<input type='checkbox' class='ee-toggle'></label><ul><li><span class='ee-k'>id:</span><span class='ee-v'>B1</span></li><li><span class='ee-k'>crs:</span><span class='ee-v'>EPSG:32643</span></li><li><label class='ee-shut'>crs_transform: [30, 0, 568485, 0, -30, 1234815]<input type='checkbox' class='ee-toggle'></label><ul><li><span class='ee-k'>0:</span><span class='ee-v'>30</span></li><li><span class='ee-k'>1:</span><span class='ee-v'>0</span></li><li><span class='ee-k'>2:</span><span class='ee-v'>568485</span></li><li><span class='ee-k'>3:</span><span class='ee-v'>0</span></li><li><span class='ee-k'>4:</span><span class='ee-v'>-30</span></li><li><span class='ee-k'>5:</span><span class='ee-v'>1234815</span></li></ul></li><li><label class='ee-shut'>data_type: unsigned int16<input type='checkbox' class='ee-toggle'></label><ul><li><span class='ee-k'>type:</span><span class='ee-v'>PixelType</span></li><li><span class='ee-k'>max:</span><span class='ee-v'>65535</span></li><li><span class='ee-k'>min:</span><span class='ee-v'>0</span></li><li><span class='ee-k'>precision:</span><span class='ee-v'>int</span></li></ul></li><li><label class='ee-shut'>dimensions: [7561, 7721]<input type='checkbox' class='ee-toggle'></label><ul><li><span class='ee-k'>0:</span><span class='ee-v'>7561</span></li><li><span class='ee-k'>1:</span><span class='ee-v'>7721</span></li></ul></li></ul></li><li><label class='ee-shut'>1: \"B2\", unsigned int16, EPSG:32643, 7561x7721 px<input type='checkbox' class='ee-toggle'></label><ul><li><span class='ee-k'>id:</span><span class='ee-v'>B2</span></li><li><span class='ee-k'>crs:</span><span class='ee-v'>EPSG:32643</span></li><li><label class='ee-shut'>crs_transform: [30, 0, 568485, 0, -30, 1234815]<input type='checkbox' class='ee-toggle'></label><ul><li><span class='ee-k'>0:</span><span class='ee-v'>30</span></li><li><span class='ee-k'>1:</span><span class='ee-v'>0</span></li><li><span class='ee-k'>2:</span><span class='ee-v'>568485</span></li><li><span class='ee-k'>3:</span><span class='ee-v'>0</span></li><li><span class='ee-k'>4:</span><span class='ee-v'>-30</span></li><li><span class='ee-k'>5:</span><span class='ee-v'>1234815</span></li></ul></li><li><label class='ee-shut'>data_type: unsigned int16<input type='checkbox' class='ee-toggle'></label><ul><li><span class='ee-k'>type:</span><span class='ee-v'>PixelType</span></li><li><span class='ee-k'>max:</span><span class='ee-v'>65535</span></li><li><span class='ee-k'>min:</span><span class='ee-v'>0</span></li><li><span class='ee-k'>precision:</span><span class='ee-v'>int</span></li></ul></li><li><label class='ee-shut'>dimensions: [7561, 7721]<input type='checkbox' class='ee-toggle'></label><ul><li><span class='ee-k'>0:</span><span class='ee-v'>7561</span></li><li><span class='ee-k'>1:</span><span class='ee-v'>7721</span></li></ul></li></ul></li><li><label class='ee-shut'>2: \"B3\", unsigned int16, EPSG:32643, 7561x7721 px<input type='checkbox' class='ee-toggle'></label><ul><li><span class='ee-k'>id:</span><span class='ee-v'>B3</span></li><li><span class='ee-k'>crs:</span><span class='ee-v'>EPSG:32643</span></li><li><label class='ee-shut'>crs_transform: [30, 0, 568485, 0, -30, 1234815]<input type='checkbox' class='ee-toggle'></label><ul><li><span class='ee-k'>0:</span><span class='ee-v'>30</span></li><li><span class='ee-k'>1:</span><span class='ee-v'>0</span></li><li><span class='ee-k'>2:</span><span class='ee-v'>568485</span></li><li><span class='ee-k'>3:</span><span class='ee-v'>0</span></li><li><span class='ee-k'>4:</span><span class='ee-v'>-30</span></li><li><span class='ee-k'>5:</span><span class='ee-v'>1234815</span></li></ul></li><li><label class='ee-shut'>data_type: unsigned int16<input type='checkbox' class='ee-toggle'></label><ul><li><span class='ee-k'>type:</span><span class='ee-v'>PixelType</span></li><li><span class='ee-k'>max:</span><span class='ee-v'>65535</span></li><li><span class='ee-k'>min:</span><span class='ee-v'>0</span></li><li><span class='ee-k'>precision:</span><span class='ee-v'>int</span></li></ul></li><li><label class='ee-shut'>dimensions: [7561, 7721]<input type='checkbox' class='ee-toggle'></label><ul><li><span class='ee-k'>0:</span><span class='ee-v'>7561</span></li><li><span class='ee-k'>1:</span><span class='ee-v'>7721</span></li></ul></li></ul></li><li><label class='ee-shut'>3: \"B4\", unsigned int16, EPSG:32643, 7561x7721 px<input type='checkbox' class='ee-toggle'></label><ul><li><span class='ee-k'>id:</span><span class='ee-v'>B4</span></li><li><span class='ee-k'>crs:</span><span class='ee-v'>EPSG:32643</span></li><li><label class='ee-shut'>crs_transform: [30, 0, 568485, 0, -30, 1234815]<input type='checkbox' class='ee-toggle'></label><ul><li><span class='ee-k'>0:</span><span class='ee-v'>30</span></li><li><span class='ee-k'>1:</span><span class='ee-v'>0</span></li><li><span class='ee-k'>2:</span><span class='ee-v'>568485</span></li><li><span class='ee-k'>3:</span><span class='ee-v'>0</span></li><li><span class='ee-k'>4:</span><span class='ee-v'>-30</span></li><li><span class='ee-k'>5:</span><span class='ee-v'>1234815</span></li></ul></li><li><label class='ee-shut'>data_type: unsigned int16<input type='checkbox' class='ee-toggle'></label><ul><li><span class='ee-k'>type:</span><span class='ee-v'>PixelType</span></li><li><span class='ee-k'>max:</span><span class='ee-v'>65535</span></li><li><span class='ee-k'>min:</span><span class='ee-v'>0</span></li><li><span class='ee-k'>precision:</span><span class='ee-v'>int</span></li></ul></li><li><label class='ee-shut'>dimensions: [7561, 7721]<input type='checkbox' class='ee-toggle'></label><ul><li><span class='ee-k'>0:</span><span class='ee-v'>7561</span></li><li><span class='ee-k'>1:</span><span class='ee-v'>7721</span></li></ul></li></ul></li><li><label class='ee-shut'>4: \"B5\", unsigned int16, EPSG:32643, 7561x7721 px<input type='checkbox' class='ee-toggle'></label><ul><li><span class='ee-k'>id:</span><span class='ee-v'>B5</span></li><li><span class='ee-k'>crs:</span><span class='ee-v'>EPSG:32643</span></li><li><label class='ee-shut'>crs_transform: [30, 0, 568485, 0, -30, 1234815]<input type='checkbox' class='ee-toggle'></label><ul><li><span class='ee-k'>0:</span><span class='ee-v'>30</span></li><li><span class='ee-k'>1:</span><span class='ee-v'>0</span></li><li><span class='ee-k'>2:</span><span class='ee-v'>568485</span></li><li><span class='ee-k'>3:</span><span class='ee-v'>0</span></li><li><span class='ee-k'>4:</span><span class='ee-v'>-30</span></li><li><span class='ee-k'>5:</span><span class='ee-v'>1234815</span></li></ul></li><li><label class='ee-shut'>data_type: unsigned int16<input type='checkbox' class='ee-toggle'></label><ul><li><span class='ee-k'>type:</span><span class='ee-v'>PixelType</span></li><li><span class='ee-k'>max:</span><span class='ee-v'>65535</span></li><li><span class='ee-k'>min:</span><span class='ee-v'>0</span></li><li><span class='ee-k'>precision:</span><span class='ee-v'>int</span></li></ul></li><li><label class='ee-shut'>dimensions: [7561, 7721]<input type='checkbox' class='ee-toggle'></label><ul><li><span class='ee-k'>0:</span><span class='ee-v'>7561</span></li><li><span class='ee-k'>1:</span><span class='ee-v'>7721</span></li></ul></li></ul></li><li><label class='ee-shut'>5: \"B6\", unsigned int16, EPSG:32643, 7561x7721 px<input type='checkbox' class='ee-toggle'></label><ul><li><span class='ee-k'>id:</span><span class='ee-v'>B6</span></li><li><span class='ee-k'>crs:</span><span class='ee-v'>EPSG:32643</span></li><li><label class='ee-shut'>crs_transform: [30, 0, 568485, 0, -30, 1234815]<input type='checkbox' class='ee-toggle'></label><ul><li><span class='ee-k'>0:</span><span class='ee-v'>30</span></li><li><span class='ee-k'>1:</span><span class='ee-v'>0</span></li><li><span class='ee-k'>2:</span><span class='ee-v'>568485</span></li><li><span class='ee-k'>3:</span><span class='ee-v'>0</span></li><li><span class='ee-k'>4:</span><span class='ee-v'>-30</span></li><li><span class='ee-k'>5:</span><span class='ee-v'>1234815</span></li></ul></li><li><label class='ee-shut'>data_type: unsigned int16<input type='checkbox' class='ee-toggle'></label><ul><li><span class='ee-k'>type:</span><span class='ee-v'>PixelType</span></li><li><span class='ee-k'>max:</span><span class='ee-v'>65535</span></li><li><span class='ee-k'>min:</span><span class='ee-v'>0</span></li><li><span class='ee-k'>precision:</span><span class='ee-v'>int</span></li></ul></li><li><label class='ee-shut'>dimensions: [7561, 7721]<input type='checkbox' class='ee-toggle'></label><ul><li><span class='ee-k'>0:</span><span class='ee-v'>7561</span></li><li><span class='ee-k'>1:</span><span class='ee-v'>7721</span></li></ul></li></ul></li><li><label class='ee-shut'>6: \"B7\", unsigned int16, EPSG:32643, 7561x7721 px<input type='checkbox' class='ee-toggle'></label><ul><li><span class='ee-k'>id:</span><span class='ee-v'>B7</span></li><li><span class='ee-k'>crs:</span><span class='ee-v'>EPSG:32643</span></li><li><label class='ee-shut'>crs_transform: [30, 0, 568485, 0, -30, 1234815]<input type='checkbox' class='ee-toggle'></label><ul><li><span class='ee-k'>0:</span><span class='ee-v'>30</span></li><li><span class='ee-k'>1:</span><span class='ee-v'>0</span></li><li><span class='ee-k'>2:</span><span class='ee-v'>568485</span></li><li><span class='ee-k'>3:</span><span class='ee-v'>0</span></li><li><span class='ee-k'>4:</span><span class='ee-v'>-30</span></li><li><span class='ee-k'>5:</span><span class='ee-v'>1234815</span></li></ul></li><li><label class='ee-shut'>data_type: unsigned int16<input type='checkbox' class='ee-toggle'></label><ul><li><span class='ee-k'>type:</span><span class='ee-v'>PixelType</span></li><li><span class='ee-k'>max:</span><span class='ee-v'>65535</span></li><li><span class='ee-k'>min:</span><span class='ee-v'>0</span></li><li><span class='ee-k'>precision:</span><span class='ee-v'>int</span></li></ul></li><li><label class='ee-shut'>dimensions: [7561, 7721]<input type='checkbox' class='ee-toggle'></label><ul><li><span class='ee-k'>0:</span><span class='ee-v'>7561</span></li><li><span class='ee-k'>1:</span><span class='ee-v'>7721</span></li></ul></li></ul></li><li><label class='ee-shut'>7: \"B8\", unsigned int16, EPSG:32643, 15121x15441 px<input type='checkbox' class='ee-toggle'></label><ul><li><span class='ee-k'>id:</span><span class='ee-v'>B8</span></li><li><span class='ee-k'>crs:</span><span class='ee-v'>EPSG:32643</span></li><li><label class='ee-shut'>crs_transform: [15, 0, 568492.5, 0, -15, 1234807.5]<input type='checkbox' class='ee-toggle'></label><ul><li><span class='ee-k'>0:</span><span class='ee-v'>15</span></li><li><span class='ee-k'>1:</span><span class='ee-v'>0</span></li><li><span class='ee-k'>2:</span><span class='ee-v'>568492.5</span></li><li><span class='ee-k'>3:</span><span class='ee-v'>0</span></li><li><span class='ee-k'>4:</span><span class='ee-v'>-15</span></li><li><span class='ee-k'>5:</span><span class='ee-v'>1234807.5</span></li></ul></li><li><label class='ee-shut'>data_type: unsigned int16<input type='checkbox' class='ee-toggle'></label><ul><li><span class='ee-k'>type:</span><span class='ee-v'>PixelType</span></li><li><span class='ee-k'>max:</span><span class='ee-v'>65535</span></li><li><span class='ee-k'>min:</span><span class='ee-v'>0</span></li><li><span class='ee-k'>precision:</span><span class='ee-v'>int</span></li></ul></li><li><label class='ee-shut'>dimensions: [15121, 15441]<input type='checkbox' class='ee-toggle'></label><ul><li><span class='ee-k'>0:</span><span class='ee-v'>15121</span></li><li><span class='ee-k'>1:</span><span class='ee-v'>15441</span></li></ul></li></ul></li><li><label class='ee-shut'>8: \"B9\", unsigned int16, EPSG:32643, 7561x7721 px<input type='checkbox' class='ee-toggle'></label><ul><li><span class='ee-k'>id:</span><span class='ee-v'>B9</span></li><li><span class='ee-k'>crs:</span><span class='ee-v'>EPSG:32643</span></li><li><label class='ee-shut'>crs_transform: [30, 0, 568485, 0, -30, 1234815]<input type='checkbox' class='ee-toggle'></label><ul><li><span class='ee-k'>0:</span><span class='ee-v'>30</span></li><li><span class='ee-k'>1:</span><span class='ee-v'>0</span></li><li><span class='ee-k'>2:</span><span class='ee-v'>568485</span></li><li><span class='ee-k'>3:</span><span class='ee-v'>0</span></li><li><span class='ee-k'>4:</span><span class='ee-v'>-30</span></li><li><span class='ee-k'>5:</span><span class='ee-v'>1234815</span></li></ul></li><li><label class='ee-shut'>data_type: unsigned int16<input type='checkbox' class='ee-toggle'></label><ul><li><span class='ee-k'>type:</span><span class='ee-v'>PixelType</span></li><li><span class='ee-k'>max:</span><span class='ee-v'>65535</span></li><li><span class='ee-k'>min:</span><span class='ee-v'>0</span></li><li><span class='ee-k'>precision:</span><span class='ee-v'>int</span></li></ul></li><li><label class='ee-shut'>dimensions: [7561, 7721]<input type='checkbox' class='ee-toggle'></label><ul><li><span class='ee-k'>0:</span><span class='ee-v'>7561</span></li><li><span class='ee-k'>1:</span><span class='ee-v'>7721</span></li></ul></li></ul></li><li><label class='ee-shut'>9: \"B10\", unsigned int16, EPSG:32643, 7561x7721 px<input type='checkbox' class='ee-toggle'></label><ul><li><span class='ee-k'>id:</span><span class='ee-v'>B10</span></li><li><span class='ee-k'>crs:</span><span class='ee-v'>EPSG:32643</span></li><li><label class='ee-shut'>crs_transform: [30, 0, 568485, 0, -30, 1234815]<input type='checkbox' class='ee-toggle'></label><ul><li><span class='ee-k'>0:</span><span class='ee-v'>30</span></li><li><span class='ee-k'>1:</span><span class='ee-v'>0</span></li><li><span class='ee-k'>2:</span><span class='ee-v'>568485</span></li><li><span class='ee-k'>3:</span><span class='ee-v'>0</span></li><li><span class='ee-k'>4:</span><span class='ee-v'>-30</span></li><li><span class='ee-k'>5:</span><span class='ee-v'>1234815</span></li></ul></li><li><label class='ee-shut'>data_type: unsigned int16<input type='checkbox' class='ee-toggle'></label><ul><li><span class='ee-k'>type:</span><span class='ee-v'>PixelType</span></li><li><span class='ee-k'>max:</span><span class='ee-v'>65535</span></li><li><span class='ee-k'>min:</span><span class='ee-v'>0</span></li><li><span class='ee-k'>precision:</span><span class='ee-v'>int</span></li></ul></li><li><label class='ee-shut'>dimensions: [7561, 7721]<input type='checkbox' class='ee-toggle'></label><ul><li><span class='ee-k'>0:</span><span class='ee-v'>7561</span></li><li><span class='ee-k'>1:</span><span class='ee-v'>7721</span></li></ul></li></ul></li><li><label class='ee-shut'>10: \"B11\", unsigned int16, EPSG:32643, 7561x7721 px<input type='checkbox' class='ee-toggle'></label><ul><li><span class='ee-k'>id:</span><span class='ee-v'>B11</span></li><li><span class='ee-k'>crs:</span><span class='ee-v'>EPSG:32643</span></li><li><label class='ee-shut'>crs_transform: [30, 0, 568485, 0, -30, 1234815]<input type='checkbox' class='ee-toggle'></label><ul><li><span class='ee-k'>0:</span><span class='ee-v'>30</span></li><li><span class='ee-k'>1:</span><span class='ee-v'>0</span></li><li><span class='ee-k'>2:</span><span class='ee-v'>568485</span></li><li><span class='ee-k'>3:</span><span class='ee-v'>0</span></li><li><span class='ee-k'>4:</span><span class='ee-v'>-30</span></li><li><span class='ee-k'>5:</span><span class='ee-v'>1234815</span></li></ul></li><li><label class='ee-shut'>data_type: unsigned int16<input type='checkbox' class='ee-toggle'></label><ul><li><span class='ee-k'>type:</span><span class='ee-v'>PixelType</span></li><li><span class='ee-k'>max:</span><span class='ee-v'>65535</span></li><li><span class='ee-k'>min:</span><span class='ee-v'>0</span></li><li><span class='ee-k'>precision:</span><span class='ee-v'>int</span></li></ul></li><li><label class='ee-shut'>dimensions: [7561, 7721]<input type='checkbox' class='ee-toggle'></label><ul><li><span class='ee-k'>0:</span><span class='ee-v'>7561</span></li><li><span class='ee-k'>1:</span><span class='ee-v'>7721</span></li></ul></li></ul></li><li><label class='ee-shut'>11: \"BQA\", unsigned int16, EPSG:32643, 7561x7721 px<input type='checkbox' class='ee-toggle'></label><ul><li><span class='ee-k'>id:</span><span class='ee-v'>BQA</span></li><li><span class='ee-k'>crs:</span><span class='ee-v'>EPSG:32643</span></li><li><label class='ee-shut'>crs_transform: [30, 0, 568485, 0, -30, 1234815]<input type='checkbox' class='ee-toggle'></label><ul><li><span class='ee-k'>0:</span><span class='ee-v'>30</span></li><li><span class='ee-k'>1:</span><span class='ee-v'>0</span></li><li><span class='ee-k'>2:</span><span class='ee-v'>568485</span></li><li><span class='ee-k'>3:</span><span class='ee-v'>0</span></li><li><span class='ee-k'>4:</span><span class='ee-v'>-30</span></li><li><span class='ee-k'>5:</span><span class='ee-v'>1234815</span></li></ul></li><li><label class='ee-shut'>data_type: unsigned int16<input type='checkbox' class='ee-toggle'></label><ul><li><span class='ee-k'>type:</span><span class='ee-v'>PixelType</span></li><li><span class='ee-k'>max:</span><span class='ee-v'>65535</span></li><li><span class='ee-k'>min:</span><span class='ee-v'>0</span></li><li><span class='ee-k'>precision:</span><span class='ee-v'>int</span></li></ul></li><li><label class='ee-shut'>dimensions: [7561, 7721]<input type='checkbox' class='ee-toggle'></label><ul><li><span class='ee-k'>0:</span><span class='ee-v'>7561</span></li><li><span class='ee-k'>1:</span><span class='ee-v'>7721</span></li></ul></li></ul></li></ul></li><li><label class='ee-shut'>properties: Object (119 properties)<input type='checkbox' class='ee-toggle'></label><ul><li><span class='ee-k'>BPF_NAME_OLI:</span><span class='ee-v'>LO8BPF20200212045333_20200212054011.01</span></li><li><span class='ee-k'>BPF_NAME_TIRS:</span><span class='ee-v'>LT8BPF20200209191040_20200223101745.01</span></li><li><span class='ee-k'>CLOUD_COVER:</span><span class='ee-v'>6.909999847412109</span></li><li><span class='ee-k'>CLOUD_COVER_LAND:</span><span class='ee-v'>8.539999961853027</span></li><li><span class='ee-k'>COLLECTION_CATEGORY:</span><span class='ee-v'>T1</span></li><li><span class='ee-k'>COLLECTION_NUMBER:</span><span class='ee-v'>1</span></li><li><span class='ee-k'>CPF_NAME:</span><span class='ee-v'>LC08CPF_20200101_20200331_01.04</span></li><li><span class='ee-k'>DATA_TYPE:</span><span class='ee-v'>L1TP</span></li><li><span class='ee-k'>DATE_ACQUIRED:</span><span class='ee-v'>2020-02-12</span></li><li><span class='ee-k'>DATUM:</span><span class='ee-v'>WGS84</span></li><li><span class='ee-k'>EARTH_SUN_DISTANCE:</span><span class='ee-v'>0.9869747161865234</span></li><li><span class='ee-k'>ELEVATION_SOURCE:</span><span class='ee-v'>GLS2000</span></li><li><span class='ee-k'>ELLIPSOID:</span><span class='ee-v'>WGS84</span></li><li><span class='ee-k'>FILE_DATE:</span><span class='ee-v'>1582596873000</span></li><li><span class='ee-k'>GEOMETRIC_RMSE_MODEL:</span><span class='ee-v'>7.396999835968018</span></li><li><span class='ee-k'>GEOMETRIC_RMSE_MODEL_X:</span><span class='ee-v'>5.427000045776367</span></li><li><span class='ee-k'>GEOMETRIC_RMSE_MODEL_Y:</span><span class='ee-v'>5.026000022888184</span></li><li><span class='ee-k'>GEOMETRIC_RMSE_VERIFY:</span><span class='ee-v'>3.515000104904175</span></li><li><span class='ee-k'>GRID_CELL_SIZE_PANCHROMATIC:</span><span class='ee-v'>15</span></li><li><span class='ee-k'>GRID_CELL_SIZE_REFLECTIVE:</span><span class='ee-v'>30</span></li><li><span class='ee-k'>GRID_CELL_SIZE_THERMAL:</span><span class='ee-v'>30</span></li><li><span class='ee-k'>GROUND_CONTROL_POINTS_MODEL:</span><span class='ee-v'>275</span></li><li><span class='ee-k'>GROUND_CONTROL_POINTS_VERIFY:</span><span class='ee-v'>65</span></li><li><span class='ee-k'>GROUND_CONTROL_POINTS_VERSION:</span><span class='ee-v'>4</span></li><li><span class='ee-k'>IMAGE_QUALITY_OLI:</span><span class='ee-v'>9</span></li><li><span class='ee-k'>IMAGE_QUALITY_TIRS:</span><span class='ee-v'>9</span></li><li><span class='ee-k'>K1_CONSTANT_BAND_10:</span><span class='ee-v'>774.8853149414062</span></li><li><span class='ee-k'>K1_CONSTANT_BAND_11:</span><span class='ee-v'>480.8883056640625</span></li><li><span class='ee-k'>K2_CONSTANT_BAND_10:</span><span class='ee-v'>1321.078857421875</span></li><li><span class='ee-k'>K2_CONSTANT_BAND_11:</span><span class='ee-v'>1201.1441650390625</span></li><li><span class='ee-k'>LANDSAT_PRODUCT_ID:</span><span class='ee-v'>LC08_L1TP_144053_20200212_20200225_01_T1</span></li><li><span class='ee-k'>LANDSAT_SCENE_ID:</span><span class='ee-v'>LC81440532020043LGN00</span></li><li><span class='ee-k'>MAP_PROJECTION:</span><span class='ee-v'>UTM</span></li><li><span class='ee-k'>NADIR_OFFNADIR:</span><span class='ee-v'>NADIR</span></li><li><span class='ee-k'>ORIENTATION:</span><span class='ee-v'>NORTH_UP</span></li><li><span class='ee-k'>PANCHROMATIC_LINES:</span><span class='ee-v'>15441</span></li><li><span class='ee-k'>PANCHROMATIC_SAMPLES:</span><span class='ee-v'>15121</span></li><li><span class='ee-k'>PROCESSING_SOFTWARE_VERSION:</span><span class='ee-v'>LPGS_13.1.0</span></li><li><span class='ee-k'>RADIANCE_ADD_BAND_1:</span><span class='ee-v'>-64.44671630859375</span></li><li><span class='ee-k'>RADIANCE_ADD_BAND_10:</span><span class='ee-v'>0.10000000149011612</span></li><li><span class='ee-k'>RADIANCE_ADD_BAND_11:</span><span class='ee-v'>0.10000000149011612</span></li><li><span class='ee-k'>RADIANCE_ADD_BAND_2:</span><span class='ee-v'>-65.99423217773438</span></li><li><span class='ee-k'>RADIANCE_ADD_BAND_3:</span><span class='ee-v'>-60.8131217956543</span></li><li><span class='ee-k'>RADIANCE_ADD_BAND_4:</span><span class='ee-v'>-51.28104019165039</span></li><li><span class='ee-k'>RADIANCE_ADD_BAND_5:</span><span class='ee-v'>-31.381439208984375</span></li><li><span class='ee-k'>RADIANCE_ADD_BAND_6:</span><span class='ee-v'>-7.804279804229736</span></li><li><span class='ee-k'>RADIANCE_ADD_BAND_7:</span><span class='ee-v'>-2.630460023880005</span></li><li><span class='ee-k'>RADIANCE_ADD_BAND_8:</span><span class='ee-v'>-58.03602981567383</span></li><li><span class='ee-k'>RADIANCE_ADD_BAND_9:</span><span class='ee-v'>-12.264579772949219</span></li><li><span class='ee-k'>RADIANCE_MULT_BAND_1:</span><span class='ee-v'>0.012888999655842781</span></li><li><span class='ee-k'>RADIANCE_MULT_BAND_10:</span><span class='ee-v'>0.00033420001273043454</span></li><li><span class='ee-k'>RADIANCE_MULT_BAND_11:</span><span class='ee-v'>0.00033420001273043454</span></li><li><span class='ee-k'>RADIANCE_MULT_BAND_2:</span><span class='ee-v'>0.01319899968802929</span></li><li><span class='ee-k'>RADIANCE_MULT_BAND_3:</span><span class='ee-v'>0.01216300018131733</span></li><li><span class='ee-k'>RADIANCE_MULT_BAND_4:</span><span class='ee-v'>0.010255999863147736</span></li><li><span class='ee-k'>RADIANCE_MULT_BAND_5:</span><span class='ee-v'>0.006276300176978111</span></li><li><span class='ee-k'>RADIANCE_MULT_BAND_6:</span><span class='ee-v'>0.001560900011099875</span></li><li><span class='ee-k'>RADIANCE_MULT_BAND_7:</span><span class='ee-v'>0.0005260899779386818</span></li><li><span class='ee-k'>RADIANCE_MULT_BAND_8:</span><span class='ee-v'>0.011606999672949314</span></li><li><span class='ee-k'>RADIANCE_MULT_BAND_9:</span><span class='ee-v'>0.0024528999347239733</span></li><li><span class='ee-k'>REFLECTANCE_ADD_BAND_1:</span><span class='ee-v'>-0.10000000149011612</span></li><li><span class='ee-k'>REFLECTANCE_ADD_BAND_2:</span><span class='ee-v'>-0.10000000149011612</span></li><li><span class='ee-k'>REFLECTANCE_ADD_BAND_3:</span><span class='ee-v'>-0.10000000149011612</span></li><li><span class='ee-k'>REFLECTANCE_ADD_BAND_4:</span><span class='ee-v'>-0.10000000149011612</span></li><li><span class='ee-k'>REFLECTANCE_ADD_BAND_5:</span><span class='ee-v'>-0.10000000149011612</span></li><li><span class='ee-k'>REFLECTANCE_ADD_BAND_6:</span><span class='ee-v'>-0.10000000149011612</span></li><li><span class='ee-k'>REFLECTANCE_ADD_BAND_7:</span><span class='ee-v'>-0.10000000149011612</span></li><li><span class='ee-k'>REFLECTANCE_ADD_BAND_8:</span><span class='ee-v'>-0.10000000149011612</span></li><li><span class='ee-k'>REFLECTANCE_ADD_BAND_9:</span><span class='ee-v'>-0.10000000149011612</span></li><li><span class='ee-k'>REFLECTANCE_MULT_BAND_1:</span><span class='ee-v'>1.9999999494757503e-05</span></li><li><span class='ee-k'>REFLECTANCE_MULT_BAND_2:</span><span class='ee-v'>1.9999999494757503e-05</span></li><li><span class='ee-k'>REFLECTANCE_MULT_BAND_3:</span><span class='ee-v'>1.9999999494757503e-05</span></li><li><span class='ee-k'>REFLECTANCE_MULT_BAND_4:</span><span class='ee-v'>1.9999999494757503e-05</span></li><li><span class='ee-k'>REFLECTANCE_MULT_BAND_5:</span><span class='ee-v'>1.9999999494757503e-05</span></li><li><span class='ee-k'>REFLECTANCE_MULT_BAND_6:</span><span class='ee-v'>1.9999999494757503e-05</span></li><li><span class='ee-k'>REFLECTANCE_MULT_BAND_7:</span><span class='ee-v'>1.9999999494757503e-05</span></li><li><span class='ee-k'>REFLECTANCE_MULT_BAND_8:</span><span class='ee-v'>1.9999999494757503e-05</span></li><li><span class='ee-k'>REFLECTANCE_MULT_BAND_9:</span><span class='ee-v'>1.9999999494757503e-05</span></li><li><span class='ee-k'>REFLECTIVE_LINES:</span><span class='ee-v'>7721</span></li><li><span class='ee-k'>REFLECTIVE_SAMPLES:</span><span class='ee-v'>7561</span></li><li><span class='ee-k'>REQUEST_ID:</span><span class='ee-v'>0702002244434_00036</span></li><li><span class='ee-k'>RESAMPLING_OPTION:</span><span class='ee-v'>CUBIC_CONVOLUTION</span></li><li><span class='ee-k'>RLUT_FILE_NAME:</span><span class='ee-v'>LC08RLUT_20150303_20431231_01_12.h5</span></li><li><span class='ee-k'>ROLL_ANGLE:</span><span class='ee-v'>-0.0010000000474974513</span></li><li><span class='ee-k'>SATURATION_BAND_1:</span><span class='ee-v'>N</span></li><li><span class='ee-k'>SATURATION_BAND_2:</span><span class='ee-v'>N</span></li><li><span class='ee-k'>SATURATION_BAND_3:</span><span class='ee-v'>N</span></li><li><span class='ee-k'>SATURATION_BAND_4:</span><span class='ee-v'>N</span></li><li><span class='ee-k'>SATURATION_BAND_5:</span><span class='ee-v'>N</span></li><li><span class='ee-k'>SATURATION_BAND_6:</span><span class='ee-v'>Y</span></li><li><span class='ee-k'>SATURATION_BAND_7:</span><span class='ee-v'>Y</span></li><li><span class='ee-k'>SATURATION_BAND_8:</span><span class='ee-v'>N</span></li><li><span class='ee-k'>SATURATION_BAND_9:</span><span class='ee-v'>N</span></li><li><span class='ee-k'>SCENE_CENTER_TIME:</span><span class='ee-v'>05:11:42.7736319Z</span></li><li><span class='ee-k'>SENSOR_ID:</span><span class='ee-v'>OLI_TIRS</span></li><li><span class='ee-k'>SPACECRAFT_ID:</span><span class='ee-v'>LANDSAT_8</span></li><li><span class='ee-k'>STATION_ID:</span><span class='ee-v'>LGN</span></li><li><span class='ee-k'>SUN_AZIMUTH:</span><span class='ee-v'>129.33384704589844</span></li><li><span class='ee-k'>SUN_ELEVATION:</span><span class='ee-v'>52.56636428833008</span></li><li><span class='ee-k'>TARGET_WRS_PATH:</span><span class='ee-v'>144</span></li><li><span class='ee-k'>TARGET_WRS_ROW:</span><span class='ee-v'>53</span></li><li><span class='ee-k'>THERMAL_LINES:</span><span class='ee-v'>7721</span></li><li><span class='ee-k'>THERMAL_SAMPLES:</span><span class='ee-v'>7561</span></li><li><span class='ee-k'>TIRS_SSM_MODEL:</span><span class='ee-v'>FINAL</span></li><li><span class='ee-k'>TIRS_SSM_POSITION_STATUS:</span><span class='ee-v'>ESTIMATED</span></li><li><span class='ee-k'>TIRS_STRAY_LIGHT_CORRECTION_SOURCE:</span><span class='ee-v'>TIRS</span></li><li><span class='ee-k'>TRUNCATION_OLI:</span><span class='ee-v'>UPPER</span></li><li><span class='ee-k'>UTM_ZONE:</span><span class='ee-v'>43</span></li><li><span class='ee-k'>WRS_PATH:</span><span class='ee-v'>144</span></li><li><span class='ee-k'>WRS_ROW:</span><span class='ee-v'>53</span></li><li><span class='ee-k'>google:registration_count:</span><span class='ee-v'>9</span></li><li><span class='ee-k'>google:registration_offset_x:</span><span class='ee-v'>-334.2469177246094</span></li><li><span class='ee-k'>google:registration_offset_y:</span><span class='ee-v'>84.248046875</span></li><li><span class='ee-k'>google:registration_ratio:</span><span class='ee-v'>1</span></li><li><span class='ee-k'>system:asset_size:</span><span class='ee-v'>1149109759</span></li><li><label class='ee-shut'>system:footprint: LinearRing (20 vertices)<input type='checkbox' class='ee-toggle'></label><ul><li><span class='ee-k'>type:</span><span class='ee-v'>LinearRing</span></li><li><label class='ee-shut'>coordinates: List (20 elements)<input type='checkbox' class='ee-toggle'></label><ul><li><label class='ee-shut'>0: [75.99905665766406, 11.167121378662015]<input type='checkbox' class='ee-toggle'></label><ul><li><span class='ee-k'>0:</span><span class='ee-v'>75.99905665766406</span></li><li><span class='ee-k'>1:</span><span class='ee-v'>11.167121378662015</span></li></ul></li><li><label class='ee-shut'>1: [75.99804856668575, 11.167124713607908]<input type='checkbox' class='ee-toggle'></label><ul><li><span class='ee-k'>0:</span><span class='ee-v'>75.99804856668575</span></li><li><span class='ee-k'>1:</span><span class='ee-v'>11.167124713607908</span></li></ul></li><li><label class='ee-shut'>2: [75.99641043644479, 11.159698432577947]<input type='checkbox' class='ee-toggle'></label><ul><li><span class='ee-k'>0:</span><span class='ee-v'>75.99641043644479</span></li><li><span class='ee-k'>1:</span><span class='ee-v'>11.159698432577947</span></li></ul></li><li><label class='ee-shut'>3: [75.81113777286541, 10.297524506508111]<input type='checkbox' class='ee-toggle'></label><ul><li><span class='ee-k'>0:</span><span class='ee-v'>75.81113777286541</span></li><li><span class='ee-k'>1:</span><span class='ee-v'>10.297524506508111</span></li></ul></li><li><label class='ee-shut'>4: [75.62662686378395, 9.43316819146694]<input type='checkbox' class='ee-toggle'></label><ul><li><span class='ee-k'>0:</span><span class='ee-v'>75.62662686378395</span></li><li><span class='ee-k'>1:</span><span class='ee-v'>9.43316819146694</span></li></ul></li><li><label class='ee-shut'>5: [75.62662437759458, 9.43175757495859]<input type='checkbox' class='ee-toggle'></label><ul><li><span class='ee-k'>0:</span><span class='ee-v'>75.62662437759458</span></li><li><span class='ee-k'>1:</span><span class='ee-v'>9.43175757495859</span></li></ul></li><li><label class='ee-shut'>6: [75.62767283541962, 9.431234627428212]<input type='checkbox' class='ee-toggle'></label><ul><li><span class='ee-k'>0:</span><span class='ee-v'>75.62767283541962</span></li><li><span class='ee-k'>1:</span><span class='ee-v'>9.431234627428212</span></li></ul></li><li><label class='ee-shut'>7: [77.27827967194756, 9.077560380347798]<input type='checkbox' class='ee-toggle'></label><ul><li><span class='ee-k'>0:</span><span class='ee-v'>77.27827967194756</span></li><li><span class='ee-k'>1:</span><span class='ee-v'>9.077560380347798</span></li></ul></li><li><label class='ee-shut'>8: [77.31759046984348, 9.069046636161627]<input type='checkbox' class='ee-toggle'></label><ul><li><span class='ee-k'>0:</span><span class='ee-v'>77.31759046984348</span></li><li><span class='ee-k'>1:</span><span class='ee-v'>9.069046636161627</span></li></ul></li><li><label class='ee-shut'>9: [77.31826437273332, 9.071014437467724]<input type='checkbox' class='ee-toggle'></label><ul><li><span class='ee-k'>0:</span><span class='ee-v'>77.31826437273332</span></li><li><span class='ee-k'>1:</span><span class='ee-v'>9.071014437467724</span></li></ul></li><li><label class='ee-shut'>10: [77.32356623745824, 9.095274618455697]<input type='checkbox' class='ee-toggle'></label><ul><li><span class='ee-k'>0:</span><span class='ee-v'>77.32356623745824</span></li><li><span class='ee-k'>1:</span><span class='ee-v'>9.095274618455697</span></li></ul></li><li><label class='ee-shut'>11: [77.38732061837798, 9.38727017056082]<input type='checkbox' class='ee-toggle'></label><ul><li><span class='ee-k'>0:</span><span class='ee-v'>77.38732061837798</span></li><li><span class='ee-k'>1:</span><span class='ee-v'>9.38727017056082</span></li></ul></li><li><label class='ee-shut'>12: [77.4586646817474, 9.713735974605013]<input type='checkbox' class='ee-toggle'></label><ul><li><span class='ee-k'>0:</span><span class='ee-v'>77.4586646817474</span></li><li><span class='ee-k'>1:</span><span class='ee-v'>9.713735974605013</span></li></ul></li><li><label class='ee-shut'>13: [77.53207888916494, 10.048603592916256]<input type='checkbox' class='ee-toggle'></label><ul><li><span class='ee-k'>0:</span><span class='ee-v'>77.53207888916494</span></li><li><span class='ee-k'>1:</span><span class='ee-v'>10.048603592916256</span></li></ul></li><li><label class='ee-shut'>14: [77.61972337964586, 10.447676642943671]<input type='checkbox' class='ee-toggle'></label><ul><li><span class='ee-k'>0:</span><span class='ee-v'>77.61972337964586</span></li><li><span class='ee-k'>1:</span><span class='ee-v'>10.447676642943671</span></li></ul></li><li><label class='ee-shut'>15: [77.69901632874354, 10.80738347870797]<input type='checkbox' class='ee-toggle'></label><ul><li><span class='ee-k'>0:</span><span class='ee-v'>77.69901632874354</span></li><li><span class='ee-k'>1:</span><span class='ee-v'>10.80738347870797</span></li></ul></li><li><label class='ee-shut'>16: [77.6930579254282, 10.80874716863954]<input type='checkbox' class='ee-toggle'></label><ul><li><span class='ee-k'>0:</span><span class='ee-v'>77.6930579254282</span></li><li><span class='ee-k'>1:</span><span class='ee-v'>10.80874716863954</span></li></ul></li><li><label class='ee-shut'>17: [77.47214797922891, 10.856054875825263]<input type='checkbox' class='ee-toggle'></label><ul><li><span class='ee-k'>0:</span><span class='ee-v'>77.47214797922891</span></li><li><span class='ee-k'>1:</span><span class='ee-v'>10.856054875825263</span></li></ul></li><li><label class='ee-shut'>18: [76.00982275064155, 11.164957687752992]<input type='checkbox' class='ee-toggle'></label><ul><li><span class='ee-k'>0:</span><span class='ee-v'>76.00982275064155</span></li><li><span class='ee-k'>1:</span><span class='ee-v'>11.164957687752992</span></li></ul></li><li><label class='ee-shut'>19: [75.99905665766406, 11.167121378662015]<input type='checkbox' class='ee-toggle'></label><ul><li><span class='ee-k'>0:</span><span class='ee-v'>75.99905665766406</span></li><li><span class='ee-k'>1:</span><span class='ee-v'>11.167121378662015</span></li></ul></li></ul></li></ul></li><li><span class='ee-k'>system:index:</span><span class='ee-v'>LC08_144053_20200212</span></li><li><span class='ee-k'>system:time_end:</span><span class='ee-v'>1581484302773</span></li><li><span class='ee-k'>system:time_start:</span><span class='ee-v'>1581484302773</span></li></ul></li></ul></li><li><label class='ee-shut'>4: Image LANDSAT/LC08/C01/T1/LC08_144053_20200228 (12 bands)<input type='checkbox' class='ee-toggle'></label><ul><li><span class='ee-k'>type:</span><span class='ee-v'>Image</span></li><li><span class='ee-k'>id:</span><span class='ee-v'>LANDSAT/LC08/C01/T1/LC08_144053_20200228</span></li><li><span class='ee-k'>version:</span><span class='ee-v'>1584376357551046</span></li><li><label class='ee-shut'>bands: List (12 elements)<input type='checkbox' class='ee-toggle'></label><ul><li><label class='ee-shut'>0: \"B1\", unsigned int16, EPSG:32643, 7561x7721 px<input type='checkbox' class='ee-toggle'></label><ul><li><span class='ee-k'>id:</span><span class='ee-v'>B1</span></li><li><span class='ee-k'>crs:</span><span class='ee-v'>EPSG:32643</span></li><li><label class='ee-shut'>crs_transform: [30, 0, 567585, 0, -30, 1234815]<input type='checkbox' class='ee-toggle'></label><ul><li><span class='ee-k'>0:</span><span class='ee-v'>30</span></li><li><span class='ee-k'>1:</span><span class='ee-v'>0</span></li><li><span class='ee-k'>2:</span><span class='ee-v'>567585</span></li><li><span class='ee-k'>3:</span><span class='ee-v'>0</span></li><li><span class='ee-k'>4:</span><span class='ee-v'>-30</span></li><li><span class='ee-k'>5:</span><span class='ee-v'>1234815</span></li></ul></li><li><label class='ee-shut'>data_type: unsigned int16<input type='checkbox' class='ee-toggle'></label><ul><li><span class='ee-k'>type:</span><span class='ee-v'>PixelType</span></li><li><span class='ee-k'>max:</span><span class='ee-v'>65535</span></li><li><span class='ee-k'>min:</span><span class='ee-v'>0</span></li><li><span class='ee-k'>precision:</span><span class='ee-v'>int</span></li></ul></li><li><label class='ee-shut'>dimensions: [7561, 7721]<input type='checkbox' class='ee-toggle'></label><ul><li><span class='ee-k'>0:</span><span class='ee-v'>7561</span></li><li><span class='ee-k'>1:</span><span class='ee-v'>7721</span></li></ul></li></ul></li><li><label class='ee-shut'>1: \"B2\", unsigned int16, EPSG:32643, 7561x7721 px<input type='checkbox' class='ee-toggle'></label><ul><li><span class='ee-k'>id:</span><span class='ee-v'>B2</span></li><li><span class='ee-k'>crs:</span><span class='ee-v'>EPSG:32643</span></li><li><label class='ee-shut'>crs_transform: [30, 0, 567585, 0, -30, 1234815]<input type='checkbox' class='ee-toggle'></label><ul><li><span class='ee-k'>0:</span><span class='ee-v'>30</span></li><li><span class='ee-k'>1:</span><span class='ee-v'>0</span></li><li><span class='ee-k'>2:</span><span class='ee-v'>567585</span></li><li><span class='ee-k'>3:</span><span class='ee-v'>0</span></li><li><span class='ee-k'>4:</span><span class='ee-v'>-30</span></li><li><span class='ee-k'>5:</span><span class='ee-v'>1234815</span></li></ul></li><li><label class='ee-shut'>data_type: unsigned int16<input type='checkbox' class='ee-toggle'></label><ul><li><span class='ee-k'>type:</span><span class='ee-v'>PixelType</span></li><li><span class='ee-k'>max:</span><span class='ee-v'>65535</span></li><li><span class='ee-k'>min:</span><span class='ee-v'>0</span></li><li><span class='ee-k'>precision:</span><span class='ee-v'>int</span></li></ul></li><li><label class='ee-shut'>dimensions: [7561, 7721]<input type='checkbox' class='ee-toggle'></label><ul><li><span class='ee-k'>0:</span><span class='ee-v'>7561</span></li><li><span class='ee-k'>1:</span><span class='ee-v'>7721</span></li></ul></li></ul></li><li><label class='ee-shut'>2: \"B3\", unsigned int16, EPSG:32643, 7561x7721 px<input type='checkbox' class='ee-toggle'></label><ul><li><span class='ee-k'>id:</span><span class='ee-v'>B3</span></li><li><span class='ee-k'>crs:</span><span class='ee-v'>EPSG:32643</span></li><li><label class='ee-shut'>crs_transform: [30, 0, 567585, 0, -30, 1234815]<input type='checkbox' class='ee-toggle'></label><ul><li><span class='ee-k'>0:</span><span class='ee-v'>30</span></li><li><span class='ee-k'>1:</span><span class='ee-v'>0</span></li><li><span class='ee-k'>2:</span><span class='ee-v'>567585</span></li><li><span class='ee-k'>3:</span><span class='ee-v'>0</span></li><li><span class='ee-k'>4:</span><span class='ee-v'>-30</span></li><li><span class='ee-k'>5:</span><span class='ee-v'>1234815</span></li></ul></li><li><label class='ee-shut'>data_type: unsigned int16<input type='checkbox' class='ee-toggle'></label><ul><li><span class='ee-k'>type:</span><span class='ee-v'>PixelType</span></li><li><span class='ee-k'>max:</span><span class='ee-v'>65535</span></li><li><span class='ee-k'>min:</span><span class='ee-v'>0</span></li><li><span class='ee-k'>precision:</span><span class='ee-v'>int</span></li></ul></li><li><label class='ee-shut'>dimensions: [7561, 7721]<input type='checkbox' class='ee-toggle'></label><ul><li><span class='ee-k'>0:</span><span class='ee-v'>7561</span></li><li><span class='ee-k'>1:</span><span class='ee-v'>7721</span></li></ul></li></ul></li><li><label class='ee-shut'>3: \"B4\", unsigned int16, EPSG:32643, 7561x7721 px<input type='checkbox' class='ee-toggle'></label><ul><li><span class='ee-k'>id:</span><span class='ee-v'>B4</span></li><li><span class='ee-k'>crs:</span><span class='ee-v'>EPSG:32643</span></li><li><label class='ee-shut'>crs_transform: [30, 0, 567585, 0, -30, 1234815]<input type='checkbox' class='ee-toggle'></label><ul><li><span class='ee-k'>0:</span><span class='ee-v'>30</span></li><li><span class='ee-k'>1:</span><span class='ee-v'>0</span></li><li><span class='ee-k'>2:</span><span class='ee-v'>567585</span></li><li><span class='ee-k'>3:</span><span class='ee-v'>0</span></li><li><span class='ee-k'>4:</span><span class='ee-v'>-30</span></li><li><span class='ee-k'>5:</span><span class='ee-v'>1234815</span></li></ul></li><li><label class='ee-shut'>data_type: unsigned int16<input type='checkbox' class='ee-toggle'></label><ul><li><span class='ee-k'>type:</span><span class='ee-v'>PixelType</span></li><li><span class='ee-k'>max:</span><span class='ee-v'>65535</span></li><li><span class='ee-k'>min:</span><span class='ee-v'>0</span></li><li><span class='ee-k'>precision:</span><span class='ee-v'>int</span></li></ul></li><li><label class='ee-shut'>dimensions: [7561, 7721]<input type='checkbox' class='ee-toggle'></label><ul><li><span class='ee-k'>0:</span><span class='ee-v'>7561</span></li><li><span class='ee-k'>1:</span><span class='ee-v'>7721</span></li></ul></li></ul></li><li><label class='ee-shut'>4: \"B5\", unsigned int16, EPSG:32643, 7561x7721 px<input type='checkbox' class='ee-toggle'></label><ul><li><span class='ee-k'>id:</span><span class='ee-v'>B5</span></li><li><span class='ee-k'>crs:</span><span class='ee-v'>EPSG:32643</span></li><li><label class='ee-shut'>crs_transform: [30, 0, 567585, 0, -30, 1234815]<input type='checkbox' class='ee-toggle'></label><ul><li><span class='ee-k'>0:</span><span class='ee-v'>30</span></li><li><span class='ee-k'>1:</span><span class='ee-v'>0</span></li><li><span class='ee-k'>2:</span><span class='ee-v'>567585</span></li><li><span class='ee-k'>3:</span><span class='ee-v'>0</span></li><li><span class='ee-k'>4:</span><span class='ee-v'>-30</span></li><li><span class='ee-k'>5:</span><span class='ee-v'>1234815</span></li></ul></li><li><label class='ee-shut'>data_type: unsigned int16<input type='checkbox' class='ee-toggle'></label><ul><li><span class='ee-k'>type:</span><span class='ee-v'>PixelType</span></li><li><span class='ee-k'>max:</span><span class='ee-v'>65535</span></li><li><span class='ee-k'>min:</span><span class='ee-v'>0</span></li><li><span class='ee-k'>precision:</span><span class='ee-v'>int</span></li></ul></li><li><label class='ee-shut'>dimensions: [7561, 7721]<input type='checkbox' class='ee-toggle'></label><ul><li><span class='ee-k'>0:</span><span class='ee-v'>7561</span></li><li><span class='ee-k'>1:</span><span class='ee-v'>7721</span></li></ul></li></ul></li><li><label class='ee-shut'>5: \"B6\", unsigned int16, EPSG:32643, 7561x7721 px<input type='checkbox' class='ee-toggle'></label><ul><li><span class='ee-k'>id:</span><span class='ee-v'>B6</span></li><li><span class='ee-k'>crs:</span><span class='ee-v'>EPSG:32643</span></li><li><label class='ee-shut'>crs_transform: [30, 0, 567585, 0, -30, 1234815]<input type='checkbox' class='ee-toggle'></label><ul><li><span class='ee-k'>0:</span><span class='ee-v'>30</span></li><li><span class='ee-k'>1:</span><span class='ee-v'>0</span></li><li><span class='ee-k'>2:</span><span class='ee-v'>567585</span></li><li><span class='ee-k'>3:</span><span class='ee-v'>0</span></li><li><span class='ee-k'>4:</span><span class='ee-v'>-30</span></li><li><span class='ee-k'>5:</span><span class='ee-v'>1234815</span></li></ul></li><li><label class='ee-shut'>data_type: unsigned int16<input type='checkbox' class='ee-toggle'></label><ul><li><span class='ee-k'>type:</span><span class='ee-v'>PixelType</span></li><li><span class='ee-k'>max:</span><span class='ee-v'>65535</span></li><li><span class='ee-k'>min:</span><span class='ee-v'>0</span></li><li><span class='ee-k'>precision:</span><span class='ee-v'>int</span></li></ul></li><li><label class='ee-shut'>dimensions: [7561, 7721]<input type='checkbox' class='ee-toggle'></label><ul><li><span class='ee-k'>0:</span><span class='ee-v'>7561</span></li><li><span class='ee-k'>1:</span><span class='ee-v'>7721</span></li></ul></li></ul></li><li><label class='ee-shut'>6: \"B7\", unsigned int16, EPSG:32643, 7561x7721 px<input type='checkbox' class='ee-toggle'></label><ul><li><span class='ee-k'>id:</span><span class='ee-v'>B7</span></li><li><span class='ee-k'>crs:</span><span class='ee-v'>EPSG:32643</span></li><li><label class='ee-shut'>crs_transform: [30, 0, 567585, 0, -30, 1234815]<input type='checkbox' class='ee-toggle'></label><ul><li><span class='ee-k'>0:</span><span class='ee-v'>30</span></li><li><span class='ee-k'>1:</span><span class='ee-v'>0</span></li><li><span class='ee-k'>2:</span><span class='ee-v'>567585</span></li><li><span class='ee-k'>3:</span><span class='ee-v'>0</span></li><li><span class='ee-k'>4:</span><span class='ee-v'>-30</span></li><li><span class='ee-k'>5:</span><span class='ee-v'>1234815</span></li></ul></li><li><label class='ee-shut'>data_type: unsigned int16<input type='checkbox' class='ee-toggle'></label><ul><li><span class='ee-k'>type:</span><span class='ee-v'>PixelType</span></li><li><span class='ee-k'>max:</span><span class='ee-v'>65535</span></li><li><span class='ee-k'>min:</span><span class='ee-v'>0</span></li><li><span class='ee-k'>precision:</span><span class='ee-v'>int</span></li></ul></li><li><label class='ee-shut'>dimensions: [7561, 7721]<input type='checkbox' class='ee-toggle'></label><ul><li><span class='ee-k'>0:</span><span class='ee-v'>7561</span></li><li><span class='ee-k'>1:</span><span class='ee-v'>7721</span></li></ul></li></ul></li><li><label class='ee-shut'>7: \"B8\", unsigned int16, EPSG:32643, 15121x15441 px<input type='checkbox' class='ee-toggle'></label><ul><li><span class='ee-k'>id:</span><span class='ee-v'>B8</span></li><li><span class='ee-k'>crs:</span><span class='ee-v'>EPSG:32643</span></li><li><label class='ee-shut'>crs_transform: [15, 0, 567592.5, 0, -15, 1234807.5]<input type='checkbox' class='ee-toggle'></label><ul><li><span class='ee-k'>0:</span><span class='ee-v'>15</span></li><li><span class='ee-k'>1:</span><span class='ee-v'>0</span></li><li><span class='ee-k'>2:</span><span class='ee-v'>567592.5</span></li><li><span class='ee-k'>3:</span><span class='ee-v'>0</span></li><li><span class='ee-k'>4:</span><span class='ee-v'>-15</span></li><li><span class='ee-k'>5:</span><span class='ee-v'>1234807.5</span></li></ul></li><li><label class='ee-shut'>data_type: unsigned int16<input type='checkbox' class='ee-toggle'></label><ul><li><span class='ee-k'>type:</span><span class='ee-v'>PixelType</span></li><li><span class='ee-k'>max:</span><span class='ee-v'>65535</span></li><li><span class='ee-k'>min:</span><span class='ee-v'>0</span></li><li><span class='ee-k'>precision:</span><span class='ee-v'>int</span></li></ul></li><li><label class='ee-shut'>dimensions: [15121, 15441]<input type='checkbox' class='ee-toggle'></label><ul><li><span class='ee-k'>0:</span><span class='ee-v'>15121</span></li><li><span class='ee-k'>1:</span><span class='ee-v'>15441</span></li></ul></li></ul></li><li><label class='ee-shut'>8: \"B9\", unsigned int16, EPSG:32643, 7561x7721 px<input type='checkbox' class='ee-toggle'></label><ul><li><span class='ee-k'>id:</span><span class='ee-v'>B9</span></li><li><span class='ee-k'>crs:</span><span class='ee-v'>EPSG:32643</span></li><li><label class='ee-shut'>crs_transform: [30, 0, 567585, 0, -30, 1234815]<input type='checkbox' class='ee-toggle'></label><ul><li><span class='ee-k'>0:</span><span class='ee-v'>30</span></li><li><span class='ee-k'>1:</span><span class='ee-v'>0</span></li><li><span class='ee-k'>2:</span><span class='ee-v'>567585</span></li><li><span class='ee-k'>3:</span><span class='ee-v'>0</span></li><li><span class='ee-k'>4:</span><span class='ee-v'>-30</span></li><li><span class='ee-k'>5:</span><span class='ee-v'>1234815</span></li></ul></li><li><label class='ee-shut'>data_type: unsigned int16<input type='checkbox' class='ee-toggle'></label><ul><li><span class='ee-k'>type:</span><span class='ee-v'>PixelType</span></li><li><span class='ee-k'>max:</span><span class='ee-v'>65535</span></li><li><span class='ee-k'>min:</span><span class='ee-v'>0</span></li><li><span class='ee-k'>precision:</span><span class='ee-v'>int</span></li></ul></li><li><label class='ee-shut'>dimensions: [7561, 7721]<input type='checkbox' class='ee-toggle'></label><ul><li><span class='ee-k'>0:</span><span class='ee-v'>7561</span></li><li><span class='ee-k'>1:</span><span class='ee-v'>7721</span></li></ul></li></ul></li><li><label class='ee-shut'>9: \"B10\", unsigned int16, EPSG:32643, 7561x7721 px<input type='checkbox' class='ee-toggle'></label><ul><li><span class='ee-k'>id:</span><span class='ee-v'>B10</span></li><li><span class='ee-k'>crs:</span><span class='ee-v'>EPSG:32643</span></li><li><label class='ee-shut'>crs_transform: [30, 0, 567585, 0, -30, 1234815]<input type='checkbox' class='ee-toggle'></label><ul><li><span class='ee-k'>0:</span><span class='ee-v'>30</span></li><li><span class='ee-k'>1:</span><span class='ee-v'>0</span></li><li><span class='ee-k'>2:</span><span class='ee-v'>567585</span></li><li><span class='ee-k'>3:</span><span class='ee-v'>0</span></li><li><span class='ee-k'>4:</span><span class='ee-v'>-30</span></li><li><span class='ee-k'>5:</span><span class='ee-v'>1234815</span></li></ul></li><li><label class='ee-shut'>data_type: unsigned int16<input type='checkbox' class='ee-toggle'></label><ul><li><span class='ee-k'>type:</span><span class='ee-v'>PixelType</span></li><li><span class='ee-k'>max:</span><span class='ee-v'>65535</span></li><li><span class='ee-k'>min:</span><span class='ee-v'>0</span></li><li><span class='ee-k'>precision:</span><span class='ee-v'>int</span></li></ul></li><li><label class='ee-shut'>dimensions: [7561, 7721]<input type='checkbox' class='ee-toggle'></label><ul><li><span class='ee-k'>0:</span><span class='ee-v'>7561</span></li><li><span class='ee-k'>1:</span><span class='ee-v'>7721</span></li></ul></li></ul></li><li><label class='ee-shut'>10: \"B11\", unsigned int16, EPSG:32643, 7561x7721 px<input type='checkbox' class='ee-toggle'></label><ul><li><span class='ee-k'>id:</span><span class='ee-v'>B11</span></li><li><span class='ee-k'>crs:</span><span class='ee-v'>EPSG:32643</span></li><li><label class='ee-shut'>crs_transform: [30, 0, 567585, 0, -30, 1234815]<input type='checkbox' class='ee-toggle'></label><ul><li><span class='ee-k'>0:</span><span class='ee-v'>30</span></li><li><span class='ee-k'>1:</span><span class='ee-v'>0</span></li><li><span class='ee-k'>2:</span><span class='ee-v'>567585</span></li><li><span class='ee-k'>3:</span><span class='ee-v'>0</span></li><li><span class='ee-k'>4:</span><span class='ee-v'>-30</span></li><li><span class='ee-k'>5:</span><span class='ee-v'>1234815</span></li></ul></li><li><label class='ee-shut'>data_type: unsigned int16<input type='checkbox' class='ee-toggle'></label><ul><li><span class='ee-k'>type:</span><span class='ee-v'>PixelType</span></li><li><span class='ee-k'>max:</span><span class='ee-v'>65535</span></li><li><span class='ee-k'>min:</span><span class='ee-v'>0</span></li><li><span class='ee-k'>precision:</span><span class='ee-v'>int</span></li></ul></li><li><label class='ee-shut'>dimensions: [7561, 7721]<input type='checkbox' class='ee-toggle'></label><ul><li><span class='ee-k'>0:</span><span class='ee-v'>7561</span></li><li><span class='ee-k'>1:</span><span class='ee-v'>7721</span></li></ul></li></ul></li><li><label class='ee-shut'>11: \"BQA\", unsigned int16, EPSG:32643, 7561x7721 px<input type='checkbox' class='ee-toggle'></label><ul><li><span class='ee-k'>id:</span><span class='ee-v'>BQA</span></li><li><span class='ee-k'>crs:</span><span class='ee-v'>EPSG:32643</span></li><li><label class='ee-shut'>crs_transform: [30, 0, 567585, 0, -30, 1234815]<input type='checkbox' class='ee-toggle'></label><ul><li><span class='ee-k'>0:</span><span class='ee-v'>30</span></li><li><span class='ee-k'>1:</span><span class='ee-v'>0</span></li><li><span class='ee-k'>2:</span><span class='ee-v'>567585</span></li><li><span class='ee-k'>3:</span><span class='ee-v'>0</span></li><li><span class='ee-k'>4:</span><span class='ee-v'>-30</span></li><li><span class='ee-k'>5:</span><span class='ee-v'>1234815</span></li></ul></li><li><label class='ee-shut'>data_type: unsigned int16<input type='checkbox' class='ee-toggle'></label><ul><li><span class='ee-k'>type:</span><span class='ee-v'>PixelType</span></li><li><span class='ee-k'>max:</span><span class='ee-v'>65535</span></li><li><span class='ee-k'>min:</span><span class='ee-v'>0</span></li><li><span class='ee-k'>precision:</span><span class='ee-v'>int</span></li></ul></li><li><label class='ee-shut'>dimensions: [7561, 7721]<input type='checkbox' class='ee-toggle'></label><ul><li><span class='ee-k'>0:</span><span class='ee-v'>7561</span></li><li><span class='ee-k'>1:</span><span class='ee-v'>7721</span></li></ul></li></ul></li></ul></li><li><label class='ee-shut'>properties: Object (119 properties)<input type='checkbox' class='ee-toggle'></label><ul><li><span class='ee-k'>BPF_NAME_OLI:</span><span class='ee-v'>LO8BPF20200228045153_20200228053943.01</span></li><li><span class='ee-k'>BPF_NAME_TIRS:</span><span class='ee-v'>LT8BPF20200223110021_20200310034739.01</span></li><li><span class='ee-k'>CLOUD_COVER:</span><span class='ee-v'>3.2899999618530273</span></li><li><span class='ee-k'>CLOUD_COVER_LAND:</span><span class='ee-v'>3.7799999713897705</span></li><li><span class='ee-k'>COLLECTION_CATEGORY:</span><span class='ee-v'>T1</span></li><li><span class='ee-k'>COLLECTION_NUMBER:</span><span class='ee-v'>1</span></li><li><span class='ee-k'>CPF_NAME:</span><span class='ee-v'>LC08CPF_20200101_20200331_01.04</span></li><li><span class='ee-k'>DATA_TYPE:</span><span class='ee-v'>L1TP</span></li><li><span class='ee-k'>DATE_ACQUIRED:</span><span class='ee-v'>2020-02-28</span></li><li><span class='ee-k'>DATUM:</span><span class='ee-v'>WGS84</span></li><li><span class='ee-k'>EARTH_SUN_DISTANCE:</span><span class='ee-v'>0.9904206991195679</span></li><li><span class='ee-k'>ELEVATION_SOURCE:</span><span class='ee-v'>GLS2000</span></li><li><span class='ee-k'>ELLIPSOID:</span><span class='ee-v'>WGS84</span></li><li><span class='ee-k'>FILE_DATE:</span><span class='ee-v'>1584127960000</span></li><li><span class='ee-k'>GEOMETRIC_RMSE_MODEL:</span><span class='ee-v'>7.711999893188477</span></li><li><span class='ee-k'>GEOMETRIC_RMSE_MODEL_X:</span><span class='ee-v'>5.5970001220703125</span></li><li><span class='ee-k'>GEOMETRIC_RMSE_MODEL_Y:</span><span class='ee-v'>5.306000232696533</span></li><li><span class='ee-k'>GEOMETRIC_RMSE_VERIFY:</span><span class='ee-v'>2.8580000400543213</span></li><li><span class='ee-k'>GRID_CELL_SIZE_PANCHROMATIC:</span><span class='ee-v'>15</span></li><li><span class='ee-k'>GRID_CELL_SIZE_REFLECTIVE:</span><span class='ee-v'>30</span></li><li><span class='ee-k'>GRID_CELL_SIZE_THERMAL:</span><span class='ee-v'>30</span></li><li><span class='ee-k'>GROUND_CONTROL_POINTS_MODEL:</span><span class='ee-v'>304</span></li><li><span class='ee-k'>GROUND_CONTROL_POINTS_VERIFY:</span><span class='ee-v'>52</span></li><li><span class='ee-k'>GROUND_CONTROL_POINTS_VERSION:</span><span class='ee-v'>4</span></li><li><span class='ee-k'>IMAGE_QUALITY_OLI:</span><span class='ee-v'>9</span></li><li><span class='ee-k'>IMAGE_QUALITY_TIRS:</span><span class='ee-v'>9</span></li><li><span class='ee-k'>K1_CONSTANT_BAND_10:</span><span class='ee-v'>774.8853149414062</span></li><li><span class='ee-k'>K1_CONSTANT_BAND_11:</span><span class='ee-v'>480.8883056640625</span></li><li><span class='ee-k'>K2_CONSTANT_BAND_10:</span><span class='ee-v'>1321.078857421875</span></li><li><span class='ee-k'>K2_CONSTANT_BAND_11:</span><span class='ee-v'>1201.1441650390625</span></li><li><span class='ee-k'>LANDSAT_PRODUCT_ID:</span><span class='ee-v'>LC08_L1TP_144053_20200228_20200313_01_T1</span></li><li><span class='ee-k'>LANDSAT_SCENE_ID:</span><span class='ee-v'>LC81440532020059LGN00</span></li><li><span class='ee-k'>MAP_PROJECTION:</span><span class='ee-v'>UTM</span></li><li><span class='ee-k'>NADIR_OFFNADIR:</span><span class='ee-v'>NADIR</span></li><li><span class='ee-k'>ORIENTATION:</span><span class='ee-v'>NORTH_UP</span></li><li><span class='ee-k'>PANCHROMATIC_LINES:</span><span class='ee-v'>15441</span></li><li><span class='ee-k'>PANCHROMATIC_SAMPLES:</span><span class='ee-v'>15121</span></li><li><span class='ee-k'>PROCESSING_SOFTWARE_VERSION:</span><span class='ee-v'>LPGS_13.1.0</span></li><li><span class='ee-k'>RADIANCE_ADD_BAND_1:</span><span class='ee-v'>-63.99903106689453</span></li><li><span class='ee-k'>RADIANCE_ADD_BAND_10:</span><span class='ee-v'>0.10000000149011612</span></li><li><span class='ee-k'>RADIANCE_ADD_BAND_11:</span><span class='ee-v'>0.10000000149011612</span></li><li><span class='ee-k'>RADIANCE_ADD_BAND_2:</span><span class='ee-v'>-65.5357894897461</span></li><li><span class='ee-k'>RADIANCE_ADD_BAND_3:</span><span class='ee-v'>-60.39067077636719</span></li><li><span class='ee-k'>RADIANCE_ADD_BAND_4:</span><span class='ee-v'>-50.924808502197266</span></li><li><span class='ee-k'>RADIANCE_ADD_BAND_5:</span><span class='ee-v'>-31.163450241088867</span></li><li><span class='ee-k'>RADIANCE_ADD_BAND_6:</span><span class='ee-v'>-7.750070095062256</span></li><li><span class='ee-k'>RADIANCE_ADD_BAND_7:</span><span class='ee-v'>-2.612190008163452</span></li><li><span class='ee-k'>RADIANCE_ADD_BAND_8:</span><span class='ee-v'>-57.632869720458984</span></li><li><span class='ee-k'>RADIANCE_ADD_BAND_9:</span><span class='ee-v'>-12.179380416870117</span></li><li><span class='ee-k'>RADIANCE_MULT_BAND_1:</span><span class='ee-v'>0.012799999676644802</span></li><li><span class='ee-k'>RADIANCE_MULT_BAND_10:</span><span class='ee-v'>0.00033420001273043454</span></li><li><span class='ee-k'>RADIANCE_MULT_BAND_11:</span><span class='ee-v'>0.00033420001273043454</span></li><li><span class='ee-k'>RADIANCE_MULT_BAND_2:</span><span class='ee-v'>0.013106999918818474</span></li><li><span class='ee-k'>RADIANCE_MULT_BAND_3:</span><span class='ee-v'>0.012078000232577324</span></li><li><span class='ee-k'>RADIANCE_MULT_BAND_4:</span><span class='ee-v'>0.01018499955534935</span></li><li><span class='ee-k'>RADIANCE_MULT_BAND_5:</span><span class='ee-v'>0.0062326998449862</span></li><li><span class='ee-k'>RADIANCE_MULT_BAND_6:</span><span class='ee-v'>0.001550000044517219</span></li><li><span class='ee-k'>RADIANCE_MULT_BAND_7:</span><span class='ee-v'>0.000522440008353442</span></li><li><span class='ee-k'>RADIANCE_MULT_BAND_8:</span><span class='ee-v'>0.011526999995112419</span></li><li><span class='ee-k'>RADIANCE_MULT_BAND_9:</span><span class='ee-v'>0.0024359000381082296</span></li><li><span class='ee-k'>REFLECTANCE_ADD_BAND_1:</span><span class='ee-v'>-0.10000000149011612</span></li><li><span class='ee-k'>REFLECTANCE_ADD_BAND_2:</span><span class='ee-v'>-0.10000000149011612</span></li><li><span class='ee-k'>REFLECTANCE_ADD_BAND_3:</span><span class='ee-v'>-0.10000000149011612</span></li><li><span class='ee-k'>REFLECTANCE_ADD_BAND_4:</span><span class='ee-v'>-0.10000000149011612</span></li><li><span class='ee-k'>REFLECTANCE_ADD_BAND_5:</span><span class='ee-v'>-0.10000000149011612</span></li><li><span class='ee-k'>REFLECTANCE_ADD_BAND_6:</span><span class='ee-v'>-0.10000000149011612</span></li><li><span class='ee-k'>REFLECTANCE_ADD_BAND_7:</span><span class='ee-v'>-0.10000000149011612</span></li><li><span class='ee-k'>REFLECTANCE_ADD_BAND_8:</span><span class='ee-v'>-0.10000000149011612</span></li><li><span class='ee-k'>REFLECTANCE_ADD_BAND_9:</span><span class='ee-v'>-0.10000000149011612</span></li><li><span class='ee-k'>REFLECTANCE_MULT_BAND_1:</span><span class='ee-v'>1.9999999494757503e-05</span></li><li><span class='ee-k'>REFLECTANCE_MULT_BAND_2:</span><span class='ee-v'>1.9999999494757503e-05</span></li><li><span class='ee-k'>REFLECTANCE_MULT_BAND_3:</span><span class='ee-v'>1.9999999494757503e-05</span></li><li><span class='ee-k'>REFLECTANCE_MULT_BAND_4:</span><span class='ee-v'>1.9999999494757503e-05</span></li><li><span class='ee-k'>REFLECTANCE_MULT_BAND_5:</span><span class='ee-v'>1.9999999494757503e-05</span></li><li><span class='ee-k'>REFLECTANCE_MULT_BAND_6:</span><span class='ee-v'>1.9999999494757503e-05</span></li><li><span class='ee-k'>REFLECTANCE_MULT_BAND_7:</span><span class='ee-v'>1.9999999494757503e-05</span></li><li><span class='ee-k'>REFLECTANCE_MULT_BAND_8:</span><span class='ee-v'>1.9999999494757503e-05</span></li><li><span class='ee-k'>REFLECTANCE_MULT_BAND_9:</span><span class='ee-v'>1.9999999494757503e-05</span></li><li><span class='ee-k'>REFLECTIVE_LINES:</span><span class='ee-v'>7721</span></li><li><span class='ee-k'>REFLECTIVE_SAMPLES:</span><span class='ee-v'>7561</span></li><li><span class='ee-k'>REQUEST_ID:</span><span class='ee-v'>0702003135570_00026</span></li><li><span class='ee-k'>RESAMPLING_OPTION:</span><span class='ee-v'>CUBIC_CONVOLUTION</span></li><li><span class='ee-k'>RLUT_FILE_NAME:</span><span class='ee-v'>LC08RLUT_20150303_20431231_01_12.h5</span></li><li><span class='ee-k'>ROLL_ANGLE:</span><span class='ee-v'>-0.0010000000474974513</span></li><li><span class='ee-k'>SATURATION_BAND_1:</span><span class='ee-v'>N</span></li><li><span class='ee-k'>SATURATION_BAND_2:</span><span class='ee-v'>N</span></li><li><span class='ee-k'>SATURATION_BAND_3:</span><span class='ee-v'>N</span></li><li><span class='ee-k'>SATURATION_BAND_4:</span><span class='ee-v'>N</span></li><li><span class='ee-k'>SATURATION_BAND_5:</span><span class='ee-v'>N</span></li><li><span class='ee-k'>SATURATION_BAND_6:</span><span class='ee-v'>Y</span></li><li><span class='ee-k'>SATURATION_BAND_7:</span><span class='ee-v'>Y</span></li><li><span class='ee-k'>SATURATION_BAND_8:</span><span class='ee-v'>N</span></li><li><span class='ee-k'>SATURATION_BAND_9:</span><span class='ee-v'>N</span></li><li><span class='ee-k'>SCENE_CENTER_TIME:</span><span class='ee-v'>05:11:38.5212979Z</span></li><li><span class='ee-k'>SENSOR_ID:</span><span class='ee-v'>OLI_TIRS</span></li><li><span class='ee-k'>SPACECRAFT_ID:</span><span class='ee-v'>LANDSAT_8</span></li><li><span class='ee-k'>STATION_ID:</span><span class='ee-v'>LGN</span></li><li><span class='ee-k'>SUN_AZIMUTH:</span><span class='ee-v'>121.688720703125</span></li><li><span class='ee-k'>SUN_ELEVATION:</span><span class='ee-v'>56.15168380737305</span></li><li><span class='ee-k'>TARGET_WRS_PATH:</span><span class='ee-v'>144</span></li><li><span class='ee-k'>TARGET_WRS_ROW:</span><span class='ee-v'>53</span></li><li><span class='ee-k'>THERMAL_LINES:</span><span class='ee-v'>7721</span></li><li><span class='ee-k'>THERMAL_SAMPLES:</span><span class='ee-v'>7561</span></li><li><span class='ee-k'>TIRS_SSM_MODEL:</span><span class='ee-v'>FINAL</span></li><li><span class='ee-k'>TIRS_SSM_POSITION_STATUS:</span><span class='ee-v'>ESTIMATED</span></li><li><span class='ee-k'>TIRS_STRAY_LIGHT_CORRECTION_SOURCE:</span><span class='ee-v'>TIRS</span></li><li><span class='ee-k'>TRUNCATION_OLI:</span><span class='ee-v'>UPPER</span></li><li><span class='ee-k'>UTM_ZONE:</span><span class='ee-v'>43</span></li><li><span class='ee-k'>WRS_PATH:</span><span class='ee-v'>144</span></li><li><span class='ee-k'>WRS_ROW:</span><span class='ee-v'>53</span></li><li><span class='ee-k'>google:registration_count:</span><span class='ee-v'>10</span></li><li><span class='ee-k'>google:registration_offset_x:</span><span class='ee-v'>-56.381378173828125</span></li><li><span class='ee-k'>google:registration_offset_y:</span><span class='ee-v'>574.62744140625</span></li><li><span class='ee-k'>google:registration_ratio:</span><span class='ee-v'>0.7692307829856873</span></li><li><span class='ee-k'>system:asset_size:</span><span class='ee-v'>1144481123</span></li><li><label class='ee-shut'>system:footprint: LinearRing (21 vertices)<input type='checkbox' class='ee-toggle'></label><ul><li><span class='ee-k'>type:</span><span class='ee-v'>LinearRing</span></li><li><label class='ee-shut'>coordinates: List (21 elements)<input type='checkbox' class='ee-toggle'></label><ul><li><label class='ee-shut'>0: [77.6798700195017, 10.809592527778555]<input type='checkbox' class='ee-toggle'></label><ul><li><span class='ee-k'>0:</span><span class='ee-v'>77.6798700195017</span></li><li><span class='ee-k'>1:</span><span class='ee-v'>10.809592527778555</span></li></ul></li><li><label class='ee-shut'>1: [77.66016755807583, 10.813828719449253]<input type='checkbox' class='ee-toggle'></label><ul><li><span class='ee-k'>0:</span><span class='ee-v'>77.66016755807583</span></li><li><span class='ee-k'>1:</span><span class='ee-v'>10.813828719449253</span></li></ul></li><li><label class='ee-shut'>2: [77.3201701935718, 10.886519281521393]<input type='checkbox' class='ee-toggle'></label><ul><li><span class='ee-k'>0:</span><span class='ee-v'>77.3201701935718</span></li><li><span class='ee-k'>1:</span><span class='ee-v'>10.886519281521393</span></li></ul></li><li><label class='ee-shut'>3: [75.98908772175406, 11.167255312374275]<input type='checkbox' class='ee-toggle'></label><ul><li><span class='ee-k'>0:</span><span class='ee-v'>75.98908772175406</span></li><li><span class='ee-k'>1:</span><span class='ee-v'>11.167255312374275</span></li></ul></li><li><label class='ee-shut'>4: [75.98842098678254, 11.165302005476114]<input type='checkbox' class='ee-toggle'></label><ul><li><span class='ee-k'>0:</span><span class='ee-v'>75.98842098678254</span></li><li><span class='ee-k'>1:</span><span class='ee-v'>11.165302005476114</span></li></ul></li><li><label class='ee-shut'>5: [75.80209859664345, 10.29815752992771]<input type='checkbox' class='ee-toggle'></label><ul><li><span class='ee-k'>0:</span><span class='ee-v'>75.80209859664345</span></li><li><span class='ee-k'>1:</span><span class='ee-v'>10.29815752992771</span></li></ul></li><li><label class='ee-shut'>6: [75.61718490040032, 9.431813828926773]<input type='checkbox' class='ee-toggle'></label><ul><li><span class='ee-k'>0:</span><span class='ee-v'>75.61718490040032</span></li><li><span class='ee-k'>1:</span><span class='ee-v'>9.431813828926773</span></li></ul></li><li><label class='ee-shut'>7: [75.61774885666416, 9.431251864930221]<input type='checkbox' class='ee-toggle'></label><ul><li><span class='ee-k'>0:</span><span class='ee-v'>75.61774885666416</span></li><li><span class='ee-k'>1:</span><span class='ee-v'>9.431251864930221</span></li></ul></li><li><label class='ee-shut'>8: [75.62620048169205, 9.429437969248673]<input type='checkbox' class='ee-toggle'></label><ul><li><span class='ee-k'>0:</span><span class='ee-v'>75.62620048169205</span></li><li><span class='ee-k'>1:</span><span class='ee-v'>9.429437969248673</span></li></ul></li><li><label class='ee-shut'>9: [75.96999426063994, 9.35645563524401]<input type='checkbox' class='ee-toggle'></label><ul><li><span class='ee-k'>0:</span><span class='ee-v'>75.96999426063994</span></li><li><span class='ee-k'>1:</span><span class='ee-v'>9.35645563524401</span></li></ul></li><li><label class='ee-shut'>10: [77.30726741130115, 9.069241249482596]<input type='checkbox' class='ee-toggle'></label><ul><li><span class='ee-k'>0:</span><span class='ee-v'>77.30726741130115</span></li><li><span class='ee-k'>1:</span><span class='ee-v'>9.069241249482596</span></li></ul></li><li><label class='ee-shut'>11: [77.30821011616834, 9.069235289901014]<input type='checkbox' class='ee-toggle'></label><ul><li><span class='ee-k'>0:</span><span class='ee-v'>77.30821011616834</span></li><li><span class='ee-k'>1:</span><span class='ee-v'>9.069235289901014</span></li></ul></li><li><label class='ee-shut'>12: [77.30867055307638, 9.07013622122646]<input type='checkbox' class='ee-toggle'></label><ul><li><span class='ee-k'>0:</span><span class='ee-v'>77.30867055307638</span></li><li><span class='ee-k'>1:</span><span class='ee-v'>9.07013622122646</span></li></ul></li><li><label class='ee-shut'>13: [77.31541921224279, 9.101020395805127]<input type='checkbox' class='ee-toggle'></label><ul><li><span class='ee-k'>0:</span><span class='ee-v'>77.31541921224279</span></li><li><span class='ee-k'>1:</span><span class='ee-v'>9.101020395805127</span></li></ul></li><li><label class='ee-shut'>14: [77.35973165840534, 9.304083446230093]<input type='checkbox' class='ee-toggle'></label><ul><li><span class='ee-k'>0:</span><span class='ee-v'>77.35973165840534</span></li><li><span class='ee-k'>1:</span><span class='ee-v'>9.304083446230093</span></li></ul></li><li><label class='ee-shut'>15: [77.37959292699813, 9.395049267646641]<input type='checkbox' class='ee-toggle'></label><ul><li><span class='ee-k'>0:</span><span class='ee-v'>77.37959292699813</span></li><li><span class='ee-k'>1:</span><span class='ee-v'>9.395049267646641</span></li></ul></li><li><label class='ee-shut'>16: [77.46005119666063, 9.763134663455594]<input type='checkbox' class='ee-toggle'></label><ul><li><span class='ee-k'>0:</span><span class='ee-v'>77.46005119666063</span></li><li><span class='ee-k'>1:</span><span class='ee-v'>9.763134663455594</span></li></ul></li><li><label class='ee-shut'>17: [77.54078304825917, 10.131150313516542]<input type='checkbox' class='ee-toggle'></label><ul><li><span class='ee-k'>0:</span><span class='ee-v'>77.54078304825917</span></li><li><span class='ee-k'>1:</span><span class='ee-v'>10.131150313516542</span></li></ul></li><li><label class='ee-shut'>18: [77.64103933333733, 10.587366662699942]<input type='checkbox' class='ee-toggle'></label><ul><li><span class='ee-k'>0:</span><span class='ee-v'>77.64103933333733</span></li><li><span class='ee-k'>1:</span><span class='ee-v'>10.587366662699942</span></li></ul></li><li><label class='ee-shut'>19: [77.68956182662077, 10.807487201524454]<input type='checkbox' class='ee-toggle'></label><ul><li><span class='ee-k'>0:</span><span class='ee-v'>77.68956182662077</span></li><li><span class='ee-k'>1:</span><span class='ee-v'>10.807487201524454</span></li></ul></li><li><label class='ee-shut'>20: [77.6798700195017, 10.809592527778555]<input type='checkbox' class='ee-toggle'></label><ul><li><span class='ee-k'>0:</span><span class='ee-v'>77.6798700195017</span></li><li><span class='ee-k'>1:</span><span class='ee-v'>10.809592527778555</span></li></ul></li></ul></li></ul></li><li><span class='ee-k'>system:index:</span><span class='ee-v'>LC08_144053_20200228</span></li><li><span class='ee-k'>system:time_end:</span><span class='ee-v'>1582866698521</span></li><li><span class='ee-k'>system:time_start:</span><span class='ee-v'>1582866698521</span></li></ul></li></ul></li><li><label class='ee-shut'>5: Image LANDSAT/LC08/C01/T1/LC08_144053_20200315 (12 bands)<input type='checkbox' class='ee-toggle'></label><ul><li><span class='ee-k'>type:</span><span class='ee-v'>Image</span></li><li><span class='ee-k'>id:</span><span class='ee-v'>LANDSAT/LC08/C01/T1/LC08_144053_20200315</span></li><li><span class='ee-k'>version:</span><span class='ee-v'>1585763102882788</span></li><li><label class='ee-shut'>bands: List (12 elements)<input type='checkbox' class='ee-toggle'></label><ul><li><label class='ee-shut'>0: \"B1\", unsigned int16, EPSG:32643, 7561x7721 px<input type='checkbox' class='ee-toggle'></label><ul><li><span class='ee-k'>id:</span><span class='ee-v'>B1</span></li><li><span class='ee-k'>crs:</span><span class='ee-v'>EPSG:32643</span></li><li><label class='ee-shut'>crs_transform: [30, 0, 567285, 0, -30, 1234815]<input type='checkbox' class='ee-toggle'></label><ul><li><span class='ee-k'>0:</span><span class='ee-v'>30</span></li><li><span class='ee-k'>1:</span><span class='ee-v'>0</span></li><li><span class='ee-k'>2:</span><span class='ee-v'>567285</span></li><li><span class='ee-k'>3:</span><span class='ee-v'>0</span></li><li><span class='ee-k'>4:</span><span class='ee-v'>-30</span></li><li><span class='ee-k'>5:</span><span class='ee-v'>1234815</span></li></ul></li><li><label class='ee-shut'>data_type: unsigned int16<input type='checkbox' class='ee-toggle'></label><ul><li><span class='ee-k'>type:</span><span class='ee-v'>PixelType</span></li><li><span class='ee-k'>max:</span><span class='ee-v'>65535</span></li><li><span class='ee-k'>min:</span><span class='ee-v'>0</span></li><li><span class='ee-k'>precision:</span><span class='ee-v'>int</span></li></ul></li><li><label class='ee-shut'>dimensions: [7561, 7721]<input type='checkbox' class='ee-toggle'></label><ul><li><span class='ee-k'>0:</span><span class='ee-v'>7561</span></li><li><span class='ee-k'>1:</span><span class='ee-v'>7721</span></li></ul></li></ul></li><li><label class='ee-shut'>1: \"B2\", unsigned int16, EPSG:32643, 7561x7721 px<input type='checkbox' class='ee-toggle'></label><ul><li><span class='ee-k'>id:</span><span class='ee-v'>B2</span></li><li><span class='ee-k'>crs:</span><span class='ee-v'>EPSG:32643</span></li><li><label class='ee-shut'>crs_transform: [30, 0, 567285, 0, -30, 1234815]<input type='checkbox' class='ee-toggle'></label><ul><li><span class='ee-k'>0:</span><span class='ee-v'>30</span></li><li><span class='ee-k'>1:</span><span class='ee-v'>0</span></li><li><span class='ee-k'>2:</span><span class='ee-v'>567285</span></li><li><span class='ee-k'>3:</span><span class='ee-v'>0</span></li><li><span class='ee-k'>4:</span><span class='ee-v'>-30</span></li><li><span class='ee-k'>5:</span><span class='ee-v'>1234815</span></li></ul></li><li><label class='ee-shut'>data_type: unsigned int16<input type='checkbox' class='ee-toggle'></label><ul><li><span class='ee-k'>type:</span><span class='ee-v'>PixelType</span></li><li><span class='ee-k'>max:</span><span class='ee-v'>65535</span></li><li><span class='ee-k'>min:</span><span class='ee-v'>0</span></li><li><span class='ee-k'>precision:</span><span class='ee-v'>int</span></li></ul></li><li><label class='ee-shut'>dimensions: [7561, 7721]<input type='checkbox' class='ee-toggle'></label><ul><li><span class='ee-k'>0:</span><span class='ee-v'>7561</span></li><li><span class='ee-k'>1:</span><span class='ee-v'>7721</span></li></ul></li></ul></li><li><label class='ee-shut'>2: \"B3\", unsigned int16, EPSG:32643, 7561x7721 px<input type='checkbox' class='ee-toggle'></label><ul><li><span class='ee-k'>id:</span><span class='ee-v'>B3</span></li><li><span class='ee-k'>crs:</span><span class='ee-v'>EPSG:32643</span></li><li><label class='ee-shut'>crs_transform: [30, 0, 567285, 0, -30, 1234815]<input type='checkbox' class='ee-toggle'></label><ul><li><span class='ee-k'>0:</span><span class='ee-v'>30</span></li><li><span class='ee-k'>1:</span><span class='ee-v'>0</span></li><li><span class='ee-k'>2:</span><span class='ee-v'>567285</span></li><li><span class='ee-k'>3:</span><span class='ee-v'>0</span></li><li><span class='ee-k'>4:</span><span class='ee-v'>-30</span></li><li><span class='ee-k'>5:</span><span class='ee-v'>1234815</span></li></ul></li><li><label class='ee-shut'>data_type: unsigned int16<input type='checkbox' class='ee-toggle'></label><ul><li><span class='ee-k'>type:</span><span class='ee-v'>PixelType</span></li><li><span class='ee-k'>max:</span><span class='ee-v'>65535</span></li><li><span class='ee-k'>min:</span><span class='ee-v'>0</span></li><li><span class='ee-k'>precision:</span><span class='ee-v'>int</span></li></ul></li><li><label class='ee-shut'>dimensions: [7561, 7721]<input type='checkbox' class='ee-toggle'></label><ul><li><span class='ee-k'>0:</span><span class='ee-v'>7561</span></li><li><span class='ee-k'>1:</span><span class='ee-v'>7721</span></li></ul></li></ul></li><li><label class='ee-shut'>3: \"B4\", unsigned int16, EPSG:32643, 7561x7721 px<input type='checkbox' class='ee-toggle'></label><ul><li><span class='ee-k'>id:</span><span class='ee-v'>B4</span></li><li><span class='ee-k'>crs:</span><span class='ee-v'>EPSG:32643</span></li><li><label class='ee-shut'>crs_transform: [30, 0, 567285, 0, -30, 1234815]<input type='checkbox' class='ee-toggle'></label><ul><li><span class='ee-k'>0:</span><span class='ee-v'>30</span></li><li><span class='ee-k'>1:</span><span class='ee-v'>0</span></li><li><span class='ee-k'>2:</span><span class='ee-v'>567285</span></li><li><span class='ee-k'>3:</span><span class='ee-v'>0</span></li><li><span class='ee-k'>4:</span><span class='ee-v'>-30</span></li><li><span class='ee-k'>5:</span><span class='ee-v'>1234815</span></li></ul></li><li><label class='ee-shut'>data_type: unsigned int16<input type='checkbox' class='ee-toggle'></label><ul><li><span class='ee-k'>type:</span><span class='ee-v'>PixelType</span></li><li><span class='ee-k'>max:</span><span class='ee-v'>65535</span></li><li><span class='ee-k'>min:</span><span class='ee-v'>0</span></li><li><span class='ee-k'>precision:</span><span class='ee-v'>int</span></li></ul></li><li><label class='ee-shut'>dimensions: [7561, 7721]<input type='checkbox' class='ee-toggle'></label><ul><li><span class='ee-k'>0:</span><span class='ee-v'>7561</span></li><li><span class='ee-k'>1:</span><span class='ee-v'>7721</span></li></ul></li></ul></li><li><label class='ee-shut'>4: \"B5\", unsigned int16, EPSG:32643, 7561x7721 px<input type='checkbox' class='ee-toggle'></label><ul><li><span class='ee-k'>id:</span><span class='ee-v'>B5</span></li><li><span class='ee-k'>crs:</span><span class='ee-v'>EPSG:32643</span></li><li><label class='ee-shut'>crs_transform: [30, 0, 567285, 0, -30, 1234815]<input type='checkbox' class='ee-toggle'></label><ul><li><span class='ee-k'>0:</span><span class='ee-v'>30</span></li><li><span class='ee-k'>1:</span><span class='ee-v'>0</span></li><li><span class='ee-k'>2:</span><span class='ee-v'>567285</span></li><li><span class='ee-k'>3:</span><span class='ee-v'>0</span></li><li><span class='ee-k'>4:</span><span class='ee-v'>-30</span></li><li><span class='ee-k'>5:</span><span class='ee-v'>1234815</span></li></ul></li><li><label class='ee-shut'>data_type: unsigned int16<input type='checkbox' class='ee-toggle'></label><ul><li><span class='ee-k'>type:</span><span class='ee-v'>PixelType</span></li><li><span class='ee-k'>max:</span><span class='ee-v'>65535</span></li><li><span class='ee-k'>min:</span><span class='ee-v'>0</span></li><li><span class='ee-k'>precision:</span><span class='ee-v'>int</span></li></ul></li><li><label class='ee-shut'>dimensions: [7561, 7721]<input type='checkbox' class='ee-toggle'></label><ul><li><span class='ee-k'>0:</span><span class='ee-v'>7561</span></li><li><span class='ee-k'>1:</span><span class='ee-v'>7721</span></li></ul></li></ul></li><li><label class='ee-shut'>5: \"B6\", unsigned int16, EPSG:32643, 7561x7721 px<input type='checkbox' class='ee-toggle'></label><ul><li><span class='ee-k'>id:</span><span class='ee-v'>B6</span></li><li><span class='ee-k'>crs:</span><span class='ee-v'>EPSG:32643</span></li><li><label class='ee-shut'>crs_transform: [30, 0, 567285, 0, -30, 1234815]<input type='checkbox' class='ee-toggle'></label><ul><li><span class='ee-k'>0:</span><span class='ee-v'>30</span></li><li><span class='ee-k'>1:</span><span class='ee-v'>0</span></li><li><span class='ee-k'>2:</span><span class='ee-v'>567285</span></li><li><span class='ee-k'>3:</span><span class='ee-v'>0</span></li><li><span class='ee-k'>4:</span><span class='ee-v'>-30</span></li><li><span class='ee-k'>5:</span><span class='ee-v'>1234815</span></li></ul></li><li><label class='ee-shut'>data_type: unsigned int16<input type='checkbox' class='ee-toggle'></label><ul><li><span class='ee-k'>type:</span><span class='ee-v'>PixelType</span></li><li><span class='ee-k'>max:</span><span class='ee-v'>65535</span></li><li><span class='ee-k'>min:</span><span class='ee-v'>0</span></li><li><span class='ee-k'>precision:</span><span class='ee-v'>int</span></li></ul></li><li><label class='ee-shut'>dimensions: [7561, 7721]<input type='checkbox' class='ee-toggle'></label><ul><li><span class='ee-k'>0:</span><span class='ee-v'>7561</span></li><li><span class='ee-k'>1:</span><span class='ee-v'>7721</span></li></ul></li></ul></li><li><label class='ee-shut'>6: \"B7\", unsigned int16, EPSG:32643, 7561x7721 px<input type='checkbox' class='ee-toggle'></label><ul><li><span class='ee-k'>id:</span><span class='ee-v'>B7</span></li><li><span class='ee-k'>crs:</span><span class='ee-v'>EPSG:32643</span></li><li><label class='ee-shut'>crs_transform: [30, 0, 567285, 0, -30, 1234815]<input type='checkbox' class='ee-toggle'></label><ul><li><span class='ee-k'>0:</span><span class='ee-v'>30</span></li><li><span class='ee-k'>1:</span><span class='ee-v'>0</span></li><li><span class='ee-k'>2:</span><span class='ee-v'>567285</span></li><li><span class='ee-k'>3:</span><span class='ee-v'>0</span></li><li><span class='ee-k'>4:</span><span class='ee-v'>-30</span></li><li><span class='ee-k'>5:</span><span class='ee-v'>1234815</span></li></ul></li><li><label class='ee-shut'>data_type: unsigned int16<input type='checkbox' class='ee-toggle'></label><ul><li><span class='ee-k'>type:</span><span class='ee-v'>PixelType</span></li><li><span class='ee-k'>max:</span><span class='ee-v'>65535</span></li><li><span class='ee-k'>min:</span><span class='ee-v'>0</span></li><li><span class='ee-k'>precision:</span><span class='ee-v'>int</span></li></ul></li><li><label class='ee-shut'>dimensions: [7561, 7721]<input type='checkbox' class='ee-toggle'></label><ul><li><span class='ee-k'>0:</span><span class='ee-v'>7561</span></li><li><span class='ee-k'>1:</span><span class='ee-v'>7721</span></li></ul></li></ul></li><li><label class='ee-shut'>7: \"B8\", unsigned int16, EPSG:32643, 15121x15441 px<input type='checkbox' class='ee-toggle'></label><ul><li><span class='ee-k'>id:</span><span class='ee-v'>B8</span></li><li><span class='ee-k'>crs:</span><span class='ee-v'>EPSG:32643</span></li><li><label class='ee-shut'>crs_transform: [15, 0, 567292.5, 0, -15, 1234807.5]<input type='checkbox' class='ee-toggle'></label><ul><li><span class='ee-k'>0:</span><span class='ee-v'>15</span></li><li><span class='ee-k'>1:</span><span class='ee-v'>0</span></li><li><span class='ee-k'>2:</span><span class='ee-v'>567292.5</span></li><li><span class='ee-k'>3:</span><span class='ee-v'>0</span></li><li><span class='ee-k'>4:</span><span class='ee-v'>-15</span></li><li><span class='ee-k'>5:</span><span class='ee-v'>1234807.5</span></li></ul></li><li><label class='ee-shut'>data_type: unsigned int16<input type='checkbox' class='ee-toggle'></label><ul><li><span class='ee-k'>type:</span><span class='ee-v'>PixelType</span></li><li><span class='ee-k'>max:</span><span class='ee-v'>65535</span></li><li><span class='ee-k'>min:</span><span class='ee-v'>0</span></li><li><span class='ee-k'>precision:</span><span class='ee-v'>int</span></li></ul></li><li><label class='ee-shut'>dimensions: [15121, 15441]<input type='checkbox' class='ee-toggle'></label><ul><li><span class='ee-k'>0:</span><span class='ee-v'>15121</span></li><li><span class='ee-k'>1:</span><span class='ee-v'>15441</span></li></ul></li></ul></li><li><label class='ee-shut'>8: \"B9\", unsigned int16, EPSG:32643, 7561x7721 px<input type='checkbox' class='ee-toggle'></label><ul><li><span class='ee-k'>id:</span><span class='ee-v'>B9</span></li><li><span class='ee-k'>crs:</span><span class='ee-v'>EPSG:32643</span></li><li><label class='ee-shut'>crs_transform: [30, 0, 567285, 0, -30, 1234815]<input type='checkbox' class='ee-toggle'></label><ul><li><span class='ee-k'>0:</span><span class='ee-v'>30</span></li><li><span class='ee-k'>1:</span><span class='ee-v'>0</span></li><li><span class='ee-k'>2:</span><span class='ee-v'>567285</span></li><li><span class='ee-k'>3:</span><span class='ee-v'>0</span></li><li><span class='ee-k'>4:</span><span class='ee-v'>-30</span></li><li><span class='ee-k'>5:</span><span class='ee-v'>1234815</span></li></ul></li><li><label class='ee-shut'>data_type: unsigned int16<input type='checkbox' class='ee-toggle'></label><ul><li><span class='ee-k'>type:</span><span class='ee-v'>PixelType</span></li><li><span class='ee-k'>max:</span><span class='ee-v'>65535</span></li><li><span class='ee-k'>min:</span><span class='ee-v'>0</span></li><li><span class='ee-k'>precision:</span><span class='ee-v'>int</span></li></ul></li><li><label class='ee-shut'>dimensions: [7561, 7721]<input type='checkbox' class='ee-toggle'></label><ul><li><span class='ee-k'>0:</span><span class='ee-v'>7561</span></li><li><span class='ee-k'>1:</span><span class='ee-v'>7721</span></li></ul></li></ul></li><li><label class='ee-shut'>9: \"B10\", unsigned int16, EPSG:32643, 7561x7721 px<input type='checkbox' class='ee-toggle'></label><ul><li><span class='ee-k'>id:</span><span class='ee-v'>B10</span></li><li><span class='ee-k'>crs:</span><span class='ee-v'>EPSG:32643</span></li><li><label class='ee-shut'>crs_transform: [30, 0, 567285, 0, -30, 1234815]<input type='checkbox' class='ee-toggle'></label><ul><li><span class='ee-k'>0:</span><span class='ee-v'>30</span></li><li><span class='ee-k'>1:</span><span class='ee-v'>0</span></li><li><span class='ee-k'>2:</span><span class='ee-v'>567285</span></li><li><span class='ee-k'>3:</span><span class='ee-v'>0</span></li><li><span class='ee-k'>4:</span><span class='ee-v'>-30</span></li><li><span class='ee-k'>5:</span><span class='ee-v'>1234815</span></li></ul></li><li><label class='ee-shut'>data_type: unsigned int16<input type='checkbox' class='ee-toggle'></label><ul><li><span class='ee-k'>type:</span><span class='ee-v'>PixelType</span></li><li><span class='ee-k'>max:</span><span class='ee-v'>65535</span></li><li><span class='ee-k'>min:</span><span class='ee-v'>0</span></li><li><span class='ee-k'>precision:</span><span class='ee-v'>int</span></li></ul></li><li><label class='ee-shut'>dimensions: [7561, 7721]<input type='checkbox' class='ee-toggle'></label><ul><li><span class='ee-k'>0:</span><span class='ee-v'>7561</span></li><li><span class='ee-k'>1:</span><span class='ee-v'>7721</span></li></ul></li></ul></li><li><label class='ee-shut'>10: \"B11\", unsigned int16, EPSG:32643, 7561x7721 px<input type='checkbox' class='ee-toggle'></label><ul><li><span class='ee-k'>id:</span><span class='ee-v'>B11</span></li><li><span class='ee-k'>crs:</span><span class='ee-v'>EPSG:32643</span></li><li><label class='ee-shut'>crs_transform: [30, 0, 567285, 0, -30, 1234815]<input type='checkbox' class='ee-toggle'></label><ul><li><span class='ee-k'>0:</span><span class='ee-v'>30</span></li><li><span class='ee-k'>1:</span><span class='ee-v'>0</span></li><li><span class='ee-k'>2:</span><span class='ee-v'>567285</span></li><li><span class='ee-k'>3:</span><span class='ee-v'>0</span></li><li><span class='ee-k'>4:</span><span class='ee-v'>-30</span></li><li><span class='ee-k'>5:</span><span class='ee-v'>1234815</span></li></ul></li><li><label class='ee-shut'>data_type: unsigned int16<input type='checkbox' class='ee-toggle'></label><ul><li><span class='ee-k'>type:</span><span class='ee-v'>PixelType</span></li><li><span class='ee-k'>max:</span><span class='ee-v'>65535</span></li><li><span class='ee-k'>min:</span><span class='ee-v'>0</span></li><li><span class='ee-k'>precision:</span><span class='ee-v'>int</span></li></ul></li><li><label class='ee-shut'>dimensions: [7561, 7721]<input type='checkbox' class='ee-toggle'></label><ul><li><span class='ee-k'>0:</span><span class='ee-v'>7561</span></li><li><span class='ee-k'>1:</span><span class='ee-v'>7721</span></li></ul></li></ul></li><li><label class='ee-shut'>11: \"BQA\", unsigned int16, EPSG:32643, 7561x7721 px<input type='checkbox' class='ee-toggle'></label><ul><li><span class='ee-k'>id:</span><span class='ee-v'>BQA</span></li><li><span class='ee-k'>crs:</span><span class='ee-v'>EPSG:32643</span></li><li><label class='ee-shut'>crs_transform: [30, 0, 567285, 0, -30, 1234815]<input type='checkbox' class='ee-toggle'></label><ul><li><span class='ee-k'>0:</span><span class='ee-v'>30</span></li><li><span class='ee-k'>1:</span><span class='ee-v'>0</span></li><li><span class='ee-k'>2:</span><span class='ee-v'>567285</span></li><li><span class='ee-k'>3:</span><span class='ee-v'>0</span></li><li><span class='ee-k'>4:</span><span class='ee-v'>-30</span></li><li><span class='ee-k'>5:</span><span class='ee-v'>1234815</span></li></ul></li><li><label class='ee-shut'>data_type: unsigned int16<input type='checkbox' class='ee-toggle'></label><ul><li><span class='ee-k'>type:</span><span class='ee-v'>PixelType</span></li><li><span class='ee-k'>max:</span><span class='ee-v'>65535</span></li><li><span class='ee-k'>min:</span><span class='ee-v'>0</span></li><li><span class='ee-k'>precision:</span><span class='ee-v'>int</span></li></ul></li><li><label class='ee-shut'>dimensions: [7561, 7721]<input type='checkbox' class='ee-toggle'></label><ul><li><span class='ee-k'>0:</span><span class='ee-v'>7561</span></li><li><span class='ee-k'>1:</span><span class='ee-v'>7721</span></li></ul></li></ul></li></ul></li><li><label class='ee-shut'>properties: Object (119 properties)<input type='checkbox' class='ee-toggle'></label><ul><li><span class='ee-k'>BPF_NAME_OLI:</span><span class='ee-v'>LO8BPF20200315045146_20200315053512.02</span></li><li><span class='ee-k'>BPF_NAME_TIRS:</span><span class='ee-v'>LT8BPF20200310060739_20200324104153.01</span></li><li><span class='ee-k'>CLOUD_COVER:</span><span class='ee-v'>13.859999656677246</span></li><li><span class='ee-k'>CLOUD_COVER_LAND:</span><span class='ee-v'>16.040000915527344</span></li><li><span class='ee-k'>COLLECTION_CATEGORY:</span><span class='ee-v'>T1</span></li><li><span class='ee-k'>COLLECTION_NUMBER:</span><span class='ee-v'>1</span></li><li><span class='ee-k'>CPF_NAME:</span><span class='ee-v'>LC08CPF_20200101_20200331_01.04</span></li><li><span class='ee-k'>DATA_TYPE:</span><span class='ee-v'>L1TP</span></li><li><span class='ee-k'>DATE_ACQUIRED:</span><span class='ee-v'>2020-03-15</span></li><li><span class='ee-k'>DATUM:</span><span class='ee-v'>WGS84</span></li><li><span class='ee-k'>EARTH_SUN_DISTANCE:</span><span class='ee-v'>0.994516909122467</span></li><li><span class='ee-k'>ELEVATION_SOURCE:</span><span class='ee-v'>GLS2000</span></li><li><span class='ee-k'>ELLIPSOID:</span><span class='ee-v'>WGS84</span></li><li><span class='ee-k'>FILE_DATE:</span><span class='ee-v'>1585175748000</span></li><li><span class='ee-k'>GEOMETRIC_RMSE_MODEL:</span><span class='ee-v'>7.840000152587891</span></li><li><span class='ee-k'>GEOMETRIC_RMSE_MODEL_X:</span><span class='ee-v'>5.763000011444092</span></li><li><span class='ee-k'>GEOMETRIC_RMSE_MODEL_Y:</span><span class='ee-v'>5.315999984741211</span></li><li><span class='ee-k'>GEOMETRIC_RMSE_VERIFY:</span><span class='ee-v'>4.683000087738037</span></li><li><span class='ee-k'>GRID_CELL_SIZE_PANCHROMATIC:</span><span class='ee-v'>15</span></li><li><span class='ee-k'>GRID_CELL_SIZE_REFLECTIVE:</span><span class='ee-v'>30</span></li><li><span class='ee-k'>GRID_CELL_SIZE_THERMAL:</span><span class='ee-v'>30</span></li><li><span class='ee-k'>GROUND_CONTROL_POINTS_MODEL:</span><span class='ee-v'>213</span></li><li><span class='ee-k'>GROUND_CONTROL_POINTS_VERIFY:</span><span class='ee-v'>68</span></li><li><span class='ee-k'>GROUND_CONTROL_POINTS_VERSION:</span><span class='ee-v'>4</span></li><li><span class='ee-k'>IMAGE_QUALITY_OLI:</span><span class='ee-v'>9</span></li><li><span class='ee-k'>IMAGE_QUALITY_TIRS:</span><span class='ee-v'>9</span></li><li><span class='ee-k'>K1_CONSTANT_BAND_10:</span><span class='ee-v'>774.8853149414062</span></li><li><span class='ee-k'>K1_CONSTANT_BAND_11:</span><span class='ee-v'>480.8883056640625</span></li><li><span class='ee-k'>K2_CONSTANT_BAND_10:</span><span class='ee-v'>1321.078857421875</span></li><li><span class='ee-k'>K2_CONSTANT_BAND_11:</span><span class='ee-v'>1201.1441650390625</span></li><li><span class='ee-k'>LANDSAT_PRODUCT_ID:</span><span class='ee-v'>LC08_L1TP_144053_20200315_20200325_01_T1</span></li><li><span class='ee-k'>LANDSAT_SCENE_ID:</span><span class='ee-v'>LC81440532020075LGN00</span></li><li><span class='ee-k'>MAP_PROJECTION:</span><span class='ee-v'>UTM</span></li><li><span class='ee-k'>NADIR_OFFNADIR:</span><span class='ee-v'>NADIR</span></li><li><span class='ee-k'>ORIENTATION:</span><span class='ee-v'>NORTH_UP</span></li><li><span class='ee-k'>PANCHROMATIC_LINES:</span><span class='ee-v'>15441</span></li><li><span class='ee-k'>PANCHROMATIC_SAMPLES:</span><span class='ee-v'>15121</span></li><li><span class='ee-k'>PROCESSING_SOFTWARE_VERSION:</span><span class='ee-v'>LPGS_13.1.0</span></li><li><span class='ee-k'>RADIANCE_ADD_BAND_1:</span><span class='ee-v'>-63.47291946411133</span></li><li><span class='ee-k'>RADIANCE_ADD_BAND_10:</span><span class='ee-v'>0.10000000149011612</span></li><li><span class='ee-k'>RADIANCE_ADD_BAND_11:</span><span class='ee-v'>0.10000000149011612</span></li><li><span class='ee-k'>RADIANCE_ADD_BAND_2:</span><span class='ee-v'>-64.9970474243164</span></li><li><span class='ee-k'>RADIANCE_ADD_BAND_3:</span><span class='ee-v'>-59.89421844482422</span></li><li><span class='ee-k'>RADIANCE_ADD_BAND_4:</span><span class='ee-v'>-50.50617980957031</span></li><li><span class='ee-k'>RADIANCE_ADD_BAND_5:</span><span class='ee-v'>-30.907270431518555</span></li><li><span class='ee-k'>RADIANCE_ADD_BAND_6:</span><span class='ee-v'>-7.686359882354736</span></li><li><span class='ee-k'>RADIANCE_ADD_BAND_7:</span><span class='ee-v'>-2.590709924697876</span></li><li><span class='ee-k'>RADIANCE_ADD_BAND_8:</span><span class='ee-v'>-57.15909957885742</span></li><li><span class='ee-k'>RADIANCE_ADD_BAND_9:</span><span class='ee-v'>-12.079259872436523</span></li><li><span class='ee-k'>RADIANCE_MULT_BAND_1:</span><span class='ee-v'>0.01269499957561493</span></li><li><span class='ee-k'>RADIANCE_MULT_BAND_10:</span><span class='ee-v'>0.00033420001273043454</span></li><li><span class='ee-k'>RADIANCE_MULT_BAND_11:</span><span class='ee-v'>0.00033420001273043454</span></li><li><span class='ee-k'>RADIANCE_MULT_BAND_2:</span><span class='ee-v'>0.012999000027775764</span></li><li><span class='ee-k'>RADIANCE_MULT_BAND_3:</span><span class='ee-v'>0.011978999711573124</span></li><li><span class='ee-k'>RADIANCE_MULT_BAND_4:</span><span class='ee-v'>0.010100999847054482</span></li><li><span class='ee-k'>RADIANCE_MULT_BAND_5:</span><span class='ee-v'>0.006181499920785427</span></li><li><span class='ee-k'>RADIANCE_MULT_BAND_6:</span><span class='ee-v'>0.0015372999478131533</span></li><li><span class='ee-k'>RADIANCE_MULT_BAND_7:</span><span class='ee-v'>0.0005181399756111205</span></li><li><span class='ee-k'>RADIANCE_MULT_BAND_8:</span><span class='ee-v'>0.011432000435888767</span></li><li><span class='ee-k'>RADIANCE_MULT_BAND_9:</span><span class='ee-v'>0.0024158998858183622</span></li><li><span class='ee-k'>REFLECTANCE_ADD_BAND_1:</span><span class='ee-v'>-0.10000000149011612</span></li><li><span class='ee-k'>REFLECTANCE_ADD_BAND_2:</span><span class='ee-v'>-0.10000000149011612</span></li><li><span class='ee-k'>REFLECTANCE_ADD_BAND_3:</span><span class='ee-v'>-0.10000000149011612</span></li><li><span class='ee-k'>REFLECTANCE_ADD_BAND_4:</span><span class='ee-v'>-0.10000000149011612</span></li><li><span class='ee-k'>REFLECTANCE_ADD_BAND_5:</span><span class='ee-v'>-0.10000000149011612</span></li><li><span class='ee-k'>REFLECTANCE_ADD_BAND_6:</span><span class='ee-v'>-0.10000000149011612</span></li><li><span class='ee-k'>REFLECTANCE_ADD_BAND_7:</span><span class='ee-v'>-0.10000000149011612</span></li><li><span class='ee-k'>REFLECTANCE_ADD_BAND_8:</span><span class='ee-v'>-0.10000000149011612</span></li><li><span class='ee-k'>REFLECTANCE_ADD_BAND_9:</span><span class='ee-v'>-0.10000000149011612</span></li><li><span class='ee-k'>REFLECTANCE_MULT_BAND_1:</span><span class='ee-v'>1.9999999494757503e-05</span></li><li><span class='ee-k'>REFLECTANCE_MULT_BAND_2:</span><span class='ee-v'>1.9999999494757503e-05</span></li><li><span class='ee-k'>REFLECTANCE_MULT_BAND_3:</span><span class='ee-v'>1.9999999494757503e-05</span></li><li><span class='ee-k'>REFLECTANCE_MULT_BAND_4:</span><span class='ee-v'>1.9999999494757503e-05</span></li><li><span class='ee-k'>REFLECTANCE_MULT_BAND_5:</span><span class='ee-v'>1.9999999494757503e-05</span></li><li><span class='ee-k'>REFLECTANCE_MULT_BAND_6:</span><span class='ee-v'>1.9999999494757503e-05</span></li><li><span class='ee-k'>REFLECTANCE_MULT_BAND_7:</span><span class='ee-v'>1.9999999494757503e-05</span></li><li><span class='ee-k'>REFLECTANCE_MULT_BAND_8:</span><span class='ee-v'>1.9999999494757503e-05</span></li><li><span class='ee-k'>REFLECTANCE_MULT_BAND_9:</span><span class='ee-v'>1.9999999494757503e-05</span></li><li><span class='ee-k'>REFLECTIVE_LINES:</span><span class='ee-v'>7721</span></li><li><span class='ee-k'>REFLECTIVE_SAMPLES:</span><span class='ee-v'>7561</span></li><li><span class='ee-k'>REQUEST_ID:</span><span class='ee-v'>0702003256689_00033</span></li><li><span class='ee-k'>RESAMPLING_OPTION:</span><span class='ee-v'>CUBIC_CONVOLUTION</span></li><li><span class='ee-k'>RLUT_FILE_NAME:</span><span class='ee-v'>LC08RLUT_20150303_20431231_01_12.h5</span></li><li><span class='ee-k'>ROLL_ANGLE:</span><span class='ee-v'>-0.0010000000474974513</span></li><li><span class='ee-k'>SATURATION_BAND_1:</span><span class='ee-v'>N</span></li><li><span class='ee-k'>SATURATION_BAND_2:</span><span class='ee-v'>N</span></li><li><span class='ee-k'>SATURATION_BAND_3:</span><span class='ee-v'>N</span></li><li><span class='ee-k'>SATURATION_BAND_4:</span><span class='ee-v'>Y</span></li><li><span class='ee-k'>SATURATION_BAND_5:</span><span class='ee-v'>Y</span></li><li><span class='ee-k'>SATURATION_BAND_6:</span><span class='ee-v'>Y</span></li><li><span class='ee-k'>SATURATION_BAND_7:</span><span class='ee-v'>Y</span></li><li><span class='ee-k'>SATURATION_BAND_8:</span><span class='ee-v'>N</span></li><li><span class='ee-k'>SATURATION_BAND_9:</span><span class='ee-v'>N</span></li><li><span class='ee-k'>SCENE_CENTER_TIME:</span><span class='ee-v'>05:11:31.7102970Z</span></li><li><span class='ee-k'>SENSOR_ID:</span><span class='ee-v'>OLI_TIRS</span></li><li><span class='ee-k'>SPACECRAFT_ID:</span><span class='ee-v'>LANDSAT_8</span></li><li><span class='ee-k'>STATION_ID:</span><span class='ee-v'>LGN</span></li><li><span class='ee-k'>SUN_AZIMUTH:</span><span class='ee-v'>112.15889739990234</span></li><li><span class='ee-k'>SUN_ELEVATION:</span><span class='ee-v'>59.90702438354492</span></li><li><span class='ee-k'>TARGET_WRS_PATH:</span><span class='ee-v'>144</span></li><li><span class='ee-k'>TARGET_WRS_ROW:</span><span class='ee-v'>53</span></li><li><span class='ee-k'>THERMAL_LINES:</span><span class='ee-v'>7721</span></li><li><span class='ee-k'>THERMAL_SAMPLES:</span><span class='ee-v'>7561</span></li><li><span class='ee-k'>TIRS_SSM_MODEL:</span><span class='ee-v'>FINAL</span></li><li><span class='ee-k'>TIRS_SSM_POSITION_STATUS:</span><span class='ee-v'>ESTIMATED</span></li><li><span class='ee-k'>TIRS_STRAY_LIGHT_CORRECTION_SOURCE:</span><span class='ee-v'>TIRS</span></li><li><span class='ee-k'>TRUNCATION_OLI:</span><span class='ee-v'>UPPER</span></li><li><span class='ee-k'>UTM_ZONE:</span><span class='ee-v'>43</span></li><li><span class='ee-k'>WRS_PATH:</span><span class='ee-v'>144</span></li><li><span class='ee-k'>WRS_ROW:</span><span class='ee-v'>53</span></li><li><span class='ee-k'>google:registration_count:</span><span class='ee-v'>10</span></li><li><span class='ee-k'>google:registration_offset_x:</span><span class='ee-v'>-1.18487548828125</span></li><li><span class='ee-k'>google:registration_offset_y:</span><span class='ee-v'>356.484375</span></li><li><span class='ee-k'>google:registration_ratio:</span><span class='ee-v'>0.6666666865348816</span></li><li><span class='ee-k'>system:asset_size:</span><span class='ee-v'>1203876701</span></li><li><label class='ee-shut'>system:footprint: LinearRing (21 vertices)<input type='checkbox' class='ee-toggle'></label><ul><li><span class='ee-k'>type:</span><span class='ee-v'>LinearRing</span></li><li><label class='ee-shut'>coordinates: List (21 elements)<input type='checkbox' class='ee-toggle'></label><ul><li><label class='ee-shut'>0: [75.98549804953676, 11.166859723994822]<input type='checkbox' class='ee-toggle'></label><ul><li><span class='ee-k'>0:</span><span class='ee-v'>75.98549804953676</span></li><li><span class='ee-k'>1:</span><span class='ee-v'>11.166859723994822</span></li></ul></li><li><label class='ee-shut'>1: [75.98495848358955, 11.164758349554765]<input type='checkbox' class='ee-toggle'></label><ul><li><span class='ee-k'>0:</span><span class='ee-v'>75.98495848358955</span></li><li><span class='ee-k'>1:</span><span class='ee-v'>11.164758349554765</span></li></ul></li><li><label class='ee-shut'>2: [75.7968704443184, 10.289013827355095]<input type='checkbox' class='ee-toggle'></label><ul><li><span class='ee-k'>0:</span><span class='ee-v'>75.7968704443184</span></li><li><span class='ee-k'>1:</span><span class='ee-v'>10.289013827355095</span></li></ul></li><li><label class='ee-shut'>3: [75.61529801537884, 9.437992581988286]<input type='checkbox' class='ee-toggle'></label><ul><li><span class='ee-k'>0:</span><span class='ee-v'>75.61529801537884</span></li><li><span class='ee-k'>1:</span><span class='ee-v'>9.437992581988286</span></li></ul></li><li><label class='ee-shut'>4: [75.61385892623103, 9.430912988938177]<input type='checkbox' class='ee-toggle'></label><ul><li><span class='ee-k'>0:</span><span class='ee-v'>75.61385892623103</span></li><li><span class='ee-k'>1:</span><span class='ee-v'>9.430912988938177</span></li></ul></li><li><label class='ee-shut'>5: [76.2301224891354, 9.299899441711379]<input type='checkbox' class='ee-toggle'></label><ul><li><span class='ee-k'>0:</span><span class='ee-v'>76.2301224891354</span></li><li><span class='ee-k'>1:</span><span class='ee-v'>9.299899441711379</span></li></ul></li><li><label class='ee-shut'>6: [77.22690708499077, 9.085605225917249]<input type='checkbox' class='ee-toggle'></label><ul><li><span class='ee-k'>0:</span><span class='ee-v'>77.22690708499077</span></li><li><span class='ee-k'>1:</span><span class='ee-v'>9.085605225917249</span></li></ul></li><li><label class='ee-shut'>7: [77.29943499741748, 9.069904640757441]<input type='checkbox' class='ee-toggle'></label><ul><li><span class='ee-k'>0:</span><span class='ee-v'>77.29943499741748</span></li><li><span class='ee-k'>1:</span><span class='ee-v'>9.069904640757441</span></li></ul></li><li><label class='ee-shut'>8: [77.30507474942543, 9.06874653113883]<input type='checkbox' class='ee-toggle'></label><ul><li><span class='ee-k'>0:</span><span class='ee-v'>77.30507474942543</span></li><li><span class='ee-k'>1:</span><span class='ee-v'>9.06874653113883</span></li></ul></li><li><label class='ee-shut'>9: [77.31186507452071, 9.099822858139317]<input type='checkbox' class='ee-toggle'></label><ul><li><span class='ee-k'>0:</span><span class='ee-v'>77.31186507452071</span></li><li><span class='ee-k'>1:</span><span class='ee-v'>9.099822858139317</span></li></ul></li><li><label class='ee-shut'>10: [77.37603549294872, 9.393853208962604]<input type='checkbox' class='ee-toggle'></label><ul><li><span class='ee-k'>0:</span><span class='ee-v'>77.37603549294872</span></li><li><span class='ee-k'>1:</span><span class='ee-v'>9.393853208962604</span></li></ul></li><li><label class='ee-shut'>11: [77.44186112574447, 9.695149837132254]<input type='checkbox' class='ee-toggle'></label><ul><li><span class='ee-k'>0:</span><span class='ee-v'>77.44186112574447</span></li><li><span class='ee-k'>1:</span><span class='ee-v'>9.695149837132254</span></li></ul></li><li><label class='ee-shut'>12: [77.50786855396072, 9.996400158932707]<input type='checkbox' class='ee-toggle'></label><ul><li><span class='ee-k'>0:</span><span class='ee-v'>77.50786855396072</span></li><li><span class='ee-k'>1:</span><span class='ee-v'>9.996400158932707</span></li></ul></li><li><label class='ee-shut'>13: [77.53585045249501, 10.123946498751172]<input type='checkbox' class='ee-toggle'></label><ul><li><span class='ee-k'>0:</span><span class='ee-v'>77.53585045249501</span></li><li><span class='ee-k'>1:</span><span class='ee-v'>10.123946498751172</span></li></ul></li><li><label class='ee-shut'>14: [77.60393318529471, 10.434184863378992]<input type='checkbox' class='ee-toggle'></label><ul><li><span class='ee-k'>0:</span><span class='ee-v'>77.60393318529471</span></li><li><span class='ee-k'>1:</span><span class='ee-v'>10.434184863378992</span></li></ul></li><li><label class='ee-shut'>15: [77.6860248198433, 10.80696449634098]<input type='checkbox' class='ee-toggle'></label><ul><li><span class='ee-k'>0:</span><span class='ee-v'>77.6860248198433</span></li><li><span class='ee-k'>1:</span><span class='ee-v'>10.80696449634098</span></li></ul></li><li><label class='ee-shut'>16: [77.68481186638888, 10.807577265003397]<input type='checkbox' class='ee-toggle'></label><ul><li><span class='ee-k'>0:</span><span class='ee-v'>77.68481186638888</span></li><li><span class='ee-k'>1:</span><span class='ee-v'>10.807577265003397</span></li></ul></li><li><label class='ee-shut'>17: [77.33714083634709, 10.881917127030734]<input type='checkbox' class='ee-toggle'></label><ul><li><span class='ee-k'>0:</span><span class='ee-v'>77.33714083634709</span></li><li><span class='ee-k'>1:</span><span class='ee-v'>10.881917127030734</span></li></ul></li><li><label class='ee-shut'>18: [76.09349269556522, 11.144408833613037]<input type='checkbox' class='ee-toggle'></label><ul><li><span class='ee-k'>0:</span><span class='ee-v'>76.09349269556522</span></li><li><span class='ee-k'>1:</span><span class='ee-v'>11.144408833613037</span></li></ul></li><li><label class='ee-shut'>19: [75.99660323679596, 11.164628336354015]<input type='checkbox' class='ee-toggle'></label><ul><li><span class='ee-k'>0:</span><span class='ee-v'>75.99660323679596</span></li><li><span class='ee-k'>1:</span><span class='ee-v'>11.164628336354015</span></li></ul></li><li><label class='ee-shut'>20: [75.98549804953676, 11.166859723994822]<input type='checkbox' class='ee-toggle'></label><ul><li><span class='ee-k'>0:</span><span class='ee-v'>75.98549804953676</span></li><li><span class='ee-k'>1:</span><span class='ee-v'>11.166859723994822</span></li></ul></li></ul></li></ul></li><li><span class='ee-k'>system:index:</span><span class='ee-v'>LC08_144053_20200315</span></li><li><span class='ee-k'>system:time_end:</span><span class='ee-v'>1584249091710</span></li><li><span class='ee-k'>system:time_start:</span><span class='ee-v'>1584249091710</span></li></ul></li></ul></li></ul></li></ul></li></ul></div><script>function toggleHeader() {\n",
              "    const parent = this.parentElement;\n",
              "    parent.className = parent.className === \"ee-open\" ? \"ee-shut\" : \"ee-open\";\n",
              "}\n",
              "\n",
              "for (let c of document.getElementsByClassName(\"ee-toggle\")) {\n",
              "    c.onclick = toggleHeader;\n",
              "}</script></div>"
            ]
          },
          "metadata": {},
          "execution_count": 6
        }
      ]
    },
    {
      "cell_type": "code",
      "source": [
        "type(collection\n",
        "     )"
      ],
      "metadata": {
        "colab": {
          "base_uri": "https://localhost:8080/",
          "height": 120
        },
        "id": "f5HTKv7kzgve",
        "outputId": "bf4ce908-5530-428a-cfc9-f91e6a090f1e"
      },
      "execution_count": null,
      "outputs": [
        {
          "output_type": "display_data",
          "data": {
            "text/plain": [
              "<IPython.core.display.HTML object>"
            ],
            "text/html": [
              "\n",
              "            <style>\n",
              "                .geemap-dark {\n",
              "                    --jp-widgets-color: white;\n",
              "                    --jp-widgets-label-color: white;\n",
              "                    --jp-ui-font-color1: white;\n",
              "                    --jp-layout-color2: #454545;\n",
              "                    background-color: #383838;\n",
              "                }\n",
              "                    \n",
              "                .geemap-dark .jupyter-button {\n",
              "                    --jp-layout-color3: #383838;\n",
              "                }\n",
              "                \n",
              "                .geemap-colab {\n",
              "                    background-color: var(--colab-primary-surface-color, white);\n",
              "                }\n",
              "                    \n",
              "                .geemap-colab .jupyter-button {\n",
              "                    --jp-layout-color3: var(--colab-primary-surface-color, white);\n",
              "                }\n",
              "            </style>\n",
              "            "
            ]
          },
          "metadata": {}
        },
        {
          "output_type": "execute_result",
          "data": {
            "text/plain": [
              "ee.imagecollection.ImageCollection"
            ],
            "text/html": [
              "<div style=\"max-width:800px; border: 1px solid var(--colab-border-color);\"><style>\n",
              "      pre.function-repr-contents {\n",
              "        overflow-x: auto;\n",
              "        padding: 8px 12px;\n",
              "        max-height: 500px;\n",
              "      }\n",
              "\n",
              "      pre.function-repr-contents.function-repr-contents-collapsed {\n",
              "        cursor: pointer;\n",
              "        max-height: 100px;\n",
              "      }\n",
              "    </style>\n",
              "    <pre style=\"white-space: initial; background:\n",
              "         var(--colab-secondary-surface-color); padding: 8px 12px;\n",
              "         border-bottom: 1px solid var(--colab-border-color);\"><b>ee.imagecollection.ImageCollection</b><br/>def __call__(cls, *args, **kwargs)</pre><pre class=\"function-repr-contents function-repr-contents-collapsed\" style=\"\"><a class=\"filepath\" style=\"display:none\" href=\"#\">/usr/local/lib/python3.10/dist-packages/ee/imagecollection.py</a>Representation for an Earth Engine ImageCollection.</pre>\n",
              "      <script>\n",
              "      if (google.colab.kernel.accessAllowed && google.colab.files && google.colab.files.view) {\n",
              "        for (const element of document.querySelectorAll('.filepath')) {\n",
              "          element.style.display = 'block'\n",
              "          element.onclick = (event) => {\n",
              "            event.preventDefault();\n",
              "            event.stopPropagation();\n",
              "            google.colab.files.view(element.textContent, 18);\n",
              "          };\n",
              "        }\n",
              "      }\n",
              "      for (const element of document.querySelectorAll('.function-repr-contents')) {\n",
              "        element.onclick = (event) => {\n",
              "          event.preventDefault();\n",
              "          event.stopPropagation();\n",
              "          element.classList.toggle('function-repr-contents-collapsed');\n",
              "        };\n",
              "      }\n",
              "      </script>\n",
              "      </div>"
            ]
          },
          "metadata": {},
          "execution_count": 8
        }
      ]
    },
    {
      "cell_type": "code",
      "source": [
        "import ee\n",
        "\n",
        "# Initialize the Earth Engine module.\n",
        "ee.Initialize()\n",
        "\n",
        "# Define a region of interest.\n",
        "roi = ee.Geometry.Rectangle([76.842, 11.481, 77.249, 10.935])\n",
        "\n",
        "# Filter the L8 collection to a single date.\n",
        "collection = ee.ImageCollection('LANDSAT/LC08/C01/T1') \\\n",
        "    .filterDate('2020-02-01', '2020-03-31') \\\n",
        "    .filterBounds(roi)\n",
        "\n",
        "# Get the list of images in the collection.\n",
        "images = collection.toList(collection.size())\n",
        "\n",
        "# Loop over the images and create an export task for each one.\n",
        "for i in range(images.size().getInfo()):\n",
        "    image = ee.Image(images.get(i))\n",
        "    ndvi = image.normalizedDifference(['B5', 'B4']).rename('NDVI')\n",
        "    clipped = ndvi.clip(roi)\n",
        "    task = ee.batch.Export.image.toDrive(\n",
        "        image=clipped,\n",
        "        description='NDVI_' + image.id().getInfo(),\n",
        "        folder='Projects',\n",
        "        scale=30,\n",
        "        region=roi.getInfo()['coordinates']\n",
        "    )\n",
        "    task.start()\n",
        "    print(f'Started export task for image {image.id().getInfo()}')"
      ],
      "metadata": {
        "colab": {
          "base_uri": "https://localhost:8080/",
          "height": 119
        },
        "id": "i2SmPc7-PPLD",
        "outputId": "c68f6ee3-d65e-4165-aaa1-e681b7464c28"
      },
      "execution_count": null,
      "outputs": [
        {
          "output_type": "display_data",
          "data": {
            "text/plain": [
              "<IPython.core.display.HTML object>"
            ],
            "text/html": [
              "\n",
              "            <style>\n",
              "                .geemap-dark {\n",
              "                    --jp-widgets-color: white;\n",
              "                    --jp-widgets-label-color: white;\n",
              "                    --jp-ui-font-color1: white;\n",
              "                    --jp-layout-color2: #454545;\n",
              "                    background-color: #383838;\n",
              "                }\n",
              "                    \n",
              "                .geemap-dark .jupyter-button {\n",
              "                    --jp-layout-color3: #383838;\n",
              "                }\n",
              "                \n",
              "                .geemap-colab {\n",
              "                    background-color: var(--colab-primary-surface-color, white);\n",
              "                }\n",
              "                    \n",
              "                .geemap-colab .jupyter-button {\n",
              "                    --jp-layout-color3: var(--colab-primary-surface-color, white);\n",
              "                }\n",
              "            </style>\n",
              "            "
            ]
          },
          "metadata": {}
        },
        {
          "output_type": "stream",
          "name": "stdout",
          "text": [
            "Started export task for image LC08_144052_20200212\n",
            "Started export task for image LC08_144052_20200228\n",
            "Started export task for image LC08_144052_20200315\n",
            "Started export task for image LC08_144053_20200212\n",
            "Started export task for image LC08_144053_20200228\n",
            "Started export task for image LC08_144053_20200315\n"
          ]
        }
      ]
    },
    {
      "cell_type": "code",
      "source": [
        "roi.getInfo()"
      ],
      "metadata": {
        "colab": {
          "base_uri": "https://localhost:8080/",
          "height": 119
        },
        "id": "xhlX4Ms10Mf3",
        "outputId": "b902a676-64af-4551-91f7-17c23ccd3252"
      },
      "execution_count": null,
      "outputs": [
        {
          "output_type": "display_data",
          "data": {
            "text/plain": [
              "<IPython.core.display.HTML object>"
            ],
            "text/html": [
              "\n",
              "            <style>\n",
              "                .geemap-dark {\n",
              "                    --jp-widgets-color: white;\n",
              "                    --jp-widgets-label-color: white;\n",
              "                    --jp-ui-font-color1: white;\n",
              "                    --jp-layout-color2: #454545;\n",
              "                    background-color: #383838;\n",
              "                }\n",
              "                    \n",
              "                .geemap-dark .jupyter-button {\n",
              "                    --jp-layout-color3: #383838;\n",
              "                }\n",
              "                \n",
              "                .geemap-colab {\n",
              "                    background-color: var(--colab-primary-surface-color, white);\n",
              "                }\n",
              "                    \n",
              "                .geemap-colab .jupyter-button {\n",
              "                    --jp-layout-color3: var(--colab-primary-surface-color, white);\n",
              "                }\n",
              "            </style>\n",
              "            "
            ]
          },
          "metadata": {}
        },
        {
          "output_type": "execute_result",
          "data": {
            "text/plain": [
              "{'type': 'Polygon',\n",
              " 'coordinates': [[[76.842, 10.935],\n",
              "   [77.249, 10.935],\n",
              "   [77.249, 11.481],\n",
              "   [76.842, 11.481],\n",
              "   [76.842, 10.935]]]}"
            ]
          },
          "metadata": {},
          "execution_count": 10
        }
      ]
    },
    {
      "cell_type": "code",
      "source": [
        "import ee\n",
        "\n",
        "# Initialize the Earth Engine module.\n",
        "ee.Initialize()\n",
        "\n",
        "# Define a region of interest.\n",
        "roi = ee.Geometry.Polygon(\n",
        "  [[[76.842,11.481],\n",
        "    [77.249,11.481],\n",
        "    [77.249,10.935],\n",
        "    [76.842,10.935],\n",
        "    [76.842,11.481]]\n",
        "  ]\n",
        ")\n",
        "\n",
        "# Filter the L8 collection to a single date.\n",
        "collection = ee.ImageCollection('LANDSAT/LC08/C01/T1') \\\n",
        "    .filterDate('2020-02-01', '2020-02-29') \\\n",
        "    .filterBounds(roi)\n",
        "\n",
        "# Make a cloud-free composite.\n",
        "composite = ee.Algorithms.Landsat.simpleComposite(collection)\n",
        "\n",
        "# Calculate NDVI.\n",
        "ndvi = composite.normalizedDifference(['B5', 'B4']).rename('NDVI')\n",
        "\n",
        "# Clip the NDVI to the ROI.\n",
        "clipped = ndvi.clip(roi)\n",
        "\n",
        "# Export the NDVI to your drive.\n",
        "task = ee.batch.Export.image.toDrive(\n",
        "    image=clipped,\n",
        "    description='NDVI_Coimbatore_Feb',\n",
        "    folder='Projects',\n",
        "    scale=10,\n",
        "    region=roi.getInfo()['coordinates'],\n",
        "    maxPixels=1e9\n",
        ")\n",
        "task.start()"
      ],
      "metadata": {
        "colab": {
          "base_uri": "https://localhost:8080/",
          "height": 17
        },
        "id": "Uyci2L7jPuiq",
        "outputId": "923998e4-d620-4ab7-8619-34885899bbfd"
      },
      "execution_count": null,
      "outputs": [
        {
          "output_type": "display_data",
          "data": {
            "text/plain": [
              "<IPython.core.display.HTML object>"
            ],
            "text/html": [
              "\n",
              "            <style>\n",
              "                .geemap-dark {\n",
              "                    --jp-widgets-color: white;\n",
              "                    --jp-widgets-label-color: white;\n",
              "                    --jp-ui-font-color1: white;\n",
              "                    --jp-layout-color2: #454545;\n",
              "                    background-color: #383838;\n",
              "                }\n",
              "                    \n",
              "                .geemap-dark .jupyter-button {\n",
              "                    --jp-layout-color3: #383838;\n",
              "                }\n",
              "                \n",
              "                .geemap-colab {\n",
              "                    background-color: var(--colab-primary-surface-color, white);\n",
              "                }\n",
              "                    \n",
              "                .geemap-colab .jupyter-button {\n",
              "                    --jp-layout-color3: var(--colab-primary-surface-color, white);\n",
              "                }\n",
              "            </style>\n",
              "            "
            ]
          },
          "metadata": {}
        }
      ]
    },
    {
      "cell_type": "code",
      "source": [
        "import ee\n",
        "import datetime\n",
        "\n",
        "# Initialize the Earth Engine module.\n",
        "ee.Initialize()\n",
        "\n",
        "# Define a region of interest.\n",
        "roi = ee.Geometry.Polygon(\n",
        "  [[[76.842,11.481],\n",
        "    [77.249,11.481],\n",
        "    [77.249,10.935],\n",
        "    [76.842,10.935],\n",
        "    [76.842,11.481]]\n",
        "  ]\n",
        ")\n",
        "\n",
        "# Define the start and end dates.\n",
        "start_date = datetime.date(2020, 1, 1)\n",
        "end_date = datetime.date(2020, 12, 31)\n",
        "\n",
        "# Define the two-month interval.\n",
        "interval = datetime.timedelta(days=60)\n",
        "\n",
        "# Initialize the current date to the start date.\n",
        "current_date = start_date\n",
        "\n",
        "# Iterate over the year in two-month intervals.\n",
        "while current_date <= end_date:\n",
        "    # Define the start and end dates for the current interval.\n",
        "    start_interval = current_date.strftime('%Y-%m-%d')\n",
        "    end_interval = (current_date + interval).strftime('%Y-%m-%d')\n",
        "\n",
        "    # Filter the L8 collection to the current interval.\n",
        "    collection = ee.ImageCollection('LANDSAT/LC08/C01/T1') \\\n",
        "        .filterDate(start_interval, end_interval) \\\n",
        "        .filterBounds(roi)\n",
        "\n",
        "    # Make a cloud-free composite.\n",
        "    composite = ee.Algorithms.Landsat.simpleComposite(collection)\n",
        "\n",
        "    # Calculate NDVI.\n",
        "    ndvi = composite.normalizedDifference(['B5', 'B4']).rename('NDVI')\n",
        "\n",
        "    # Clip the NDVI to the ROI.\n",
        "    clipped = ndvi.clip(roi)\n",
        "\n",
        "    # Define the export description.\n",
        "    description = f'NDVI_Coimbatore_{current_date.strftime(\"%Y%m%d\")}_{(current_date + interval).strftime(\"%Y%m%d\")}'\n",
        "\n",
        "    # Export the NDVI to your drive.\n",
        "    task = ee.batch.Export.image.toDrive(\n",
        "        image=clipped,\n",
        "        description=description,\n",
        "        folder='Projects',\n",
        "        scale=10,\n",
        "        region=roi.getInfo()['coordinates'],\n",
        "        maxPixels=1e9\n",
        "    )\n",
        "    task.start()\n",
        "\n",
        "    # Move to the next interval.\n",
        "    current_date += interval"
      ],
      "metadata": {
        "colab": {
          "base_uri": "https://localhost:8080/",
          "height": 17
        },
        "id": "kbYdoyNGUGST",
        "outputId": "05c6bf57-3ddb-4a6f-a5b7-4fa9727d8d9d"
      },
      "execution_count": null,
      "outputs": [
        {
          "output_type": "display_data",
          "data": {
            "text/plain": [
              "<IPython.core.display.HTML object>"
            ],
            "text/html": [
              "\n",
              "            <style>\n",
              "                .geemap-dark {\n",
              "                    --jp-widgets-color: white;\n",
              "                    --jp-widgets-label-color: white;\n",
              "                    --jp-ui-font-color1: white;\n",
              "                    --jp-layout-color2: #454545;\n",
              "                    background-color: #383838;\n",
              "                }\n",
              "                    \n",
              "                .geemap-dark .jupyter-button {\n",
              "                    --jp-layout-color3: #383838;\n",
              "                }\n",
              "                \n",
              "                .geemap-colab {\n",
              "                    background-color: var(--colab-primary-surface-color, white);\n",
              "                }\n",
              "                    \n",
              "                .geemap-colab .jupyter-button {\n",
              "                    --jp-layout-color3: var(--colab-primary-surface-color, white);\n",
              "                }\n",
              "            </style>\n",
              "            "
            ]
          },
          "metadata": {}
        }
      ]
    },
    {
      "cell_type": "code",
      "source": [
        "import ee\n",
        "import datetime\n",
        "\n",
        "# Initialize the Earth Engine module.\n",
        "ee.Initialize()\n",
        "\n",
        "# Define a region of interest.\n",
        "roi = ee.Geometry.Polygon(\n",
        "  [[[76.842,11.481],\n",
        "    [77.249,11.481],\n",
        "    [77.249,10.935],\n",
        "    [76.842,10.935],\n",
        "    [76.842,11.481]]\n",
        "  ]\n",
        ")\n",
        "\n",
        "# Define the start and end dates.\n",
        "start_date = datetime.date(2020, 1, 1)\n",
        "end_date = datetime.date(2020, 12, 31)\n",
        "\n",
        "# Define the two-month interval.\n",
        "interval = datetime.timedelta(days=60)\n",
        "\n",
        "# Initialize the current date to the start date.\n",
        "current_date = start_date\n",
        "\n",
        "# Iterate over the year in two-month intervals.\n",
        "while current_date <= end_date:\n",
        "    # Define the start and end dates for the current interval.\n",
        "    start_interval = current_date.strftime('%Y-%m-%d')\n",
        "    end_interval = (current_date + interval).strftime('%Y-%m-%d')\n",
        "\n",
        "    # Filter the Sentinel-2 collection to the current interval.\n",
        "    collection = ee.ImageCollection('COPERNICUS/S2') \\\n",
        "        .filterDate(start_interval, end_interval) \\\n",
        "        .filterBounds(roi)\n",
        "\n",
        "    # Make a median composite.\n",
        "    composite = collection.median()\n",
        "\n",
        "    # Calculate NDVI.\n",
        "    ndvi = composite.normalizedDifference(['B8', 'B4']).rename('NDVI')\n",
        "\n",
        "    # Clip the NDVI to the ROI.\n",
        "    clipped = ndvi.clip(roi)\n",
        "\n",
        "    # Define the export description.\n",
        "    description = f'Sentinel_NDVI_Coimbatore_{current_date.strftime(\"%Y%m%d\")}_{(current_date + interval).strftime(\"%Y%m%d\")}'\n",
        "\n",
        "    # Export the NDVI to your drive.\n",
        "    task = ee.batch.Export.image.toDrive(\n",
        "        image=clipped,\n",
        "        description=description,\n",
        "        folder='Projects',\n",
        "        scale=30,\n",
        "        region=roi.getInfo()['coordinates'],\n",
        "        maxPixels=1e9\n",
        "    )\n",
        "    task.start()\n",
        "\n",
        "    # Move to the next interval.\n",
        "    current_date += interval"
      ],
      "metadata": {
        "id": "8OTqvRyOcfge",
        "colab": {
          "base_uri": "https://localhost:8080/",
          "height": 17
        },
        "outputId": "08dc4ae8-9103-4bcd-a153-22536c97b3d6"
      },
      "execution_count": null,
      "outputs": [
        {
          "output_type": "display_data",
          "data": {
            "text/plain": [
              "<IPython.core.display.HTML object>"
            ],
            "text/html": [
              "\n",
              "            <style>\n",
              "                .geemap-dark {\n",
              "                    --jp-widgets-color: white;\n",
              "                    --jp-widgets-label-color: white;\n",
              "                    --jp-ui-font-color1: white;\n",
              "                    --jp-layout-color2: #454545;\n",
              "                    background-color: #383838;\n",
              "                }\n",
              "                    \n",
              "                .geemap-dark .jupyter-button {\n",
              "                    --jp-layout-color3: #383838;\n",
              "                }\n",
              "                \n",
              "                .geemap-colab {\n",
              "                    background-color: var(--colab-primary-surface-color, white);\n",
              "                }\n",
              "                    \n",
              "                .geemap-colab .jupyter-button {\n",
              "                    --jp-layout-color3: var(--colab-primary-surface-color, white);\n",
              "                }\n",
              "            </style>\n",
              "            "
            ]
          },
          "metadata": {}
        }
      ]
    },
    {
      "cell_type": "code",
      "source": [],
      "metadata": {
        "id": "WJ3zBzAY3r97"
      },
      "execution_count": null,
      "outputs": []
    }
  ]
}